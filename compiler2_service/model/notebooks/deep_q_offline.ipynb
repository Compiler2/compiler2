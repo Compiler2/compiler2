{
 "cells": [
  {
   "cell_type": "code",
   "execution_count": 175,
   "id": "dfb256f4",
   "metadata": {},
   "outputs": [],
   "source": [
    "from pathlib import Path\n",
    "import compiler_gym\n",
    "\n",
    "import torch\n",
    "import torch.nn as nn\n",
    "import torch.optim as optim\n",
    "import torch.nn.functional as F\n",
    "from torch.utils.data import DataLoader, Dataset\n",
    "import random\n",
    "import numpy as np\n",
    "import pandas as pd\n",
    "from tqdm import tqdm\n",
    "from matplotlib import pyplot as plt\n",
    "device = 'cuda'"
   ]
  },
  {
   "cell_type": "code",
   "execution_count": 176,
   "id": "4a690ef1",
   "metadata": {},
   "outputs": [
    {
     "name": "stdout",
     "output_type": "stream",
     "text": [
      "Number of actions = 124\n",
      "/home/dx4/tools/compiler2/results/random-compiler2-v0/2022-04-14/15-01-14/3200690/results.csv\n",
      "Is file good = True\n"
     ]
    },
    {
     "name": "stderr",
     "output_type": "stream",
     "text": [
      "./compiler_gym-llvm-service: /lib64/libtinfo.so.5: no version information available (required by ./compiler_gym-llvm-service)\n"
     ]
    }
   ],
   "source": [
    "root_path = os.environ.get(\"COMPILER2_ROOT\")\n",
    "env = compiler_gym.make(\"llvm-v0\")\n",
    "print(f'Number of actions = {len(env.action_space.flags)}')\n",
    "csv_path = Path(root_path + \"/results/random-compiler2-v0/2022-04-14/15-01-14/3200690/results.csv\")\n",
    "print(csv_path)\n",
    "print(f\"Is file good = {csv_path.is_file()}\")"
   ]
  },
  {
   "cell_type": "code",
   "execution_count": 177,
   "id": "7ee0ff44",
   "metadata": {},
   "outputs": [
    {
     "data": {
      "text/html": [
       "<div>\n",
       "<style scoped>\n",
       "    .dataframe tbody tr th:only-of-type {\n",
       "        vertical-align: middle;\n",
       "    }\n",
       "\n",
       "    .dataframe tbody tr th {\n",
       "        vertical-align: top;\n",
       "    }\n",
       "\n",
       "    .dataframe thead th {\n",
       "        text-align: right;\n",
       "    }\n",
       "</style>\n",
       "<table border=\"1\" class=\"dataframe\">\n",
       "  <thead>\n",
       "    <tr style=\"text-align: right;\">\n",
       "      <th></th>\n",
       "      <th>BenchmarkName</th>\n",
       "      <th>State</th>\n",
       "      <th>NextState</th>\n",
       "      <th>Action</th>\n",
       "      <th>CommandLine</th>\n",
       "      <th>Reward</th>\n",
       "    </tr>\n",
       "  </thead>\n",
       "  <tbody>\n",
       "    <tr>\n",
       "      <th>0</th>\n",
       "      <td>benchmark://poj104-v0/28_982</td>\n",
       "      <td>[tensor(0.0003), tensor(0.0083), tensor(0.0032...</td>\n",
       "      <td>[tensor(0.0003), tensor(0.0083), tensor(0.0032...</td>\n",
       "      <td>[tensor(0.), tensor(0.), tensor(0.), tensor(0....</td>\n",
       "      <td>opt -indvars -instnamer -loop-unswitch -reg2me...</td>\n",
       "      <td>tensor(0.)</td>\n",
       "    </tr>\n",
       "    <tr>\n",
       "      <th>1</th>\n",
       "      <td>benchmark://poj104-v0/28_982</td>\n",
       "      <td>[tensor(0.0003), tensor(0.0083), tensor(0.0032...</td>\n",
       "      <td>[tensor(0.0003), tensor(0.0083), tensor(0.0032...</td>\n",
       "      <td>[tensor(0.), tensor(0.), tensor(0.), tensor(0....</td>\n",
       "      <td>opt -indvars -instnamer -loop-unswitch -reg2me...</td>\n",
       "      <td>tensor(0.)</td>\n",
       "    </tr>\n",
       "    <tr>\n",
       "      <th>2</th>\n",
       "      <td>benchmark://poj104-v0/28_982</td>\n",
       "      <td>[tensor(0.0003), tensor(0.0083), tensor(0.0032...</td>\n",
       "      <td>[tensor(0.0003), tensor(0.0021), tensor(0.0003...</td>\n",
       "      <td>[tensor(0.), tensor(0.), tensor(0.), tensor(0....</td>\n",
       "      <td>opt -loop-simplify input.bc -o output.bc</td>\n",
       "      <td>tensor(0.)</td>\n",
       "    </tr>\n",
       "    <tr>\n",
       "      <th>3</th>\n",
       "      <td>benchmark://poj104-v0/28_982</td>\n",
       "      <td>[tensor(0.0003), tensor(0.0021), tensor(0.0003...</td>\n",
       "      <td>[tensor(0.0003), tensor(0.0021), tensor(0.0003...</td>\n",
       "      <td>[tensor(0.), tensor(0.), tensor(0.), tensor(0....</td>\n",
       "      <td>opt -separate-const-offset-from-gep input.bc -...</td>\n",
       "      <td>tensor(0.)</td>\n",
       "    </tr>\n",
       "    <tr>\n",
       "      <th>4</th>\n",
       "      <td>benchmark://poj104-v0/28_982</td>\n",
       "      <td>[tensor(0.0003), tensor(0.0021), tensor(0.0003...</td>\n",
       "      <td>[tensor(0.0003), tensor(0.0021), tensor(0.0003...</td>\n",
       "      <td>[tensor(0.), tensor(0.), tensor(0.), tensor(0....</td>\n",
       "      <td>opt -loop-simplify -reassociate input.bc -o ou...</td>\n",
       "      <td>tensor(0.)</td>\n",
       "    </tr>\n",
       "  </tbody>\n",
       "</table>\n",
       "</div>"
      ],
      "text/plain": [
       "                  BenchmarkName  \\\n",
       "0  benchmark://poj104-v0/28_982   \n",
       "1  benchmark://poj104-v0/28_982   \n",
       "2  benchmark://poj104-v0/28_982   \n",
       "3  benchmark://poj104-v0/28_982   \n",
       "4  benchmark://poj104-v0/28_982   \n",
       "\n",
       "                                               State  \\\n",
       "0  [tensor(0.0003), tensor(0.0083), tensor(0.0032...   \n",
       "1  [tensor(0.0003), tensor(0.0083), tensor(0.0032...   \n",
       "2  [tensor(0.0003), tensor(0.0083), tensor(0.0032...   \n",
       "3  [tensor(0.0003), tensor(0.0021), tensor(0.0003...   \n",
       "4  [tensor(0.0003), tensor(0.0021), tensor(0.0003...   \n",
       "\n",
       "                                           NextState  \\\n",
       "0  [tensor(0.0003), tensor(0.0083), tensor(0.0032...   \n",
       "1  [tensor(0.0003), tensor(0.0083), tensor(0.0032...   \n",
       "2  [tensor(0.0003), tensor(0.0021), tensor(0.0003...   \n",
       "3  [tensor(0.0003), tensor(0.0021), tensor(0.0003...   \n",
       "4  [tensor(0.0003), tensor(0.0021), tensor(0.0003...   \n",
       "\n",
       "                                              Action  \\\n",
       "0  [tensor(0.), tensor(0.), tensor(0.), tensor(0....   \n",
       "1  [tensor(0.), tensor(0.), tensor(0.), tensor(0....   \n",
       "2  [tensor(0.), tensor(0.), tensor(0.), tensor(0....   \n",
       "3  [tensor(0.), tensor(0.), tensor(0.), tensor(0....   \n",
       "4  [tensor(0.), tensor(0.), tensor(0.), tensor(0....   \n",
       "\n",
       "                                         CommandLine      Reward  \n",
       "0  opt -indvars -instnamer -loop-unswitch -reg2me...  tensor(0.)  \n",
       "1  opt -indvars -instnamer -loop-unswitch -reg2me...  tensor(0.)  \n",
       "2           opt -loop-simplify input.bc -o output.bc  tensor(0.)  \n",
       "3  opt -separate-const-offset-from-gep input.bc -...  tensor(0.)  \n",
       "4  opt -loop-simplify -reassociate input.bc -o ou...  tensor(0.)  "
      ]
     },
     "execution_count": 177,
     "metadata": {},
     "output_type": "execute_result"
    }
   ],
   "source": [
    "columns = [\"BenchmarkName\", \"State\", \"NextState\", \"Action\", \"CommandLine\", \"Reward\"]\n",
    "df = pd.read_csv(csv_path, names=columns, header=1)\n",
    "\n",
    "df['State'] = df['State'].apply(lambda x:np.fromstring(x,sep=' '))\n",
    "state_min = np.min(np.stack(df['State']),0)\n",
    "state_max = np.max(np.stack(df['State']),0)\n",
    "df['State'] = df['State'].apply(lambda x: (x-state_min)/(state_max-state_min+1e-9))\n",
    "df['State'] = df['State'].apply(lambda x:torch.tensor(x).float())\n",
    "\n",
    "df['NextState'] = df['NextState'].apply(lambda x:np.fromstring(x,sep=' '))\n",
    "state_min = np.min(np.stack(df['NextState']),0)\n",
    "state_max = np.max(np.stack(df['NextState']),0)\n",
    "df['NextState'] = df['NextState'].apply(lambda x: (x-state_min)/(state_max-state_min+1e-9))\n",
    "df['NextState'] = df['NextState'].apply(lambda x:torch.tensor(x).float())\n",
    "\n",
    "\n",
    "action_kinds = pd.Categorical(df['Action'], categories=env.action_space.flags)\n",
    "action_one_hot = pd.get_dummies(action_kinds)\n",
    "\n",
    "df = df.dropna()\n",
    "df['Action'] = action_one_hot.values.tolist()\n",
    "df['Action'] = df['Action'].apply(lambda x: torch.tensor(x).float())\n",
    "df['Reward'] = df['Reward'].apply(lambda x: torch.tensor(x).float())\n",
    "\n",
    "df.head()"
   ]
  },
  {
   "cell_type": "code",
   "execution_count": 178,
   "id": "c7053808",
   "metadata": {},
   "outputs": [],
   "source": [
    "class experienceDataset(Dataset):\n",
    "    def __init__(self,experience):\n",
    "        self.experience = experience\n",
    "    def __getitem__(self, i):\n",
    "        # return S,A,R,S'\n",
    "        return self.experience['State'].iloc[i].to(device),self.experience['Action'].iloc[i].to(device),self.experience['Reward'].iloc[i].to(device),self.experience['NextState'].iloc[i].to(device),\n",
    "    def __len__(self):\n",
    "        return self.experience.shape[0]"
   ]
  },
  {
   "cell_type": "code",
   "execution_count": 179,
   "id": "9acb2a60",
   "metadata": {},
   "outputs": [],
   "source": [
    "class Q_net(nn.Module):\n",
    "    def __init__(self,in_size,out_size,hidden_size,dropout):\n",
    "        super(Q_net,self).__init__()\n",
    "        self.l1 = nn.Linear(in_size,hidden_size)\n",
    "        self.l2 = nn.Linear(hidden_size,hidden_size)\n",
    "        self.l3 = nn.Linear(hidden_size,hidden_size)\n",
    "        self.l4 = nn.Linear(hidden_size,hidden_size)\n",
    "        self.l5 = nn.Linear(hidden_size,hidden_size)\n",
    "        self.l6 = nn.Linear(hidden_size,hidden_size)\n",
    "        self.l7 = nn.Linear(hidden_size,out_size)\n",
    "        self.dropout = nn.Dropout(dropout)\n",
    "\n",
    "    def forward(self,x):\n",
    "        x = F.leaky_relu(self.l1(x))\n",
    "        x = self.dropout(x)\n",
    "        y = F.leaky_relu(self.l2(x))\n",
    "        y = self.dropout(y)\n",
    "        x = (x+y)*0.5\n",
    "        x = F.leaky_relu(self.l3(x))\n",
    "        x = self.dropout(x)\n",
    "        y = F.leaky_relu(self.l4(x))\n",
    "        y = self.dropout(y)\n",
    "        x = (x+y)*0.5\n",
    "        x = F.leaky_relu(self.l5(x))\n",
    "        x = self.dropout(x)\n",
    "        y = F.leaky_relu(self.l6(x))\n",
    "        y = self.dropout(y)\n",
    "        x = (x+y)*0.5\n",
    "        return self.l7(x)"
   ]
  },
  {
   "cell_type": "code",
   "execution_count": 180,
   "id": "61ff09ef",
   "metadata": {},
   "outputs": [],
   "source": [
    "test_size = len(df) // 5\n",
    "train_size = len(df) - test_size\n",
    "experience = experienceDataset(df)\n",
    "train_set, test_set = torch.utils.data.random_split(experience, [train_size, test_size])\n",
    "batch_size = 1000\n",
    "trainLoad = DataLoader(train_set,batch_size=batch_size,shuffle=True)\n",
    "testLoad = DataLoader(test_set,batch_size=batch_size,shuffle=True)\n",
    "policy_net = Q_net(28,124,512,0.5).to(device)\n",
    "target_net = Q_net(28,124,512,0.5).to(device)\n",
    "target_net.load_state_dict(policy_net.state_dict())\n",
    "target_net.eval()\n",
    "criterion = nn.SmoothL1Loss()\n",
    "optimizer = optim.Adam(policy_net.parameters())\n",
    "train_losses = []\n",
    "test_losses = []\n",
    "num_epochs = 301\n",
    "test_every = 5\n",
    "gamma = 0.9"
   ]
  },
  {
   "cell_type": "code",
   "execution_count": 181,
   "id": "85798eb4",
   "metadata": {},
   "outputs": [
    {
     "name": "stderr",
     "output_type": "stream",
     "text": [
      "100%|██████████| 301/301 [00:03<00:00, 78.44it/s]\n"
     ]
    }
   ],
   "source": [
    "for epoch in tqdm(range(num_epochs)):\n",
    "    # loop_inner = tqdm(total=train_size//batch_size,position=0,leave=False)\n",
    "    policy_net.train()\n",
    "    for S,A,R,S_ in trainLoad:\n",
    "        r = torch.sum(torch.mul(policy_net(S),A),1)\n",
    "        r_hat = R + torch.max(target_net(S_),1).values*gamma\n",
    "        \n",
    "        loss = criterion(r,r_hat)\n",
    "        \n",
    "        optimizer.zero_grad()\n",
    "        loss.backward()\n",
    "        optimizer.step()\n",
    "        \n",
    "        train_losses.append(loss.item())\n",
    "    #     loop_inner.set_description('epoch:{}, loss:{:.4f}'.format(epoch, loss.item()))\n",
    "    #     loop_inner.update(1)\n",
    "    # loop_inner.close()\n",
    "    if epoch % test_every == 0:\n",
    "        with torch.no_grad():\n",
    "            policy_net.eval()\n",
    "            for S,A,R,S_ in trainLoad:\n",
    "                r = torch.sum(torch.mul(policy_net(S),A),1)\n",
    "                r_hat = R + torch.max(target_net(S_),1).values*gamma\n",
    "\n",
    "                loss = criterion(r,r_hat)\n",
    "                test_losses.append(loss.item())\n",
    "    target_net.load_state_dict(policy_net.state_dict())"
   ]
  },
  {
   "cell_type": "code",
   "execution_count": 182,
   "id": "258ba749",
   "metadata": {},
   "outputs": [
    {
     "data": {
      "text/plain": [
       "[<matplotlib.lines.Line2D at 0x7ffeac0cafd0>]"
      ]
     },
     "execution_count": 182,
     "metadata": {},
     "output_type": "execute_result"
    },
    {
     "data": {
      "image/png": "[encoded data removed]",
      "text/plain": [
       "<Figure size 432x288 with 1 Axes>"
      ]
     },
     "metadata": {},
     "output_type": "display_data"
    }
   ],
   "source": [
    "plt.figure(facecolor='white')\n",
    "plt.plot(train_losses)"
   ]
  },
  {
   "cell_type": "code",
   "execution_count": 183,
   "id": "999ddd2c",
   "metadata": {},
   "outputs": [
    {
     "data": {
      "text/plain": [
       "[<matplotlib.lines.Line2D at 0x7ffeac029820>]"
      ]
     },
     "execution_count": 183,
     "metadata": {},
     "output_type": "execute_result"
    },
    {
     "data": {
      "image/png": "[encoded data removed]",
      "text/plain": [
       "<Figure size 432x288 with 1 Axes>"
      ]
     },
     "metadata": {},
     "output_type": "display_data"
    }
   ],
   "source": [
    "plt.figure(facecolor='white')\n",
    "plt.plot(test_losses)"
   ]
  },
  {
   "cell_type": "code",
   "execution_count": 184,
   "id": "3e73e2ad",
   "metadata": {},
   "outputs": [],
   "source": [
    "def get_action(state,network,epsilon):\n",
    "    p = random.random()\n",
    "    if p > epsilon:\n",
    "        with torch.no_grad():\n",
    "            return torch.max(network(state),1).indices[0].item()\n",
    "    else:\n",
    "        return random.randint(0,124)"
   ]
  },
  {
   "cell_type": "code",
   "execution_count": 185,
   "id": "024b9727",
   "metadata": {},
   "outputs": [
    {
     "data": {
      "text/plain": [
       "31"
      ]
     },
     "execution_count": 185,
     "metadata": {},
     "output_type": "execute_result"
    }
   ],
   "source": [
    "get_action(df['State'].iloc[0],target_net,1)"
   ]
  },
  {
   "cell_type": "code",
   "execution_count": 186,
   "id": "b74e0e6e",
   "metadata": {},
   "outputs": [
    {
     "data": {
      "text/plain": [
       "11"
      ]
     },
     "execution_count": 186,
     "metadata": {},
     "output_type": "execute_result"
    }
   ],
   "source": [
    "get_action(df['State'].iloc[0].unsqueeze(0).to(device),target_net,0)"
   ]
  },
  {
   "cell_type": "code",
   "execution_count": 187,
   "id": "de305372",
   "metadata": {},
   "outputs": [],
   "source": [
    "model_scripted = torch.jit.script(target_net) # Export to TorchScript\n",
    "model_scripted.save('deep_q.pt') # Save"
   ]
  },
  {
   "cell_type": "code",
   "execution_count": null,
   "id": "9c2fdab4",
   "metadata": {},
   "outputs": [],
   "source": []
  }
 ],
 "metadata": {
  "kernelspec": {
   "display_name": "Python 3",
   "language": "python",
   "name": "python3"
  },
  "language_info": {
   "codemirror_mode": {
    "name": "ipython",
    "version": 3
   },
   "file_extension": ".py",
   "mimetype": "text/x-python",
   "name": "python",
   "nbconvert_exporter": "python",
   "pygments_lexer": "ipython3",
   "version": "3.8.10"
  }
 },
 "nbformat": 4,
 "nbformat_minor": 5
}
