{
 "cells": [
  {
   "cell_type": "code",
   "execution_count": 1,
   "id": "dfb256f4",
   "metadata": {},
   "outputs": [],
   "source": [
    "import os\n",
    "import torch\n",
    "import torch.nn as nn\n",
    "import torch.optim as optim\n",
    "import torch.nn.functional as F\n",
    "from torch.utils.data import DataLoader, Dataset\n",
    "import random\n",
    "import numpy as np\n",
    "import pandas as pd\n",
    "from tqdm import tqdm\n",
    "from matplotlib import pyplot as plt\n",
    "device = 'cuda'"
   ]
  },
  {
   "cell_type": "code",
   "execution_count": 1,
   "id": "d0ded0b5",
   "metadata": {},
   "outputs": [
    {
     "data": {
      "text/plain": [
       "'/home/dx4/tools/compiler2'"
      ]
     },
     "execution_count": 1,
     "metadata": {},
     "output_type": "execute_result"
    }
   ],
   "source": [
    "root_path = os.environ.get(\"COMPILER2_ROOT\")"
   ]
  },
  {
   "cell_type": "code",
   "execution_count": null,
   "id": "7f9344e8",
   "metadata": {},
   "outputs": [],
   "source": [
    "csv_path = root_path + \"/results/random-perf-v0/2022-04-07/23-22-58/results.csv\""
   ]
  },
  {
   "cell_type": "code",
   "execution_count": 2,
   "id": "e9b2e555",
   "metadata": {},
   "outputs": [
    {
     "name": "stdout",
     "output_type": "stream",
     "text": [
      "Index(['BenchmarkName', ' State', ' Action', ' PrevActions', ' Reward'], dtype='object')\n"
     ]
    },
    {
     "name": "stderr",
     "output_type": "stream",
     "text": [
      "/tmp/ipykernel_3889055/469588897.py:13: SettingWithCopyWarning: \n",
      "A value is trying to be set on a copy of a slice from a DataFrame\n",
      "\n",
      "See the caveats in the documentation: https://pandas.pydata.org/pandas-docs/stable/user_guide/indexing.html#returning-a-view-versus-a-copy\n",
      "  df['State_'][i] = df['State'][i+1]\n"
     ]
    },
    {
     "data": {
      "text/html": [
       "<div>\n",
       "<style scoped>\n",
       "    .dataframe tbody tr th:only-of-type {\n",
       "        vertical-align: middle;\n",
       "    }\n",
       "\n",
       "    .dataframe tbody tr th {\n",
       "        vertical-align: top;\n",
       "    }\n",
       "\n",
       "    .dataframe thead th {\n",
       "        text-align: right;\n",
       "    }\n",
       "</style>\n",
       "<table border=\"1\" class=\"dataframe\">\n",
       "  <thead>\n",
       "    <tr style=\"text-align: right;\">\n",
       "      <th></th>\n",
       "      <th>BenchmarkName</th>\n",
       "      <th>State</th>\n",
       "      <th>Action</th>\n",
       "      <th>PrevActions</th>\n",
       "      <th>Reward</th>\n",
       "      <th>State</th>\n",
       "      <th>-adce</th>\n",
       "      <th>-add-discriminators</th>\n",
       "      <th>-aggressive-instcombine</th>\n",
       "      <th>-alignment-from-assumptions</th>\n",
       "      <th>...</th>\n",
       "      <th>-speculative-execution</th>\n",
       "      <th>-sroa</th>\n",
       "      <th>-strip</th>\n",
       "      <th>-strip-dead-prototypes</th>\n",
       "      <th>-strip-debug-declare</th>\n",
       "      <th>-strip-nondebug</th>\n",
       "      <th>-tailcallelim</th>\n",
       "      <th>State_</th>\n",
       "      <th>Action</th>\n",
       "      <th>Reward</th>\n",
       "    </tr>\n",
       "  </thead>\n",
       "  <tbody>\n",
       "    <tr>\n",
       "      <th>0</th>\n",
       "      <td>benchmark://poj104-v0/28_982</td>\n",
       "      <td>1414123.0 1559546.0 0.83 1607710.0 0.0 0.0 0.0...</td>\n",
       "      <td>-licm</td>\n",
       "      <td>-inferattrs -newgvn -gvn -sancov -lower-matrix...</td>\n",
       "      <td>-0.001756</td>\n",
       "      <td>[tensor(0.0003), tensor(0.0184), tensor(0.0097...</td>\n",
       "      <td>0</td>\n",
       "      <td>0</td>\n",
       "      <td>0</td>\n",
       "      <td>0</td>\n",
       "      <td>...</td>\n",
       "      <td>0</td>\n",
       "      <td>0</td>\n",
       "      <td>0</td>\n",
       "      <td>0</td>\n",
       "      <td>0</td>\n",
       "      <td>0</td>\n",
       "      <td>0</td>\n",
       "      <td>[tensor(0.0041), tensor(0.0094), tensor(0.0022...</td>\n",
       "      <td>[tensor(0.), tensor(0.), tensor(0.), tensor(0....</td>\n",
       "      <td>tensor(-0.0018)</td>\n",
       "    </tr>\n",
       "    <tr>\n",
       "      <th>1</th>\n",
       "      <td>benchmark://poj104-v0/28_982</td>\n",
       "      <td>1873342.0 1229633.0 0.56 1636593.0 0.0 0.0 0.0...</td>\n",
       "      <td>-tailcallelim</td>\n",
       "      <td>-inferattrs -newgvn -gvn -sancov -lower-matrix...</td>\n",
       "      <td>0.023496</td>\n",
       "      <td>[tensor(0.0041), tensor(0.0094), tensor(0.0022...</td>\n",
       "      <td>0</td>\n",
       "      <td>0</td>\n",
       "      <td>0</td>\n",
       "      <td>0</td>\n",
       "      <td>...</td>\n",
       "      <td>0</td>\n",
       "      <td>0</td>\n",
       "      <td>0</td>\n",
       "      <td>0</td>\n",
       "      <td>0</td>\n",
       "      <td>0</td>\n",
       "      <td>1</td>\n",
       "      <td>[tensor(0.0031), tensor(0.0037), tensor(0.0011...</td>\n",
       "      <td>[tensor(0.), tensor(0.), tensor(0.), tensor(0....</td>\n",
       "      <td>tensor(0.0235)</td>\n",
       "    </tr>\n",
       "    <tr>\n",
       "      <th>2</th>\n",
       "      <td>benchmark://poj104-v0/28_982</td>\n",
       "      <td>1749629.0 1022510.0 0.52 1620229.0 0.0 0.0 0.0...</td>\n",
       "      <td>-licm</td>\n",
       "      <td>-inferattrs -newgvn -gvn -sancov -lower-matrix...</td>\n",
       "      <td>-0.045576</td>\n",
       "      <td>[tensor(0.0031), tensor(0.0037), tensor(0.0011...</td>\n",
       "      <td>0</td>\n",
       "      <td>0</td>\n",
       "      <td>0</td>\n",
       "      <td>0</td>\n",
       "      <td>...</td>\n",
       "      <td>0</td>\n",
       "      <td>0</td>\n",
       "      <td>0</td>\n",
       "      <td>0</td>\n",
       "      <td>0</td>\n",
       "      <td>0</td>\n",
       "      <td>0</td>\n",
       "      <td>[tensor(0.0030), tensor(0.0055), tensor(0.0011...</td>\n",
       "      <td>[tensor(0.), tensor(0.), tensor(0.), tensor(0....</td>\n",
       "      <td>tensor(-0.0456)</td>\n",
       "    </tr>\n",
       "    <tr>\n",
       "      <th>3</th>\n",
       "      <td>benchmark://poj104-v0/28_982</td>\n",
       "      <td>1743849.0 1089621.0 0.52 1618324.0 0.0 0.0 0.0...</td>\n",
       "      <td>-elim-avail-extern</td>\n",
       "      <td>-inferattrs -newgvn -gvn -sancov -lower-matrix...</td>\n",
       "      <td>-0.054572</td>\n",
       "      <td>[tensor(0.0030), tensor(0.0055), tensor(0.0011...</td>\n",
       "      <td>0</td>\n",
       "      <td>0</td>\n",
       "      <td>0</td>\n",
       "      <td>0</td>\n",
       "      <td>...</td>\n",
       "      <td>0</td>\n",
       "      <td>0</td>\n",
       "      <td>0</td>\n",
       "      <td>0</td>\n",
       "      <td>0</td>\n",
       "      <td>0</td>\n",
       "      <td>0</td>\n",
       "      <td>[tensor(0.0036), tensor(0.0092), tensor(0.0017...</td>\n",
       "      <td>[tensor(0.), tensor(0.), tensor(0.), tensor(0....</td>\n",
       "      <td>tensor(-0.0546)</td>\n",
       "    </tr>\n",
       "    <tr>\n",
       "      <th>4</th>\n",
       "      <td>benchmark://poj104-v0/28_982</td>\n",
       "      <td>1812507.0 1222682.0 0.54 1609505.0 0.0 0.0 0.0...</td>\n",
       "      <td>-lower-matrix-intrinsics</td>\n",
       "      <td>-inferattrs -newgvn -gvn -sancov -lower-matrix...</td>\n",
       "      <td>-0.157990</td>\n",
       "      <td>[tensor(0.0036), tensor(0.0092), tensor(0.0017...</td>\n",
       "      <td>0</td>\n",
       "      <td>0</td>\n",
       "      <td>0</td>\n",
       "      <td>0</td>\n",
       "      <td>...</td>\n",
       "      <td>0</td>\n",
       "      <td>0</td>\n",
       "      <td>0</td>\n",
       "      <td>0</td>\n",
       "      <td>0</td>\n",
       "      <td>0</td>\n",
       "      <td>0</td>\n",
       "      <td>[tensor(0.0059), tensor(0.0120), tensor(0.0041...</td>\n",
       "      <td>[tensor(0.), tensor(0.), tensor(0.), tensor(0....</td>\n",
       "      <td>tensor(-0.1580)</td>\n",
       "    </tr>\n",
       "  </tbody>\n",
       "</table>\n",
       "<p>5 rows × 133 columns</p>\n",
       "</div>"
      ],
      "text/plain": [
       "                  BenchmarkName  \\\n",
       "0  benchmark://poj104-v0/28_982   \n",
       "1  benchmark://poj104-v0/28_982   \n",
       "2  benchmark://poj104-v0/28_982   \n",
       "3  benchmark://poj104-v0/28_982   \n",
       "4  benchmark://poj104-v0/28_982   \n",
       "\n",
       "                                               State  \\\n",
       "0  1414123.0 1559546.0 0.83 1607710.0 0.0 0.0 0.0...   \n",
       "1  1873342.0 1229633.0 0.56 1636593.0 0.0 0.0 0.0...   \n",
       "2  1749629.0 1022510.0 0.52 1620229.0 0.0 0.0 0.0...   \n",
       "3  1743849.0 1089621.0 0.52 1618324.0 0.0 0.0 0.0...   \n",
       "4  1812507.0 1222682.0 0.54 1609505.0 0.0 0.0 0.0...   \n",
       "\n",
       "                     Action  \\\n",
       "0                     -licm   \n",
       "1             -tailcallelim   \n",
       "2                     -licm   \n",
       "3        -elim-avail-extern   \n",
       "4  -lower-matrix-intrinsics   \n",
       "\n",
       "                                         PrevActions    Reward  \\\n",
       "0  -inferattrs -newgvn -gvn -sancov -lower-matrix... -0.001756   \n",
       "1  -inferattrs -newgvn -gvn -sancov -lower-matrix...  0.023496   \n",
       "2  -inferattrs -newgvn -gvn -sancov -lower-matrix... -0.045576   \n",
       "3  -inferattrs -newgvn -gvn -sancov -lower-matrix... -0.054572   \n",
       "4  -inferattrs -newgvn -gvn -sancov -lower-matrix... -0.157990   \n",
       "\n",
       "                                               State  -adce  \\\n",
       "0  [tensor(0.0003), tensor(0.0184), tensor(0.0097...      0   \n",
       "1  [tensor(0.0041), tensor(0.0094), tensor(0.0022...      0   \n",
       "2  [tensor(0.0031), tensor(0.0037), tensor(0.0011...      0   \n",
       "3  [tensor(0.0030), tensor(0.0055), tensor(0.0011...      0   \n",
       "4  [tensor(0.0036), tensor(0.0092), tensor(0.0017...      0   \n",
       "\n",
       "   -add-discriminators  -aggressive-instcombine  -alignment-from-assumptions  \\\n",
       "0                    0                        0                            0   \n",
       "1                    0                        0                            0   \n",
       "2                    0                        0                            0   \n",
       "3                    0                        0                            0   \n",
       "4                    0                        0                            0   \n",
       "\n",
       "   ...  -speculative-execution  -sroa  -strip  -strip-dead-prototypes  \\\n",
       "0  ...                       0      0       0                       0   \n",
       "1  ...                       0      0       0                       0   \n",
       "2  ...                       0      0       0                       0   \n",
       "3  ...                       0      0       0                       0   \n",
       "4  ...                       0      0       0                       0   \n",
       "\n",
       "   -strip-debug-declare  -strip-nondebug  -tailcallelim  \\\n",
       "0                     0                0              0   \n",
       "1                     0                0              1   \n",
       "2                     0                0              0   \n",
       "3                     0                0              0   \n",
       "4                     0                0              0   \n",
       "\n",
       "                                              State_  \\\n",
       "0  [tensor(0.0041), tensor(0.0094), tensor(0.0022...   \n",
       "1  [tensor(0.0031), tensor(0.0037), tensor(0.0011...   \n",
       "2  [tensor(0.0030), tensor(0.0055), tensor(0.0011...   \n",
       "3  [tensor(0.0036), tensor(0.0092), tensor(0.0017...   \n",
       "4  [tensor(0.0059), tensor(0.0120), tensor(0.0041...   \n",
       "\n",
       "                                              Action           Reward  \n",
       "0  [tensor(0.), tensor(0.), tensor(0.), tensor(0....  tensor(-0.0018)  \n",
       "1  [tensor(0.), tensor(0.), tensor(0.), tensor(0....   tensor(0.0235)  \n",
       "2  [tensor(0.), tensor(0.), tensor(0.), tensor(0....  tensor(-0.0456)  \n",
       "3  [tensor(0.), tensor(0.), tensor(0.), tensor(0....  tensor(-0.0546)  \n",
       "4  [tensor(0.), tensor(0.), tensor(0.), tensor(0....  tensor(-0.1580)  \n",
       "\n",
       "[5 rows x 133 columns]"
      ]
     },
     "execution_count": 2,
     "metadata": {},
     "output_type": "execute_result"
    }
   ],
   "source": [
    "df = pd.read_csv('results.csv')\n",
    "print(df.keys())\n",
    "df['State'] = df[' State'].apply(lambda x:np.fromstring(x,sep=' '))\n",
    "state_min = np.min(np.stack(df['State']),0)\n",
    "state_max = np.max(np.stack(df['State']),0)\n",
    "df['State'] = df['State'].apply(lambda x: (x-state_min)/(state_max-state_min+1e-9))\n",
    "df['State'] = df['State'].apply(lambda x:torch.tensor(x).float())\n",
    "one_hot = pd.get_dummies(df[' Action'])\n",
    "df = df.join(one_hot)\n",
    "df['State_'] = None\n",
    "for i in range(len(df)-1):\n",
    "    if str(df[' PrevActions'][i+1]) == str(df[' PrevActions'][i])+' '+str(df[' Action'][i]):\n",
    "        df['State_'][i] = df['State'][i+1]\n",
    "df = df.dropna()\n",
    "df['Action'] = df.iloc[:,6:130].values.tolist()\n",
    "df['Action'] = df['Action'].apply(lambda x: torch.tensor(x).float())\n",
    "df['Reward'] = df[' Reward'].apply(lambda x: torch.tensor(x).float())\n",
    "df.head()"
   ]
  },
  {
   "cell_type": "code",
   "execution_count": 3,
   "id": "c7053808",
   "metadata": {},
   "outputs": [],
   "source": [
    "class experienceDataset(Dataset):\n",
    "    def __init__(self,experience):\n",
    "        self.experience = experience\n",
    "    def __getitem__(self, i):\n",
    "        # return S,A,R,S'\n",
    "        return self.experience['State'].iloc[i].to(device),self.experience['Action'].iloc[i].to(device),self.experience['Reward'].iloc[i].to(device),self.experience['State_'].iloc[i].to(device),\n",
    "    def __len__(self):\n",
    "        return self.experience.shape[0]"
   ]
  },
  {
   "cell_type": "code",
   "execution_count": 4,
   "id": "b8e1d0a9",
   "metadata": {},
   "outputs": [],
   "source": [
    "class Q_net(nn.Module):\n",
    "    def __init__(self,in_size,out_size,hidden_size,dropout):\n",
    "        super(Q_net,self).__init__()\n",
    "        self.l1 = nn.Linear(in_size,hidden_size)\n",
    "        self.l2 = nn.Linear(hidden_size,hidden_size)\n",
    "        self.l3 = nn.Linear(hidden_size,hidden_size)\n",
    "        self.l4 = nn.Linear(hidden_size,hidden_size)\n",
    "        self.l5 = nn.Linear(hidden_size,hidden_size)\n",
    "        self.l6 = nn.Linear(hidden_size,hidden_size)\n",
    "        self.l7 = nn.Linear(hidden_size,out_size)\n",
    "        self.dropout = nn.Dropout(dropout)\n",
    "\n",
    "    def forward(self,x):\n",
    "        x = F.leaky_relu(self.l1(x))\n",
    "        x = self.dropout(x)\n",
    "        y = F.leaky_relu(self.l2(x))\n",
    "        y = self.dropout(y)\n",
    "        x = (x+y)*0.5\n",
    "        x = F.leaky_relu(self.l3(x))\n",
    "        x = self.dropout(x)\n",
    "        y = F.leaky_relu(self.l4(x))\n",
    "        y = self.dropout(y)\n",
    "        x = (x+y)*0.5\n",
    "        x = F.leaky_relu(self.l5(x))\n",
    "        x = self.dropout(x)\n",
    "        y = F.leaky_relu(self.l6(x))\n",
    "        y = self.dropout(y)\n",
    "        x = (x+y)*0.5\n",
    "        return self.l7(x)"
   ]
  },
  {
   "cell_type": "code",
   "execution_count": 5,
   "id": "59fa302c",
   "metadata": {},
   "outputs": [],
   "source": [
    "test_size = len(df) // 5\n",
    "train_size = len(df) - test_size\n",
    "experience = experienceDataset(df)\n",
    "train_set, test_set = torch.utils.data.random_split(experience, [train_size, test_size])\n",
    "batch_size = 1000\n",
    "trainLoad = DataLoader(train_set,batch_size=batch_size,shuffle=True)\n",
    "testLoad = DataLoader(test_set,batch_size=batch_size,shuffle=True)\n",
    "policy_net = Q_net(28,124,512,0.5).to(device)\n",
    "target_net = Q_net(28,124,512,0.5).to(device)\n",
    "target_net.load_state_dict(policy_net.state_dict())\n",
    "target_net.eval()\n",
    "criterion = nn.SmoothL1Loss()\n",
    "optimizer = optim.Adam(policy_net.parameters())\n",
    "train_losses = []\n",
    "test_losses = []\n",
    "num_epochs = 301\n",
    "test_every = 5\n",
    "gamma = 0.9"
   ]
  },
  {
   "cell_type": "code",
   "execution_count": 6,
   "id": "d30ab567",
   "metadata": {},
   "outputs": [
    {
     "name": "stderr",
     "output_type": "stream",
     "text": [
      "                                                                     \r"
     ]
    }
   ],
   "source": [
    "for epoch in range(num_epochs):\n",
    "    loop_inner = tqdm(total=train_size//batch_size,position=0,leave=False)\n",
    "    policy_net.train()\n",
    "    for S,A,R,S_ in trainLoad:\n",
    "        r = torch.sum(torch.mul(policy_net(S),A),1)\n",
    "        r_hat = R + torch.max(target_net(S_),1).values*gamma\n",
    "        \n",
    "        loss = criterion(r,r_hat)\n",
    "        \n",
    "        optimizer.zero_grad()\n",
    "        loss.backward()\n",
    "        optimizer.step()\n",
    "        \n",
    "        train_losses.append(loss.item())\n",
    "        loop_inner.set_description('epoch:{}, loss:{:.4f}'.format(epoch, loss.item()))\n",
    "        loop_inner.update(1)\n",
    "    loop_inner.close()\n",
    "    if epoch % test_every == 0:\n",
    "        with torch.no_grad():\n",
    "            policy_net.eval()\n",
    "            for S,A,R,S_ in trainLoad:\n",
    "                r = torch.sum(torch.mul(policy_net(S),A),1)\n",
    "                r_hat = R + torch.max(target_net(S_),1).values*gamma\n",
    "\n",
    "                loss = criterion(r,r_hat)\n",
    "                test_losses.append(loss.item())\n",
    "    target_net.load_state_dict(policy_net.state_dict())"
   ]
  },
  {
   "cell_type": "code",
   "execution_count": 10,
   "id": "745f8579",
   "metadata": {},
   "outputs": [
    {
     "data": {
      "text/plain": [
       "[<matplotlib.lines.Line2D at 0x7ffed1881a60>]"
      ]
     },
     "execution_count": 10,
     "metadata": {},
     "output_type": "execute_result"
    },
    {
     "data": {
      "image/png": "[encoded data removed]",
      "text/plain": [
       "<Figure size 432x288 with 1 Axes>"
      ]
     },
     "metadata": {},
     "output_type": "display_data"
    }
   ],
   "source": [
    "plt.figure(facecolor='white')\n",
    "plt.plot(train_losses)"
   ]
  },
  {
   "cell_type": "code",
   "execution_count": 12,
   "id": "e493378e",
   "metadata": {},
   "outputs": [
    {
     "data": {
      "text/plain": [
       "[<matplotlib.lines.Line2D at 0x7ffec86278b0>]"
      ]
     },
     "execution_count": 12,
     "metadata": {},
     "output_type": "execute_result"
    },
    {
     "data": {
      "image/png": "[encoded data removed]",
      "text/plain": [
       "<Figure size 432x288 with 1 Axes>"
      ]
     },
     "metadata": {},
     "output_type": "display_data"
    }
   ],
   "source": [
    "plt.figure(facecolor='white')\n",
    "plt.plot(test_losses)"
   ]
  },
  {
   "cell_type": "code",
   "execution_count": 13,
   "id": "b7c22409",
   "metadata": {},
   "outputs": [],
   "source": [
    "def get_action(state,network,epsilon):\n",
    "    p = random.random()\n",
    "    if p > epsilon:\n",
    "        with torch.no_grad():\n",
    "            return torch.max(network(state),1).indices[0].item()\n",
    "    else:\n",
    "        return random.randint(0,124)"
   ]
  },
  {
   "cell_type": "code",
   "execution_count": 18,
   "id": "512613ab",
   "metadata": {},
   "outputs": [
    {
     "data": {
      "text/plain": [
       "36"
      ]
     },
     "execution_count": 18,
     "metadata": {},
     "output_type": "execute_result"
    }
   ],
   "source": [
    "get_action(df['State'].iloc[3],target_net,1)"
   ]
  },
  {
   "cell_type": "code",
   "execution_count": 19,
   "id": "76aaac18",
   "metadata": {},
   "outputs": [
    {
     "data": {
      "text/plain": [
       "51"
      ]
     },
     "execution_count": 19,
     "metadata": {},
     "output_type": "execute_result"
    }
   ],
   "source": [
    "get_action(df['State'].iloc[0].unsqueeze(0).to(device),target_net,0)"
   ]
  },
  {
   "cell_type": "code",
   "execution_count": null,
   "id": "82001696",
   "metadata": {},
   "outputs": [],
   "source": []
  }
 ],
 "metadata": {
  "kernelspec": {
   "display_name": "Python 3",
   "language": "python",
   "name": "python3"
  },
  "language_info": {
   "codemirror_mode": {
    "name": "ipython",
    "version": 3
   },
   "file_extension": ".py",
   "mimetype": "text/x-python",
   "name": "python",
   "nbconvert_exporter": "python",
   "pygments_lexer": "ipython3",
   "version": "3.8.10"
  }
 },
 "nbformat": 4,
 "nbformat_minor": 5
}
