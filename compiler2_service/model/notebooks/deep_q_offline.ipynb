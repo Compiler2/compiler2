{
 "cells": [
  {
   "cell_type": "code",
   "execution_count": 21,
   "id": "dfb256f4",
   "metadata": {},
   "outputs": [],
   "source": [
    "import os\n",
    "import torch\n",
    "import torch.nn as nn\n",
    "import torch.optim as optim\n",
    "import torch.nn.functional as F\n",
    "from torch.utils.data import DataLoader, Dataset\n",
    "import random\n",
    "import numpy as np\n",
    "import pandas as pd\n",
    "from tqdm import tqdm\n",
    "from matplotlib import pyplot as plt\n",
    "\n",
    "import model\n",
    "\n",
    "\n",
    "device = 'cuda'"
   ]
  },
  {
   "cell_type": "code",
   "execution_count": 22,
   "id": "d0ded0b5",
   "metadata": {},
   "outputs": [],
   "source": [
    "root_path = os.environ.get(\"COMPILER2_ROOT\")"
   ]
  },
  {
   "cell_type": "code",
   "execution_count": 34,
   "id": "7f9344e8",
   "metadata": {},
   "outputs": [
    {
     "name": "stdout",
     "output_type": "stream",
     "text": [
      "/home/dx4/tools/compiler2/results/random-compiler2-v0/2022-04-12/19-38-46/4040330/results.csv\n"
     ]
    }
   ],
   "source": [
    "csv_path = root_path + \"/results/random-compiler2-v0/2022-04-12/19-38-46/4040330/results.csv\"\n",
    "print(csv_path)"
   ]
  },
  {
   "cell_type": "code",
   "execution_count": 28,
   "id": "e9b2e555",
   "metadata": {},
   "outputs": [
    {
     "name": "stdout",
     "output_type": "stream",
     "text": [
      "Index(['BenchmarkName', ' PrevState', ' State', ' Action', ' PrevActions',\n",
      "       ' Reward'],\n",
      "      dtype='object')\n"
     ]
    },
    {
     "data": {
      "text/html": [
       "<div>\n",
       "<style scoped>\n",
       "    .dataframe tbody tr th:only-of-type {\n",
       "        vertical-align: middle;\n",
       "    }\n",
       "\n",
       "    .dataframe tbody tr th {\n",
       "        vertical-align: top;\n",
       "    }\n",
       "\n",
       "    .dataframe thead th {\n",
       "        text-align: right;\n",
       "    }\n",
       "</style>\n",
       "<table border=\"1\" class=\"dataframe\">\n",
       "  <thead>\n",
       "    <tr style=\"text-align: right;\">\n",
       "      <th></th>\n",
       "      <th>BenchmarkName</th>\n",
       "      <th>PrevState</th>\n",
       "      <th>State</th>\n",
       "      <th>Action</th>\n",
       "      <th>PrevActions</th>\n",
       "      <th>Reward</th>\n",
       "      <th>State</th>\n",
       "      <th>-adce</th>\n",
       "      <th>-add-discriminators</th>\n",
       "      <th>-aggressive-instcombine</th>\n",
       "      <th>...</th>\n",
       "      <th>-speculative-execution</th>\n",
       "      <th>-sroa</th>\n",
       "      <th>-strip</th>\n",
       "      <th>-strip-dead-prototypes</th>\n",
       "      <th>-strip-debug-declare</th>\n",
       "      <th>-strip-nondebug</th>\n",
       "      <th>-tailcallelim</th>\n",
       "      <th>State_</th>\n",
       "      <th>Action</th>\n",
       "      <th>Reward</th>\n",
       "    </tr>\n",
       "  </thead>\n",
       "  <tbody>\n",
       "  </tbody>\n",
       "</table>\n",
       "<p>0 rows × 134 columns</p>\n",
       "</div>"
      ],
      "text/plain": [
       "Empty DataFrame\n",
       "Columns: [BenchmarkName,  PrevState,  State,  Action,  PrevActions,  Reward, State, -adce, -add-discriminators, -aggressive-instcombine, -alignment-from-assumptions, -always-inline, -argpromotion, -attributor, -barrier, -bdce, -break-crit-edges, -called-value-propagation, -callsite-splitting, -canonicalize-aliases, -consthoist, -constmerge, -constprop, -coro-cleanup, -coro-early, -coro-elide, -coro-split, -correlated-propagation, -cross-dso-cfi, -dce, -deadargelim, -die, -div-rem-pairs, -dse, -early-cse, -early-cse-memssa, -ee-instrument, -elim-avail-extern, -flattencfg, -float2int, -forceattrs, -functionattrs, -globaldce, -globalopt, -globalsplit, -guard-widening, -gvn, -gvn-hoist, -hotcoldsplit, -indvars, -infer-address-spaces, -inferattrs, -inject-tli-mappings, -inline, -insert-gcov-profiling, -instcombine, -instnamer, -instsimplify, -ipconstprop, -ipsccp, -irce, -jump-threading, -lcssa, -libcalls-shrinkwrap, -licm, -load-store-vectorizer, -loop-data-prefetch, -loop-deletion, -loop-distribute, -loop-fusion, -loop-guard-widening, -loop-idiom, -loop-instsimplify, -loop-interchange, -loop-load-elim, -loop-predication, -loop-reduce, -loop-reroll, -loop-rotate, -loop-simplify, -loop-simplifycfg, -loop-sink, -loop-unroll, -loop-unroll-and-jam, -loop-unswitch, -loop-vectorize, -loop-versioning, -loop-versioning-licm, -lower-constant-intrinsics, -lower-expect, -lower-guard-intrinsic, -lower-matrix-intrinsics, -lower-widenable-condition, -loweratomic, -lowerinvoke, -lowerswitch, -mem2reg, -memcpyopt, -mergefunc, -mergeicmps, ...]\n",
       "Index: []\n",
       "\n",
       "[0 rows x 134 columns]"
      ]
     },
     "execution_count": 28,
     "metadata": {},
     "output_type": "execute_result"
    }
   ],
   "source": [
    "df = pd.read_csv(csv_path)\n",
    "print(df.keys())\n",
    "df['State'] = df[' State'].apply(lambda x:np.fromstring(x,sep=' '))\n",
    "state_min = np.min(np.stack(df['State']),0)\n",
    "state_max = np.max(np.stack(df['State']),0)\n",
    "df['State'] = df['State'].apply(lambda x: (x-state_min)/(state_max-state_min+1e-9))\n",
    "df['State'] = df['State'].apply(lambda x:torch.tensor(x).float())\n",
    "one_hot = pd.get_dummies(df[' Action'])\n",
    "df = df.join(one_hot)\n",
    "df['State_'] = None\n",
    "for i in range(len(df)-1):\n",
    "    if str(df[' PrevActions'][i+1]) == str(df[' PrevActions'][i])+' '+str(df[' Action'][i]):\n",
    "        df['State_'][i] = df['State'][i+1]\n",
    "df = df.dropna()\n",
    "df['Action'] = df.iloc[:,6:130].values.tolist()\n",
    "df['Action'] = df['Action'].apply(lambda x: torch.tensor(x).float())\n",
    "df['Reward'] = df[' Reward'].apply(lambda x: torch.tensor(x).float())\n",
    "df.head()"
   ]
  },
  {
   "cell_type": "code",
   "execution_count": 29,
   "id": "c7053808",
   "metadata": {},
   "outputs": [],
   "source": [
    "class experienceDataset(Dataset):\n",
    "    def __init__(self,experience):\n",
    "        self.experience = experience\n",
    "    def __getitem__(self, i):\n",
    "        # return S,A,R,S'\n",
    "        return self.experience['State'].iloc[i].to(device),self.experience['Action'].iloc[i].to(device),self.experience['Reward'].iloc[i].to(device),self.experience['State_'].iloc[i].to(device),\n",
    "    def __len__(self):\n",
    "        return self.experience.shape[0]"
   ]
  },
  {
   "cell_type": "code",
   "execution_count": 30,
   "id": "b8e1d0a9",
   "metadata": {},
   "outputs": [],
   "source": [
    "# class Q_net(nn.Module):\n",
    "#     def __init__(self,in_size,out_size,hidden_size,dropout):\n",
    "#         super(Q_net,self).__init__()\n",
    "#         self.l1 = nn.Linear(in_size,hidden_size)\n",
    "#         self.l2 = nn.Linear(hidden_size,hidden_size)\n",
    "#         self.l3 = nn.Linear(hidden_size,hidden_size)\n",
    "#         self.l4 = nn.Linear(hidden_size,hidden_size)\n",
    "#         self.l5 = nn.Linear(hidden_size,hidden_size)\n",
    "#         self.l6 = nn.Linear(hidden_size,hidden_size)\n",
    "#         self.l7 = nn.Linear(hidden_size,out_size)\n",
    "#         self.dropout = nn.Dropout(dropout)\n",
    "\n",
    "#     def forward(self,x):\n",
    "#         x = F.leaky_relu(self.l1(x))\n",
    "#         x = self.dropout(x)\n",
    "#         y = F.leaky_relu(self.l2(x))\n",
    "#         y = self.dropout(y)\n",
    "#         x = (x+y)*0.5\n",
    "#         x = F.leaky_relu(self.l3(x))\n",
    "#         x = self.dropout(x)\n",
    "#         y = F.leaky_relu(self.l4(x))\n",
    "#         y = self.dropout(y)\n",
    "#         x = (x+y)*0.5\n",
    "#         x = F.leaky_relu(self.l5(x))\n",
    "#         x = self.dropout(x)\n",
    "#         y = F.leaky_relu(self.l6(x))\n",
    "#         y = self.dropout(y)\n",
    "#         x = (x+y)*0.5\n",
    "#         return self.l7(x)"
   ]
  },
  {
   "cell_type": "code",
   "execution_count": 33,
   "id": "59fa302c",
   "metadata": {},
   "outputs": [
    {
     "ename": "ValueError",
     "evalue": "num_samples should be a positive integer value, but got num_samples=0",
     "output_type": "error",
     "traceback": [
      "\u001b[0;31m---------------------------------------------------------------------------\u001b[0m",
      "\u001b[0;31mValueError\u001b[0m                                Traceback (most recent call last)",
      "\u001b[0;32m/tmp/ipykernel_3900858/3130376623.py\u001b[0m in \u001b[0;36m<module>\u001b[0;34m\u001b[0m\n\u001b[1;32m      4\u001b[0m \u001b[0mtrain_set\u001b[0m\u001b[0;34m,\u001b[0m \u001b[0mtest_set\u001b[0m \u001b[0;34m=\u001b[0m \u001b[0mtorch\u001b[0m\u001b[0;34m.\u001b[0m\u001b[0mutils\u001b[0m\u001b[0;34m.\u001b[0m\u001b[0mdata\u001b[0m\u001b[0;34m.\u001b[0m\u001b[0mrandom_split\u001b[0m\u001b[0;34m(\u001b[0m\u001b[0mexperience\u001b[0m\u001b[0;34m,\u001b[0m \u001b[0;34m[\u001b[0m\u001b[0mtrain_size\u001b[0m\u001b[0;34m,\u001b[0m \u001b[0mtest_size\u001b[0m\u001b[0;34m]\u001b[0m\u001b[0;34m)\u001b[0m\u001b[0;34m\u001b[0m\u001b[0;34m\u001b[0m\u001b[0m\n\u001b[1;32m      5\u001b[0m \u001b[0mbatch_size\u001b[0m \u001b[0;34m=\u001b[0m \u001b[0;36m1000\u001b[0m\u001b[0;34m\u001b[0m\u001b[0;34m\u001b[0m\u001b[0m\n\u001b[0;32m----> 6\u001b[0;31m \u001b[0mtrainLoad\u001b[0m \u001b[0;34m=\u001b[0m \u001b[0mDataLoader\u001b[0m\u001b[0;34m(\u001b[0m\u001b[0mtrain_set\u001b[0m\u001b[0;34m,\u001b[0m\u001b[0mbatch_size\u001b[0m\u001b[0;34m=\u001b[0m\u001b[0mbatch_size\u001b[0m\u001b[0;34m,\u001b[0m\u001b[0mshuffle\u001b[0m\u001b[0;34m=\u001b[0m\u001b[0;32mTrue\u001b[0m\u001b[0;34m)\u001b[0m\u001b[0;34m\u001b[0m\u001b[0;34m\u001b[0m\u001b[0m\n\u001b[0m\u001b[1;32m      7\u001b[0m \u001b[0mtestLoad\u001b[0m \u001b[0;34m=\u001b[0m \u001b[0mDataLoader\u001b[0m\u001b[0;34m(\u001b[0m\u001b[0mtest_set\u001b[0m\u001b[0;34m,\u001b[0m\u001b[0mbatch_size\u001b[0m\u001b[0;34m=\u001b[0m\u001b[0mbatch_size\u001b[0m\u001b[0;34m,\u001b[0m\u001b[0mshuffle\u001b[0m\u001b[0;34m=\u001b[0m\u001b[0;32mTrue\u001b[0m\u001b[0;34m)\u001b[0m\u001b[0;34m\u001b[0m\u001b[0;34m\u001b[0m\u001b[0m\n\u001b[1;32m      8\u001b[0m \u001b[0mpolicy_net\u001b[0m \u001b[0;34m=\u001b[0m \u001b[0mmodel\u001b[0m\u001b[0;34m.\u001b[0m\u001b[0mQ_net\u001b[0m\u001b[0;34m(\u001b[0m\u001b[0;36m28\u001b[0m\u001b[0;34m,\u001b[0m\u001b[0;36m124\u001b[0m\u001b[0;34m,\u001b[0m\u001b[0;36m512\u001b[0m\u001b[0;34m,\u001b[0m\u001b[0;36m0.5\u001b[0m\u001b[0;34m)\u001b[0m\u001b[0;34m.\u001b[0m\u001b[0mto\u001b[0m\u001b[0;34m(\u001b[0m\u001b[0mdevice\u001b[0m\u001b[0;34m)\u001b[0m\u001b[0;34m\u001b[0m\u001b[0;34m\u001b[0m\u001b[0m\n",
      "\u001b[0;32m~/tools/miniconda3/lib/python3.8/site-packages/torch/utils/data/dataloader.py\u001b[0m in \u001b[0;36m__init__\u001b[0;34m(self, dataset, batch_size, shuffle, sampler, batch_sampler, num_workers, collate_fn, pin_memory, drop_last, timeout, worker_init_fn, multiprocessing_context, generator, prefetch_factor, persistent_workers)\u001b[0m\n\u001b[1;32m    268\u001b[0m                     \u001b[0;31m# Cannot statically verify that dataset is Sized\u001b[0m\u001b[0;34m\u001b[0m\u001b[0;34m\u001b[0m\u001b[0;34m\u001b[0m\u001b[0m\n\u001b[1;32m    269\u001b[0m                     \u001b[0;31m# Somewhat related: see NOTE [ Lack of Default `__len__` in Python Abstract Base Classes ]\u001b[0m\u001b[0;34m\u001b[0m\u001b[0;34m\u001b[0m\u001b[0;34m\u001b[0m\u001b[0m\n\u001b[0;32m--> 270\u001b[0;31m                     \u001b[0msampler\u001b[0m \u001b[0;34m=\u001b[0m \u001b[0mRandomSampler\u001b[0m\u001b[0;34m(\u001b[0m\u001b[0mdataset\u001b[0m\u001b[0;34m,\u001b[0m \u001b[0mgenerator\u001b[0m\u001b[0;34m=\u001b[0m\u001b[0mgenerator\u001b[0m\u001b[0;34m)\u001b[0m  \u001b[0;31m# type: ignore[arg-type]\u001b[0m\u001b[0;34m\u001b[0m\u001b[0;34m\u001b[0m\u001b[0m\n\u001b[0m\u001b[1;32m    271\u001b[0m                 \u001b[0;32melse\u001b[0m\u001b[0;34m:\u001b[0m\u001b[0;34m\u001b[0m\u001b[0;34m\u001b[0m\u001b[0m\n\u001b[1;32m    272\u001b[0m                     \u001b[0msampler\u001b[0m \u001b[0;34m=\u001b[0m \u001b[0mSequentialSampler\u001b[0m\u001b[0;34m(\u001b[0m\u001b[0mdataset\u001b[0m\u001b[0;34m)\u001b[0m  \u001b[0;31m# type: ignore[arg-type]\u001b[0m\u001b[0;34m\u001b[0m\u001b[0;34m\u001b[0m\u001b[0m\n",
      "\u001b[0;32m~/tools/miniconda3/lib/python3.8/site-packages/torch/utils/data/sampler.py\u001b[0m in \u001b[0;36m__init__\u001b[0;34m(self, data_source, replacement, num_samples, generator)\u001b[0m\n\u001b[1;32m    100\u001b[0m \u001b[0;34m\u001b[0m\u001b[0m\n\u001b[1;32m    101\u001b[0m         \u001b[0;32mif\u001b[0m \u001b[0;32mnot\u001b[0m \u001b[0misinstance\u001b[0m\u001b[0;34m(\u001b[0m\u001b[0mself\u001b[0m\u001b[0;34m.\u001b[0m\u001b[0mnum_samples\u001b[0m\u001b[0;34m,\u001b[0m \u001b[0mint\u001b[0m\u001b[0;34m)\u001b[0m \u001b[0;32mor\u001b[0m \u001b[0mself\u001b[0m\u001b[0;34m.\u001b[0m\u001b[0mnum_samples\u001b[0m \u001b[0;34m<=\u001b[0m \u001b[0;36m0\u001b[0m\u001b[0;34m:\u001b[0m\u001b[0;34m\u001b[0m\u001b[0;34m\u001b[0m\u001b[0m\n\u001b[0;32m--> 102\u001b[0;31m             raise ValueError(\"num_samples should be a positive integer \"\n\u001b[0m\u001b[1;32m    103\u001b[0m                              \"value, but got num_samples={}\".format(self.num_samples))\n\u001b[1;32m    104\u001b[0m \u001b[0;34m\u001b[0m\u001b[0m\n",
      "\u001b[0;31mValueError\u001b[0m: num_samples should be a positive integer value, but got num_samples=0"
     ]
    }
   ],
   "source": [
    "test_size = len(df) // 5\n",
    "train_size = len(df) - test_size\n",
    "experience = experienceDataset(df)\n",
    "train_set, test_set = torch.utils.data.random_split(experience, [train_size, test_size])\n",
    "batch_size = 1000\n",
    "trainLoad = DataLoader(train_set,batch_size=batch_size,shuffle=True)\n",
    "testLoad = DataLoader(test_set,batch_size=batch_size,shuffle=True)\n",
    "policy_net = model.Q_net(28,124,512,0.5).to(device)\n",
    "target_net = model.Q_net(28,124,512,0.5).to(device)\n",
    "target_net.load_state_dict(policy_net.state_dict())\n",
    "target_net.eval()\n",
    "criterion = nn.SmoothL1Loss()\n",
    "optimizer = optim.Adam(policy_net.parameters())\n",
    "train_losses = []\n",
    "test_losses = []\n",
    "num_epochs = 301\n",
    "test_every = 5\n",
    "gamma = 0.9"
   ]
  },
  {
   "cell_type": "code",
   "execution_count": 16,
   "id": "d30ab567",
   "metadata": {},
   "outputs": [
    {
     "name": "stderr",
     "output_type": "stream",
     "text": [
      "                                                                     \r"
     ]
    }
   ],
   "source": [
    "for epoch in range(num_epochs):\n",
    "    loop_inner = tqdm(total=train_size//batch_size,position=0,leave=False)\n",
    "    policy_net.train()\n",
    "    for S,A,R,S_ in trainLoad:\n",
    "        r = torch.sum(torch.mul(policy_net(S),A),1)\n",
    "        r_hat = R + torch.max(target_net(S_),1).values*gamma\n",
    "        \n",
    "        loss = criterion(r,r_hat)\n",
    "        \n",
    "        optimizer.zero_grad()\n",
    "        loss.backward()\n",
    "        optimizer.step()\n",
    "        \n",
    "        train_losses.append(loss.item())\n",
    "        loop_inner.set_description('epoch:{}, loss:{:.4f}'.format(epoch, loss.item()))\n",
    "        loop_inner.update(1)\n",
    "    loop_inner.close()\n",
    "    if epoch % test_every == 0:\n",
    "        with torch.no_grad():\n",
    "            policy_net.eval()\n",
    "            for S,A,R,S_ in trainLoad:\n",
    "                r = torch.sum(torch.mul(policy_net(S),A),1)\n",
    "                r_hat = R + torch.max(target_net(S_),1).values*gamma\n",
    "\n",
    "                loss = criterion(r,r_hat)\n",
    "                test_losses.append(loss.item())\n",
    "    target_net.load_state_dict(policy_net.state_dict())"
   ]
  },
  {
   "cell_type": "code",
   "execution_count": 17,
   "id": "745f8579",
   "metadata": {},
   "outputs": [
    {
     "data": {
      "text/plain": [
       "[<matplotlib.lines.Line2D at 0x7ffed2c305b0>]"
      ]
     },
     "execution_count": 17,
     "metadata": {},
     "output_type": "execute_result"
    },
    {
     "data": {
      "image/png": "[encoded data removed]",
      "text/plain": [
       "<Figure size 432x288 with 1 Axes>"
      ]
     },
     "metadata": {},
     "output_type": "display_data"
    }
   ],
   "source": [
    "plt.figure(facecolor='white')\n",
    "plt.plot(train_losses)"
   ]
  },
  {
   "cell_type": "code",
   "execution_count": 18,
   "id": "e493378e",
   "metadata": {},
   "outputs": [
    {
     "data": {
      "text/plain": [
       "[<matplotlib.lines.Line2D at 0x7ffeca172550>]"
      ]
     },
     "execution_count": 18,
     "metadata": {},
     "output_type": "execute_result"
    },
    {
     "data": {
      "image/png": "[encoded data removed]",
      "text/plain": [
       "<Figure size 432x288 with 1 Axes>"
      ]
     },
     "metadata": {},
     "output_type": "display_data"
    }
   ],
   "source": [
    "plt.figure(facecolor='white')\n",
    "plt.plot(test_losses)"
   ]
  },
  {
   "cell_type": "code",
   "execution_count": 19,
   "id": "b7c22409",
   "metadata": {},
   "outputs": [],
   "source": [
    "def get_action(state,network,epsilon):\n",
    "    p = random.random()\n",
    "    if p > epsilon:\n",
    "        with torch.no_grad():\n",
    "            return torch.max(network(state),1).indices[0].item()\n",
    "    else:\n",
    "        return random.randint(0,124)"
   ]
  },
  {
   "cell_type": "code",
   "execution_count": 20,
   "id": "512613ab",
   "metadata": {},
   "outputs": [
    {
     "data": {
      "text/plain": [
       "71"
      ]
     },
     "execution_count": 20,
     "metadata": {},
     "output_type": "execute_result"
    }
   ],
   "source": [
    "model.get_action(df['State'].iloc[3],target_net,1)"
   ]
  },
  {
   "cell_type": "code",
   "execution_count": 19,
   "id": "76aaac18",
   "metadata": {},
   "outputs": [
    {
     "data": {
      "text/plain": [
       "51"
      ]
     },
     "execution_count": 19,
     "metadata": {},
     "output_type": "execute_result"
    }
   ],
   "source": [
    "model.get_action(df['State'].iloc[0].unsqueeze(0).to(device),target_net,0)"
   ]
  },
  {
   "cell_type": "code",
   "execution_count": null,
   "id": "82001696",
   "metadata": {},
   "outputs": [],
   "source": []
  }
 ],
 "metadata": {
  "kernelspec": {
   "display_name": "Python 3",
   "language": "python",
   "name": "python3"
  },
  "language_info": {
   "codemirror_mode": {
    "name": "ipython",
    "version": 3
   },
   "file_extension": ".py",
   "mimetype": "text/x-python",
   "name": "python",
   "nbconvert_exporter": "python",
   "pygments_lexer": "ipython3",
   "version": "3.8.10"
  }
 },
 "nbformat": 4,
 "nbformat_minor": 5
}
