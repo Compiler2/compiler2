{
 "cells": [
  {
   "cell_type": "code",
   "execution_count": 1,
   "id": "dfb256f4",
   "metadata": {},
   "outputs": [
    {
     "name": "stderr",
     "output_type": "stream",
     "text": [
      "Using backend: pytorch\n"
     ]
    }
   ],
   "source": [
    "from pathlib import Path\n",
    "import compiler_gym\n",
    "import pickle\n",
    "import torch\n",
    "import torch.nn as nn\n",
    "import torch.optim as optim\n",
    "import torch.nn.functional as F\n",
    "from torch.utils.data import DataLoader, Dataset\n",
    "\n",
    "import os\n",
    "import sys\n",
    "import random\n",
    "import numpy as np\n",
    "import pandas as pd\n",
    "from tqdm import tqdm\n",
    "from matplotlib import pyplot as plt\n",
    "import pdb\n",
    "\n",
    "from compiler_gym_dataset import CompilerGymDataset, process_networkx_graph\n",
    "from model_gnn import GNNEncoder\n",
    "\n",
    "device = 'cpu'"
   ]
  },
  {
   "cell_type": "code",
   "execution_count": 2,
   "id": "f3d13d2f",
   "metadata": {},
   "outputs": [
    {
     "name": "stdout",
     "output_type": "stream",
     "text": [
      "/home/dx4/tools/compiler2/results/random-compiler2-v0/2022-05-03/12-44-11/1569317/results_0.pkl\n",
      "Is file good = True\n"
     ]
    }
   ],
   "source": [
    "root_path = os.environ.get(\"COMPILER2_ROOT\")\n",
    "db_path = Path(root_path + \"/results/random-compiler2-v0/2022-05-03/12-44-11/1569317/results_0.pkl\")\n",
    "\n",
    "print(db_path)\n",
    "print(f\"Is file good = {db_path.is_file()}\")"
   ]
  },
  {
   "cell_type": "code",
   "execution_count": 3,
   "id": "4a690ef1",
   "metadata": {},
   "outputs": [
    {
     "name": "stdout",
     "output_type": "stream",
     "text": [
      "Number of actions = 124\n"
     ]
    },
    {
     "name": "stderr",
     "output_type": "stream",
     "text": [
      "./compiler_gym-llvm-service: /lib64/libtinfo.so.5: no version information available (required by ./compiler_gym-llvm-service)\n"
     ]
    }
   ],
   "source": [
    "env = compiler_gym.make(\"llvm-v0\")\n",
    "print(f'Number of actions = {len(env.action_space.flags)}')"
   ]
  },
  {
   "cell_type": "code",
   "execution_count": 4,
   "id": "068189f6",
   "metadata": {},
   "outputs": [
    {
     "data": {
      "text/html": [
       "<div>\n",
       "<style scoped>\n",
       "    .dataframe tbody tr th:only-of-type {\n",
       "        vertical-align: middle;\n",
       "    }\n",
       "\n",
       "    .dataframe tbody tr th {\n",
       "        vertical-align: top;\n",
       "    }\n",
       "\n",
       "    .dataframe thead th {\n",
       "        text-align: right;\n",
       "    }\n",
       "</style>\n",
       "<table border=\"1\" class=\"dataframe\">\n",
       "  <thead>\n",
       "    <tr style=\"text-align: right;\">\n",
       "      <th></th>\n",
       "      <th>BenchmarkName</th>\n",
       "      <th>State</th>\n",
       "      <th>NextState</th>\n",
       "      <th>Action</th>\n",
       "      <th>CommandLine</th>\n",
       "      <th>Reward</th>\n",
       "      <th>StatePerf</th>\n",
       "      <th>StatePrograml</th>\n",
       "      <th>NextStatePerf</th>\n",
       "      <th>NextStatePrograml</th>\n",
       "    </tr>\n",
       "  </thead>\n",
       "  <tbody>\n",
       "    <tr>\n",
       "      <th>0</th>\n",
       "      <td>benchmark://poj104-v0/28_982</td>\n",
       "      <td>[[354630.0, 1171172.0, 0.55, 273553.0, 0.0, 0....</td>\n",
       "      <td>[0.5445832773523199, 0.0, 0.0, 0.0109890109888...</td>\n",
       "      <td>[tensor(0.), tensor(0.), tensor(0.), tensor(0....</td>\n",
       "      <td>opt -lower-guard-intrinsic -die -mergeicmps -s...</td>\n",
       "      <td>tensor(-0.2822)</td>\n",
       "      <td>[tensor(0.1639), tensor(0.3485), tensor(0.6667...</td>\n",
       "      <td>(0, 1, 2, 3, 4, 5, 6, 7, 8, 9, 10, 11, 12, 13,...</td>\n",
       "      <td>[tensor(454690.), tensor(1022230.), tensor(0.4...</td>\n",
       "      <td>(0, 1, 2, 3, 4, 5, 6, 7, 8, 9, 10, 11, 12, 13,...</td>\n",
       "    </tr>\n",
       "    <tr>\n",
       "      <th>1</th>\n",
       "      <td>benchmark://poj104-v0/28_982</td>\n",
       "      <td>[[454690.0, 1022230.0, 0.45, 273545.0, 0.0, 0....</td>\n",
       "      <td>[0.10207272238711133, 0.14862988406711308, 0.4...</td>\n",
       "      <td>[tensor(0.), tensor(0.), tensor(0.), tensor(0....</td>\n",
       "      <td>opt -lower-guard-intrinsic -die -mergeicmps -s...</td>\n",
       "      <td>tensor(0.2390)</td>\n",
       "      <td>[tensor(0.6505), tensor(0.), tensor(0.), tenso...</td>\n",
       "      <td>(0, 1, 2, 3, 4, 5, 6, 7, 8, 9, 10, 11, 12, 13,...</td>\n",
       "      <td>[tensor(346001.), tensor(1099511.), tensor(0.5...</td>\n",
       "      <td>(0, 1, 2, 3, 4, 5, 6, 7, 8, 9, 10, 11, 12, 13,...</td>\n",
       "    </tr>\n",
       "    <tr>\n",
       "      <th>2</th>\n",
       "      <td>benchmark://poj104-v0/28_982</td>\n",
       "      <td>[[419822.0, 1290683.0, 0.59, 273544.0, 0.0, 0....</td>\n",
       "      <td>[0.030087248950610376, 0.5599204548077135, 0.9...</td>\n",
       "      <td>[tensor(0.), tensor(0.), tensor(0.), tensor(0....</td>\n",
       "      <td>opt -lower-guard-intrinsic -die -mergeicmps -s...</td>\n",
       "      <td>tensor(0.2180)</td>\n",
       "      <td>[tensor(0.4810), tensor(0.6281), tensor(0.9333...</td>\n",
       "      <td>(0, 1, 2, 3, 4, 5, 6, 7, 8, 9, 10, 11, 12, 13,...</td>\n",
       "      <td>[tensor(328320.), tensor(1313364.), tensor(0.6...</td>\n",
       "      <td>(0, 1, 2, 3, 4, 5, 6, 7, 8, 9, 10, 11, 12, 13,...</td>\n",
       "    </tr>\n",
       "    <tr>\n",
       "      <th>3</th>\n",
       "      <td>benchmark://poj104-v0/28_982</td>\n",
       "      <td>[[328320.0, 1313364.0, 0.6, 273545.0, 0.0, 0.0...</td>\n",
       "      <td>[0.05980807673673429, 0.6456969435875332, 0.99...</td>\n",
       "      <td>[tensor(0.), tensor(0.), tensor(0.), tensor(0....</td>\n",
       "      <td>opt -lower-guard-intrinsic -die -mergeicmps -s...</td>\n",
       "      <td>tensor(-0.0222)</td>\n",
       "      <td>[tensor(0.0359), tensor(0.6812), tensor(1.), t...</td>\n",
       "      <td>(0, 1, 2, 3, 4, 5, 6, 7, 8, 9, 10, 11, 12, 13,...</td>\n",
       "      <td>[tensor(335620.), tensor(1357964.), tensor(0.6...</td>\n",
       "      <td>(0, 1, 2, 3, 4, 5, 6, 7, 8, 9, 10, 11, 12, 13,...</td>\n",
       "    </tr>\n",
       "    <tr>\n",
       "      <th>4</th>\n",
       "      <td>benchmark://poj104-v0/28_982</td>\n",
       "      <td>[[345772.0, 1250643.0, 0.56, 273634.0, 0.0, 0....</td>\n",
       "      <td>[0.8371298637320369, 0.5548604112655676, 0.874...</td>\n",
       "      <td>[tensor(0.), tensor(0.), tensor(0.), tensor(0....</td>\n",
       "      <td>opt -nary-reassociate -simple-loop-unswitch -m...</td>\n",
       "      <td>tensor(-0.5228)</td>\n",
       "      <td>[tensor(0.1208), tensor(0.5344), tensor(0.7333...</td>\n",
       "      <td>(0, 1, 2, 3, 4, 5, 6, 7, 8, 9, 10, 11, 12, 13,...</td>\n",
       "      <td>[tensor(526545.), tensor(1310733.), tensor(0.5...</td>\n",
       "      <td>(0, 1, 2, 3, 4, 5, 6, 7, 8, 9, 10, 11, 12, 13,...</td>\n",
       "    </tr>\n",
       "  </tbody>\n",
       "</table>\n",
       "</div>"
      ],
      "text/plain": [
       "                  BenchmarkName  \\\n",
       "0  benchmark://poj104-v0/28_982   \n",
       "1  benchmark://poj104-v0/28_982   \n",
       "2  benchmark://poj104-v0/28_982   \n",
       "3  benchmark://poj104-v0/28_982   \n",
       "4  benchmark://poj104-v0/28_982   \n",
       "\n",
       "                                               State  \\\n",
       "0  [[354630.0, 1171172.0, 0.55, 273553.0, 0.0, 0....   \n",
       "1  [[454690.0, 1022230.0, 0.45, 273545.0, 0.0, 0....   \n",
       "2  [[419822.0, 1290683.0, 0.59, 273544.0, 0.0, 0....   \n",
       "3  [[328320.0, 1313364.0, 0.6, 273545.0, 0.0, 0.0...   \n",
       "4  [[345772.0, 1250643.0, 0.56, 273634.0, 0.0, 0....   \n",
       "\n",
       "                                           NextState  \\\n",
       "0  [0.5445832773523199, 0.0, 0.0, 0.0109890109888...   \n",
       "1  [0.10207272238711133, 0.14862988406711308, 0.4...   \n",
       "2  [0.030087248950610376, 0.5599204548077135, 0.9...   \n",
       "3  [0.05980807673673429, 0.6456969435875332, 0.99...   \n",
       "4  [0.8371298637320369, 0.5548604112655676, 0.874...   \n",
       "\n",
       "                                              Action  \\\n",
       "0  [tensor(0.), tensor(0.), tensor(0.), tensor(0....   \n",
       "1  [tensor(0.), tensor(0.), tensor(0.), tensor(0....   \n",
       "2  [tensor(0.), tensor(0.), tensor(0.), tensor(0....   \n",
       "3  [tensor(0.), tensor(0.), tensor(0.), tensor(0....   \n",
       "4  [tensor(0.), tensor(0.), tensor(0.), tensor(0....   \n",
       "\n",
       "                                         CommandLine           Reward  \\\n",
       "0  opt -lower-guard-intrinsic -die -mergeicmps -s...  tensor(-0.2822)   \n",
       "1  opt -lower-guard-intrinsic -die -mergeicmps -s...   tensor(0.2390)   \n",
       "2  opt -lower-guard-intrinsic -die -mergeicmps -s...   tensor(0.2180)   \n",
       "3  opt -lower-guard-intrinsic -die -mergeicmps -s...  tensor(-0.0222)   \n",
       "4  opt -nary-reassociate -simple-loop-unswitch -m...  tensor(-0.5228)   \n",
       "\n",
       "                                           StatePerf  \\\n",
       "0  [tensor(0.1639), tensor(0.3485), tensor(0.6667...   \n",
       "1  [tensor(0.6505), tensor(0.), tensor(0.), tenso...   \n",
       "2  [tensor(0.4810), tensor(0.6281), tensor(0.9333...   \n",
       "3  [tensor(0.0359), tensor(0.6812), tensor(1.), t...   \n",
       "4  [tensor(0.1208), tensor(0.5344), tensor(0.7333...   \n",
       "\n",
       "                                       StatePrograml  \\\n",
       "0  (0, 1, 2, 3, 4, 5, 6, 7, 8, 9, 10, 11, 12, 13,...   \n",
       "1  (0, 1, 2, 3, 4, 5, 6, 7, 8, 9, 10, 11, 12, 13,...   \n",
       "2  (0, 1, 2, 3, 4, 5, 6, 7, 8, 9, 10, 11, 12, 13,...   \n",
       "3  (0, 1, 2, 3, 4, 5, 6, 7, 8, 9, 10, 11, 12, 13,...   \n",
       "4  (0, 1, 2, 3, 4, 5, 6, 7, 8, 9, 10, 11, 12, 13,...   \n",
       "\n",
       "                                       NextStatePerf  \\\n",
       "0  [tensor(454690.), tensor(1022230.), tensor(0.4...   \n",
       "1  [tensor(346001.), tensor(1099511.), tensor(0.5...   \n",
       "2  [tensor(328320.), tensor(1313364.), tensor(0.6...   \n",
       "3  [tensor(335620.), tensor(1357964.), tensor(0.6...   \n",
       "4  [tensor(526545.), tensor(1310733.), tensor(0.5...   \n",
       "\n",
       "                                   NextStatePrograml  \n",
       "0  (0, 1, 2, 3, 4, 5, 6, 7, 8, 9, 10, 11, 12, 13,...  \n",
       "1  (0, 1, 2, 3, 4, 5, 6, 7, 8, 9, 10, 11, 12, 13,...  \n",
       "2  (0, 1, 2, 3, 4, 5, 6, 7, 8, 9, 10, 11, 12, 13,...  \n",
       "3  (0, 1, 2, 3, 4, 5, 6, 7, 8, 9, 10, 11, 12, 13,...  \n",
       "4  (0, 1, 2, 3, 4, 5, 6, 7, 8, 9, 10, 11, 12, 13,...  "
      ]
     },
     "execution_count": 4,
     "metadata": {},
     "output_type": "execute_result"
    }
   ],
   "source": [
    "columns = [\"BenchmarkName\", \"State\", \"NextState\", \"Action\", \"CommandLine\", \"Reward\"]\n",
    "# df = pd.read_csv(db_path, names=columns, header=1)\n",
    "with open(db_path, 'rb') as f:\n",
    "    df = pickle.load(f)[:10]\n",
    "\n",
    "df.loc[:, 'StatePerf'] = df['State'].map(lambda x: x[0])\n",
    "df.loc[:, 'StatePrograml'] = df['State'].map(lambda x: x[1])\n",
    "\n",
    "df.loc[:, 'NextStatePerf'] = df['NextState'].map(lambda x: x[0])\n",
    "df.loc[:, 'NextStatePrograml'] = df['NextState'].map(lambda x: x[1])\n",
    "\n",
    "\n",
    "state_min = np.min(np.stack(df['StatePerf']),0)\n",
    "state_max = np.max(np.stack(df['StatePerf']),0)\n",
    "df['StatePerf'] = df['StatePerf'].apply(lambda x: (x-state_min)/(state_max-state_min+1e-9))\n",
    "df['StatePerf'] = df['StatePerf'].apply(lambda x:torch.tensor(x).float())\n",
    "\n",
    "state_min = np.min(np.stack(df['NextStatePerf']),0)\n",
    "state_max = np.max(np.stack(df['NextStatePerf']),0)\n",
    "df['NextState'] = df['NextStatePerf'].apply(lambda x: (x-state_min)/(state_max-state_min+1e-9))\n",
    "df['NextStatePerf'] = df['NextStatePerf'].apply(lambda x:torch.tensor(x).float())\n",
    "\n",
    "\n",
    "action_kinds = pd.Categorical(df['Action'], categories=env.action_space.flags)\n",
    "action_one_hot = pd.get_dummies(action_kinds)\n",
    "\n",
    "df = df.dropna()\n",
    "df['Action'] = action_one_hot.values.tolist()\n",
    "df['Action'] = df['Action'].apply(lambda x: torch.tensor(x).float())\n",
    "df['Reward'] = df['Reward'].apply(lambda x: torch.tensor(x).float())\n",
    "\n",
    "df.head()"
   ]
  },
  {
   "cell_type": "code",
   "execution_count": 5,
   "id": "a798f654",
   "metadata": {},
   "outputs": [
    {
     "name": "stdout",
     "output_type": "stream",
     "text": [
      "Create vocabulary\n"
     ]
    },
    {
     "data": {
      "text/html": [
       "<div>\n",
       "<style scoped>\n",
       "    .dataframe tbody tr th:only-of-type {\n",
       "        vertical-align: middle;\n",
       "    }\n",
       "\n",
       "    .dataframe tbody tr th {\n",
       "        vertical-align: top;\n",
       "    }\n",
       "\n",
       "    .dataframe thead th {\n",
       "        text-align: right;\n",
       "    }\n",
       "</style>\n",
       "<table border=\"1\" class=\"dataframe\">\n",
       "  <thead>\n",
       "    <tr style=\"text-align: right;\">\n",
       "      <th></th>\n",
       "      <th>BenchmarkName</th>\n",
       "      <th>State</th>\n",
       "      <th>NextState</th>\n",
       "      <th>Action</th>\n",
       "      <th>CommandLine</th>\n",
       "      <th>Reward</th>\n",
       "      <th>StatePerf</th>\n",
       "      <th>StatePrograml</th>\n",
       "      <th>NextStatePerf</th>\n",
       "      <th>NextStatePrograml</th>\n",
       "    </tr>\n",
       "  </thead>\n",
       "  <tbody>\n",
       "    <tr>\n",
       "      <th>0</th>\n",
       "      <td>benchmark://poj104-v0/28_982</td>\n",
       "      <td>[[354630.0, 1171172.0, 0.55, 273553.0, 0.0, 0....</td>\n",
       "      <td>[0.5445832773523199, 0.0, 0.0, 0.0109890109888...</td>\n",
       "      <td>[tensor(0.), tensor(0.), tensor(0.), tensor(0....</td>\n",
       "      <td>opt -lower-guard-intrinsic -die -mergeicmps -s...</td>\n",
       "      <td>tensor(-0.2822)</td>\n",
       "      <td>[tensor(0.1639), tensor(0.3485), tensor(0.6667...</td>\n",
       "      <td>(0, 1, 2, 3, 4, 5, 6, 7, 8, 9, 10, 11, 12, 13,...</td>\n",
       "      <td>[tensor(454690.), tensor(1022230.), tensor(0.4...</td>\n",
       "      <td>(0, 1, 2, 3, 4, 5, 6, 7, 8, 9, 10, 11, 12, 13,...</td>\n",
       "    </tr>\n",
       "    <tr>\n",
       "      <th>1</th>\n",
       "      <td>benchmark://poj104-v0/28_982</td>\n",
       "      <td>[[454690.0, 1022230.0, 0.45, 273545.0, 0.0, 0....</td>\n",
       "      <td>[0.10207272238711133, 0.14862988406711308, 0.4...</td>\n",
       "      <td>[tensor(0.), tensor(0.), tensor(0.), tensor(0....</td>\n",
       "      <td>opt -lower-guard-intrinsic -die -mergeicmps -s...</td>\n",
       "      <td>tensor(0.2390)</td>\n",
       "      <td>[tensor(0.6505), tensor(0.), tensor(0.), tenso...</td>\n",
       "      <td>(0, 1, 2, 3, 4, 5, 6, 7, 8, 9, 10, 11, 12, 13,...</td>\n",
       "      <td>[tensor(346001.), tensor(1099511.), tensor(0.5...</td>\n",
       "      <td>(0, 1, 2, 3, 4, 5, 6, 7, 8, 9, 10, 11, 12, 13,...</td>\n",
       "    </tr>\n",
       "    <tr>\n",
       "      <th>2</th>\n",
       "      <td>benchmark://poj104-v0/28_982</td>\n",
       "      <td>[[419822.0, 1290683.0, 0.59, 273544.0, 0.0, 0....</td>\n",
       "      <td>[0.030087248950610376, 0.5599204548077135, 0.9...</td>\n",
       "      <td>[tensor(0.), tensor(0.), tensor(0.), tensor(0....</td>\n",
       "      <td>opt -lower-guard-intrinsic -die -mergeicmps -s...</td>\n",
       "      <td>tensor(0.2180)</td>\n",
       "      <td>[tensor(0.4810), tensor(0.6281), tensor(0.9333...</td>\n",
       "      <td>(0, 1, 2, 3, 4, 5, 6, 7, 8, 9, 10, 11, 12, 13,...</td>\n",
       "      <td>[tensor(328320.), tensor(1313364.), tensor(0.6...</td>\n",
       "      <td>(0, 1, 2, 3, 4, 5, 6, 7, 8, 9, 10, 11, 12, 13,...</td>\n",
       "    </tr>\n",
       "    <tr>\n",
       "      <th>3</th>\n",
       "      <td>benchmark://poj104-v0/28_982</td>\n",
       "      <td>[[328320.0, 1313364.0, 0.6, 273545.0, 0.0, 0.0...</td>\n",
       "      <td>[0.05980807673673429, 0.6456969435875332, 0.99...</td>\n",
       "      <td>[tensor(0.), tensor(0.), tensor(0.), tensor(0....</td>\n",
       "      <td>opt -lower-guard-intrinsic -die -mergeicmps -s...</td>\n",
       "      <td>tensor(-0.0222)</td>\n",
       "      <td>[tensor(0.0359), tensor(0.6812), tensor(1.), t...</td>\n",
       "      <td>(0, 1, 2, 3, 4, 5, 6, 7, 8, 9, 10, 11, 12, 13,...</td>\n",
       "      <td>[tensor(335620.), tensor(1357964.), tensor(0.6...</td>\n",
       "      <td>(0, 1, 2, 3, 4, 5, 6, 7, 8, 9, 10, 11, 12, 13,...</td>\n",
       "    </tr>\n",
       "    <tr>\n",
       "      <th>4</th>\n",
       "      <td>benchmark://poj104-v0/28_982</td>\n",
       "      <td>[[345772.0, 1250643.0, 0.56, 273634.0, 0.0, 0....</td>\n",
       "      <td>[0.8371298637320369, 0.5548604112655676, 0.874...</td>\n",
       "      <td>[tensor(0.), tensor(0.), tensor(0.), tensor(0....</td>\n",
       "      <td>opt -nary-reassociate -simple-loop-unswitch -m...</td>\n",
       "      <td>tensor(-0.5228)</td>\n",
       "      <td>[tensor(0.1208), tensor(0.5344), tensor(0.7333...</td>\n",
       "      <td>(0, 1, 2, 3, 4, 5, 6, 7, 8, 9, 10, 11, 12, 13,...</td>\n",
       "      <td>[tensor(526545.), tensor(1310733.), tensor(0.5...</td>\n",
       "      <td>(0, 1, 2, 3, 4, 5, 6, 7, 8, 9, 10, 11, 12, 13,...</td>\n",
       "    </tr>\n",
       "  </tbody>\n",
       "</table>\n",
       "</div>"
      ],
      "text/plain": [
       "                  BenchmarkName  \\\n",
       "0  benchmark://poj104-v0/28_982   \n",
       "1  benchmark://poj104-v0/28_982   \n",
       "2  benchmark://poj104-v0/28_982   \n",
       "3  benchmark://poj104-v0/28_982   \n",
       "4  benchmark://poj104-v0/28_982   \n",
       "\n",
       "                                               State  \\\n",
       "0  [[354630.0, 1171172.0, 0.55, 273553.0, 0.0, 0....   \n",
       "1  [[454690.0, 1022230.0, 0.45, 273545.0, 0.0, 0....   \n",
       "2  [[419822.0, 1290683.0, 0.59, 273544.0, 0.0, 0....   \n",
       "3  [[328320.0, 1313364.0, 0.6, 273545.0, 0.0, 0.0...   \n",
       "4  [[345772.0, 1250643.0, 0.56, 273634.0, 0.0, 0....   \n",
       "\n",
       "                                           NextState  \\\n",
       "0  [0.5445832773523199, 0.0, 0.0, 0.0109890109888...   \n",
       "1  [0.10207272238711133, 0.14862988406711308, 0.4...   \n",
       "2  [0.030087248950610376, 0.5599204548077135, 0.9...   \n",
       "3  [0.05980807673673429, 0.6456969435875332, 0.99...   \n",
       "4  [0.8371298637320369, 0.5548604112655676, 0.874...   \n",
       "\n",
       "                                              Action  \\\n",
       "0  [tensor(0.), tensor(0.), tensor(0.), tensor(0....   \n",
       "1  [tensor(0.), tensor(0.), tensor(0.), tensor(0....   \n",
       "2  [tensor(0.), tensor(0.), tensor(0.), tensor(0....   \n",
       "3  [tensor(0.), tensor(0.), tensor(0.), tensor(0....   \n",
       "4  [tensor(0.), tensor(0.), tensor(0.), tensor(0....   \n",
       "\n",
       "                                         CommandLine           Reward  \\\n",
       "0  opt -lower-guard-intrinsic -die -mergeicmps -s...  tensor(-0.2822)   \n",
       "1  opt -lower-guard-intrinsic -die -mergeicmps -s...   tensor(0.2390)   \n",
       "2  opt -lower-guard-intrinsic -die -mergeicmps -s...   tensor(0.2180)   \n",
       "3  opt -lower-guard-intrinsic -die -mergeicmps -s...  tensor(-0.0222)   \n",
       "4  opt -nary-reassociate -simple-loop-unswitch -m...  tensor(-0.5228)   \n",
       "\n",
       "                                           StatePerf  \\\n",
       "0  [tensor(0.1639), tensor(0.3485), tensor(0.6667...   \n",
       "1  [tensor(0.6505), tensor(0.), tensor(0.), tenso...   \n",
       "2  [tensor(0.4810), tensor(0.6281), tensor(0.9333...   \n",
       "3  [tensor(0.0359), tensor(0.6812), tensor(1.), t...   \n",
       "4  [tensor(0.1208), tensor(0.5344), tensor(0.7333...   \n",
       "\n",
       "                                       StatePrograml  \\\n",
       "0  (0, 1, 2, 3, 4, 5, 6, 7, 8, 9, 10, 11, 12, 13,...   \n",
       "1  (0, 1, 2, 3, 4, 5, 6, 7, 8, 9, 10, 11, 12, 13,...   \n",
       "2  (0, 1, 2, 3, 4, 5, 6, 7, 8, 9, 10, 11, 12, 13,...   \n",
       "3  (0, 1, 2, 3, 4, 5, 6, 7, 8, 9, 10, 11, 12, 13,...   \n",
       "4  (0, 1, 2, 3, 4, 5, 6, 7, 8, 9, 10, 11, 12, 13,...   \n",
       "\n",
       "                                       NextStatePerf  \\\n",
       "0  [tensor(454690.), tensor(1022230.), tensor(0.4...   \n",
       "1  [tensor(346001.), tensor(1099511.), tensor(0.5...   \n",
       "2  [tensor(328320.), tensor(1313364.), tensor(0.6...   \n",
       "3  [tensor(335620.), tensor(1357964.), tensor(0.6...   \n",
       "4  [tensor(526545.), tensor(1310733.), tensor(0.5...   \n",
       "\n",
       "                                   NextStatePrograml  \n",
       "0  (0, 1, 2, 3, 4, 5, 6, 7, 8, 9, 10, 11, 12, 13,...  \n",
       "1  (0, 1, 2, 3, 4, 5, 6, 7, 8, 9, 10, 11, 12, 13,...  \n",
       "2  (0, 1, 2, 3, 4, 5, 6, 7, 8, 9, 10, 11, 12, 13,...  \n",
       "3  (0, 1, 2, 3, 4, 5, 6, 7, 8, 9, 10, 11, 12, 13,...  \n",
       "4  (0, 1, 2, 3, 4, 5, 6, 7, 8, 9, 10, 11, 12, 13,...  "
      ]
     },
     "execution_count": 5,
     "metadata": {},
     "output_type": "execute_result"
    }
   ],
   "source": [
    "experience_dataset = CompilerGymDataset(df, device=device)\n",
    "experience_dataset.data.head()"
   ]
  },
  {
   "cell_type": "code",
   "execution_count": 6,
   "id": "fd8ac047",
   "metadata": {},
   "outputs": [],
   "source": [
    "model = GNNEncoder(\n",
    "    # Add one to the vocab size to accomodate for the out-of-vocab element.\n",
    "    node_vocab_size=len(experience_dataset.vocab['text']) + 1,\n",
    "    node_hidden_size=64,\n",
    ")"
   ]
  },
  {
   "cell_type": "code",
   "execution_count": 7,
   "id": "b06001f2",
   "metadata": {},
   "outputs": [],
   "source": [
    "import dgl\n",
    "import numpy as np\n",
    "import torch\n",
    "from dgl.data import DGLDataset"
   ]
  },
  {
   "cell_type": "code",
   "execution_count": 8,
   "id": "61ff09ef",
   "metadata": {},
   "outputs": [
    {
     "name": "stdout",
     "output_type": "stream",
     "text": [
      "Dataset training validation = 2, 8\n"
     ]
    }
   ],
   "source": [
    "test_size = len(df) // 5\n",
    "train_size = len(df) - test_size\n",
    "\n",
    "print(f'Dataset training validation = {test_size}, {train_size}')\n",
    "train_set, test_set = torch.utils.data.random_split(experience_dataset, [train_size, test_size])\n",
    "\n",
    "batch_size = 1\n",
    "trainLoad = DataLoader(train_set,batch_size=batch_size,shuffle=True, collate_fn=experience_dataset.collate_fn,)\n",
    "testLoad = DataLoader(test_set,batch_size=batch_size,shuffle=True, collate_fn=experience_dataset.collate_fn,)\n",
    "policy_net = model.to(device)\n",
    "target_net = model.to(device)\n",
    "\n",
    "target_net.load_state_dict(policy_net.state_dict())\n",
    "target_net.eval()\n",
    "criterion = nn.SmoothL1Loss()\n",
    "optimizer = optim.Adam(policy_net.parameters())\n",
    "train_losses = []\n",
    "test_losses = []\n",
    "num_epochs = 1\n",
    "test_every = 5\n",
    "gamma = 0.9"
   ]
  },
  {
   "cell_type": "code",
   "execution_count": 17,
   "id": "85798eb4",
   "metadata": {},
   "outputs": [
    {
     "name": "stderr",
     "output_type": "stream",
     "text": [
      "100%|██████████| 1/1 [00:00<00:00,  2.60it/s]\n"
     ]
    }
   ],
   "source": [
    "for epoch in tqdm(range(num_epochs)):\n",
    "    # loop_inner = tqdm(total=train_size//batch_size,position=0,leave=False)\n",
    "    policy_net.train()\n",
    "    for S, A, R, S_ in trainLoad:\n",
    "        # S, A, R, S_ = data\n",
    "\n",
    "        for S, A, R, S_ in zip(S, A, R, S_):\n",
    "            r = torch.sum(torch.mul(policy_net(S),A), 1)\n",
    "            r_hat = 1 + torch.max(target_net(S_), 1).values * gamma\n",
    "                    \n",
    "            loss = criterion(r,r_hat)\n",
    "\n",
    "            optimizer.zero_grad()\n",
    "            loss.backward()\n",
    "            optimizer.step()\n",
    "            \n",
    "            train_losses.append(loss.item())\n",
    "        #     loop_inner.set_description('epoch:{}, loss:{:.4f}'.format(epoch, loss.item()))\n",
    "        #     loop_inner.update(1)\n",
    "        # loop_inner.close()\n",
    "\n",
    "        if epoch % test_every == 0:\n",
    "            with torch.no_grad():\n",
    "                policy_net.eval()\n",
    "                for S,A,R,S_ in trainLoad:\n",
    "                    for S, A, R, S_ in zip(S, A, R, S_):\n",
    "\n",
    "                        r = torch.sum(torch.mul(policy_net(S),A),1)\n",
    "                        r_hat = R + torch.max(target_net(S_),1).values * gamma\n",
    "\n",
    "                        loss = criterion(r,r_hat)\n",
    "                        test_losses.append(loss.item())\n",
    "        target_net.load_state_dict(policy_net.state_dict())\n"
   ]
  },
  {
   "cell_type": "code",
   "execution_count": 18,
   "id": "258ba749",
   "metadata": {},
   "outputs": [
    {
     "data": {
      "text/plain": [
       "[<matplotlib.lines.Line2D at 0x7f6feaf3b1c0>]"
      ]
     },
     "execution_count": 18,
     "metadata": {},
     "output_type": "execute_result"
    },
    {
     "data": {
      "image/png": "[encoded data removed]",
      "text/plain": [
       "<Figure size 432x288 with 1 Axes>"
      ]
     },
     "metadata": {},
     "output_type": "display_data"
    }
   ],
   "source": [
    "plt.figure(facecolor='white')\n",
    "plt.plot(train_losses)"
   ]
  },
  {
   "cell_type": "code",
   "execution_count": 19,
   "id": "999ddd2c",
   "metadata": {},
   "outputs": [
    {
     "data": {
      "text/plain": [
       "[<matplotlib.lines.Line2D at 0x7f6feaf024f0>]"
      ]
     },
     "execution_count": 19,
     "metadata": {},
     "output_type": "execute_result"
    },
    {
     "data": {
      "image/png": "[encoded data removed]",
      "text/plain": [
       "<Figure size 432x288 with 1 Axes>"
      ]
     },
     "metadata": {},
     "output_type": "display_data"
    }
   ],
   "source": [
    "plt.figure(facecolor='white')\n",
    "plt.plot(test_losses)"
   ]
  },
  {
   "cell_type": "code",
   "execution_count": 20,
   "id": "3e73e2ad",
   "metadata": {},
   "outputs": [],
   "source": [
    "def get_action(state,network,epsilon):\n",
    "    p = random.random()\n",
    "    if p > epsilon:\n",
    "        with torch.no_grad():\n",
    "            return torch.max(network(state),1).indices[0].item()\n",
    "    else:\n",
    "        return random.randint(0,124)"
   ]
  },
  {
   "cell_type": "code",
   "execution_count": 21,
   "id": "024b9727",
   "metadata": {},
   "outputs": [
    {
     "data": {
      "text/plain": [
       "32"
      ]
     },
     "execution_count": 21,
     "metadata": {},
     "output_type": "execute_result"
    }
   ],
   "source": [
    "get_action(df['StatePrograml'].iloc[0],target_net,1)"
   ]
  },
  {
   "cell_type": "code",
   "execution_count": 22,
   "id": "14496513",
   "metadata": {},
   "outputs": [
    {
     "data": {
      "text/plain": [
       "<networkx.classes.multidigraph.MultiDiGraph at 0x7f701af76430>"
      ]
     },
     "execution_count": 22,
     "metadata": {},
     "output_type": "execute_result"
    }
   ],
   "source": [
    "df['StatePrograml'].iloc[0]"
   ]
  },
  {
   "cell_type": "code",
   "execution_count": 23,
   "id": "b74e0e6e",
   "metadata": {},
   "outputs": [
    {
     "data": {
      "text/plain": [
       "49"
      ]
     },
     "execution_count": 23,
     "metadata": {},
     "output_type": "execute_result"
    }
   ],
   "source": [
    "get_action(process_networkx_graph(df['StatePrograml'][0], experience_dataset.vocab), target_net,0)"
   ]
  },
  {
   "cell_type": "code",
   "execution_count": 24,
   "id": "de305372",
   "metadata": {},
   "outputs": [
    {
     "ename": "RuntimeError",
     "evalue": "Can't redefine method: forward on class: __torch__.model_gnn.GNNEncoder (of Python compilation unit at: 0x56461f1dee00)",
     "output_type": "error",
     "traceback": [
      "\u001b[0;31m---------------------------------------------------------------------------\u001b[0m",
      "\u001b[0;31mRuntimeError\u001b[0m                              Traceback (most recent call last)",
      "\u001b[0;32m/tmp/ipykernel_2508392/1660119674.py\u001b[0m in \u001b[0;36m<module>\u001b[0;34m\u001b[0m\n\u001b[1;32m      1\u001b[0m \u001b[0moutput_pt_path\u001b[0m \u001b[0;34m=\u001b[0m \u001b[0mdb_path\u001b[0m\u001b[0;34m.\u001b[0m\u001b[0mparent\u001b[0m\u001b[0;34m/\u001b[0m\u001b[0;34m'deep_q.pt'\u001b[0m\u001b[0;34m\u001b[0m\u001b[0;34m\u001b[0m\u001b[0m\n\u001b[0;32m----> 2\u001b[0;31m \u001b[0mmodel_scripted\u001b[0m \u001b[0;34m=\u001b[0m \u001b[0mtorch\u001b[0m\u001b[0;34m.\u001b[0m\u001b[0mjit\u001b[0m\u001b[0;34m.\u001b[0m\u001b[0mscript\u001b[0m\u001b[0;34m(\u001b[0m\u001b[0mtarget_net\u001b[0m\u001b[0;34m)\u001b[0m \u001b[0;31m# Export to TorchScript\u001b[0m\u001b[0;34m\u001b[0m\u001b[0;34m\u001b[0m\u001b[0m\n\u001b[0m\u001b[1;32m      3\u001b[0m \u001b[0mmodel_scripted\u001b[0m\u001b[0;34m.\u001b[0m\u001b[0msave\u001b[0m\u001b[0;34m(\u001b[0m\u001b[0moutput_pt_path\u001b[0m\u001b[0;34m)\u001b[0m \u001b[0;31m# Save\u001b[0m\u001b[0;34m\u001b[0m\u001b[0;34m\u001b[0m\u001b[0m\n\u001b[1;32m      4\u001b[0m \u001b[0;34m\u001b[0m\u001b[0m\n\u001b[1;32m      5\u001b[0m \u001b[0mprint\u001b[0m\u001b[0;34m(\u001b[0m\u001b[0;34mf\"Saved at: {output_pt_path}\"\u001b[0m\u001b[0;34m)\u001b[0m\u001b[0;34m\u001b[0m\u001b[0;34m\u001b[0m\u001b[0m\n",
      "\u001b[0;32m~/tools/miniconda3/lib/python3.8/site-packages/torch/jit/_script.py\u001b[0m in \u001b[0;36mscript\u001b[0;34m(obj, optimize, _frames_up, _rcb)\u001b[0m\n\u001b[1;32m   1094\u001b[0m     \u001b[0;32mif\u001b[0m \u001b[0misinstance\u001b[0m\u001b[0;34m(\u001b[0m\u001b[0mobj\u001b[0m\u001b[0;34m,\u001b[0m \u001b[0mtorch\u001b[0m\u001b[0;34m.\u001b[0m\u001b[0mnn\u001b[0m\u001b[0;34m.\u001b[0m\u001b[0mModule\u001b[0m\u001b[0;34m)\u001b[0m\u001b[0;34m:\u001b[0m\u001b[0;34m\u001b[0m\u001b[0;34m\u001b[0m\u001b[0m\n\u001b[1;32m   1095\u001b[0m         \u001b[0mobj\u001b[0m \u001b[0;34m=\u001b[0m \u001b[0mcall_prepare_scriptable_func\u001b[0m\u001b[0;34m(\u001b[0m\u001b[0mobj\u001b[0m\u001b[0;34m)\u001b[0m\u001b[0;34m\u001b[0m\u001b[0;34m\u001b[0m\u001b[0m\n\u001b[0;32m-> 1096\u001b[0;31m         return torch.jit._recursive.create_script_module(\n\u001b[0m\u001b[1;32m   1097\u001b[0m             \u001b[0mobj\u001b[0m\u001b[0;34m,\u001b[0m \u001b[0mtorch\u001b[0m\u001b[0;34m.\u001b[0m\u001b[0mjit\u001b[0m\u001b[0;34m.\u001b[0m\u001b[0m_recursive\u001b[0m\u001b[0;34m.\u001b[0m\u001b[0minfer_methods_to_compile\u001b[0m\u001b[0;34m\u001b[0m\u001b[0;34m\u001b[0m\u001b[0m\n\u001b[1;32m   1098\u001b[0m         )\n",
      "\u001b[0;32m~/tools/miniconda3/lib/python3.8/site-packages/torch/jit/_recursive.py\u001b[0m in \u001b[0;36mcreate_script_module\u001b[0;34m(nn_module, stubs_fn, share_types)\u001b[0m\n\u001b[1;32m    410\u001b[0m     \u001b[0mconcrete_type\u001b[0m \u001b[0;34m=\u001b[0m \u001b[0mget_module_concrete_type\u001b[0m\u001b[0;34m(\u001b[0m\u001b[0mnn_module\u001b[0m\u001b[0;34m,\u001b[0m \u001b[0mshare_types\u001b[0m\u001b[0;34m)\u001b[0m\u001b[0;34m\u001b[0m\u001b[0;34m\u001b[0m\u001b[0m\n\u001b[1;32m    411\u001b[0m     \u001b[0mAttributeTypeIsSupportedChecker\u001b[0m\u001b[0;34m(\u001b[0m\u001b[0;34m)\u001b[0m\u001b[0;34m.\u001b[0m\u001b[0mcheck\u001b[0m\u001b[0;34m(\u001b[0m\u001b[0mnn_module\u001b[0m\u001b[0;34m)\u001b[0m\u001b[0;34m\u001b[0m\u001b[0;34m\u001b[0m\u001b[0m\n\u001b[0;32m--> 412\u001b[0;31m     \u001b[0;32mreturn\u001b[0m \u001b[0mcreate_script_module_impl\u001b[0m\u001b[0;34m(\u001b[0m\u001b[0mnn_module\u001b[0m\u001b[0;34m,\u001b[0m \u001b[0mconcrete_type\u001b[0m\u001b[0;34m,\u001b[0m \u001b[0mstubs_fn\u001b[0m\u001b[0;34m)\u001b[0m\u001b[0;34m\u001b[0m\u001b[0;34m\u001b[0m\u001b[0m\n\u001b[0m\u001b[1;32m    413\u001b[0m \u001b[0;34m\u001b[0m\u001b[0m\n\u001b[1;32m    414\u001b[0m \u001b[0;32mdef\u001b[0m \u001b[0mcreate_script_module_impl\u001b[0m\u001b[0;34m(\u001b[0m\u001b[0mnn_module\u001b[0m\u001b[0;34m,\u001b[0m \u001b[0mconcrete_type\u001b[0m\u001b[0;34m,\u001b[0m \u001b[0mstubs_fn\u001b[0m\u001b[0;34m)\u001b[0m\u001b[0;34m:\u001b[0m\u001b[0;34m\u001b[0m\u001b[0;34m\u001b[0m\u001b[0m\n",
      "\u001b[0;32m~/tools/miniconda3/lib/python3.8/site-packages/torch/jit/_recursive.py\u001b[0m in \u001b[0;36mcreate_script_module_impl\u001b[0;34m(nn_module, concrete_type, stubs_fn)\u001b[0m\n\u001b[1;32m    476\u001b[0m     \u001b[0;31m# Compile methods if necessary\u001b[0m\u001b[0;34m\u001b[0m\u001b[0;34m\u001b[0m\u001b[0;34m\u001b[0m\u001b[0m\n\u001b[1;32m    477\u001b[0m     \u001b[0;32mif\u001b[0m \u001b[0mconcrete_type\u001b[0m \u001b[0;32mnot\u001b[0m \u001b[0;32min\u001b[0m \u001b[0mconcrete_type_store\u001b[0m\u001b[0;34m.\u001b[0m\u001b[0mmethods_compiled\u001b[0m\u001b[0;34m:\u001b[0m\u001b[0;34m\u001b[0m\u001b[0;34m\u001b[0m\u001b[0m\n\u001b[0;32m--> 478\u001b[0;31m         \u001b[0mcreate_methods_and_properties_from_stubs\u001b[0m\u001b[0;34m(\u001b[0m\u001b[0mconcrete_type\u001b[0m\u001b[0;34m,\u001b[0m \u001b[0mmethod_stubs\u001b[0m\u001b[0;34m,\u001b[0m \u001b[0mproperty_stubs\u001b[0m\u001b[0;34m)\u001b[0m\u001b[0;34m\u001b[0m\u001b[0;34m\u001b[0m\u001b[0m\n\u001b[0m\u001b[1;32m    479\u001b[0m         \u001b[0;31m# Create hooks after methods to ensure no name collisions between hooks and methods.\u001b[0m\u001b[0;34m\u001b[0m\u001b[0;34m\u001b[0m\u001b[0;34m\u001b[0m\u001b[0m\n\u001b[1;32m    480\u001b[0m         \u001b[0;31m# If done before, hooks can overshadow methods that aren't exported.\u001b[0m\u001b[0;34m\u001b[0m\u001b[0;34m\u001b[0m\u001b[0;34m\u001b[0m\u001b[0m\n",
      "\u001b[0;32m~/tools/miniconda3/lib/python3.8/site-packages/torch/jit/_recursive.py\u001b[0m in \u001b[0;36mcreate_methods_and_properties_from_stubs\u001b[0;34m(concrete_type, method_stubs, property_stubs)\u001b[0m\n\u001b[1;32m    353\u001b[0m     \u001b[0mproperty_rcbs\u001b[0m \u001b[0;34m=\u001b[0m \u001b[0;34m[\u001b[0m\u001b[0mp\u001b[0m\u001b[0;34m.\u001b[0m\u001b[0mresolution_callback\u001b[0m \u001b[0;32mfor\u001b[0m \u001b[0mp\u001b[0m \u001b[0;32min\u001b[0m \u001b[0mproperty_stubs\u001b[0m\u001b[0;34m]\u001b[0m\u001b[0;34m\u001b[0m\u001b[0;34m\u001b[0m\u001b[0m\n\u001b[1;32m    354\u001b[0m \u001b[0;34m\u001b[0m\u001b[0m\n\u001b[0;32m--> 355\u001b[0;31m     \u001b[0mconcrete_type\u001b[0m\u001b[0;34m.\u001b[0m\u001b[0m_create_methods_and_properties\u001b[0m\u001b[0;34m(\u001b[0m\u001b[0mproperty_defs\u001b[0m\u001b[0;34m,\u001b[0m \u001b[0mproperty_rcbs\u001b[0m\u001b[0;34m,\u001b[0m \u001b[0mmethod_defs\u001b[0m\u001b[0;34m,\u001b[0m \u001b[0mmethod_rcbs\u001b[0m\u001b[0;34m,\u001b[0m \u001b[0mmethod_defaults\u001b[0m\u001b[0;34m)\u001b[0m\u001b[0;34m\u001b[0m\u001b[0;34m\u001b[0m\u001b[0m\n\u001b[0m\u001b[1;32m    356\u001b[0m \u001b[0;34m\u001b[0m\u001b[0m\n\u001b[1;32m    357\u001b[0m \u001b[0;32mdef\u001b[0m \u001b[0mcreate_hooks_from_stubs\u001b[0m\u001b[0;34m(\u001b[0m\u001b[0mconcrete_type\u001b[0m\u001b[0;34m,\u001b[0m \u001b[0mhook_stubs\u001b[0m\u001b[0;34m,\u001b[0m \u001b[0mpre_hook_stubs\u001b[0m\u001b[0;34m)\u001b[0m\u001b[0;34m:\u001b[0m\u001b[0;34m\u001b[0m\u001b[0;34m\u001b[0m\u001b[0m\n",
      "\u001b[0;31mRuntimeError\u001b[0m: Can't redefine method: forward on class: __torch__.model_gnn.GNNEncoder (of Python compilation unit at: 0x56461f1dee00)"
     ]
    }
   ],
   "source": [
    "\n",
    "output_pt_path = db_path.parent/'deep_q.pt'\n",
    "model_scripted = torch.jit.script(target_net) # Export to TorchScript\n",
    "model_scripted.save(output_pt_path) # Save\n",
    "\n",
    "print(f\"Saved at: {output_pt_path}\")"
   ]
  },
  {
   "cell_type": "code",
   "execution_count": null,
   "id": "9c2fdab4",
   "metadata": {},
   "outputs": [],
   "source": []
  }
 ],
 "metadata": {
  "kernelspec": {
   "display_name": "Python 3",
   "language": "python",
   "name": "python3"
  },
  "language_info": {
   "codemirror_mode": {
    "name": "ipython",
    "version": 3
   },
   "file_extension": ".py",
   "mimetype": "text/x-python",
   "name": "python",
   "nbconvert_exporter": "python",
   "pygments_lexer": "ipython3",
   "version": "3.8.10"
  }
 },
 "nbformat": 4,
 "nbformat_minor": 5
}
