{
 "cells": [
  {
   "cell_type": "markdown",
   "metadata": {
    "id": "_BoKmYo6oUci"
   },
   "source": [
    "License\n",
    "\n",
    "```\n",
    "Copyright (c) Facebook, Inc. and its affiliates.\n",
    "\n",
    "This source code is licensed under the MIT license found in the\n",
    "LICENSE file in the root directory of this source tree.\n",
    "```"
   ]
  },
  {
   "cell_type": "markdown",
   "metadata": {
    "id": "gsrdt9HooN9K"
   },
   "source": [
    "# Using CompilerGym environments with RLlib\n",
    "\n",
    "In this notebook we will use [RLlib](https://docs.ray.io/en/master/rllib.html) to train an agent for CompilerGym's [LLVM environment](https://facebookresearch.github.io/CompilerGym/llvm/index.html). RLlib is a popular library for scalable reinforcement learning, built on [Ray](https://docs.ray.io/en/master/index.html). It provides distributed implementations of several standard reinforcement learning algorithms.\n",
    "\n",
    "Our goal is not to produce the best agent, but to demonstrate how to integrate CompilerGym with RLlib. It will take about 20 minutes to work through. Let's get started!"
   ]
  },
  {
   "cell_type": "markdown",
   "metadata": {
    "id": "W8CSxbx5ovuF"
   },
   "source": [
    "## Installation\n",
    "\n",
    "We'll begin by installing the `compiler_gym` and `ray` packages:"
   ]
  },
  {
   "cell_type": "code",
   "execution_count": 12,
   "metadata": {
    "colab": {
     "base_uri": "https://localhost:8080/"
    },
    "id": "cT3QDtxbf3Cr",
    "outputId": "399fced8-ec0c-4745-cf29-74dac40429f4"
   },
   "outputs": [
    {
     "name": "stdout",
     "output_type": "stream",
     "text": [
      "compiler_gym version: 0.2.3\n",
      "ray version: 1.9.0\n"
     ]
    }
   ],
   "source": [
    "!pip install compiler_gym 'ray[default,rllib]' &>/dev/null || echo \"Install failed!\"\n",
    "\n",
    "# Print the versions of the libraries that we are using:\n",
    "import compiler_gym\n",
    "import ray\n",
    "\n",
    "print(\"compiler_gym version:\", compiler_gym.__version__)\n",
    "print(\"ray version:\", ray.__version__)"
   ]
  },
  {
   "cell_type": "markdown",
   "metadata": {
    "id": "5Y2bt7GttpQ3"
   },
   "source": [
    "## Defining an Environment\n",
    "\n",
    "Next we will define the environment to use for our experiments. For the purposes of a simple demo we will apply two simplifying constraints to CompilerGym's LLVM environment:\n",
    "\n",
    "1. We will use only a small subset of the command line flag action space.\n",
    "2. We will clip the length of episodes to a maximum number of steps.\n",
    "\n",
    "To make things simple we will define a `make_env()` helper function to create our environment, and use the [compiler_gym.wrappers](https://facebookresearch.github.io/CompilerGym/compiler_gym/wrappers.html) API to implement these constraints. There is quite a lot going on in this cell, be sure to read through the comments for an explanation of what is going on!"
   ]
  },
  {
   "cell_type": "code",
   "execution_count": 13,
   "metadata": {},
   "outputs": [
    {
     "data": {
      "text/plain": [
       "'/home/dx4/tools/compiler2'"
      ]
     },
     "execution_count": 13,
     "metadata": {},
     "output_type": "execute_result"
    }
   ],
   "source": [
    "import sys\n",
    "import os\n",
    "os.environ.setdefault(\"COMPILER2_ROOT\", \"/home/dx4/tools/compiler2\")\n",
    "\n"
   ]
  },
  {
   "cell_type": "code",
   "execution_count": 14,
   "metadata": {},
   "outputs": [],
   "source": [
    "from compiler_gym.spaces import Reward\n",
    "from compiler_gym.third_party import llvm\n",
    "from compiler_gym.util.logging import init_logging\n",
    "from compiler_gym.util.registration import register\n",
    "from compiler_gym.util.runfiles_path import runfiles_path, site_data_path\n",
    "from compiler_gym.service.connection import ServiceError\n",
    "import compiler2_service.paths"
   ]
  },
  {
   "cell_type": "code",
   "execution_count": 15,
   "metadata": {},
   "outputs": [],
   "source": [
    "from compiler_gym.envs.llvm.datasets import (\n",
    "    AnghaBenchDataset,\n",
    "    BlasDataset,\n",
    "    CBenchDataset,\n",
    "    CBenchLegacyDataset,\n",
    "    CBenchLegacyDataset2,\n",
    "    CHStoneDataset,\n",
    "    CsmithDataset,\n",
    "    NPBDataset,\n",
    ")\n",
    "\n",
    "import compiler2_service\n",
    "from compiler2_service.agent_py.rewards import perf_reward, runtime_reward\n",
    "from compiler2_service.agent_py.datasets import poj104, hpctoolkit_dataset\n",
    "\n",
    "\n",
    "def register_env():\n",
    "    register(\n",
    "        id=\"compiler2-v0\",\n",
    "        entry_point=compiler2_service.HPCToolkitCompilerEnv,\n",
    "        kwargs={\n",
    "            \"service\": compiler2_service.paths.COMPILER2_SERVICE_PY,\n",
    "            \"rewards\": [ perf_reward.RewardTensor(),\n",
    "                         runtime_reward.RewardTensor()\n",
    "            ],\n",
    "            \"datasets\": [\n",
    "                hpctoolkit_dataset.Dataset(),\n",
    "                CBenchDataset(site_data_path(\"llvm-v0\")),\n",
    "                CsmithDataset(site_data_path(\"llvm-v0\"), sort_order=0),\n",
    "                NPBDataset(site_data_path(\"llvm-v0\"), sort_order=0),\n",
    "                BlasDataset(site_data_path(\"llvm-v0\"), sort_order=0),\n",
    "                AnghaBenchDataset(site_data_path(\"llvm-v0\"), sort_order=0),\n",
    "                CHStoneDataset(site_data_path(\"llvm-v0\"), sort_order=0),\n",
    "            ],\n",
    "        },\n",
    "    )\n",
    "\n",
    "# register_env()"
   ]
  },
  {
   "cell_type": "code",
   "execution_count": 16,
   "metadata": {},
   "outputs": [],
   "source": [
    "from compiler_gym.wrappers import ConstrainedCommandline, TimeLimit\n",
    "from ray import tune\n",
    "def make_env() -> compiler_gym.envs.CompilerEnv:\n",
    "    \"\"\"Make the reinforcement learning environment for this experiment.\"\"\"\n",
    "    # We will use LLVM as our base environment. Here we specify the observation\n",
    "    # space from this paper: https://arxiv.org/pdf/2003.00671.pdf and the total\n",
    "    # IR instruction count as our reward space, normalized against the\n",
    "    # performance of LLVM's -Oz policy.\n",
    "    \n",
    "    # env = compiler_gym.make(\n",
    "    #     \"llvm-v0\",\n",
    "    #     observation_space=\"Autophase\",\n",
    "    #     reward_space=\"IrInstructionCountOz\",\n",
    "    # )\n",
    "\n",
    "    # env = compiler_gym.make(\n",
    "    #     \"compiler2-v0\",\n",
    "    #     observation_space=\"runtime\",\n",
    "    #     reward_space=\"runtime\"\n",
    "    # )\n",
    "    \n",
    "    env = compiler2_service.make(\n",
    "        \"compiler2-v0\",\n",
    "        observation_space=\"perf\",\n",
    "        reward_space=\"perf\"\n",
    "    )\n",
    "\n",
    "    # Here we constrain the action space of the environment to use only a\n",
    "    # handful of command line flags from the full set. We do this to speed up\n",
    "    # learning by pruning the action space by hand. This also limits the\n",
    "    # potential improvements that the agent can achieve compared to using the\n",
    "    # full action space.\n",
    "    # env = ConstrainedCommandline(env, flags=[\n",
    "    #     \"-break-crit-edges\",\n",
    "    #     \"-early-cse-memssa\",\n",
    "    #     \"-gvn-hoist\",\n",
    "    #     \"-gvn\",\n",
    "    #     \"-instcombine\",\n",
    "    #     \"-instsimplify\",\n",
    "    #     \"-jump-threading\",\n",
    "    #     \"-loop-reduce\",\n",
    "    #     \"-loop-rotate\",\n",
    "    #     \"-loop-versioning\",\n",
    "    #     \"-mem2reg\",\n",
    "    #     \"-newgvn\",\n",
    "    #     \"-reg2mem\",\n",
    "    #     \"-simplifycfg\",\n",
    "    #     \"-sroa\",\n",
    "    # ])\n",
    "    # Finally, we impose a time limit on the environment so that every episode\n",
    "    # for 5 steps or fewer. This is because the environment's task is continuous\n",
    "    # and no action is guaranteed to result in a terminal state. Adding a time\n",
    "    # limit means we don't have to worry about learning when an agent should\n",
    "    # stop, though again this limits the potential improvements that the agent\n",
    "    # can achieve compared to using an unbounded maximum episode length.\n",
    "    env = TimeLimit(env, max_episode_steps=5)\n",
    "    return env"
   ]
  },
  {
   "cell_type": "code",
   "execution_count": 17,
   "metadata": {
    "colab": {
     "base_uri": "https://localhost:8080/"
    },
    "id": "Eg84RXsDt5ey",
    "outputId": "8d1fa820-348e-400e-de6c-0a6d9a14d9bb"
   },
   "outputs": [
    {
     "name": "stdout",
     "output_type": "stream",
     "text": [
      "What is the path /home/dx4/tools/compiler2/compiler2_service/service_py/example_service.py\n",
      "Is that file:  True\n"
     ]
    },
    {
     "name": "stderr",
     "output_type": "stream",
     "text": [
      "/home/dx4/.local/share/compiler_gym/llvm-v0/bin/clang: /lib64/libtinfo.so.5: no version information available (required by /home/dx4/.local/share/compiler_gym/llvm-v0/bin/clang)\n",
      "/home/dx4/.local/share/compiler_gym/llvm-v0/bin/clang: /lib64/libtinfo.so.5: no version information available (required by /home/dx4/.local/share/compiler_gym/llvm-v0/bin/clang)\n",
      "/home/dx4/.local/share/compiler_gym/llvm-v0/bin/clang: /lib64/libtinfo.so.5: no version information available (required by /home/dx4/.local/share/compiler_gym/llvm-v0/bin/clang)\n",
      "/home/dx4/.local/share/compiler_gym/llvm-v0/bin/clang: /lib64/libtinfo.so.5: no version information available (required by /home/dx4/.local/share/compiler_gym/llvm-v0/bin/clang)\n",
      "/home/dx4/.local/share/compiler_gym/llvm-v0/bin/clang: /lib64/libtinfo.so.5: no version information available (required by /home/dx4/.local/share/compiler_gym/llvm-v0/bin/clang)\n",
      "/home/dx4/.local/share/compiler_gym/llvm-v0/bin/clang: /lib64/libtinfo.so.5: no version information available (required by /home/dx4/.local/share/compiler_gym/llvm-v0/bin/clang)\n",
      "/home/dx4/.local/share/compiler_gym/llvm-v0/bin/clang: /lib64/libtinfo.so.5: no version information available (required by /home/dx4/.local/share/compiler_gym/llvm-v0/bin/clang)\n",
      "/home/dx4/.local/share/compiler_gym/llvm-v0/bin/clang: /lib64/libtinfo.so.5: no version information available (required by /home/dx4/.local/share/compiler_gym/llvm-v0/bin/clang)\n",
      "Using backend: pytorch\n",
      "./compiler_gym-llvm-service: /lib64/libtinfo.so.5: no version information available (required by ./compiler_gym-llvm-service)\n"
     ]
    },
    {
     "name": "stdout",
     "output_type": "stream",
     "text": [
      "Action space: Commandline([-add-discriminators -adce -aggressive-instcombine -alignment-from-assumptions -always-inline -argpromotion -attributor -barrier -bdce -break-crit-edges -simplifycfg -callsite-splitting -called-value-propagation -canonicalize-aliases -consthoist -constmerge -constprop -coro-cleanup -coro-early -coro-elide -coro-split -correlated-propagation -cross-dso-cfi -deadargelim -dce -die -dse -reg2mem -div-rem-pairs -early-cse-memssa -early-cse -elim-avail-extern -ee-instrument -flattencfg -float2int -forceattrs -inline -insert-gcov-profiling -gvn-hoist -gvn -globaldce -globalopt -globalsplit -guard-widening -hotcoldsplit -ipconstprop -ipsccp -indvars -irce -infer-address-spaces -inferattrs -inject-tli-mappings -instsimplify -instcombine -instnamer -jump-threading -lcssa -licm -libcalls-shrinkwrap -load-store-vectorizer -loop-data-prefetch -loop-deletion -loop-distribute -loop-fusion -loop-guard-widening -loop-idiom -loop-instsimplify -loop-interchange -loop-load-elim -loop-predication -loop-reroll -loop-rotate -loop-simplifycfg -loop-simplify -loop-sink -loop-reduce -loop-unroll-and-jam -loop-unroll -loop-unswitch -loop-vectorize -loop-versioning-licm -loop-versioning -loweratomic -lower-constant-intrinsics -lower-expect -lower-guard-intrinsic -lowerinvoke -lower-matrix-intrinsics -lowerswitch -lower-widenable-condition -memcpyopt -mergefunc -mergeicmps -mldst-motion -sancov -name-anon-globals -nary-reassociate -newgvn -pgo-memop-opt -partial-inliner -partially-inline-libcalls -post-inline-ee-instrument -functionattrs -mem2reg -prune-eh -reassociate -redundant-dbg-inst-elim -rpo-functionattrs -rewrite-statepoints-for-gc -sccp -slp-vectorizer -sroa -scalarizer -separate-const-offset-from-gep -simple-loop-unswitch -sink -speculative-execution -slsr -strip-dead-prototypes -strip-debug-declare -strip-nondebug -strip -tailcallelim -mergereturn])\n",
      "Observation space: Box([[0. 0.]], [[inf inf]], (1, 2), float64)\n",
      "Reward space: perf\n"
     ]
    }
   ],
   "source": [
    "# Let's create an environment and print a few attributes just to check that we \n",
    "# have everything set up the way that we would like.\n",
    "with make_env() as env:\n",
    "    print(\"Action space:\", env.action_space)\n",
    "    print(\"Observation space:\", env.observation_space)\n",
    "    print(\"Reward space:\", env.reward_space)"
   ]
  },
  {
   "cell_type": "markdown",
   "metadata": {
    "id": "39k80F8itTT_"
   },
   "source": [
    "## Datasets\n",
    "\n",
    "Now that we have an environment, we will need a set of programs to train on. In CompilerGym, these programs are called *benchmarks*. CompilerGym ships with [several sets of benchmarks](https://facebookresearch.github.io/CompilerGym/llvm/index.html#datasets). Here we will take a handful of benchmarks from the `npb-v0` dataset for training. We will then further divide this set into training and validation sets. We will use `chstone-v0` as a holdout test set."
   ]
  },
  {
   "cell_type": "code",
   "execution_count": 18,
   "metadata": {
    "colab": {
     "base_uri": "https://localhost:8080/"
    },
    "id": "IV6-adNIhoGS",
    "outputId": "23afc569-58d1-443a-a4a7-e72b703152cc"
   },
   "outputs": [
    {
     "name": "stdout",
     "output_type": "stream",
     "text": [
      "What is the path /home/dx4/tools/compiler2/compiler2_service/service_py/example_service.py\n",
      "Is that file:  True\n"
     ]
    },
    {
     "name": "stderr",
     "output_type": "stream",
     "text": [
      "/home/dx4/.local/share/compiler_gym/llvm-v0/bin/clang: /lib64/libtinfo.so.5: no version information available (required by /home/dx4/.local/share/compiler_gym/llvm-v0/bin/clang)\n",
      "/home/dx4/.local/share/compiler_gym/llvm-v0/bin/clang: /lib64/libtinfo.so.5: no version information available (required by /home/dx4/.local/share/compiler_gym/llvm-v0/bin/clang)\n",
      "/home/dx4/.local/share/compiler_gym/llvm-v0/bin/clang: /lib64/libtinfo.so.5: no version information available (required by /home/dx4/.local/share/compiler_gym/llvm-v0/bin/clang)\n",
      "/home/dx4/.local/share/compiler_gym/llvm-v0/bin/clang: /lib64/libtinfo.so.5: no version information available (required by /home/dx4/.local/share/compiler_gym/llvm-v0/bin/clang)\n",
      "/home/dx4/.local/share/compiler_gym/llvm-v0/bin/clang: /lib64/libtinfo.so.5: no version information available (required by /home/dx4/.local/share/compiler_gym/llvm-v0/bin/clang)\n",
      "/home/dx4/.local/share/compiler_gym/llvm-v0/bin/clang: /lib64/libtinfo.so.5: no version information available (required by /home/dx4/.local/share/compiler_gym/llvm-v0/bin/clang)\n",
      "/home/dx4/.local/share/compiler_gym/llvm-v0/bin/clang: /lib64/libtinfo.so.5: no version information available (required by /home/dx4/.local/share/compiler_gym/llvm-v0/bin/clang)\n",
      "/home/dx4/.local/share/compiler_gym/llvm-v0/bin/clang: /lib64/libtinfo.so.5: no version information available (required by /home/dx4/.local/share/compiler_gym/llvm-v0/bin/clang)\n",
      "Using backend: pytorch\n",
      "./compiler_gym-llvm-service: /lib64/libtinfo.so.5: no version information available (required by ./compiler_gym-llvm-service)\n"
     ]
    },
    {
     "name": "stdout",
     "output_type": "stream",
     "text": [
      "Number of benchmarks for training: 2\n",
      "Number of benchmarks for validation: 2\n",
      "Number of benchmarks for testing: 4\n"
     ]
    }
   ],
   "source": [
    "from itertools import islice\n",
    "\n",
    "with make_env() as env:\n",
    "  # The two datasets we will be using:\n",
    "  hpc_bench = env.datasets[\"benchmark://hpctoolkit-cpu-v0\"]\n",
    "  chstone = env.datasets[\"chstone-v0\"]\n",
    "\n",
    "  # Each dataset has a `benchmarks()` method that returns an iterator over the\n",
    "  # benchmarks within the dataset. Here we will use iterator sliceing to grab a \n",
    "  # handful of benchmarks for training and validation.\n",
    "  train_benchmarks = list(islice(hpc_bench.benchmarks(), 4))\n",
    "  train_benchmarks, val_benchmarks = train_benchmarks[:2], train_benchmarks[2:]\n",
    "  # We will use the entire chstone-v0 dataset for testing.\n",
    "  test_benchmarks = list(hpc_bench.benchmarks())\n",
    "\n",
    "print(\"Number of benchmarks for training:\", len(train_benchmarks))\n",
    "print(\"Number of benchmarks for validation:\", len(val_benchmarks))\n",
    "print(\"Number of benchmarks for testing:\", len(test_benchmarks))"
   ]
  },
  {
   "cell_type": "markdown",
   "metadata": {
    "id": "ZW0sfMhjv8Kg"
   },
   "source": [
    "## Registering the environment with RLlib\n",
    "\n",
    "Now that we have our environment and training benchmarks, we can register the environment for use with RLlib. To do this we will define a second `make_training_env()` helper that uses the [CycleOverBenchmarks](https://facebookresearch.github.io/CompilerGym/compiler_gym/wrappers.html#compiler_gym.wrappers.CycleOverBenchmarks) wrapper to ensure that the environment uses all of the training benchmarks. We then call `tune.register_env()`, assining the environment a name."
   ]
  },
  {
   "cell_type": "code",
   "execution_count": 19,
   "metadata": {
    "id": "-UgFKvTkv64L"
   },
   "outputs": [],
   "source": [
    "from compiler_gym.wrappers import CycleOverBenchmarks\n",
    "\n",
    "def make_training_env(*args) -> compiler_gym.envs.CompilerEnv:\n",
    "  \"\"\"Make a reinforcement learning environment that cycles over the\n",
    "  set of training benchmarks in use.\n",
    "  \"\"\"\n",
    "  del args  # Unused env_config argument passed by ray\n",
    "  return CycleOverBenchmarks(make_env(), train_benchmarks)\n",
    "\n",
    "tune.register_env(\"compiler_gym\", make_training_env)"
   ]
  },
  {
   "cell_type": "code",
   "execution_count": 20,
   "metadata": {
    "colab": {
     "base_uri": "https://localhost:8080/"
    },
    "id": "6CVCAIrpyKa4",
    "outputId": "76537a51-91e7-46c5-ab7c-e71122be04c6"
   },
   "outputs": [
    {
     "name": "stdout",
     "output_type": "stream",
     "text": [
      "What is the path /home/dx4/tools/compiler2/compiler2_service/service_py/example_service.py\n",
      "Is that file:  True\n"
     ]
    },
    {
     "name": "stderr",
     "output_type": "stream",
     "text": [
      "/home/dx4/.local/share/compiler_gym/llvm-v0/bin/clang: /lib64/libtinfo.so.5: no version information available (required by /home/dx4/.local/share/compiler_gym/llvm-v0/bin/clang)\n",
      "/home/dx4/.local/share/compiler_gym/llvm-v0/bin/clang: /lib64/libtinfo.so.5: no version information available (required by /home/dx4/.local/share/compiler_gym/llvm-v0/bin/clang)\n",
      "/home/dx4/.local/share/compiler_gym/llvm-v0/bin/clang: /lib64/libtinfo.so.5: no version information available (required by /home/dx4/.local/share/compiler_gym/llvm-v0/bin/clang)\n",
      "/home/dx4/.local/share/compiler_gym/llvm-v0/bin/clang: /lib64/libtinfo.so.5: no version information available (required by /home/dx4/.local/share/compiler_gym/llvm-v0/bin/clang)\n",
      "/home/dx4/.local/share/compiler_gym/llvm-v0/bin/clang: /lib64/libtinfo.so.5: no version information available (required by /home/dx4/.local/share/compiler_gym/llvm-v0/bin/clang)\n",
      "/home/dx4/.local/share/compiler_gym/llvm-v0/bin/clang: /lib64/libtinfo.so.5: no version information available (required by /home/dx4/.local/share/compiler_gym/llvm-v0/bin/clang)\n",
      "/home/dx4/.local/share/compiler_gym/llvm-v0/bin/clang: /lib64/libtinfo.so.5: no version information available (required by /home/dx4/.local/share/compiler_gym/llvm-v0/bin/clang)\n",
      "/home/dx4/.local/share/compiler_gym/llvm-v0/bin/clang: /lib64/libtinfo.so.5: no version information available (required by /home/dx4/.local/share/compiler_gym/llvm-v0/bin/clang)\n",
      "Using backend: pytorch\n",
      "./compiler_gym-llvm-service: /lib64/libtinfo.so.5: no version information available (required by ./compiler_gym-llvm-service)\n"
     ]
    },
    {
     "name": "stdout",
     "output_type": "stream",
     "text": [
      "\n",
      " /dev/shm/compiler_gym_dx4/s/0406T133423-665847-0b5f \n",
      "\n",
      "source_filename = \"/dev/shm/compiler_gym_dx4/s/0406T133423-665847-0b5f/benchmark.c\"\n",
      "\n",
      "\n",
      " compile: \n",
      "/home/dx4/.local/share/compiler_gym/llvm-v0/bin/opt --debugify -o /dev/shm/compiler_gym_dx4/s/0406T133423-665847-0b5f/benchmark.bc /dev/shm/compiler_gym_dx4/s/0406T133423-665847-0b5f/benchmark.ll\n",
      "/home/dx4/.local/share/compiler_gym/llvm-v0/bin/clang /dev/shm/compiler_gym_dx4/s/0406T133423-665847-0b5f/benchmark.bc -lm -o /dev/shm/compiler_gym_dx4/s/0406T133423-665847-0b5f/benchmark.exe\n",
      "/home/dx4/.local/share/compiler_gym/llvm-v0/bin/llvm-dis -o /dev/shm/compiler_gym_dx4/s/0406T133423-665847-0b5f/benchmark_new.ll /dev/shm/compiler_gym_dx4/s/0406T133423-665847-0b5f/benchmark.bc\n",
      "\n",
      "\n",
      "\n",
      " pre_run_cmd: \n",
      "[]\n",
      "\n",
      "\n",
      "\n",
      " run_cmd: \n",
      "/dev/shm/compiler_gym_dx4/s/0406T133423-665847-0b5f/benchmark.exe\n",
      "\n",
      "\n",
      "hackkk: -O0\n",
      "perf\n",
      "Reward Runtime: reset\n",
      "runtime_tensor\n",
      "real 1.08\n",
      "user 1.07\n",
      "sys 0.00\n",
      "\n",
      "real 1.09\n",
      "user 1.08\n",
      "sys 0.00\n",
      "\n",
      "real 1.08\n",
      "user 1.07\n",
      "sys 0.00\n",
      "\n",
      "real 1.09\n",
      "user 1.09\n",
      "sys 0.00\n",
      "\n",
      "real 1.07\n",
      "user 1.07\n",
      "sys 0.00\n",
      "\n",
      "benchmark://hpctoolkit-cpu-v0/conv2d\n",
      "\n",
      " /dev/shm/compiler_gym_dx4/s/0406T133423-665847-0b5f \n",
      "\n",
      "source_filename = \"/dev/shm/compiler_gym_dx4/s/0406T133423-665847-0b5f/benchmark.c\"\n",
      "\n",
      "\n",
      " compile: \n",
      "/home/dx4/.local/share/compiler_gym/llvm-v0/bin/opt --debugify -o /dev/shm/compiler_gym_dx4/s/0406T133423-665847-0b5f/benchmark.bc /dev/shm/compiler_gym_dx4/s/0406T133423-665847-0b5f/benchmark.ll\n",
      "/home/dx4/.local/share/compiler_gym/llvm-v0/bin/clang /dev/shm/compiler_gym_dx4/s/0406T133423-665847-0b5f/benchmark.bc -lm -o /dev/shm/compiler_gym_dx4/s/0406T133423-665847-0b5f/benchmark.exe\n",
      "/home/dx4/.local/share/compiler_gym/llvm-v0/bin/llvm-dis -o /dev/shm/compiler_gym_dx4/s/0406T133423-665847-0b5f/benchmark_new.ll /dev/shm/compiler_gym_dx4/s/0406T133423-665847-0b5f/benchmark.bc\n",
      "\n",
      "\n",
      "\n",
      " pre_run_cmd: \n",
      "[]\n",
      "\n",
      "\n",
      "\n",
      " run_cmd: \n",
      "/dev/shm/compiler_gym_dx4/s/0406T133423-665847-0b5f/benchmark.exe\n",
      "\n",
      "\n",
      "hackkk: -O0\n",
      "perf\n",
      "Reward Runtime: reset\n",
      "runtime_tensor\n",
      "real 0.34\n",
      "user 0.33\n",
      "sys 0.00\n",
      "\n",
      "real 0.33\n",
      "user 0.33\n",
      "sys 0.00\n",
      "\n",
      "real 0.33\n",
      "user 0.33\n",
      "sys 0.00\n",
      "\n",
      "real 0.34\n",
      "user 0.33\n",
      "sys 0.00\n",
      "\n",
      "real 0.33\n",
      "user 0.33\n",
      "sys 0.00\n",
      "\n",
      "benchmark://hpctoolkit-cpu-v0/offsets1\n",
      "\n",
      " /dev/shm/compiler_gym_dx4/s/0406T133423-665847-0b5f \n",
      "\n",
      "source_filename = \"/dev/shm/compiler_gym_dx4/s/0406T133423-665847-0b5f/benchmark.c\"\n",
      "\n",
      "\n",
      " compile: \n",
      "/home/dx4/.local/share/compiler_gym/llvm-v0/bin/opt --debugify -o /dev/shm/compiler_gym_dx4/s/0406T133423-665847-0b5f/benchmark.bc /dev/shm/compiler_gym_dx4/s/0406T133423-665847-0b5f/benchmark.ll\n",
      "/home/dx4/.local/share/compiler_gym/llvm-v0/bin/clang /dev/shm/compiler_gym_dx4/s/0406T133423-665847-0b5f/benchmark.bc -lm -o /dev/shm/compiler_gym_dx4/s/0406T133423-665847-0b5f/benchmark.exe\n",
      "/home/dx4/.local/share/compiler_gym/llvm-v0/bin/llvm-dis -o /dev/shm/compiler_gym_dx4/s/0406T133423-665847-0b5f/benchmark_new.ll /dev/shm/compiler_gym_dx4/s/0406T133423-665847-0b5f/benchmark.bc\n",
      "\n",
      "\n",
      "\n",
      " pre_run_cmd: \n",
      "[]\n",
      "\n",
      "\n",
      "\n",
      " run_cmd: \n",
      "/dev/shm/compiler_gym_dx4/s/0406T133423-665847-0b5f/benchmark.exe\n",
      "\n",
      "\n",
      "hackkk: -O0\n",
      "perf\n",
      "Reward Runtime: reset\n",
      "runtime_tensor\n",
      "real 1.07\n",
      "user 1.07\n",
      "sys 0.00\n",
      "\n",
      "real 1.08\n",
      "user 1.07\n",
      "sys 0.00\n",
      "\n",
      "real 1.08\n",
      "user 1.08\n",
      "sys 0.00\n",
      "\n",
      "real 1.09\n",
      "user 1.09\n",
      "sys 0.00\n",
      "\n",
      "real 1.06\n",
      "user 1.06\n",
      "sys 0.00\n",
      "\n",
      "benchmark://hpctoolkit-cpu-v0/conv2d\n"
     ]
    }
   ],
   "source": [
    "# Lets cycle through a few calls to reset() to demonstrate that this environment\n",
    "# selects a new benchmark for each episode.\n",
    "with make_training_env() as env:\n",
    "  env.reset()\n",
    "  print(env.benchmark)\n",
    "  env.reset()\n",
    "  print(env.benchmark)\n",
    "  env.reset()\n",
    "  print(env.benchmark)"
   ]
  },
  {
   "cell_type": "markdown",
   "metadata": {
    "id": "IpR63LcOuRRz"
   },
   "source": [
    "## Run the training loop\n",
    "\n",
    "Now that we have the environment set up, let's run a training loop. Here will use RLlib's [Proximal Policy Optimization](https://docs.ray.io/en/master/rllib-algorithms.html#ppo) implementation, and run a very short training loop just for demonstative purposes."
   ]
  },
  {
   "cell_type": "code",
   "execution_count": 21,
   "metadata": {},
   "outputs": [
    {
     "name": "stdout",
     "output_type": "stream",
     "text": [
      "/home/dx4/tools/miniconda3/lib/python3.8/site-packages\n",
      "/home/dx4/.local/share/compiler_gym\n",
      "/home/dx4/.cache/compiler_gym\n",
      "/dev/shm/compiler_gym_dx4\n"
     ]
    }
   ],
   "source": [
    "import compiler_gym.util.runfiles_path as path\n",
    "\n",
    "print(path.runfiles_path(\".\"))\n",
    "print(path.site_data_path(\".\"))\n",
    "print(path.cache_path(\".\"))\n",
    "print(path.transient_cache_path(\".\"))"
   ]
  },
  {
   "cell_type": "code",
   "execution_count": 22,
   "metadata": {
    "colab": {
     "base_uri": "https://localhost:8080/",
     "height": 1000
    },
    "id": "KYGUxq6GhXZL",
    "outputId": "6ce9e698-6fd2-442d-976d-40c4c0a0902f"
   },
   "outputs": [
    {
     "data": {
      "text/html": [
       "== Status ==<br>Current time: 2022-04-06 13:35:06 (running for 00:00:00.11)<br>Memory usage on this node: 29.9/503.7 GiB<br>Using FIFO scheduling algorithm.<br>Resources requested: 0/96 CPUs, 0/1 GPUs, 0.0/331.06 GiB heap, 0.0/145.87 GiB objects<br>Result logdir: /home/dx4/ray_results/PPO_2022-04-06_13-35-06<br>Number of trials: 1/1 (1 PENDING)<br><table>\n",
       "<thead>\n",
       "<tr><th>Trial name                  </th><th>status  </th><th>loc  </th></tr>\n",
       "</thead>\n",
       "<tbody>\n",
       "<tr><td>PPO_compiler_gym_47e50_00000</td><td>PENDING </td><td>     </td></tr>\n",
       "</tbody>\n",
       "</table><br><br>"
      ],
      "text/plain": [
       "<IPython.core.display.HTML object>"
      ]
     },
     "metadata": {},
     "output_type": "display_data"
    },
    {
     "name": "stdout",
     "output_type": "stream",
     "text": [
      "\u001b[2m\u001b[36m(PPO pid=4033683)\u001b[0m What is the path /home/dx4/tools/compiler2/compiler2_service/service_py/example_service.py\n",
      "\u001b[2m\u001b[36m(PPO pid=4033683)\u001b[0m Is that file:  True\n"
     ]
    },
    {
     "name": "stderr",
     "output_type": "stream",
     "text": [
      "\u001b[2m\u001b[36m(PPO pid=4033683)\u001b[0m /home/dx4/.local/share/compiler_gym/llvm-v0/bin/clang: /lib64/libtinfo.so.5: no version information available (required by /home/dx4/.local/share/compiler_gym/llvm-v0/bin/clang)\n",
      "\u001b[2m\u001b[36m(PPO pid=4033683)\u001b[0m /home/dx4/.local/share/compiler_gym/llvm-v0/bin/clang: /lib64/libtinfo.so.5: no version information available (required by /home/dx4/.local/share/compiler_gym/llvm-v0/bin/clang)\n",
      "\u001b[2m\u001b[36m(PPO pid=4033683)\u001b[0m /home/dx4/.local/share/compiler_gym/llvm-v0/bin/clang: /lib64/libtinfo.so.5: no version information available (required by /home/dx4/.local/share/compiler_gym/llvm-v0/bin/clang)\n",
      "\u001b[2m\u001b[36m(PPO pid=4033683)\u001b[0m /home/dx4/.local/share/compiler_gym/llvm-v0/bin/clang: /lib64/libtinfo.so.5: no version information available (required by /home/dx4/.local/share/compiler_gym/llvm-v0/bin/clang)\n",
      "\u001b[2m\u001b[36m(PPO pid=4033683)\u001b[0m /home/dx4/.local/share/compiler_gym/llvm-v0/bin/clang: /lib64/libtinfo.so.5: no version information available (required by /home/dx4/.local/share/compiler_gym/llvm-v0/bin/clang)\n",
      "\u001b[2m\u001b[36m(PPO pid=4033683)\u001b[0m /home/dx4/.local/share/compiler_gym/llvm-v0/bin/clang: /lib64/libtinfo.so.5: no version information available (required by /home/dx4/.local/share/compiler_gym/llvm-v0/bin/clang)\n",
      "\u001b[2m\u001b[36m(PPO pid=4033683)\u001b[0m /home/dx4/.local/share/compiler_gym/llvm-v0/bin/clang: /lib64/libtinfo.so.5: no version information available (required by /home/dx4/.local/share/compiler_gym/llvm-v0/bin/clang)\n",
      "\u001b[2m\u001b[36m(PPO pid=4033683)\u001b[0m /home/dx4/.local/share/compiler_gym/llvm-v0/bin/clang: /lib64/libtinfo.so.5: no version information available (required by /home/dx4/.local/share/compiler_gym/llvm-v0/bin/clang)\n",
      "\u001b[2m\u001b[36m(PPO pid=4033683)\u001b[0m 2022-04-06 13:35:10,220\tINFO trainer.py:722 -- Your framework setting is 'tf', meaning you are using static-graph mode. Set framework='tf2' to enable eager execution with tf2.x. You may also want to then set `eager_tracing=True` in order to reach similar execution speed as with static-graph mode.\n",
      "\u001b[2m\u001b[36m(PPO pid=4033683)\u001b[0m 2022-04-06 13:35:10,221\tINFO ppo.py:166 -- In multi-agent mode, policies will be optimized sequentially by the multi-GPU optimizer. Consider setting simple_optimizer=True if this doesn't work for you.\n",
      "\u001b[2m\u001b[36m(PPO pid=4033683)\u001b[0m 2022-04-06 13:35:10,221\tINFO trainer.py:743 -- Current log_level is WARN. For more information, set 'log_level': 'INFO' / 'DEBUG' or use the -v and -vv flags.\n",
      "\u001b[2m\u001b[36m(RolloutWorker pid=4033696)\u001b[0m /home/dx4/.local/share/compiler_gym/llvm-v0/bin/clang: /lib64/libtinfo.so.5: no version information available (required by /home/dx4/.local/share/compiler_gym/llvm-v0/bin/clang)\n",
      "\u001b[2m\u001b[36m(RolloutWorker pid=4033696)\u001b[0m /home/dx4/.local/share/compiler_gym/llvm-v0/bin/clang: /lib64/libtinfo.so.5: no version information available (required by /home/dx4/.local/share/compiler_gym/llvm-v0/bin/clang)\n",
      "\u001b[2m\u001b[36m(RolloutWorker pid=4033696)\u001b[0m /home/dx4/.local/share/compiler_gym/llvm-v0/bin/clang: /lib64/libtinfo.so.5: no version information available (required by /home/dx4/.local/share/compiler_gym/llvm-v0/bin/clang)\n",
      "\u001b[2m\u001b[36m(RolloutWorker pid=4033696)\u001b[0m /home/dx4/.local/share/compiler_gym/llvm-v0/bin/clang: /lib64/libtinfo.so.5: no version information available (required by /home/dx4/.local/share/compiler_gym/llvm-v0/bin/clang)\n",
      "\u001b[2m\u001b[36m(RolloutWorker pid=4033696)\u001b[0m /home/dx4/.local/share/compiler_gym/llvm-v0/bin/clang: /lib64/libtinfo.so.5: no version information available (required by /home/dx4/.local/share/compiler_gym/llvm-v0/bin/clang)\n",
      "\u001b[2m\u001b[36m(RolloutWorker pid=4033696)\u001b[0m /home/dx4/.local/share/compiler_gym/llvm-v0/bin/clang: /lib64/libtinfo.so.5: no version information available (required by /home/dx4/.local/share/compiler_gym/llvm-v0/bin/clang)\n"
     ]
    },
    {
     "name": "stdout",
     "output_type": "stream",
     "text": [
      "\u001b[2m\u001b[36m(RolloutWorker pid=4033696)\u001b[0m What is the path /home/dx4/tools/compiler2/compiler2_service/service_py/example_service.py\n",
      "\u001b[2m\u001b[36m(RolloutWorker pid=4033696)\u001b[0m Is that file:  True\n"
     ]
    },
    {
     "name": "stderr",
     "output_type": "stream",
     "text": [
      "\u001b[2m\u001b[36m(RolloutWorker pid=4033696)\u001b[0m /home/dx4/.local/share/compiler_gym/llvm-v0/bin/clang: /lib64/libtinfo.so.5: no version information available (required by /home/dx4/.local/share/compiler_gym/llvm-v0/bin/clang)\n",
      "\u001b[2m\u001b[36m(RolloutWorker pid=4033696)\u001b[0m /home/dx4/.local/share/compiler_gym/llvm-v0/bin/clang: /lib64/libtinfo.so.5: no version information available (required by /home/dx4/.local/share/compiler_gym/llvm-v0/bin/clang)\n",
      "\u001b[2m\u001b[36m(RolloutWorker pid=4033696)\u001b[0m /home/dx4/.local/share/compiler_gym/llvm-v0/bin/clang: /lib64/libtinfo.so.5: no version information available (required by /home/dx4/.local/share/compiler_gym/llvm-v0/bin/clang)\n",
      "\u001b[2m\u001b[36m(RolloutWorker pid=4033696)\u001b[0m /home/dx4/.local/share/compiler_gym/llvm-v0/bin/clang: /lib64/libtinfo.so.5: no version information available (required by /home/dx4/.local/share/compiler_gym/llvm-v0/bin/clang)\n",
      "\u001b[2m\u001b[36m(RolloutWorker pid=4033696)\u001b[0m /home/dx4/.local/share/compiler_gym/llvm-v0/bin/clang: /lib64/libtinfo.so.5: no version information available (required by /home/dx4/.local/share/compiler_gym/llvm-v0/bin/clang)\n",
      "\u001b[2m\u001b[36m(RolloutWorker pid=4033696)\u001b[0m /home/dx4/.local/share/compiler_gym/llvm-v0/bin/clang: /lib64/libtinfo.so.5: no version information available (required by /home/dx4/.local/share/compiler_gym/llvm-v0/bin/clang)\n",
      "\u001b[2m\u001b[36m(RolloutWorker pid=4033696)\u001b[0m /home/dx4/.local/share/compiler_gym/llvm-v0/bin/clang: /lib64/libtinfo.so.5: no version information available (required by /home/dx4/.local/share/compiler_gym/llvm-v0/bin/clang)\n",
      "\u001b[2m\u001b[36m(RolloutWorker pid=4033696)\u001b[0m /home/dx4/.local/share/compiler_gym/llvm-v0/bin/clang: /lib64/libtinfo.so.5: no version information available (required by /home/dx4/.local/share/compiler_gym/llvm-v0/bin/clang)\n",
      "\u001b[2m\u001b[36m(RolloutWorker pid=4033696)\u001b[0m /home/dx4/.local/share/compiler_gym/llvm-v0/bin/clang: /lib64/libtinfo.so.5: no version information available (required by /home/dx4/.local/share/compiler_gym/llvm-v0/bin/clang)\n",
      "\u001b[2m\u001b[36m(RolloutWorker pid=4033696)\u001b[0m /home/dx4/.local/share/compiler_gym/llvm-v0/bin/clang: /lib64/libtinfo.so.5: no version information available (required by /home/dx4/.local/share/compiler_gym/llvm-v0/bin/clang)\n"
     ]
    },
    {
     "name": "stdout",
     "output_type": "stream",
     "text": [
      "\u001b[2m\u001b[36m(RolloutWorker pid=4033696)\u001b[0m What is the path /home/dx4/tools/compiler2/compiler2_service/service_py/example_service.py\n",
      "\u001b[2m\u001b[36m(RolloutWorker pid=4033696)\u001b[0m Is that file:  True\n"
     ]
    },
    {
     "name": "stderr",
     "output_type": "stream",
     "text": [
      "\u001b[2m\u001b[36m(RolloutWorker pid=4033696)\u001b[0m Using backend: pytorch\n",
      "\u001b[2m\u001b[36m(RolloutWorker pid=4033696)\u001b[0m ./compiler_gym-llvm-service: /lib64/libtinfo.so.5: no version information available (required by ./compiler_gym-llvm-service)\n"
     ]
    },
    {
     "name": "stdout",
     "output_type": "stream",
     "text": [
      "\u001b[2m\u001b[36m(RolloutWorker pid=4033696)\u001b[0m \n",
      "\u001b[2m\u001b[36m(RolloutWorker pid=4033696)\u001b[0m  /dev/shm/compiler_gym_dx4/s/0406T133513-532391-6f35 \n",
      "\u001b[2m\u001b[36m(RolloutWorker pid=4033696)\u001b[0m \n",
      "\u001b[2m\u001b[36m(RolloutWorker pid=4033696)\u001b[0m source_filename = \"/dev/shm/compiler_gym_dx4/s/0406T133513-532391-6f35/benchmark.c\"\n",
      "\u001b[2m\u001b[36m(RolloutWorker pid=4033696)\u001b[0m \n",
      "\u001b[2m\u001b[36m(RolloutWorker pid=4033696)\u001b[0m \n",
      "\u001b[2m\u001b[36m(RolloutWorker pid=4033696)\u001b[0m  compile: \n",
      "\u001b[2m\u001b[36m(RolloutWorker pid=4033696)\u001b[0m /home/dx4/.local/share/compiler_gym/llvm-v0/bin/opt --debugify -o /dev/shm/compiler_gym_dx4/s/0406T133513-532391-6f35/benchmark.bc /dev/shm/compiler_gym_dx4/s/0406T133513-532391-6f35/benchmark.ll\n",
      "\u001b[2m\u001b[36m(RolloutWorker pid=4033696)\u001b[0m /home/dx4/.local/share/compiler_gym/llvm-v0/bin/clang /dev/shm/compiler_gym_dx4/s/0406T133513-532391-6f35/benchmark.bc -lm -o /dev/shm/compiler_gym_dx4/s/0406T133513-532391-6f35/benchmark.exe\n",
      "\u001b[2m\u001b[36m(RolloutWorker pid=4033696)\u001b[0m /home/dx4/.local/share/compiler_gym/llvm-v0/bin/llvm-dis -o /dev/shm/compiler_gym_dx4/s/0406T133513-532391-6f35/benchmark_new.ll /dev/shm/compiler_gym_dx4/s/0406T133513-532391-6f35/benchmark.bc\n",
      "\u001b[2m\u001b[36m(RolloutWorker pid=4033696)\u001b[0m \n",
      "\u001b[2m\u001b[36m(RolloutWorker pid=4033696)\u001b[0m \n",
      "\u001b[2m\u001b[36m(RolloutWorker pid=4033696)\u001b[0m \n",
      "\u001b[2m\u001b[36m(RolloutWorker pid=4033696)\u001b[0m  pre_run_cmd: \n",
      "\u001b[2m\u001b[36m(RolloutWorker pid=4033696)\u001b[0m []\n",
      "\u001b[2m\u001b[36m(RolloutWorker pid=4033696)\u001b[0m \n",
      "\u001b[2m\u001b[36m(RolloutWorker pid=4033696)\u001b[0m \n",
      "\u001b[2m\u001b[36m(RolloutWorker pid=4033696)\u001b[0m \n",
      "\u001b[2m\u001b[36m(RolloutWorker pid=4033696)\u001b[0m  run_cmd: \n",
      "\u001b[2m\u001b[36m(RolloutWorker pid=4033696)\u001b[0m /dev/shm/compiler_gym_dx4/s/0406T133513-532391-6f35/benchmark.exe\n",
      "\u001b[2m\u001b[36m(RolloutWorker pid=4033696)\u001b[0m \n",
      "\u001b[2m\u001b[36m(RolloutWorker pid=4033696)\u001b[0m \n",
      "\u001b[2m\u001b[36m(RolloutWorker pid=4033696)\u001b[0m hackkk: -O0\n",
      "\u001b[2m\u001b[36m(RolloutWorker pid=4033696)\u001b[0m perf\n",
      "\u001b[2m\u001b[36m(RolloutWorker pid=4033696)\u001b[0m Reward Runtime: reset\n",
      "\u001b[2m\u001b[36m(RolloutWorker pid=4033696)\u001b[0m runtime_tensor\n",
      "\u001b[2m\u001b[36m(RolloutWorker pid=4033696)\u001b[0m real 1.10\n",
      "\u001b[2m\u001b[36m(RolloutWorker pid=4033696)\u001b[0m user 1.09\n",
      "\u001b[2m\u001b[36m(RolloutWorker pid=4033696)\u001b[0m sys 0.00\n",
      "\u001b[2m\u001b[36m(RolloutWorker pid=4033696)\u001b[0m \n",
      "\u001b[2m\u001b[36m(RolloutWorker pid=4033696)\u001b[0m real 1.10\n",
      "\u001b[2m\u001b[36m(RolloutWorker pid=4033696)\u001b[0m user 1.09\n",
      "\u001b[2m\u001b[36m(RolloutWorker pid=4033696)\u001b[0m sys 0.00\n",
      "\u001b[2m\u001b[36m(RolloutWorker pid=4033696)\u001b[0m \n",
      "\u001b[2m\u001b[36m(RolloutWorker pid=4033696)\u001b[0m real 1.09\n",
      "\u001b[2m\u001b[36m(RolloutWorker pid=4033696)\u001b[0m user 1.08\n",
      "\u001b[2m\u001b[36m(RolloutWorker pid=4033696)\u001b[0m sys 0.00\n",
      "\u001b[2m\u001b[36m(RolloutWorker pid=4033696)\u001b[0m \n",
      "\u001b[2m\u001b[36m(RolloutWorker pid=4033696)\u001b[0m real 1.10\n",
      "\u001b[2m\u001b[36m(RolloutWorker pid=4033696)\u001b[0m user 1.09\n",
      "\u001b[2m\u001b[36m(RolloutWorker pid=4033696)\u001b[0m sys 0.00\n",
      "\u001b[2m\u001b[36m(RolloutWorker pid=4033696)\u001b[0m \n",
      "\u001b[2m\u001b[36m(RolloutWorker pid=4033696)\u001b[0m real 1.12\n",
      "\u001b[2m\u001b[36m(RolloutWorker pid=4033696)\u001b[0m user 1.11\n",
      "\u001b[2m\u001b[36m(RolloutWorker pid=4033696)\u001b[0m sys 0.00\n",
      "\u001b[2m\u001b[36m(RolloutWorker pid=4033696)\u001b[0m \n"
     ]
    },
    {
     "name": "stderr",
     "output_type": "stream",
     "text": [
      "\u001b[2m\u001b[36m(RolloutWorker pid=4033696)\u001b[0m 2022-04-06 13:35:24,709\tWARNING deprecation.py:45 -- DeprecationWarning: `SampleBatch['is_training']` has been deprecated. Use `SampleBatch.is_training` instead. This will raise an error in the future!\n",
      "\u001b[2m\u001b[36m(PPO pid=4033683)\u001b[0m 2022-04-06 13:35:25,530\tWARNING deprecation.py:45 -- DeprecationWarning: `SampleBatch['is_training']` has been deprecated. Use `SampleBatch.is_training` instead. This will raise an error in the future!\n"
     ]
    },
    {
     "data": {
      "text/html": [
       "== Status ==<br>Current time: 2022-04-06 13:35:26 (running for 00:00:19.49)<br>Memory usage on this node: 30.8/503.7 GiB<br>Using FIFO scheduling algorithm.<br>Resources requested: 2.0/96 CPUs, 0/1 GPUs, 0.0/331.06 GiB heap, 0.0/145.87 GiB objects<br>Result logdir: /home/dx4/ray_results/PPO_2022-04-06_13-35-06<br>Number of trials: 1/1 (1 RUNNING)<br><table>\n",
       "<thead>\n",
       "<tr><th>Trial name                  </th><th>status  </th><th>loc                  </th></tr>\n",
       "</thead>\n",
       "<tbody>\n",
       "<tr><td>PPO_compiler_gym_47e50_00000</td><td>RUNNING </td><td>128.42.128.60:4033683</td></tr>\n",
       "</tbody>\n",
       "</table><br><br>"
      ],
      "text/plain": [
       "<IPython.core.display.HTML object>"
      ]
     },
     "metadata": {},
     "output_type": "display_data"
    },
    {
     "name": "stderr",
     "output_type": "stream",
     "text": [
      "\u001b[2m\u001b[36m(PPO pid=4033683)\u001b[0m 2022-04-06 13:35:26,020\tINFO trainable.py:124 -- Trainable.setup took 16.466 seconds. If your trainable is slow to initialize, consider setting reuse_actors=True to reduce actor creation overheads.\n",
      "\u001b[2m\u001b[36m(PPO pid=4033683)\u001b[0m 2022-04-06 13:35:26,020\tWARNING util.py:57 -- Install gputil for GPU system monitoring.\n"
     ]
    },
    {
     "name": "stdout",
     "output_type": "stream",
     "text": [
      "\u001b[2m\u001b[36m(RolloutWorker pid=4033696)\u001b[0m \n",
      "\u001b[2m\u001b[36m(RolloutWorker pid=4033696)\u001b[0m  /dev/shm/compiler_gym_dx4/s/0406T133513-532391-6f35 \n",
      "\u001b[2m\u001b[36m(RolloutWorker pid=4033696)\u001b[0m \n",
      "\u001b[2m\u001b[36m(RolloutWorker pid=4033696)\u001b[0m source_filename = \"/dev/shm/compiler_gym_dx4/s/0406T133513-532391-6f35/benchmark.c\"\n",
      "\u001b[2m\u001b[36m(RolloutWorker pid=4033696)\u001b[0m \n",
      "\u001b[2m\u001b[36m(RolloutWorker pid=4033696)\u001b[0m \n",
      "\u001b[2m\u001b[36m(RolloutWorker pid=4033696)\u001b[0m  compile: \n",
      "\u001b[2m\u001b[36m(RolloutWorker pid=4033696)\u001b[0m /home/dx4/.local/share/compiler_gym/llvm-v0/bin/opt --debugify -o /dev/shm/compiler_gym_dx4/s/0406T133513-532391-6f35/benchmark.bc /dev/shm/compiler_gym_dx4/s/0406T133513-532391-6f35/benchmark.ll\n",
      "\u001b[2m\u001b[36m(RolloutWorker pid=4033696)\u001b[0m /home/dx4/.local/share/compiler_gym/llvm-v0/bin/clang /dev/shm/compiler_gym_dx4/s/0406T133513-532391-6f35/benchmark.bc -lm -o /dev/shm/compiler_gym_dx4/s/0406T133513-532391-6f35/benchmark.exe\n",
      "\u001b[2m\u001b[36m(RolloutWorker pid=4033696)\u001b[0m /home/dx4/.local/share/compiler_gym/llvm-v0/bin/llvm-dis -o /dev/shm/compiler_gym_dx4/s/0406T133513-532391-6f35/benchmark_new.ll /dev/shm/compiler_gym_dx4/s/0406T133513-532391-6f35/benchmark.bc\n",
      "\u001b[2m\u001b[36m(RolloutWorker pid=4033696)\u001b[0m \n",
      "\u001b[2m\u001b[36m(RolloutWorker pid=4033696)\u001b[0m \n",
      "\u001b[2m\u001b[36m(RolloutWorker pid=4033696)\u001b[0m \n",
      "\u001b[2m\u001b[36m(RolloutWorker pid=4033696)\u001b[0m  pre_run_cmd: \n",
      "\u001b[2m\u001b[36m(RolloutWorker pid=4033696)\u001b[0m []\n",
      "\u001b[2m\u001b[36m(RolloutWorker pid=4033696)\u001b[0m \n",
      "\u001b[2m\u001b[36m(RolloutWorker pid=4033696)\u001b[0m \n",
      "\u001b[2m\u001b[36m(RolloutWorker pid=4033696)\u001b[0m \n",
      "\u001b[2m\u001b[36m(RolloutWorker pid=4033696)\u001b[0m  run_cmd: \n",
      "\u001b[2m\u001b[36m(RolloutWorker pid=4033696)\u001b[0m /dev/shm/compiler_gym_dx4/s/0406T133513-532391-6f35/benchmark.exe\n",
      "\u001b[2m\u001b[36m(RolloutWorker pid=4033696)\u001b[0m \n",
      "\u001b[2m\u001b[36m(RolloutWorker pid=4033696)\u001b[0m \n",
      "\u001b[2m\u001b[36m(RolloutWorker pid=4033696)\u001b[0m hackkk: -O0\n",
      "\u001b[2m\u001b[36m(RolloutWorker pid=4033696)\u001b[0m perf\n"
     ]
    },
    {
     "data": {
      "text/html": [
       "== Status ==<br>Current time: 2022-04-06 13:35:27 (running for 00:00:20.56)<br>Memory usage on this node: 30.8/503.7 GiB<br>Using FIFO scheduling algorithm.<br>Resources requested: 2.0/96 CPUs, 0/1 GPUs, 0.0/331.06 GiB heap, 0.0/145.87 GiB objects<br>Result logdir: /home/dx4/ray_results/PPO_2022-04-06_13-35-06<br>Number of trials: 1/1 (1 RUNNING)<br><table>\n",
       "<thead>\n",
       "<tr><th>Trial name                  </th><th>status  </th><th>loc                  </th></tr>\n",
       "</thead>\n",
       "<tbody>\n",
       "<tr><td>PPO_compiler_gym_47e50_00000</td><td>RUNNING </td><td>128.42.128.60:4033683</td></tr>\n",
       "</tbody>\n",
       "</table><br><br>"
      ],
      "text/plain": [
       "<IPython.core.display.HTML object>"
      ]
     },
     "metadata": {},
     "output_type": "display_data"
    },
    {
     "name": "stdout",
     "output_type": "stream",
     "text": [
      "\u001b[2m\u001b[36m(RolloutWorker pid=4033696)\u001b[0m Reward Runtime: reset\n",
      "\u001b[2m\u001b[36m(RolloutWorker pid=4033696)\u001b[0m runtime_tensor\n",
      "\u001b[2m\u001b[36m(RolloutWorker pid=4033696)\u001b[0m real 0.34\n",
      "\u001b[2m\u001b[36m(RolloutWorker pid=4033696)\u001b[0m user 0.34\n",
      "\u001b[2m\u001b[36m(RolloutWorker pid=4033696)\u001b[0m sys 0.00\n",
      "\u001b[2m\u001b[36m(RolloutWorker pid=4033696)\u001b[0m \n",
      "\u001b[2m\u001b[36m(RolloutWorker pid=4033696)\u001b[0m real 0.34\n",
      "\u001b[2m\u001b[36m(RolloutWorker pid=4033696)\u001b[0m user 0.34\n",
      "\u001b[2m\u001b[36m(RolloutWorker pid=4033696)\u001b[0m sys 0.00\n",
      "\u001b[2m\u001b[36m(RolloutWorker pid=4033696)\u001b[0m \n",
      "\u001b[2m\u001b[36m(RolloutWorker pid=4033696)\u001b[0m real 0.34\n",
      "\u001b[2m\u001b[36m(RolloutWorker pid=4033696)\u001b[0m user 0.34\n",
      "\u001b[2m\u001b[36m(RolloutWorker pid=4033696)\u001b[0m sys 0.00\n",
      "\u001b[2m\u001b[36m(RolloutWorker pid=4033696)\u001b[0m \n",
      "\u001b[2m\u001b[36m(RolloutWorker pid=4033696)\u001b[0m real 0.34\n",
      "\u001b[2m\u001b[36m(RolloutWorker pid=4033696)\u001b[0m user 0.34\n",
      "\u001b[2m\u001b[36m(RolloutWorker pid=4033696)\u001b[0m sys 0.00\n",
      "\u001b[2m\u001b[36m(RolloutWorker pid=4033696)\u001b[0m \n",
      "\u001b[2m\u001b[36m(RolloutWorker pid=4033696)\u001b[0m real 0.34\n",
      "\u001b[2m\u001b[36m(RolloutWorker pid=4033696)\u001b[0m user 0.33\n",
      "\u001b[2m\u001b[36m(RolloutWorker pid=4033696)\u001b[0m sys 0.00\n",
      "\u001b[2m\u001b[36m(RolloutWorker pid=4033696)\u001b[0m \n",
      "\u001b[2m\u001b[36m(RolloutWorker pid=4033696)\u001b[0m hackkk: -loop-predication\n",
      "\u001b[2m\u001b[36m(RolloutWorker pid=4033696)\u001b[0m perf\n",
      "\u001b[2m\u001b[36m(RolloutWorker pid=4033696)\u001b[0m hackkk: -name-anon-globals\n",
      "\u001b[2m\u001b[36m(RolloutWorker pid=4033696)\u001b[0m hackkk: -loop-rotate\n",
      "\u001b[2m\u001b[36m(RolloutWorker pid=4033696)\u001b[0m hackkk: -aggressive-instcombine\n"
     ]
    },
    {
     "data": {
      "text/html": [
       "== Status ==<br>Current time: 2022-04-06 13:35:32 (running for 00:00:25.57)<br>Memory usage on this node: 30.8/503.7 GiB<br>Using FIFO scheduling algorithm.<br>Resources requested: 2.0/96 CPUs, 0/1 GPUs, 0.0/331.06 GiB heap, 0.0/145.87 GiB objects<br>Result logdir: /home/dx4/ray_results/PPO_2022-04-06_13-35-06<br>Number of trials: 1/1 (1 RUNNING)<br><table>\n",
       "<thead>\n",
       "<tr><th>Trial name                  </th><th>status  </th><th>loc                  </th></tr>\n",
       "</thead>\n",
       "<tbody>\n",
       "<tr><td>PPO_compiler_gym_47e50_00000</td><td>RUNNING </td><td>128.42.128.60:4033683</td></tr>\n",
       "</tbody>\n",
       "</table><br><br>"
      ],
      "text/plain": [
       "<IPython.core.display.HTML object>"
      ]
     },
     "metadata": {},
     "output_type": "display_data"
    },
    {
     "name": "stdout",
     "output_type": "stream",
     "text": [
      "\u001b[2m\u001b[36m(RolloutWorker pid=4033696)\u001b[0m hackkk: -lcssa\n",
      "\u001b[2m\u001b[36m(RolloutWorker pid=4033696)\u001b[0m \n",
      "\u001b[2m\u001b[36m(RolloutWorker pid=4033696)\u001b[0m  /dev/shm/compiler_gym_dx4/s/0406T133513-532391-6f35 \n",
      "\u001b[2m\u001b[36m(RolloutWorker pid=4033696)\u001b[0m \n",
      "\u001b[2m\u001b[36m(RolloutWorker pid=4033696)\u001b[0m source_filename = \"/dev/shm/compiler_gym_dx4/s/0406T133513-532391-6f35/benchmark.c\"\n",
      "\u001b[2m\u001b[36m(RolloutWorker pid=4033696)\u001b[0m \n",
      "\u001b[2m\u001b[36m(RolloutWorker pid=4033696)\u001b[0m \n",
      "\u001b[2m\u001b[36m(RolloutWorker pid=4033696)\u001b[0m  compile: \n",
      "\u001b[2m\u001b[36m(RolloutWorker pid=4033696)\u001b[0m /home/dx4/.local/share/compiler_gym/llvm-v0/bin/opt --debugify -o /dev/shm/compiler_gym_dx4/s/0406T133513-532391-6f35/benchmark.bc /dev/shm/compiler_gym_dx4/s/0406T133513-532391-6f35/benchmark.ll\n",
      "\u001b[2m\u001b[36m(RolloutWorker pid=4033696)\u001b[0m /home/dx4/.local/share/compiler_gym/llvm-v0/bin/clang /dev/shm/compiler_gym_dx4/s/0406T133513-532391-6f35/benchmark.bc -lm -o /dev/shm/compiler_gym_dx4/s/0406T133513-532391-6f35/benchmark.exe\n",
      "\u001b[2m\u001b[36m(RolloutWorker pid=4033696)\u001b[0m /home/dx4/.local/share/compiler_gym/llvm-v0/bin/llvm-dis -o /dev/shm/compiler_gym_dx4/s/0406T133513-532391-6f35/benchmark_new.ll /dev/shm/compiler_gym_dx4/s/0406T133513-532391-6f35/benchmark.bc\n",
      "\u001b[2m\u001b[36m(RolloutWorker pid=4033696)\u001b[0m \n",
      "\u001b[2m\u001b[36m(RolloutWorker pid=4033696)\u001b[0m \n",
      "\u001b[2m\u001b[36m(RolloutWorker pid=4033696)\u001b[0m \n",
      "\u001b[2m\u001b[36m(RolloutWorker pid=4033696)\u001b[0m  pre_run_cmd: \n",
      "\u001b[2m\u001b[36m(RolloutWorker pid=4033696)\u001b[0m []\n",
      "\u001b[2m\u001b[36m(RolloutWorker pid=4033696)\u001b[0m \n",
      "\u001b[2m\u001b[36m(RolloutWorker pid=4033696)\u001b[0m \n",
      "\u001b[2m\u001b[36m(RolloutWorker pid=4033696)\u001b[0m \n",
      "\u001b[2m\u001b[36m(RolloutWorker pid=4033696)\u001b[0m  run_cmd: \n",
      "\u001b[2m\u001b[36m(RolloutWorker pid=4033696)\u001b[0m /dev/shm/compiler_gym_dx4/s/0406T133513-532391-6f35/benchmark.exe\n",
      "\u001b[2m\u001b[36m(RolloutWorker pid=4033696)\u001b[0m \n",
      "\u001b[2m\u001b[36m(RolloutWorker pid=4033696)\u001b[0m \n",
      "\u001b[2m\u001b[36m(RolloutWorker pid=4033696)\u001b[0m hackkk: -O0\n",
      "\u001b[2m\u001b[36m(RolloutWorker pid=4033696)\u001b[0m perf\n"
     ]
    },
    {
     "data": {
      "text/html": [
       "== Status ==<br>Current time: 2022-04-06 13:35:37 (running for 00:00:30.60)<br>Memory usage on this node: 30.8/503.7 GiB<br>Using FIFO scheduling algorithm.<br>Resources requested: 2.0/96 CPUs, 0/1 GPUs, 0.0/331.06 GiB heap, 0.0/145.87 GiB objects<br>Result logdir: /home/dx4/ray_results/PPO_2022-04-06_13-35-06<br>Number of trials: 1/1 (1 RUNNING)<br><table>\n",
       "<thead>\n",
       "<tr><th>Trial name                  </th><th>status  </th><th>loc                  </th></tr>\n",
       "</thead>\n",
       "<tbody>\n",
       "<tr><td>PPO_compiler_gym_47e50_00000</td><td>RUNNING </td><td>128.42.128.60:4033683</td></tr>\n",
       "</tbody>\n",
       "</table><br><br>"
      ],
      "text/plain": [
       "<IPython.core.display.HTML object>"
      ]
     },
     "metadata": {},
     "output_type": "display_data"
    },
    {
     "name": "stdout",
     "output_type": "stream",
     "text": [
      "\u001b[2m\u001b[36m(RolloutWorker pid=4033696)\u001b[0m Reward Runtime: reset\n",
      "\u001b[2m\u001b[36m(RolloutWorker pid=4033696)\u001b[0m runtime_tensor\n",
      "\u001b[2m\u001b[36m(RolloutWorker pid=4033696)\u001b[0m real 1.08\n",
      "\u001b[2m\u001b[36m(RolloutWorker pid=4033696)\u001b[0m user 1.07\n",
      "\u001b[2m\u001b[36m(RolloutWorker pid=4033696)\u001b[0m sys 0.00\n",
      "\u001b[2m\u001b[36m(RolloutWorker pid=4033696)\u001b[0m \n",
      "\u001b[2m\u001b[36m(RolloutWorker pid=4033696)\u001b[0m real 1.08\n",
      "\u001b[2m\u001b[36m(RolloutWorker pid=4033696)\u001b[0m user 1.07\n",
      "\u001b[2m\u001b[36m(RolloutWorker pid=4033696)\u001b[0m sys 0.00\n",
      "\u001b[2m\u001b[36m(RolloutWorker pid=4033696)\u001b[0m \n",
      "\u001b[2m\u001b[36m(RolloutWorker pid=4033696)\u001b[0m real 1.08\n",
      "\u001b[2m\u001b[36m(RolloutWorker pid=4033696)\u001b[0m user 1.08\n",
      "\u001b[2m\u001b[36m(RolloutWorker pid=4033696)\u001b[0m sys 0.00\n",
      "\u001b[2m\u001b[36m(RolloutWorker pid=4033696)\u001b[0m \n",
      "\u001b[2m\u001b[36m(RolloutWorker pid=4033696)\u001b[0m real 1.09\n",
      "\u001b[2m\u001b[36m(RolloutWorker pid=4033696)\u001b[0m user 1.09\n",
      "\u001b[2m\u001b[36m(RolloutWorker pid=4033696)\u001b[0m sys 0.00\n",
      "\u001b[2m\u001b[36m(RolloutWorker pid=4033696)\u001b[0m \n"
     ]
    },
    {
     "data": {
      "text/html": [
       "== Status ==<br>Current time: 2022-04-06 13:35:42 (running for 00:00:35.60)<br>Memory usage on this node: 30.8/503.7 GiB<br>Using FIFO scheduling algorithm.<br>Resources requested: 2.0/96 CPUs, 0/1 GPUs, 0.0/331.06 GiB heap, 0.0/145.87 GiB objects<br>Result logdir: /home/dx4/ray_results/PPO_2022-04-06_13-35-06<br>Number of trials: 1/1 (1 RUNNING)<br><table>\n",
       "<thead>\n",
       "<tr><th>Trial name                  </th><th>status  </th><th>loc                  </th></tr>\n",
       "</thead>\n",
       "<tbody>\n",
       "<tr><td>PPO_compiler_gym_47e50_00000</td><td>RUNNING </td><td>128.42.128.60:4033683</td></tr>\n",
       "</tbody>\n",
       "</table><br><br>"
      ],
      "text/plain": [
       "<IPython.core.display.HTML object>"
      ]
     },
     "metadata": {},
     "output_type": "display_data"
    },
    {
     "name": "stdout",
     "output_type": "stream",
     "text": [
      "\u001b[2m\u001b[36m(RolloutWorker pid=4033696)\u001b[0m real 1.08\n",
      "\u001b[2m\u001b[36m(RolloutWorker pid=4033696)\u001b[0m user 1.07\n",
      "\u001b[2m\u001b[36m(RolloutWorker pid=4033696)\u001b[0m sys 0.00\n",
      "\u001b[2m\u001b[36m(RolloutWorker pid=4033696)\u001b[0m \n",
      "Result for PPO_compiler_gym_47e50_00000:\n",
      "  agent_timesteps_total: 5\n",
      "  custom_metrics: {}\n",
      "  date: 2022-04-06_13-35-42\n",
      "  done: false\n",
      "  episode_len_mean: 5.0\n",
      "  episode_media: {}\n",
      "  episode_reward_max: 0.005464213017474231\n",
      "  episode_reward_mean: 0.005464213017474231\n",
      "  episode_reward_min: 0.005464213017474231\n",
      "  episodes_this_iter: 1\n",
      "  episodes_total: 1\n",
      "  experiment_id: de9ea7c860aa44ef97ed7b15ce3b576f\n",
      "  hostname: ufront.cs.rice.edu\n",
      "  info:\n",
      "    learner:\n",
      "      default_policy:\n",
      "        custom_metrics: {}\n",
      "        learner_stats:\n",
      "          cur_kl_coeff: 0.20000000298023224\n",
      "          cur_lr: 4.999999873689376e-05\n",
      "          entropy: 4.819715976715088\n",
      "          entropy_coeff: 0.0\n",
      "          kl: 0.0004882592475041747\n",
      "          model: {}\n",
      "          policy_loss: -0.10469101369380951\n",
      "          total_loss: -0.10458077490329742\n",
      "          vf_explained_var: 1.1920929132713809e-08\n",
      "          vf_loss: 1.2601380149135366e-05\n",
      "    num_agent_steps_sampled: 5\n",
      "    num_agent_steps_trained: 5\n",
      "    num_steps_sampled: 5\n",
      "    num_steps_trained: 5\n",
      "  iterations_since_restore: 1\n",
      "  node_ip: 128.42.128.60\n",
      "  num_healthy_workers: 1\n",
      "  off_policy_estimator: {}\n",
      "  perf:\n",
      "    cpu_util_percent: 3.0875000000000004\n",
      "    ram_util_percent: 6.099999999999999\n",
      "  pid: 4033683\n",
      "  policy_reward_max: {}\n",
      "  policy_reward_mean: {}\n",
      "  policy_reward_min: {}\n",
      "  sampler_perf:\n",
      "    mean_action_processing_ms: 0.33863385518391925\n",
      "    mean_env_render_ms: 0.0\n",
      "    mean_env_wait_ms: 1255.975286165873\n",
      "    mean_inference_ms: 7.368405659993489\n",
      "    mean_raw_obs_processing_ms: 1503.165562947591\n",
      "  time_since_restore: 16.813709020614624\n",
      "  time_this_iter_s: 16.813709020614624\n",
      "  time_total_s: 16.813709020614624\n",
      "  timers:\n",
      "    learn_throughput: 27.327\n",
      "    learn_time_ms: 182.966\n",
      "    load_throughput: 18396.07\n",
      "    load_time_ms: 0.272\n",
      "    sample_throughput: 0.301\n",
      "    sample_time_ms: 16627.558\n",
      "    update_time_ms: 1.528\n",
      "  timestamp: 1649270142\n",
      "  timesteps_since_restore: 0\n",
      "  timesteps_this_iter: 0\n",
      "  timesteps_total: 5\n",
      "  training_iteration: 1\n",
      "  trial_id: 47e50_00000\n",
      "  \n",
      "\u001b[2m\u001b[36m(RolloutWorker pid=4033696)\u001b[0m hackkk: -loop-versioning\n",
      "\u001b[2m\u001b[36m(RolloutWorker pid=4033696)\u001b[0m perf\n",
      "\u001b[2m\u001b[36m(RolloutWorker pid=4033696)\u001b[0m hackkk: -ipsccp\n",
      "\u001b[2m\u001b[36m(RolloutWorker pid=4033696)\u001b[0m hackkk: -dce\n"
     ]
    },
    {
     "data": {
      "text/html": [
       "== Status ==<br>Current time: 2022-04-06 13:35:47 (running for 00:00:41.34)<br>Memory usage on this node: 30.8/503.7 GiB<br>Using FIFO scheduling algorithm.<br>Resources requested: 2.0/96 CPUs, 0/1 GPUs, 0.0/331.06 GiB heap, 0.0/145.87 GiB objects<br>Result logdir: /home/dx4/ray_results/PPO_2022-04-06_13-35-06<br>Number of trials: 1/1 (1 RUNNING)<br><table>\n",
       "<thead>\n",
       "<tr><th>Trial name                  </th><th>status  </th><th>loc                  </th><th style=\"text-align: right;\">  iter</th><th style=\"text-align: right;\">  total time (s)</th><th style=\"text-align: right;\">  ts</th><th style=\"text-align: right;\">    reward</th><th style=\"text-align: right;\">  episode_reward_max</th><th style=\"text-align: right;\">  episode_reward_min</th><th style=\"text-align: right;\">  episode_len_mean</th></tr>\n",
       "</thead>\n",
       "<tbody>\n",
       "<tr><td>PPO_compiler_gym_47e50_00000</td><td>RUNNING </td><td>128.42.128.60:4033683</td><td style=\"text-align: right;\">     1</td><td style=\"text-align: right;\">         16.8137</td><td style=\"text-align: right;\">   5</td><td style=\"text-align: right;\">0.00546421</td><td style=\"text-align: right;\">          0.00546421</td><td style=\"text-align: right;\">          0.00546421</td><td style=\"text-align: right;\">                 5</td></tr>\n",
       "</tbody>\n",
       "</table><br><br>"
      ],
      "text/plain": [
       "<IPython.core.display.HTML object>"
      ]
     },
     "metadata": {},
     "output_type": "display_data"
    },
    {
     "name": "stdout",
     "output_type": "stream",
     "text": [
      "\u001b[2m\u001b[36m(RolloutWorker pid=4033696)\u001b[0m hackkk: -consthoist\n",
      "\u001b[2m\u001b[36m(RolloutWorker pid=4033696)\u001b[0m hackkk: -loop-unroll-and-jam\n"
     ]
    },
    {
     "data": {
      "text/html": [
       "== Status ==<br>Current time: 2022-04-06 13:35:52 (running for 00:00:46.35)<br>Memory usage on this node: 30.8/503.7 GiB<br>Using FIFO scheduling algorithm.<br>Resources requested: 2.0/96 CPUs, 0/1 GPUs, 0.0/331.06 GiB heap, 0.0/145.87 GiB objects<br>Result logdir: /home/dx4/ray_results/PPO_2022-04-06_13-35-06<br>Number of trials: 1/1 (1 RUNNING)<br><table>\n",
       "<thead>\n",
       "<tr><th>Trial name                  </th><th>status  </th><th>loc                  </th><th style=\"text-align: right;\">  iter</th><th style=\"text-align: right;\">  total time (s)</th><th style=\"text-align: right;\">  ts</th><th style=\"text-align: right;\">    reward</th><th style=\"text-align: right;\">  episode_reward_max</th><th style=\"text-align: right;\">  episode_reward_min</th><th style=\"text-align: right;\">  episode_len_mean</th></tr>\n",
       "</thead>\n",
       "<tbody>\n",
       "<tr><td>PPO_compiler_gym_47e50_00000</td><td>RUNNING </td><td>128.42.128.60:4033683</td><td style=\"text-align: right;\">     1</td><td style=\"text-align: right;\">         16.8137</td><td style=\"text-align: right;\">   5</td><td style=\"text-align: right;\">0.00546421</td><td style=\"text-align: right;\">          0.00546421</td><td style=\"text-align: right;\">          0.00546421</td><td style=\"text-align: right;\">                 5</td></tr>\n",
       "</tbody>\n",
       "</table><br><br>"
      ],
      "text/plain": [
       "<IPython.core.display.HTML object>"
      ]
     },
     "metadata": {},
     "output_type": "display_data"
    },
    {
     "name": "stdout",
     "output_type": "stream",
     "text": [
      "\u001b[2m\u001b[36m(RolloutWorker pid=4033696)\u001b[0m \n",
      "\u001b[2m\u001b[36m(RolloutWorker pid=4033696)\u001b[0m  /dev/shm/compiler_gym_dx4/s/0406T133513-532391-6f35 \n",
      "\u001b[2m\u001b[36m(RolloutWorker pid=4033696)\u001b[0m \n",
      "\u001b[2m\u001b[36m(RolloutWorker pid=4033696)\u001b[0m source_filename = \"/dev/shm/compiler_gym_dx4/s/0406T133513-532391-6f35/benchmark.c\"\n",
      "\u001b[2m\u001b[36m(RolloutWorker pid=4033696)\u001b[0m \n",
      "\u001b[2m\u001b[36m(RolloutWorker pid=4033696)\u001b[0m \n",
      "\u001b[2m\u001b[36m(RolloutWorker pid=4033696)\u001b[0m  compile: \n",
      "\u001b[2m\u001b[36m(RolloutWorker pid=4033696)\u001b[0m /home/dx4/.local/share/compiler_gym/llvm-v0/bin/opt --debugify -o /dev/shm/compiler_gym_dx4/s/0406T133513-532391-6f35/benchmark.bc /dev/shm/compiler_gym_dx4/s/0406T133513-532391-6f35/benchmark.ll\n",
      "\u001b[2m\u001b[36m(RolloutWorker pid=4033696)\u001b[0m /home/dx4/.local/share/compiler_gym/llvm-v0/bin/clang /dev/shm/compiler_gym_dx4/s/0406T133513-532391-6f35/benchmark.bc -lm -o /dev/shm/compiler_gym_dx4/s/0406T133513-532391-6f35/benchmark.exe\n",
      "\u001b[2m\u001b[36m(RolloutWorker pid=4033696)\u001b[0m /home/dx4/.local/share/compiler_gym/llvm-v0/bin/llvm-dis -o /dev/shm/compiler_gym_dx4/s/0406T133513-532391-6f35/benchmark_new.ll /dev/shm/compiler_gym_dx4/s/0406T133513-532391-6f35/benchmark.bc\n",
      "\u001b[2m\u001b[36m(RolloutWorker pid=4033696)\u001b[0m \n",
      "\u001b[2m\u001b[36m(RolloutWorker pid=4033696)\u001b[0m \n",
      "\u001b[2m\u001b[36m(RolloutWorker pid=4033696)\u001b[0m \n",
      "\u001b[2m\u001b[36m(RolloutWorker pid=4033696)\u001b[0m  pre_run_cmd: \n",
      "\u001b[2m\u001b[36m(RolloutWorker pid=4033696)\u001b[0m []\n",
      "\u001b[2m\u001b[36m(RolloutWorker pid=4033696)\u001b[0m \n",
      "\u001b[2m\u001b[36m(RolloutWorker pid=4033696)\u001b[0m \n",
      "\u001b[2m\u001b[36m(RolloutWorker pid=4033696)\u001b[0m \n",
      "\u001b[2m\u001b[36m(RolloutWorker pid=4033696)\u001b[0m  run_cmd: \n",
      "\u001b[2m\u001b[36m(RolloutWorker pid=4033696)\u001b[0m /dev/shm/compiler_gym_dx4/s/0406T133513-532391-6f35/benchmark.exe\n",
      "\u001b[2m\u001b[36m(RolloutWorker pid=4033696)\u001b[0m \n",
      "\u001b[2m\u001b[36m(RolloutWorker pid=4033696)\u001b[0m \n",
      "\u001b[2m\u001b[36m(RolloutWorker pid=4033696)\u001b[0m hackkk: -O0\n",
      "\u001b[2m\u001b[36m(RolloutWorker pid=4033696)\u001b[0m perf\n",
      "\u001b[2m\u001b[36m(RolloutWorker pid=4033696)\u001b[0m Reward Runtime: reset\n",
      "\u001b[2m\u001b[36m(RolloutWorker pid=4033696)\u001b[0m runtime_tensor\n",
      "\u001b[2m\u001b[36m(RolloutWorker pid=4033696)\u001b[0m real 0.34\n",
      "\u001b[2m\u001b[36m(RolloutWorker pid=4033696)\u001b[0m user 0.33\n",
      "\u001b[2m\u001b[36m(RolloutWorker pid=4033696)\u001b[0m sys 0.00\n",
      "\u001b[2m\u001b[36m(RolloutWorker pid=4033696)\u001b[0m \n",
      "\u001b[2m\u001b[36m(RolloutWorker pid=4033696)\u001b[0m real 0.34\n",
      "\u001b[2m\u001b[36m(RolloutWorker pid=4033696)\u001b[0m user 0.33\n",
      "\u001b[2m\u001b[36m(RolloutWorker pid=4033696)\u001b[0m sys 0.00\n",
      "\u001b[2m\u001b[36m(RolloutWorker pid=4033696)\u001b[0m \n",
      "\u001b[2m\u001b[36m(RolloutWorker pid=4033696)\u001b[0m real 0.34\n",
      "\u001b[2m\u001b[36m(RolloutWorker pid=4033696)\u001b[0m user 0.33\n",
      "\u001b[2m\u001b[36m(RolloutWorker pid=4033696)\u001b[0m sys 0.00\n",
      "\u001b[2m\u001b[36m(RolloutWorker pid=4033696)\u001b[0m \n",
      "\u001b[2m\u001b[36m(RolloutWorker pid=4033696)\u001b[0m real 0.34\n",
      "\u001b[2m\u001b[36m(RolloutWorker pid=4033696)\u001b[0m user 0.33\n",
      "\u001b[2m\u001b[36m(RolloutWorker pid=4033696)\u001b[0m sys 0.00\n",
      "\u001b[2m\u001b[36m(RolloutWorker pid=4033696)\u001b[0m \n"
     ]
    },
    {
     "data": {
      "text/html": [
       "== Status ==<br>Current time: 2022-04-06 13:35:57 (running for 00:00:51.42)<br>Memory usage on this node: 30.8/503.7 GiB<br>Using FIFO scheduling algorithm.<br>Resources requested: 2.0/96 CPUs, 0/1 GPUs, 0.0/331.06 GiB heap, 0.0/145.87 GiB objects<br>Result logdir: /home/dx4/ray_results/PPO_2022-04-06_13-35-06<br>Number of trials: 1/1 (1 RUNNING)<br><table>\n",
       "<thead>\n",
       "<tr><th>Trial name                  </th><th>status  </th><th>loc                  </th><th style=\"text-align: right;\">  iter</th><th style=\"text-align: right;\">  total time (s)</th><th style=\"text-align: right;\">  ts</th><th style=\"text-align: right;\">    reward</th><th style=\"text-align: right;\">  episode_reward_max</th><th style=\"text-align: right;\">  episode_reward_min</th><th style=\"text-align: right;\">  episode_len_mean</th></tr>\n",
       "</thead>\n",
       "<tbody>\n",
       "<tr><td>PPO_compiler_gym_47e50_00000</td><td>RUNNING </td><td>128.42.128.60:4033683</td><td style=\"text-align: right;\">     1</td><td style=\"text-align: right;\">         16.8137</td><td style=\"text-align: right;\">   5</td><td style=\"text-align: right;\">0.00546421</td><td style=\"text-align: right;\">          0.00546421</td><td style=\"text-align: right;\">          0.00546421</td><td style=\"text-align: right;\">                 5</td></tr>\n",
       "</tbody>\n",
       "</table><br><br>"
      ],
      "text/plain": [
       "<IPython.core.display.HTML object>"
      ]
     },
     "metadata": {},
     "output_type": "display_data"
    },
    {
     "name": "stdout",
     "output_type": "stream",
     "text": [
      "Result for PPO_compiler_gym_47e50_00000:\n",
      "  agent_timesteps_total: 10\n",
      "  custom_metrics: {}\n",
      "  date: 2022-04-06_13-35-57\n",
      "  done: false\n",
      "  episode_len_mean: 5.0\n",
      "  episode_media: {}\n",
      "  episode_reward_max: 0.027506845314330494\n",
      "  episode_reward_mean: 0.016485529165902364\n",
      "  episode_reward_min: 0.005464213017474231\n",
      "  episodes_this_iter: 1\n",
      "  episodes_total: 2\n",
      "  experiment_id: de9ea7c860aa44ef97ed7b15ce3b576f\n",
      "  hostname: ufront.cs.rice.edu\n",
      "  info:\n",
      "    learner:\n",
      "      default_policy:\n",
      "        custom_metrics: {}\n",
      "        learner_stats:\n",
      "          cur_kl_coeff: 0.10000000149011612\n",
      "          cur_lr: 4.999999873689376e-05\n",
      "          entropy: 4.817491054534912\n",
      "          entropy_coeff: 0.0\n",
      "          kl: 0.001025678007863462\n",
      "          model: {}\n",
      "          policy_loss: -0.1413041055202484\n",
      "          total_loss: -0.1411057412624359\n",
      "          vf_explained_var: -1.1523564324988911e-07\n",
      "          vf_loss: 9.579134348314255e-05\n",
      "    num_agent_steps_sampled: 10\n",
      "    num_agent_steps_trained: 10\n",
      "    num_steps_sampled: 10\n",
      "    num_steps_trained: 10\n",
      "    num_steps_trained_this_iter: 0\n",
      "  iterations_since_restore: 2\n",
      "  node_ip: 128.42.128.60\n",
      "  num_healthy_workers: 1\n",
      "  off_policy_estimator: {}\n",
      "  perf:\n",
      "    cpu_util_percent: 3.1136363636363638\n",
      "    ram_util_percent: 6.099999999999998\n",
      "  pid: 4033683\n",
      "  policy_reward_max: {}\n",
      "  policy_reward_mean: {}\n",
      "  policy_reward_min: {}\n",
      "  sampler_perf:\n",
      "    mean_action_processing_ms: 0.27998649712764856\n",
      "    mean_env_render_ms: 0.0\n",
      "    mean_env_wait_ms: 1514.4800038048716\n",
      "    mean_inference_ms: 6.075790434172659\n",
      "    mean_raw_obs_processing_ms: 1299.9526117787216\n",
      "  time_since_restore: 31.886009216308594\n",
      "  time_this_iter_s: 15.07230019569397\n",
      "  time_total_s: 31.886009216308594\n",
      "  timers:\n",
      "    learn_throughput: 44.475\n",
      "    learn_time_ms: 112.423\n",
      "    load_throughput: 17667.666\n",
      "    load_time_ms: 0.283\n",
      "    sample_throughput: 0.314\n",
      "    sample_time_ms: 15933.605\n",
      "    update_time_ms: 1.789\n",
      "  timestamp: 1649270157\n",
      "  timesteps_since_restore: 0\n",
      "  timesteps_this_iter: 0\n",
      "  timesteps_total: 10\n",
      "  training_iteration: 2\n",
      "  trial_id: 47e50_00000\n",
      "  \n",
      "\u001b[2m\u001b[36m(RolloutWorker pid=4033696)\u001b[0m real 0.33\n",
      "\u001b[2m\u001b[36m(RolloutWorker pid=4033696)\u001b[0m user 0.33\n",
      "\u001b[2m\u001b[36m(RolloutWorker pid=4033696)\u001b[0m sys 0.00\n",
      "\u001b[2m\u001b[36m(RolloutWorker pid=4033696)\u001b[0m \n",
      "\u001b[2m\u001b[36m(RolloutWorker pid=4033696)\u001b[0m hackkk: -scalarizer\n",
      "\u001b[2m\u001b[36m(RolloutWorker pid=4033696)\u001b[0m perf\n",
      "\u001b[2m\u001b[36m(RolloutWorker pid=4033696)\u001b[0m hackkk: -loop-data-prefetch\n",
      "\u001b[2m\u001b[36m(RolloutWorker pid=4033696)\u001b[0m hackkk: -slp-vectorizer\n",
      "\u001b[2m\u001b[36m(RolloutWorker pid=4033696)\u001b[0m hackkk: -loop-reroll\n",
      "\u001b[2m\u001b[36m(RolloutWorker pid=4033696)\u001b[0m hackkk: -flattencfg\n",
      "\u001b[2m\u001b[36m(RolloutWorker pid=4033696)\u001b[0m \n",
      "\u001b[2m\u001b[36m(RolloutWorker pid=4033696)\u001b[0m  /dev/shm/compiler_gym_dx4/s/0406T133513-532391-6f35 \n",
      "\u001b[2m\u001b[36m(RolloutWorker pid=4033696)\u001b[0m \n",
      "\u001b[2m\u001b[36m(RolloutWorker pid=4033696)\u001b[0m source_filename = \"/dev/shm/compiler_gym_dx4/s/0406T133513-532391-6f35/benchmark.c\"\n",
      "\u001b[2m\u001b[36m(RolloutWorker pid=4033696)\u001b[0m \n",
      "\u001b[2m\u001b[36m(RolloutWorker pid=4033696)\u001b[0m \n",
      "\u001b[2m\u001b[36m(RolloutWorker pid=4033696)\u001b[0m  compile: \n",
      "\u001b[2m\u001b[36m(RolloutWorker pid=4033696)\u001b[0m /home/dx4/.local/share/compiler_gym/llvm-v0/bin/opt --debugify -o /dev/shm/compiler_gym_dx4/s/0406T133513-532391-6f35/benchmark.bc /dev/shm/compiler_gym_dx4/s/0406T133513-532391-6f35/benchmark.ll\n",
      "\u001b[2m\u001b[36m(RolloutWorker pid=4033696)\u001b[0m /home/dx4/.local/share/compiler_gym/llvm-v0/bin/clang /dev/shm/compiler_gym_dx4/s/0406T133513-532391-6f35/benchmark.bc -lm -o /dev/shm/compiler_gym_dx4/s/0406T133513-532391-6f35/benchmark.exe\n",
      "\u001b[2m\u001b[36m(RolloutWorker pid=4033696)\u001b[0m /home/dx4/.local/share/compiler_gym/llvm-v0/bin/llvm-dis -o /dev/shm/compiler_gym_dx4/s/0406T133513-532391-6f35/benchmark_new.ll /dev/shm/compiler_gym_dx4/s/0406T133513-532391-6f35/benchmark.bc\n",
      "\u001b[2m\u001b[36m(RolloutWorker pid=4033696)\u001b[0m \n",
      "\u001b[2m\u001b[36m(RolloutWorker pid=4033696)\u001b[0m \n",
      "\u001b[2m\u001b[36m(RolloutWorker pid=4033696)\u001b[0m \n",
      "\u001b[2m\u001b[36m(RolloutWorker pid=4033696)\u001b[0m  pre_run_cmd: \n",
      "\u001b[2m\u001b[36m(RolloutWorker pid=4033696)\u001b[0m []\n",
      "\u001b[2m\u001b[36m(RolloutWorker pid=4033696)\u001b[0m \n",
      "\u001b[2m\u001b[36m(RolloutWorker pid=4033696)\u001b[0m \n",
      "\u001b[2m\u001b[36m(RolloutWorker pid=4033696)\u001b[0m \n",
      "\u001b[2m\u001b[36m(RolloutWorker pid=4033696)\u001b[0m  run_cmd: \n",
      "\u001b[2m\u001b[36m(RolloutWorker pid=4033696)\u001b[0m /dev/shm/compiler_gym_dx4/s/0406T133513-532391-6f35/benchmark.exe\n",
      "\u001b[2m\u001b[36m(RolloutWorker pid=4033696)\u001b[0m \n",
      "\u001b[2m\u001b[36m(RolloutWorker pid=4033696)\u001b[0m \n",
      "\u001b[2m\u001b[36m(RolloutWorker pid=4033696)\u001b[0m hackkk: -O0\n"
     ]
    },
    {
     "data": {
      "text/html": [
       "== Status ==<br>Current time: 2022-04-06 13:36:02 (running for 00:00:56.44)<br>Memory usage on this node: 30.8/503.7 GiB<br>Using FIFO scheduling algorithm.<br>Resources requested: 2.0/96 CPUs, 0/1 GPUs, 0.0/331.06 GiB heap, 0.0/145.87 GiB objects<br>Result logdir: /home/dx4/ray_results/PPO_2022-04-06_13-35-06<br>Number of trials: 1/1 (1 RUNNING)<br><table>\n",
       "<thead>\n",
       "<tr><th>Trial name                  </th><th>status  </th><th>loc                  </th><th style=\"text-align: right;\">  iter</th><th style=\"text-align: right;\">  total time (s)</th><th style=\"text-align: right;\">  ts</th><th style=\"text-align: right;\">   reward</th><th style=\"text-align: right;\">  episode_reward_max</th><th style=\"text-align: right;\">  episode_reward_min</th><th style=\"text-align: right;\">  episode_len_mean</th></tr>\n",
       "</thead>\n",
       "<tbody>\n",
       "<tr><td>PPO_compiler_gym_47e50_00000</td><td>RUNNING </td><td>128.42.128.60:4033683</td><td style=\"text-align: right;\">     2</td><td style=\"text-align: right;\">          31.886</td><td style=\"text-align: right;\">  10</td><td style=\"text-align: right;\">0.0164855</td><td style=\"text-align: right;\">           0.0275068</td><td style=\"text-align: right;\">          0.00546421</td><td style=\"text-align: right;\">                 5</td></tr>\n",
       "</tbody>\n",
       "</table><br><br>"
      ],
      "text/plain": [
       "<IPython.core.display.HTML object>"
      ]
     },
     "metadata": {},
     "output_type": "display_data"
    },
    {
     "name": "stdout",
     "output_type": "stream",
     "text": [
      "\u001b[2m\u001b[36m(RolloutWorker pid=4033696)\u001b[0m perf\n",
      "\u001b[2m\u001b[36m(RolloutWorker pid=4033696)\u001b[0m Reward Runtime: reset\n",
      "\u001b[2m\u001b[36m(RolloutWorker pid=4033696)\u001b[0m runtime_tensor\n",
      "\u001b[2m\u001b[36m(RolloutWorker pid=4033696)\u001b[0m real 1.08\n",
      "\u001b[2m\u001b[36m(RolloutWorker pid=4033696)\u001b[0m user 1.08\n",
      "\u001b[2m\u001b[36m(RolloutWorker pid=4033696)\u001b[0m sys 0.00\n",
      "\u001b[2m\u001b[36m(RolloutWorker pid=4033696)\u001b[0m \n"
     ]
    },
    {
     "data": {
      "text/html": [
       "== Status ==<br>Current time: 2022-04-06 13:36:08 (running for 00:01:01.51)<br>Memory usage on this node: 30.8/503.7 GiB<br>Using FIFO scheduling algorithm.<br>Resources requested: 2.0/96 CPUs, 0/1 GPUs, 0.0/331.06 GiB heap, 0.0/145.87 GiB objects<br>Result logdir: /home/dx4/ray_results/PPO_2022-04-06_13-35-06<br>Number of trials: 1/1 (1 RUNNING)<br><table>\n",
       "<thead>\n",
       "<tr><th>Trial name                  </th><th>status  </th><th>loc                  </th><th style=\"text-align: right;\">  iter</th><th style=\"text-align: right;\">  total time (s)</th><th style=\"text-align: right;\">  ts</th><th style=\"text-align: right;\">   reward</th><th style=\"text-align: right;\">  episode_reward_max</th><th style=\"text-align: right;\">  episode_reward_min</th><th style=\"text-align: right;\">  episode_len_mean</th></tr>\n",
       "</thead>\n",
       "<tbody>\n",
       "<tr><td>PPO_compiler_gym_47e50_00000</td><td>RUNNING </td><td>128.42.128.60:4033683</td><td style=\"text-align: right;\">     2</td><td style=\"text-align: right;\">          31.886</td><td style=\"text-align: right;\">  10</td><td style=\"text-align: right;\">0.0164855</td><td style=\"text-align: right;\">           0.0275068</td><td style=\"text-align: right;\">          0.00546421</td><td style=\"text-align: right;\">                 5</td></tr>\n",
       "</tbody>\n",
       "</table><br><br>"
      ],
      "text/plain": [
       "<IPython.core.display.HTML object>"
      ]
     },
     "metadata": {},
     "output_type": "display_data"
    },
    {
     "name": "stdout",
     "output_type": "stream",
     "text": [
      "\u001b[2m\u001b[36m(RolloutWorker pid=4033696)\u001b[0m real 1.08\n",
      "\u001b[2m\u001b[36m(RolloutWorker pid=4033696)\u001b[0m user 1.07\n",
      "\u001b[2m\u001b[36m(RolloutWorker pid=4033696)\u001b[0m sys 0.00\n",
      "\u001b[2m\u001b[36m(RolloutWorker pid=4033696)\u001b[0m \n",
      "\u001b[2m\u001b[36m(RolloutWorker pid=4033696)\u001b[0m real 1.07\n",
      "\u001b[2m\u001b[36m(RolloutWorker pid=4033696)\u001b[0m user 1.07\n",
      "\u001b[2m\u001b[36m(RolloutWorker pid=4033696)\u001b[0m sys 0.00\n",
      "\u001b[2m\u001b[36m(RolloutWorker pid=4033696)\u001b[0m \n",
      "\u001b[2m\u001b[36m(RolloutWorker pid=4033696)\u001b[0m real 1.09\n",
      "\u001b[2m\u001b[36m(RolloutWorker pid=4033696)\u001b[0m user 1.08\n",
      "\u001b[2m\u001b[36m(RolloutWorker pid=4033696)\u001b[0m sys 0.00\n",
      "\u001b[2m\u001b[36m(RolloutWorker pid=4033696)\u001b[0m \n",
      "\u001b[2m\u001b[36m(RolloutWorker pid=4033696)\u001b[0m real 1.08\n",
      "\u001b[2m\u001b[36m(RolloutWorker pid=4033696)\u001b[0m user 1.08\n",
      "\u001b[2m\u001b[36m(RolloutWorker pid=4033696)\u001b[0m sys 0.00\n",
      "\u001b[2m\u001b[36m(RolloutWorker pid=4033696)\u001b[0m \n",
      "Result for PPO_compiler_gym_47e50_00000:\n",
      "  agent_timesteps_total: 15\n",
      "  custom_metrics: {}\n",
      "  date: 2022-04-06_13-36-11\n",
      "  done: false\n",
      "  episode_len_mean: 5.0\n",
      "  episode_media: {}\n",
      "  episode_reward_max: 0.027506845314330494\n",
      "  episode_reward_mean: 0.009462250449799972\n",
      "  episode_reward_min: -0.004584306982404812\n",
      "  episodes_this_iter: 1\n",
      "  episodes_total: 3\n",
      "  experiment_id: de9ea7c860aa44ef97ed7b15ce3b576f\n",
      "  hostname: ufront.cs.rice.edu\n",
      "  info:\n",
      "    learner:\n",
      "      default_policy:\n",
      "        custom_metrics: {}\n",
      "        learner_stats:\n",
      "          cur_kl_coeff: 0.05000000074505806\n",
      "          cur_lr: 4.999999873689376e-05\n",
      "          entropy: 4.811992168426514\n",
      "          entropy_coeff: 0.0\n",
      "          kl: 0.0016101842047646642\n",
      "          model: {}\n",
      "          policy_loss: -0.17671741545200348\n",
      "          total_loss: -0.17653807997703552\n",
      "          vf_explained_var: 1.5894572769070692e-08\n",
      "          vf_loss: 9.886683983495459e-05\n",
      "    num_agent_steps_sampled: 15\n",
      "    num_agent_steps_trained: 15\n",
      "    num_steps_sampled: 15\n",
      "    num_steps_trained: 15\n",
      "    num_steps_trained_this_iter: 0\n",
      "  iterations_since_restore: 3\n",
      "  node_ip: 128.42.128.60\n",
      "  num_healthy_workers: 1\n",
      "  off_policy_estimator: {}\n",
      "  perf:\n",
      "    cpu_util_percent: 3.0894736842105264\n",
      "    ram_util_percent: 6.099999999999999\n",
      "  pid: 4033683\n",
      "  policy_reward_max: {}\n",
      "  policy_reward_mean: {}\n",
      "  policy_reward_min: {}\n",
      "  sampler_perf:\n",
      "    mean_action_processing_ms: 0.24502551314806698\n",
      "    mean_env_render_ms: 0.0\n",
      "    mean_env_wait_ms: 1507.6861392066937\n",
      "    mean_inference_ms: 5.295911371105849\n",
      "    mean_raw_obs_processing_ms: 1304.9714915981197\n",
      "  time_since_restore: 45.32463264465332\n",
      "  time_this_iter_s: 13.438623428344727\n",
      "  time_total_s: 45.32463264465332\n",
      "  timers:\n",
      "    learn_throughput: 56.022\n",
      "    learn_time_ms: 89.251\n",
      "    load_throughput: 17105.644\n",
      "    load_time_ms: 0.292\n",
      "    sample_throughput: 0.331\n",
      "    sample_time_ms: 15117.409\n",
      "    update_time_ms: 1.896\n",
      "  timestamp: 1649270171\n",
      "  timesteps_since_restore: 0\n",
      "  timesteps_this_iter: 0\n",
      "  timesteps_total: 15\n",
      "  training_iteration: 3\n",
      "  trial_id: 47e50_00000\n",
      "  \n",
      "\u001b[2m\u001b[36m(RolloutWorker pid=4033696)\u001b[0m hackkk: -mem2reg\n",
      "\u001b[2m\u001b[36m(RolloutWorker pid=4033696)\u001b[0m perf\n"
     ]
    },
    {
     "data": {
      "text/html": [
       "== Status ==<br>Current time: 2022-04-06 13:36:13 (running for 00:01:06.91)<br>Memory usage on this node: 30.8/503.7 GiB<br>Using FIFO scheduling algorithm.<br>Resources requested: 2.0/96 CPUs, 0/1 GPUs, 0.0/331.06 GiB heap, 0.0/145.87 GiB objects<br>Result logdir: /home/dx4/ray_results/PPO_2022-04-06_13-35-06<br>Number of trials: 1/1 (1 RUNNING)<br><table>\n",
       "<thead>\n",
       "<tr><th>Trial name                  </th><th>status  </th><th>loc                  </th><th style=\"text-align: right;\">  iter</th><th style=\"text-align: right;\">  total time (s)</th><th style=\"text-align: right;\">  ts</th><th style=\"text-align: right;\">    reward</th><th style=\"text-align: right;\">  episode_reward_max</th><th style=\"text-align: right;\">  episode_reward_min</th><th style=\"text-align: right;\">  episode_len_mean</th></tr>\n",
       "</thead>\n",
       "<tbody>\n",
       "<tr><td>PPO_compiler_gym_47e50_00000</td><td>RUNNING </td><td>128.42.128.60:4033683</td><td style=\"text-align: right;\">     3</td><td style=\"text-align: right;\">         45.3246</td><td style=\"text-align: right;\">  15</td><td style=\"text-align: right;\">0.00946225</td><td style=\"text-align: right;\">           0.0275068</td><td style=\"text-align: right;\">         -0.00458431</td><td style=\"text-align: right;\">                 5</td></tr>\n",
       "</tbody>\n",
       "</table><br><br>"
      ],
      "text/plain": [
       "<IPython.core.display.HTML object>"
      ]
     },
     "metadata": {},
     "output_type": "display_data"
    },
    {
     "name": "stdout",
     "output_type": "stream",
     "text": [
      "\u001b[2m\u001b[36m(RolloutWorker pid=4033696)\u001b[0m hackkk: -loop-simplifycfg\n",
      "\u001b[2m\u001b[36m(RolloutWorker pid=4033696)\u001b[0m hackkk: -deadargelim\n"
     ]
    },
    {
     "data": {
      "text/html": [
       "== Status ==<br>Current time: 2022-04-06 13:36:18 (running for 00:01:11.97)<br>Memory usage on this node: 30.8/503.7 GiB<br>Using FIFO scheduling algorithm.<br>Resources requested: 2.0/96 CPUs, 0/1 GPUs, 0.0/331.06 GiB heap, 0.0/145.87 GiB objects<br>Result logdir: /home/dx4/ray_results/PPO_2022-04-06_13-35-06<br>Number of trials: 1/1 (1 RUNNING)<br><table>\n",
       "<thead>\n",
       "<tr><th>Trial name                  </th><th>status  </th><th>loc                  </th><th style=\"text-align: right;\">  iter</th><th style=\"text-align: right;\">  total time (s)</th><th style=\"text-align: right;\">  ts</th><th style=\"text-align: right;\">    reward</th><th style=\"text-align: right;\">  episode_reward_max</th><th style=\"text-align: right;\">  episode_reward_min</th><th style=\"text-align: right;\">  episode_len_mean</th></tr>\n",
       "</thead>\n",
       "<tbody>\n",
       "<tr><td>PPO_compiler_gym_47e50_00000</td><td>RUNNING </td><td>128.42.128.60:4033683</td><td style=\"text-align: right;\">     3</td><td style=\"text-align: right;\">         45.3246</td><td style=\"text-align: right;\">  15</td><td style=\"text-align: right;\">0.00946225</td><td style=\"text-align: right;\">           0.0275068</td><td style=\"text-align: right;\">         -0.00458431</td><td style=\"text-align: right;\">                 5</td></tr>\n",
       "</tbody>\n",
       "</table><br><br>"
      ],
      "text/plain": [
       "<IPython.core.display.HTML object>"
      ]
     },
     "metadata": {},
     "output_type": "display_data"
    },
    {
     "name": "stdout",
     "output_type": "stream",
     "text": [
      "\u001b[2m\u001b[36m(RolloutWorker pid=4033696)\u001b[0m hackkk: -instsimplify\n",
      "\u001b[2m\u001b[36m(RolloutWorker pid=4033696)\u001b[0m hackkk: -strip-debug-declare\n"
     ]
    },
    {
     "data": {
      "text/html": [
       "== Status ==<br>Current time: 2022-04-06 13:36:23 (running for 00:01:16.98)<br>Memory usage on this node: 30.8/503.7 GiB<br>Using FIFO scheduling algorithm.<br>Resources requested: 2.0/96 CPUs, 0/1 GPUs, 0.0/331.06 GiB heap, 0.0/145.87 GiB objects<br>Result logdir: /home/dx4/ray_results/PPO_2022-04-06_13-35-06<br>Number of trials: 1/1 (1 RUNNING)<br><table>\n",
       "<thead>\n",
       "<tr><th>Trial name                  </th><th>status  </th><th>loc                  </th><th style=\"text-align: right;\">  iter</th><th style=\"text-align: right;\">  total time (s)</th><th style=\"text-align: right;\">  ts</th><th style=\"text-align: right;\">    reward</th><th style=\"text-align: right;\">  episode_reward_max</th><th style=\"text-align: right;\">  episode_reward_min</th><th style=\"text-align: right;\">  episode_len_mean</th></tr>\n",
       "</thead>\n",
       "<tbody>\n",
       "<tr><td>PPO_compiler_gym_47e50_00000</td><td>RUNNING </td><td>128.42.128.60:4033683</td><td style=\"text-align: right;\">     3</td><td style=\"text-align: right;\">         45.3246</td><td style=\"text-align: right;\">  15</td><td style=\"text-align: right;\">0.00946225</td><td style=\"text-align: right;\">           0.0275068</td><td style=\"text-align: right;\">         -0.00458431</td><td style=\"text-align: right;\">                 5</td></tr>\n",
       "</tbody>\n",
       "</table><br><br>"
      ],
      "text/plain": [
       "<IPython.core.display.HTML object>"
      ]
     },
     "metadata": {},
     "output_type": "display_data"
    },
    {
     "name": "stdout",
     "output_type": "stream",
     "text": [
      "\u001b[2m\u001b[36m(RolloutWorker pid=4033696)\u001b[0m \n",
      "\u001b[2m\u001b[36m(RolloutWorker pid=4033696)\u001b[0m  /dev/shm/compiler_gym_dx4/s/0406T133513-532391-6f35 \n",
      "\u001b[2m\u001b[36m(RolloutWorker pid=4033696)\u001b[0m \n",
      "\u001b[2m\u001b[36m(RolloutWorker pid=4033696)\u001b[0m source_filename = \"/dev/shm/compiler_gym_dx4/s/0406T133513-532391-6f35/benchmark.c\"\n",
      "\u001b[2m\u001b[36m(RolloutWorker pid=4033696)\u001b[0m \n",
      "\u001b[2m\u001b[36m(RolloutWorker pid=4033696)\u001b[0m \n",
      "\u001b[2m\u001b[36m(RolloutWorker pid=4033696)\u001b[0m  compile: \n",
      "\u001b[2m\u001b[36m(RolloutWorker pid=4033696)\u001b[0m /home/dx4/.local/share/compiler_gym/llvm-v0/bin/opt --debugify -o /dev/shm/compiler_gym_dx4/s/0406T133513-532391-6f35/benchmark.bc /dev/shm/compiler_gym_dx4/s/0406T133513-532391-6f35/benchmark.ll\n",
      "\u001b[2m\u001b[36m(RolloutWorker pid=4033696)\u001b[0m /home/dx4/.local/share/compiler_gym/llvm-v0/bin/clang /dev/shm/compiler_gym_dx4/s/0406T133513-532391-6f35/benchmark.bc -lm -o /dev/shm/compiler_gym_dx4/s/0406T133513-532391-6f35/benchmark.exe\n",
      "\u001b[2m\u001b[36m(RolloutWorker pid=4033696)\u001b[0m /home/dx4/.local/share/compiler_gym/llvm-v0/bin/llvm-dis -o /dev/shm/compiler_gym_dx4/s/0406T133513-532391-6f35/benchmark_new.ll /dev/shm/compiler_gym_dx4/s/0406T133513-532391-6f35/benchmark.bc\n",
      "\u001b[2m\u001b[36m(RolloutWorker pid=4033696)\u001b[0m \n",
      "\u001b[2m\u001b[36m(RolloutWorker pid=4033696)\u001b[0m \n",
      "\u001b[2m\u001b[36m(RolloutWorker pid=4033696)\u001b[0m \n",
      "\u001b[2m\u001b[36m(RolloutWorker pid=4033696)\u001b[0m  pre_run_cmd: \n",
      "\u001b[2m\u001b[36m(RolloutWorker pid=4033696)\u001b[0m []\n",
      "\u001b[2m\u001b[36m(RolloutWorker pid=4033696)\u001b[0m \n",
      "\u001b[2m\u001b[36m(RolloutWorker pid=4033696)\u001b[0m \n",
      "\u001b[2m\u001b[36m(RolloutWorker pid=4033696)\u001b[0m \n",
      "\u001b[2m\u001b[36m(RolloutWorker pid=4033696)\u001b[0m  run_cmd: \n",
      "\u001b[2m\u001b[36m(RolloutWorker pid=4033696)\u001b[0m /dev/shm/compiler_gym_dx4/s/0406T133513-532391-6f35/benchmark.exe\n",
      "\u001b[2m\u001b[36m(RolloutWorker pid=4033696)\u001b[0m \n",
      "\u001b[2m\u001b[36m(RolloutWorker pid=4033696)\u001b[0m \n",
      "\u001b[2m\u001b[36m(RolloutWorker pid=4033696)\u001b[0m hackkk: -O0\n",
      "\u001b[2m\u001b[36m(RolloutWorker pid=4033696)\u001b[0m perf\n",
      "\u001b[2m\u001b[36m(RolloutWorker pid=4033696)\u001b[0m Reward Runtime: reset\n",
      "\u001b[2m\u001b[36m(RolloutWorker pid=4033696)\u001b[0m runtime_tensor\n",
      "\u001b[2m\u001b[36m(RolloutWorker pid=4033696)\u001b[0m real 0.34\n",
      "\u001b[2m\u001b[36m(RolloutWorker pid=4033696)\u001b[0m user 0.33\n",
      "\u001b[2m\u001b[36m(RolloutWorker pid=4033696)\u001b[0m sys 0.00\n",
      "\u001b[2m\u001b[36m(RolloutWorker pid=4033696)\u001b[0m \n",
      "\u001b[2m\u001b[36m(RolloutWorker pid=4033696)\u001b[0m real 0.34\n",
      "\u001b[2m\u001b[36m(RolloutWorker pid=4033696)\u001b[0m user 0.34\n",
      "\u001b[2m\u001b[36m(RolloutWorker pid=4033696)\u001b[0m sys 0.00\n",
      "\u001b[2m\u001b[36m(RolloutWorker pid=4033696)\u001b[0m \n",
      "\u001b[2m\u001b[36m(RolloutWorker pid=4033696)\u001b[0m real 0.34\n",
      "\u001b[2m\u001b[36m(RolloutWorker pid=4033696)\u001b[0m user 0.34\n",
      "\u001b[2m\u001b[36m(RolloutWorker pid=4033696)\u001b[0m sys 0.00\n",
      "\u001b[2m\u001b[36m(RolloutWorker pid=4033696)\u001b[0m \n",
      "\u001b[2m\u001b[36m(RolloutWorker pid=4033696)\u001b[0m real 0.34\n",
      "\u001b[2m\u001b[36m(RolloutWorker pid=4033696)\u001b[0m user 0.34\n",
      "\u001b[2m\u001b[36m(RolloutWorker pid=4033696)\u001b[0m sys 0.00\n",
      "\u001b[2m\u001b[36m(RolloutWorker pid=4033696)\u001b[0m \n",
      "\u001b[2m\u001b[36m(RolloutWorker pid=4033696)\u001b[0m real 0.34\n",
      "\u001b[2m\u001b[36m(RolloutWorker pid=4033696)\u001b[0m user 0.34\n",
      "\u001b[2m\u001b[36m(RolloutWorker pid=4033696)\u001b[0m sys 0.00\n",
      "\u001b[2m\u001b[36m(RolloutWorker pid=4033696)\u001b[0m \n",
      "Result for PPO_compiler_gym_47e50_00000:\n",
      "  agent_timesteps_total: 20\n",
      "  custom_metrics: {}\n",
      "  date: 2022-04-06_13-36-26\n",
      "  done: false\n",
      "  episode_len_mean: 5.0\n",
      "  episode_media: {}\n",
      "  episode_reward_max: 0.027506845314330494\n",
      "  episode_reward_mean: 0.0018473120132893872\n",
      "  episode_reward_min: -0.020997503296242365\n",
      "  episodes_this_iter: 1\n",
      "  episodes_total: 4\n",
      "  experiment_id: de9ea7c860aa44ef97ed7b15ce3b576f\n",
      "  hostname: ufront.cs.rice.edu\n",
      "  info:\n",
      "    learner:\n",
      "      default_policy:\n",
      "        custom_metrics: {}\n",
      "        learner_stats:\n",
      "          cur_kl_coeff: 0.02500000037252903\n",
      "          cur_lr: 4.999999873689376e-05\n",
      "          entropy: 4.805718898773193\n",
      "          entropy_coeff: 0.0\n",
      "          kl: 0.0021033212542533875\n",
      "          model: {}\n",
      "          policy_loss: -0.19606056809425354\n",
      "          total_loss: -0.1959763914346695\n",
      "          vf_explained_var: 0.0\n",
      "          vf_loss: 3.159122934448533e-05\n",
      "    num_agent_steps_sampled: 20\n",
      "    num_agent_steps_trained: 20\n",
      "    num_steps_sampled: 20\n",
      "    num_steps_trained: 20\n",
      "    num_steps_trained_this_iter: 0\n",
      "  iterations_since_restore: 4\n",
      "  node_ip: 128.42.128.60\n",
      "  num_healthy_workers: 1\n",
      "  off_policy_estimator: {}\n",
      "  perf:\n",
      "    cpu_util_percent: 3.063636363636364\n",
      "    ram_util_percent: 6.099999999999998\n",
      "  pid: 4033683\n",
      "  policy_reward_max: {}\n",
      "  policy_reward_mean: {}\n",
      "  policy_reward_min: {}\n",
      "  sampler_perf:\n",
      "    mean_action_processing_ms: 0.22157550954715516\n",
      "    mean_env_render_ms: 0.0\n",
      "    mean_env_wait_ms: 1558.8627522287172\n",
      "    mean_inference_ms: 4.777004950361334\n",
      "    mean_raw_obs_processing_ms: 1266.328082956148\n",
      "  time_since_restore: 60.557427406311035\n",
      "  time_this_iter_s: 15.232794761657715\n",
      "  time_total_s: 60.557427406311035\n",
      "  timers:\n",
      "    learn_throughput: 64.355\n",
      "    learn_time_ms: 77.694\n",
      "    load_throughput: 17189.77\n",
      "    load_time_ms: 0.291\n",
      "    sample_throughput: 0.33\n",
      "    sample_time_ms: 15153.045\n",
      "    update_time_ms: 1.83\n",
      "  timestamp: 1649270186\n",
      "  timesteps_since_restore: 0\n",
      "  timesteps_this_iter: 0\n",
      "  timesteps_total: 20\n",
      "  training_iteration: 4\n",
      "  trial_id: 47e50_00000\n",
      "  \n",
      "\u001b[2m\u001b[36m(RolloutWorker pid=4033696)\u001b[0m hackkk: -ee-instrument\n",
      "\u001b[2m\u001b[36m(RolloutWorker pid=4033696)\u001b[0m perf\n",
      "\u001b[2m\u001b[36m(RolloutWorker pid=4033696)\u001b[0m hackkk: -sccp\n",
      "\u001b[2m\u001b[36m(RolloutWorker pid=4033696)\u001b[0m hackkk: -lower-matrix-intrinsics\n"
     ]
    },
    {
     "data": {
      "text/html": [
       "== Status ==<br>Current time: 2022-04-06 13:36:28 (running for 00:01:22.18)<br>Memory usage on this node: 30.8/503.7 GiB<br>Using FIFO scheduling algorithm.<br>Resources requested: 2.0/96 CPUs, 0/1 GPUs, 0.0/331.06 GiB heap, 0.0/145.87 GiB objects<br>Result logdir: /home/dx4/ray_results/PPO_2022-04-06_13-35-06<br>Number of trials: 1/1 (1 RUNNING)<br><table>\n",
       "<thead>\n",
       "<tr><th>Trial name                  </th><th>status  </th><th>loc                  </th><th style=\"text-align: right;\">  iter</th><th style=\"text-align: right;\">  total time (s)</th><th style=\"text-align: right;\">  ts</th><th style=\"text-align: right;\">    reward</th><th style=\"text-align: right;\">  episode_reward_max</th><th style=\"text-align: right;\">  episode_reward_min</th><th style=\"text-align: right;\">  episode_len_mean</th></tr>\n",
       "</thead>\n",
       "<tbody>\n",
       "<tr><td>PPO_compiler_gym_47e50_00000</td><td>RUNNING </td><td>128.42.128.60:4033683</td><td style=\"text-align: right;\">     4</td><td style=\"text-align: right;\">         60.5574</td><td style=\"text-align: right;\">  20</td><td style=\"text-align: right;\">0.00184731</td><td style=\"text-align: right;\">           0.0275068</td><td style=\"text-align: right;\">          -0.0209975</td><td style=\"text-align: right;\">                 5</td></tr>\n",
       "</tbody>\n",
       "</table><br><br>"
      ],
      "text/plain": [
       "<IPython.core.display.HTML object>"
      ]
     },
     "metadata": {},
     "output_type": "display_data"
    },
    {
     "name": "stdout",
     "output_type": "stream",
     "text": [
      "\u001b[2m\u001b[36m(RolloutWorker pid=4033696)\u001b[0m hackkk: -slsr\n",
      "\u001b[2m\u001b[36m(RolloutWorker pid=4033696)\u001b[0m hackkk: -infer-address-spaces\n",
      "\u001b[2m\u001b[36m(RolloutWorker pid=4033696)\u001b[0m \n",
      "\u001b[2m\u001b[36m(RolloutWorker pid=4033696)\u001b[0m  /dev/shm/compiler_gym_dx4/s/0406T133513-532391-6f35 \n",
      "\u001b[2m\u001b[36m(RolloutWorker pid=4033696)\u001b[0m \n",
      "\u001b[2m\u001b[36m(RolloutWorker pid=4033696)\u001b[0m source_filename = \"/dev/shm/compiler_gym_dx4/s/0406T133513-532391-6f35/benchmark.c\"\n",
      "\u001b[2m\u001b[36m(RolloutWorker pid=4033696)\u001b[0m \n",
      "\u001b[2m\u001b[36m(RolloutWorker pid=4033696)\u001b[0m \n",
      "\u001b[2m\u001b[36m(RolloutWorker pid=4033696)\u001b[0m  compile: \n",
      "\u001b[2m\u001b[36m(RolloutWorker pid=4033696)\u001b[0m /home/dx4/.local/share/compiler_gym/llvm-v0/bin/opt --debugify -o /dev/shm/compiler_gym_dx4/s/0406T133513-532391-6f35/benchmark.bc /dev/shm/compiler_gym_dx4/s/0406T133513-532391-6f35/benchmark.ll\n",
      "\u001b[2m\u001b[36m(RolloutWorker pid=4033696)\u001b[0m /home/dx4/.local/share/compiler_gym/llvm-v0/bin/clang /dev/shm/compiler_gym_dx4/s/0406T133513-532391-6f35/benchmark.bc -lm -o /dev/shm/compiler_gym_dx4/s/0406T133513-532391-6f35/benchmark.exe\n",
      "\u001b[2m\u001b[36m(RolloutWorker pid=4033696)\u001b[0m /home/dx4/.local/share/compiler_gym/llvm-v0/bin/llvm-dis -o /dev/shm/compiler_gym_dx4/s/0406T133513-532391-6f35/benchmark_new.ll /dev/shm/compiler_gym_dx4/s/0406T133513-532391-6f35/benchmark.bc\n",
      "\u001b[2m\u001b[36m(RolloutWorker pid=4033696)\u001b[0m \n",
      "\u001b[2m\u001b[36m(RolloutWorker pid=4033696)\u001b[0m \n",
      "\u001b[2m\u001b[36m(RolloutWorker pid=4033696)\u001b[0m \n",
      "\u001b[2m\u001b[36m(RolloutWorker pid=4033696)\u001b[0m  pre_run_cmd: \n",
      "\u001b[2m\u001b[36m(RolloutWorker pid=4033696)\u001b[0m []\n",
      "\u001b[2m\u001b[36m(RolloutWorker pid=4033696)\u001b[0m \n",
      "\u001b[2m\u001b[36m(RolloutWorker pid=4033696)\u001b[0m \n",
      "\u001b[2m\u001b[36m(RolloutWorker pid=4033696)\u001b[0m \n",
      "\u001b[2m\u001b[36m(RolloutWorker pid=4033696)\u001b[0m  run_cmd: \n",
      "\u001b[2m\u001b[36m(RolloutWorker pid=4033696)\u001b[0m /dev/shm/compiler_gym_dx4/s/0406T133513-532391-6f35/benchmark.exe\n",
      "\u001b[2m\u001b[36m(RolloutWorker pid=4033696)\u001b[0m \n",
      "\u001b[2m\u001b[36m(RolloutWorker pid=4033696)\u001b[0m \n",
      "\u001b[2m\u001b[36m(RolloutWorker pid=4033696)\u001b[0m hackkk: -O0\n",
      "\u001b[2m\u001b[36m(RolloutWorker pid=4033696)\u001b[0m perf\n"
     ]
    },
    {
     "data": {
      "text/html": [
       "== Status ==<br>Current time: 2022-04-06 13:36:33 (running for 00:01:27.19)<br>Memory usage on this node: 30.8/503.7 GiB<br>Using FIFO scheduling algorithm.<br>Resources requested: 2.0/96 CPUs, 0/1 GPUs, 0.0/331.06 GiB heap, 0.0/145.87 GiB objects<br>Result logdir: /home/dx4/ray_results/PPO_2022-04-06_13-35-06<br>Number of trials: 1/1 (1 RUNNING)<br><table>\n",
       "<thead>\n",
       "<tr><th>Trial name                  </th><th>status  </th><th>loc                  </th><th style=\"text-align: right;\">  iter</th><th style=\"text-align: right;\">  total time (s)</th><th style=\"text-align: right;\">  ts</th><th style=\"text-align: right;\">    reward</th><th style=\"text-align: right;\">  episode_reward_max</th><th style=\"text-align: right;\">  episode_reward_min</th><th style=\"text-align: right;\">  episode_len_mean</th></tr>\n",
       "</thead>\n",
       "<tbody>\n",
       "<tr><td>PPO_compiler_gym_47e50_00000</td><td>RUNNING </td><td>128.42.128.60:4033683</td><td style=\"text-align: right;\">     4</td><td style=\"text-align: right;\">         60.5574</td><td style=\"text-align: right;\">  20</td><td style=\"text-align: right;\">0.00184731</td><td style=\"text-align: right;\">           0.0275068</td><td style=\"text-align: right;\">          -0.0209975</td><td style=\"text-align: right;\">                 5</td></tr>\n",
       "</tbody>\n",
       "</table><br><br>"
      ],
      "text/plain": [
       "<IPython.core.display.HTML object>"
      ]
     },
     "metadata": {},
     "output_type": "display_data"
    },
    {
     "name": "stdout",
     "output_type": "stream",
     "text": [
      "\u001b[2m\u001b[36m(RolloutWorker pid=4033696)\u001b[0m Reward Runtime: reset\n",
      "\u001b[2m\u001b[36m(RolloutWorker pid=4033696)\u001b[0m runtime_tensor\n",
      "\u001b[2m\u001b[36m(RolloutWorker pid=4033696)\u001b[0m real 1.09\n",
      "\u001b[2m\u001b[36m(RolloutWorker pid=4033696)\u001b[0m user 1.09\n",
      "\u001b[2m\u001b[36m(RolloutWorker pid=4033696)\u001b[0m sys 0.00\n",
      "\u001b[2m\u001b[36m(RolloutWorker pid=4033696)\u001b[0m \n",
      "\u001b[2m\u001b[36m(RolloutWorker pid=4033696)\u001b[0m real 1.10\n",
      "\u001b[2m\u001b[36m(RolloutWorker pid=4033696)\u001b[0m user 1.09\n",
      "\u001b[2m\u001b[36m(RolloutWorker pid=4033696)\u001b[0m sys 0.00\n",
      "\u001b[2m\u001b[36m(RolloutWorker pid=4033696)\u001b[0m \n",
      "\u001b[2m\u001b[36m(RolloutWorker pid=4033696)\u001b[0m real 1.10\n",
      "\u001b[2m\u001b[36m(RolloutWorker pid=4033696)\u001b[0m user 1.09\n",
      "\u001b[2m\u001b[36m(RolloutWorker pid=4033696)\u001b[0m sys 0.00\n",
      "\u001b[2m\u001b[36m(RolloutWorker pid=4033696)\u001b[0m \n"
     ]
    },
    {
     "data": {
      "text/html": [
       "== Status ==<br>Current time: 2022-04-06 13:36:38 (running for 00:01:32.26)<br>Memory usage on this node: 30.8/503.7 GiB<br>Using FIFO scheduling algorithm.<br>Resources requested: 2.0/96 CPUs, 0/1 GPUs, 0.0/331.06 GiB heap, 0.0/145.87 GiB objects<br>Result logdir: /home/dx4/ray_results/PPO_2022-04-06_13-35-06<br>Number of trials: 1/1 (1 RUNNING)<br><table>\n",
       "<thead>\n",
       "<tr><th>Trial name                  </th><th>status  </th><th>loc                  </th><th style=\"text-align: right;\">  iter</th><th style=\"text-align: right;\">  total time (s)</th><th style=\"text-align: right;\">  ts</th><th style=\"text-align: right;\">    reward</th><th style=\"text-align: right;\">  episode_reward_max</th><th style=\"text-align: right;\">  episode_reward_min</th><th style=\"text-align: right;\">  episode_len_mean</th></tr>\n",
       "</thead>\n",
       "<tbody>\n",
       "<tr><td>PPO_compiler_gym_47e50_00000</td><td>RUNNING </td><td>128.42.128.60:4033683</td><td style=\"text-align: right;\">     4</td><td style=\"text-align: right;\">         60.5574</td><td style=\"text-align: right;\">  20</td><td style=\"text-align: right;\">0.00184731</td><td style=\"text-align: right;\">           0.0275068</td><td style=\"text-align: right;\">          -0.0209975</td><td style=\"text-align: right;\">                 5</td></tr>\n",
       "</tbody>\n",
       "</table><br><br>"
      ],
      "text/plain": [
       "<IPython.core.display.HTML object>"
      ]
     },
     "metadata": {},
     "output_type": "display_data"
    },
    {
     "name": "stdout",
     "output_type": "stream",
     "text": [
      "\u001b[2m\u001b[36m(RolloutWorker pid=4033696)\u001b[0m real 1.09\n",
      "\u001b[2m\u001b[36m(RolloutWorker pid=4033696)\u001b[0m user 1.09\n",
      "\u001b[2m\u001b[36m(RolloutWorker pid=4033696)\u001b[0m sys 0.00\n",
      "\u001b[2m\u001b[36m(RolloutWorker pid=4033696)\u001b[0m \n",
      "Result for PPO_compiler_gym_47e50_00000:\n",
      "  agent_timesteps_total: 25\n",
      "  custom_metrics: {}\n",
      "  date: 2022-04-06_13-36-40\n",
      "  done: true\n",
      "  episode_len_mean: 5.0\n",
      "  episode_media: {}\n",
      "  episode_reward_max: 0.027506845314330494\n",
      "  episode_reward_mean: 0.0021490633987277154\n",
      "  episode_reward_min: -0.020997503296242365\n",
      "  episodes_this_iter: 1\n",
      "  episodes_total: 5\n",
      "  experiment_id: de9ea7c860aa44ef97ed7b15ce3b576f\n",
      "  hostname: ufront.cs.rice.edu\n",
      "  info:\n",
      "    learner:\n",
      "      default_policy:\n",
      "        custom_metrics: {}\n",
      "        learner_stats:\n",
      "          cur_kl_coeff: 0.012500000186264515\n",
      "          cur_lr: 4.999999873689376e-05\n",
      "          entropy: 4.798734188079834\n",
      "          entropy_coeff: 0.0\n",
      "          kl: 0.0024173103738576174\n",
      "          model: {}\n",
      "          policy_loss: -0.18789276480674744\n",
      "          total_loss: -0.1878124624490738\n",
      "          vf_explained_var: 7.152557657263969e-08\n",
      "          vf_loss: 5.006351784686558e-05\n",
      "    num_agent_steps_sampled: 25\n",
      "    num_agent_steps_trained: 25\n",
      "    num_steps_sampled: 25\n",
      "    num_steps_trained: 25\n",
      "    num_steps_trained_this_iter: 0\n",
      "  iterations_since_restore: 5\n",
      "  node_ip: 128.42.128.60\n",
      "  num_healthy_workers: 1\n",
      "  off_policy_estimator: {}\n",
      "  perf:\n",
      "    cpu_util_percent: 3.0650000000000004\n",
      "    ram_util_percent: 6.099999999999999\n",
      "  pid: 4033683\n",
      "  policy_reward_max: {}\n",
      "  policy_reward_mean: {}\n",
      "  policy_reward_min: {}\n",
      "  sampler_perf:\n",
      "    mean_action_processing_ms: 0.20450431527275267\n",
      "    mean_env_render_ms: 0.0\n",
      "    mean_env_wait_ms: 1558.6436580160716\n",
      "    mean_inference_ms: 4.398402692753198\n",
      "    mean_raw_obs_processing_ms: 1269.4039365697852\n",
      "  time_since_restore: 74.32345032691956\n",
      "  time_this_iter_s: 13.76602292060852\n",
      "  time_total_s: 74.32345032691956\n",
      "  timers:\n",
      "    learn_throughput: 70.778\n",
      "    learn_time_ms: 70.643\n",
      "    load_throughput: 17232.145\n",
      "    load_time_ms: 0.29\n",
      "    sample_throughput: 0.336\n",
      "    sample_time_ms: 14880.356\n",
      "    update_time_ms: 1.769\n",
      "  timestamp: 1649270200\n",
      "  timesteps_since_restore: 0\n",
      "  timesteps_this_iter: 0\n",
      "  timesteps_total: 25\n",
      "  training_iteration: 5\n",
      "  trial_id: 47e50_00000\n",
      "  \n",
      "\u001b[2m\u001b[36m(RolloutWorker pid=4033696)\u001b[0m real 1.10\n",
      "\u001b[2m\u001b[36m(RolloutWorker pid=4033696)\u001b[0m user 1.10\n",
      "\u001b[2m\u001b[36m(RolloutWorker pid=4033696)\u001b[0m sys 0.00\n",
      "\u001b[2m\u001b[36m(RolloutWorker pid=4033696)\u001b[0m \n"
     ]
    },
    {
     "data": {
      "text/html": [
       "== Status ==<br>Current time: 2022-04-06 13:36:40 (running for 00:01:34.08)<br>Memory usage on this node: 30.8/503.7 GiB<br>Using FIFO scheduling algorithm.<br>Resources requested: 0/96 CPUs, 0/1 GPUs, 0.0/331.06 GiB heap, 0.0/145.87 GiB objects<br>Result logdir: /home/dx4/ray_results/PPO_2022-04-06_13-35-06<br>Number of trials: 1/1 (1 TERMINATED)<br><table>\n",
       "<thead>\n",
       "<tr><th>Trial name                  </th><th>status    </th><th>loc                  </th><th style=\"text-align: right;\">  iter</th><th style=\"text-align: right;\">  total time (s)</th><th style=\"text-align: right;\">  ts</th><th style=\"text-align: right;\">    reward</th><th style=\"text-align: right;\">  episode_reward_max</th><th style=\"text-align: right;\">  episode_reward_min</th><th style=\"text-align: right;\">  episode_len_mean</th></tr>\n",
       "</thead>\n",
       "<tbody>\n",
       "<tr><td>PPO_compiler_gym_47e50_00000</td><td>TERMINATED</td><td>128.42.128.60:4033683</td><td style=\"text-align: right;\">     5</td><td style=\"text-align: right;\">         74.3235</td><td style=\"text-align: right;\">  25</td><td style=\"text-align: right;\">0.00214906</td><td style=\"text-align: right;\">           0.0275068</td><td style=\"text-align: right;\">          -0.0209975</td><td style=\"text-align: right;\">                 5</td></tr>\n",
       "</tbody>\n",
       "</table><br><br>"
      ],
      "text/plain": [
       "<IPython.core.display.HTML object>"
      ]
     },
     "metadata": {},
     "output_type": "display_data"
    },
    {
     "name": "stderr",
     "output_type": "stream",
     "text": [
      "2022-04-06 13:36:41,684\tINFO tune.py:626 -- Total run time: 95.15 seconds (93.98 seconds for the tuning loop).\n"
     ]
    }
   ],
   "source": [
    "import ray\n",
    "from ray.rllib.algorithms.ppo import PPOTrainer\n",
    "\n",
    "# (Re)Start the ray runtime.\n",
    "if ray.is_initialized():\n",
    "  ray.shutdown()\n",
    "ray.init(include_dashboard=False, ignore_reinit_error=True)\n",
    "\n",
    "tune.register_env(\"compiler_gym\", make_training_env)\n",
    "\n",
    "analysis = tune.run(\n",
    "    PPOTrainer,\n",
    "    checkpoint_at_end=True,\n",
    "    stop={\n",
    "        \"episodes_total\": 5,\n",
    "    },\n",
    "    config={\n",
    "        \"seed\": 0xCC,\n",
    "        \"num_workers\": 1,\n",
    "        # Specify the environment to use, where \"compiler_gym\" is the name we \n",
    "        # passed to tune.register_env().\n",
    "        \"env\": \"compiler_gym\",\n",
    "        # Reduce the size of the batch/trajectory lengths to match our short \n",
    "        # training run.\n",
    "        \"rollout_fragment_length\": 5,\n",
    "        \"train_batch_size\": 5,\n",
    "        \"sgd_minibatch_size\": 5,\n",
    "    }\n",
    ")"
   ]
  },
  {
   "cell_type": "markdown",
   "metadata": {
    "id": "CFDxXezNuXdy"
   },
   "source": [
    "## Evaluate the agent\n",
    "\n",
    "After running the training loop we can create a new agent that has exploration disabled, restore it from the training checkpoint, and then use it for running inference tests."
   ]
  },
  {
   "cell_type": "code",
   "execution_count": 23,
   "metadata": {
    "colab": {
     "base_uri": "https://localhost:8080/"
    },
    "id": "4mYoBhSEi26c",
    "outputId": "2dae3ec2-9d0e-4919-86b9-10362d9dd5ee"
   },
   "outputs": [
    {
     "name": "stderr",
     "output_type": "stream",
     "text": [
      "2022-04-06 13:37:12,203\tINFO trainer.py:722 -- Your framework setting is 'tf', meaning you are using static-graph mode. Set framework='tf2' to enable eager execution with tf2.x. You may also want to then set `eager_tracing=True` in order to reach similar execution speed as with static-graph mode.\n",
      "2022-04-06 13:37:12,204\tINFO ppo.py:166 -- In multi-agent mode, policies will be optimized sequentially by the multi-GPU optimizer. Consider setting simple_optimizer=True if this doesn't work for you.\n",
      "2022-04-06 13:37:12,205\tINFO trainer.py:743 -- Current log_level is WARN. For more information, set 'log_level': 'INFO' / 'DEBUG' or use the -v and -vv flags.\n"
     ]
    },
    {
     "name": "stdout",
     "output_type": "stream",
     "text": [
      "\u001b[2m\u001b[36m(RolloutWorker pid=4033692)\u001b[0m What is the path /home/dx4/tools/compiler2/compiler2_service/service_py/example_service.py\n",
      "\u001b[2m\u001b[36m(RolloutWorker pid=4033692)\u001b[0m Is that file:  True\n"
     ]
    },
    {
     "name": "stderr",
     "output_type": "stream",
     "text": [
      "\u001b[2m\u001b[36m(RolloutWorker pid=4033692)\u001b[0m /home/dx4/.local/share/compiler_gym/llvm-v0/bin/clang: /lib64/libtinfo.so.5: no version information available (required by /home/dx4/.local/share/compiler_gym/llvm-v0/bin/clang)\n",
      "\u001b[2m\u001b[36m(RolloutWorker pid=4033692)\u001b[0m /home/dx4/.local/share/compiler_gym/llvm-v0/bin/clang: /lib64/libtinfo.so.5: no version information available (required by /home/dx4/.local/share/compiler_gym/llvm-v0/bin/clang)\n",
      "\u001b[2m\u001b[36m(RolloutWorker pid=4033692)\u001b[0m /home/dx4/.local/share/compiler_gym/llvm-v0/bin/clang: /lib64/libtinfo.so.5: no version information available (required by /home/dx4/.local/share/compiler_gym/llvm-v0/bin/clang)\n",
      "\u001b[2m\u001b[36m(RolloutWorker pid=4033692)\u001b[0m /home/dx4/.local/share/compiler_gym/llvm-v0/bin/clang: /lib64/libtinfo.so.5: no version information available (required by /home/dx4/.local/share/compiler_gym/llvm-v0/bin/clang)\n",
      "\u001b[2m\u001b[36m(RolloutWorker pid=4033692)\u001b[0m /home/dx4/.local/share/compiler_gym/llvm-v0/bin/clang: /lib64/libtinfo.so.5: no version information available (required by /home/dx4/.local/share/compiler_gym/llvm-v0/bin/clang)\n",
      "\u001b[2m\u001b[36m(RolloutWorker pid=4033692)\u001b[0m /home/dx4/.local/share/compiler_gym/llvm-v0/bin/clang: /lib64/libtinfo.so.5: no version information available (required by /home/dx4/.local/share/compiler_gym/llvm-v0/bin/clang)\n",
      "\u001b[2m\u001b[36m(RolloutWorker pid=4033692)\u001b[0m /home/dx4/.local/share/compiler_gym/llvm-v0/bin/clang: /lib64/libtinfo.so.5: no version information available (required by /home/dx4/.local/share/compiler_gym/llvm-v0/bin/clang)\n",
      "\u001b[2m\u001b[36m(RolloutWorker pid=4033692)\u001b[0m /home/dx4/.local/share/compiler_gym/llvm-v0/bin/clang: /lib64/libtinfo.so.5: no version information available (required by /home/dx4/.local/share/compiler_gym/llvm-v0/bin/clang)\n"
     ]
    },
    {
     "name": "stdout",
     "output_type": "stream",
     "text": [
      "\u001b[2m\u001b[36m(RolloutWorker pid=4033692)\u001b[0m What is the path /home/dx4/tools/compiler2/compiler2_service/service_py/example_service.py\n",
      "\u001b[2m\u001b[36m(RolloutWorker pid=4033692)\u001b[0m Is that file:  True\n"
     ]
    },
    {
     "name": "stderr",
     "output_type": "stream",
     "text": [
      "\u001b[2m\u001b[36m(RolloutWorker pid=4033692)\u001b[0m /home/dx4/.local/share/compiler_gym/llvm-v0/bin/clang: /lib64/libtinfo.so.5: no version information available (required by /home/dx4/.local/share/compiler_gym/llvm-v0/bin/clang)\n",
      "\u001b[2m\u001b[36m(RolloutWorker pid=4033692)\u001b[0m /home/dx4/.local/share/compiler_gym/llvm-v0/bin/clang: /lib64/libtinfo.so.5: no version information available (required by /home/dx4/.local/share/compiler_gym/llvm-v0/bin/clang)\n",
      "\u001b[2m\u001b[36m(RolloutWorker pid=4033692)\u001b[0m /home/dx4/.local/share/compiler_gym/llvm-v0/bin/clang: /lib64/libtinfo.so.5: no version information available (required by /home/dx4/.local/share/compiler_gym/llvm-v0/bin/clang)\n",
      "\u001b[2m\u001b[36m(RolloutWorker pid=4033692)\u001b[0m /home/dx4/.local/share/compiler_gym/llvm-v0/bin/clang: /lib64/libtinfo.so.5: no version information available (required by /home/dx4/.local/share/compiler_gym/llvm-v0/bin/clang)\n",
      "\u001b[2m\u001b[36m(RolloutWorker pid=4033692)\u001b[0m /home/dx4/.local/share/compiler_gym/llvm-v0/bin/clang: /lib64/libtinfo.so.5: no version information available (required by /home/dx4/.local/share/compiler_gym/llvm-v0/bin/clang)\n",
      "\u001b[2m\u001b[36m(RolloutWorker pid=4033692)\u001b[0m /home/dx4/.local/share/compiler_gym/llvm-v0/bin/clang: /lib64/libtinfo.so.5: no version information available (required by /home/dx4/.local/share/compiler_gym/llvm-v0/bin/clang)\n",
      "\u001b[2m\u001b[36m(RolloutWorker pid=4033692)\u001b[0m /home/dx4/.local/share/compiler_gym/llvm-v0/bin/clang: /lib64/libtinfo.so.5: no version information available (required by /home/dx4/.local/share/compiler_gym/llvm-v0/bin/clang)\n",
      "\u001b[2m\u001b[36m(RolloutWorker pid=4033692)\u001b[0m /home/dx4/.local/share/compiler_gym/llvm-v0/bin/clang: /lib64/libtinfo.so.5: no version information available (required by /home/dx4/.local/share/compiler_gym/llvm-v0/bin/clang)\n",
      "\u001b[2m\u001b[36m(RolloutWorker pid=4033692)\u001b[0m Using backend: pytorch\n",
      "\u001b[2m\u001b[36m(RolloutWorker pid=4033692)\u001b[0m ./compiler_gym-llvm-service: /lib64/libtinfo.so.5: no version information available (required by ./compiler_gym-llvm-service)\n"
     ]
    },
    {
     "name": "stdout",
     "output_type": "stream",
     "text": [
      "\u001b[2m\u001b[36m(RolloutWorker pid=4033692)\u001b[0m \n",
      "\u001b[2m\u001b[36m(RolloutWorker pid=4033692)\u001b[0m  /dev/shm/compiler_gym_dx4/s/0406T133715-459211-6f35 \n",
      "\u001b[2m\u001b[36m(RolloutWorker pid=4033692)\u001b[0m \n",
      "\u001b[2m\u001b[36m(RolloutWorker pid=4033692)\u001b[0m source_filename = \"/dev/shm/compiler_gym_dx4/s/0406T133715-459211-6f35/benchmark.c\"\n",
      "\u001b[2m\u001b[36m(RolloutWorker pid=4033692)\u001b[0m \n",
      "\u001b[2m\u001b[36m(RolloutWorker pid=4033692)\u001b[0m \n",
      "\u001b[2m\u001b[36m(RolloutWorker pid=4033692)\u001b[0m  compile: \n",
      "\u001b[2m\u001b[36m(RolloutWorker pid=4033692)\u001b[0m /home/dx4/.local/share/compiler_gym/llvm-v0/bin/opt --debugify -o /dev/shm/compiler_gym_dx4/s/0406T133715-459211-6f35/benchmark.bc /dev/shm/compiler_gym_dx4/s/0406T133715-459211-6f35/benchmark.ll\n",
      "\u001b[2m\u001b[36m(RolloutWorker pid=4033692)\u001b[0m /home/dx4/.local/share/compiler_gym/llvm-v0/bin/clang /dev/shm/compiler_gym_dx4/s/0406T133715-459211-6f35/benchmark.bc -lm -o /dev/shm/compiler_gym_dx4/s/0406T133715-459211-6f35/benchmark.exe\n",
      "\u001b[2m\u001b[36m(RolloutWorker pid=4033692)\u001b[0m /home/dx4/.local/share/compiler_gym/llvm-v0/bin/llvm-dis -o /dev/shm/compiler_gym_dx4/s/0406T133715-459211-6f35/benchmark_new.ll /dev/shm/compiler_gym_dx4/s/0406T133715-459211-6f35/benchmark.bc\n",
      "\u001b[2m\u001b[36m(RolloutWorker pid=4033692)\u001b[0m \n",
      "\u001b[2m\u001b[36m(RolloutWorker pid=4033692)\u001b[0m \n",
      "\u001b[2m\u001b[36m(RolloutWorker pid=4033692)\u001b[0m \n",
      "\u001b[2m\u001b[36m(RolloutWorker pid=4033692)\u001b[0m  pre_run_cmd: \n",
      "\u001b[2m\u001b[36m(RolloutWorker pid=4033692)\u001b[0m []\n",
      "\u001b[2m\u001b[36m(RolloutWorker pid=4033692)\u001b[0m \n",
      "\u001b[2m\u001b[36m(RolloutWorker pid=4033692)\u001b[0m \n",
      "\u001b[2m\u001b[36m(RolloutWorker pid=4033692)\u001b[0m \n",
      "\u001b[2m\u001b[36m(RolloutWorker pid=4033692)\u001b[0m  run_cmd: \n",
      "\u001b[2m\u001b[36m(RolloutWorker pid=4033692)\u001b[0m /dev/shm/compiler_gym_dx4/s/0406T133715-459211-6f35/benchmark.exe\n",
      "\u001b[2m\u001b[36m(RolloutWorker pid=4033692)\u001b[0m \n",
      "\u001b[2m\u001b[36m(RolloutWorker pid=4033692)\u001b[0m \n",
      "\u001b[2m\u001b[36m(RolloutWorker pid=4033692)\u001b[0m hackkk: -O0\n",
      "\u001b[2m\u001b[36m(RolloutWorker pid=4033692)\u001b[0m perf\n",
      "\u001b[2m\u001b[36m(RolloutWorker pid=4033692)\u001b[0m Reward Runtime: reset\n",
      "\u001b[2m\u001b[36m(RolloutWorker pid=4033692)\u001b[0m runtime_tensor\n",
      "\u001b[2m\u001b[36m(RolloutWorker pid=4033692)\u001b[0m real 1.10\n",
      "\u001b[2m\u001b[36m(RolloutWorker pid=4033692)\u001b[0m user 1.09\n",
      "\u001b[2m\u001b[36m(RolloutWorker pid=4033692)\u001b[0m sys 0.00\n",
      "\u001b[2m\u001b[36m(RolloutWorker pid=4033692)\u001b[0m \n",
      "\u001b[2m\u001b[36m(RolloutWorker pid=4033692)\u001b[0m real 1.09\n",
      "\u001b[2m\u001b[36m(RolloutWorker pid=4033692)\u001b[0m user 1.09\n",
      "\u001b[2m\u001b[36m(RolloutWorker pid=4033692)\u001b[0m sys 0.00\n",
      "\u001b[2m\u001b[36m(RolloutWorker pid=4033692)\u001b[0m \n",
      "\u001b[2m\u001b[36m(RolloutWorker pid=4033692)\u001b[0m real 1.10\n",
      "\u001b[2m\u001b[36m(RolloutWorker pid=4033692)\u001b[0m user 1.09\n",
      "\u001b[2m\u001b[36m(RolloutWorker pid=4033692)\u001b[0m sys 0.00\n",
      "\u001b[2m\u001b[36m(RolloutWorker pid=4033692)\u001b[0m \n",
      "\u001b[2m\u001b[36m(RolloutWorker pid=4033692)\u001b[0m real 1.09\n",
      "\u001b[2m\u001b[36m(RolloutWorker pid=4033692)\u001b[0m user 1.09\n",
      "\u001b[2m\u001b[36m(RolloutWorker pid=4033692)\u001b[0m sys 0.00\n",
      "\u001b[2m\u001b[36m(RolloutWorker pid=4033692)\u001b[0m \n",
      "\u001b[2m\u001b[36m(RolloutWorker pid=4033692)\u001b[0m real 1.09\n",
      "\u001b[2m\u001b[36m(RolloutWorker pid=4033692)\u001b[0m user 1.09\n",
      "\u001b[2m\u001b[36m(RolloutWorker pid=4033692)\u001b[0m sys 0.00\n",
      "\u001b[2m\u001b[36m(RolloutWorker pid=4033692)\u001b[0m \n"
     ]
    },
    {
     "name": "stderr",
     "output_type": "stream",
     "text": [
      "\u001b[2m\u001b[36m(RolloutWorker pid=4033692)\u001b[0m 2022-04-06 13:37:26,453\tWARNING deprecation.py:45 -- DeprecationWarning: `SampleBatch['is_training']` has been deprecated. Use `SampleBatch.is_training` instead. This will raise an error in the future!\n",
      "2022-04-06 13:37:27,581\tWARNING deprecation.py:45 -- DeprecationWarning: `SampleBatch['is_training']` has been deprecated. Use `SampleBatch.is_training` instead. This will raise an error in the future!\n",
      "2022-04-06 13:37:28,076\tINFO trainable.py:124 -- Trainable.setup took 15.874 seconds. If your trainable is slow to initialize, consider setting reuse_actors=True to reduce actor creation overheads.\n",
      "2022-04-06 13:37:28,077\tWARNING util.py:57 -- Install gputil for GPU system monitoring.\n",
      "2022-04-06 13:37:28,132\tINFO trainable.py:467 -- Restored on 128.42.128.60 from checkpoint: /home/dx4/ray_results/PPO_2022-04-06_13-35-06/PPO_compiler_gym_47e50_00000_0_2022-04-06_13-35-06/checkpoint_000005/checkpoint-5\n",
      "2022-04-06 13:37:28,133\tINFO trainable.py:475 -- Current state after restoring: {'_iteration': 5, '_timesteps_total': 0, '_time_total': 74.32345032691956, '_episodes_total': 5}\n"
     ]
    }
   ],
   "source": [
    "agent = PPOTrainer(\n",
    "    env=\"compiler_gym\",\n",
    "    config={\n",
    "        \"num_workers\": 1,\n",
    "        \"seed\": 0xCC,\n",
    "        # For inference we disable the stocastic exploration that is used during \n",
    "        # training.\n",
    "        \"explore\": False,\n",
    "    },\n",
    ")\n",
    "\n",
    "# We only made a single checkpoint at the end of training, so restore that. In\n",
    "# practice we may have many checkpoints that we will select from using \n",
    "# performance on the validation set.\n",
    "checkpoint = analysis.get_best_checkpoint(\n",
    "    metric=\"episode_reward_mean\", \n",
    "    mode=\"max\", \n",
    "    trial=analysis.trials[0]\n",
    ")\n",
    "\n",
    "agent.restore(checkpoint)"
   ]
  },
  {
   "cell_type": "code",
   "execution_count": 24,
   "metadata": {
    "colab": {
     "base_uri": "https://localhost:8080/"
    },
    "id": "aWeLEVYZjVuM",
    "outputId": "ee293b46-650f-4fbb-8ff4-4414eb4140c5"
   },
   "outputs": [
    {
     "name": "stdout",
     "output_type": "stream",
     "text": [
      "What is the path /home/dx4/tools/compiler2/compiler2_service/service_py/example_service.py\n",
      "Is that file:  True\n"
     ]
    },
    {
     "name": "stderr",
     "output_type": "stream",
     "text": [
      "/home/dx4/.local/share/compiler_gym/llvm-v0/bin/clang: /lib64/libtinfo.so.5: no version information available (required by /home/dx4/.local/share/compiler_gym/llvm-v0/bin/clang)\n",
      "/home/dx4/.local/share/compiler_gym/llvm-v0/bin/clang: /lib64/libtinfo.so.5: no version information available (required by /home/dx4/.local/share/compiler_gym/llvm-v0/bin/clang)\n",
      "/home/dx4/.local/share/compiler_gym/llvm-v0/bin/clang: /lib64/libtinfo.so.5: no version information available (required by /home/dx4/.local/share/compiler_gym/llvm-v0/bin/clang)\n",
      "/home/dx4/.local/share/compiler_gym/llvm-v0/bin/clang: /lib64/libtinfo.so.5: no version information available (required by /home/dx4/.local/share/compiler_gym/llvm-v0/bin/clang)\n",
      "/home/dx4/.local/share/compiler_gym/llvm-v0/bin/clang: /lib64/libtinfo.so.5: no version information available (required by /home/dx4/.local/share/compiler_gym/llvm-v0/bin/clang)\n",
      "/home/dx4/.local/share/compiler_gym/llvm-v0/bin/clang: /lib64/libtinfo.so.5: no version information available (required by /home/dx4/.local/share/compiler_gym/llvm-v0/bin/clang)\n",
      "/home/dx4/.local/share/compiler_gym/llvm-v0/bin/clang: /lib64/libtinfo.so.5: no version information available (required by /home/dx4/.local/share/compiler_gym/llvm-v0/bin/clang)\n",
      "/home/dx4/.local/share/compiler_gym/llvm-v0/bin/clang: /lib64/libtinfo.so.5: no version information available (required by /home/dx4/.local/share/compiler_gym/llvm-v0/bin/clang)\n",
      "Using backend: pytorch\n",
      "./compiler_gym-llvm-service: /lib64/libtinfo.so.5: no version information available (required by ./compiler_gym-llvm-service)\n"
     ]
    },
    {
     "name": "stdout",
     "output_type": "stream",
     "text": [
      "\n",
      " /dev/shm/compiler_gym_dx4/s/0406T133735-172264-659b \n",
      "\n",
      "source_filename = \"/dev/shm/compiler_gym_dx4/s/0406T133735-172264-659b/benchmark.c\"\n",
      "\n",
      "\n",
      " compile: \n",
      "/home/dx4/.local/share/compiler_gym/llvm-v0/bin/opt --debugify -o /dev/shm/compiler_gym_dx4/s/0406T133735-172264-659b/benchmark.bc /dev/shm/compiler_gym_dx4/s/0406T133735-172264-659b/benchmark.ll\n",
      "/home/dx4/.local/share/compiler_gym/llvm-v0/bin/clang /dev/shm/compiler_gym_dx4/s/0406T133735-172264-659b/benchmark.bc -lm -o /dev/shm/compiler_gym_dx4/s/0406T133735-172264-659b/benchmark.exe\n",
      "/home/dx4/.local/share/compiler_gym/llvm-v0/bin/llvm-dis -o /dev/shm/compiler_gym_dx4/s/0406T133735-172264-659b/benchmark_new.ll /dev/shm/compiler_gym_dx4/s/0406T133735-172264-659b/benchmark.bc\n",
      "\n",
      "\n",
      "\n",
      " pre_run_cmd: \n",
      "[]\n",
      "\n",
      "\n",
      "\n",
      " run_cmd: \n",
      "/dev/shm/compiler_gym_dx4/s/0406T133735-172264-659b/benchmark.exe\n",
      "\n",
      "\n",
      "hackkk: -O0\n",
      "perf\n",
      "Reward Runtime: reset\n",
      "runtime_tensor\n",
      "real 0.05\n",
      "user 0.00\n",
      "sys 0.00\n",
      "\n",
      "real 0.05\n",
      "user 0.00\n",
      "sys 0.00\n",
      "\n",
      "real 0.05\n",
      "user 0.00\n",
      "sys 0.00\n",
      "\n",
      "real 0.05\n",
      "user 0.00\n",
      "sys 0.00\n",
      "\n"
     ]
    },
    {
     "name": "stderr",
     "output_type": "stream",
     "text": [
      "2022-04-06 13:37:37,643\tWARNING deprecation.py:45 -- DeprecationWarning: `compute_action` has been deprecated. Use `compute_single_action` instead. This will raise an error in the future!\n"
     ]
    },
    {
     "name": "stdout",
     "output_type": "stream",
     "text": [
      "real 0.05\n",
      "user 0.00\n",
      "sys 0.00\n",
      "\n",
      "hackkk: -instsimplify\n",
      "perf\n",
      "hackkk: -instsimplify\n",
      "hackkk: -instsimplify\n",
      "hackkk: -instsimplify\n",
      "hackkk: -instsimplify\n",
      "[1/2] benchmark='benchmark://hpctoolkit-cpu-v0/nanosleep' commandline='opt -instsimplify -instsimplify -instsimplify -instsimplify -instsimplify input.bc -o output.bc' walltime=2.025278329849243 reward=0.0666383520853629\n",
      "\n",
      " /dev/shm/compiler_gym_dx4/s/0406T133735-172264-659b \n",
      "\n",
      "source_filename = \"/dev/shm/compiler_gym_dx4/s/0406T133735-172264-659b/benchmark.c\"\n",
      "\n",
      "\n",
      " compile: \n",
      "/home/dx4/.local/share/compiler_gym/llvm-v0/bin/opt --debugify -o /dev/shm/compiler_gym_dx4/s/0406T133735-172264-659b/benchmark.bc /dev/shm/compiler_gym_dx4/s/0406T133735-172264-659b/benchmark.ll\n",
      "/home/dx4/.local/share/compiler_gym/llvm-v0/bin/clang /dev/shm/compiler_gym_dx4/s/0406T133735-172264-659b/benchmark.bc -lm -o /dev/shm/compiler_gym_dx4/s/0406T133735-172264-659b/benchmark.exe\n",
      "/home/dx4/.local/share/compiler_gym/llvm-v0/bin/llvm-dis -o /dev/shm/compiler_gym_dx4/s/0406T133735-172264-659b/benchmark_new.ll /dev/shm/compiler_gym_dx4/s/0406T133735-172264-659b/benchmark.bc\n",
      "\n",
      "\n",
      "\n",
      " pre_run_cmd: \n",
      "[]\n",
      "\n",
      "\n",
      "\n",
      " run_cmd: \n",
      "/dev/shm/compiler_gym_dx4/s/0406T133735-172264-659b/benchmark.exe\n",
      "\n",
      "\n",
      "hackkk: -O0\n",
      "perf\n",
      "Reward Runtime: reset\n",
      "runtime_tensor\n",
      "real 0.00\n",
      "user 0.00\n",
      "sys 0.00\n",
      "\n",
      "real 0.00\n",
      "user 0.00\n",
      "sys 0.00\n",
      "\n",
      "real 0.00\n",
      "user 0.00\n",
      "sys 0.00\n",
      "\n",
      "real 0.00\n",
      "user 0.00\n",
      "sys 0.00\n",
      "\n",
      "real 0.00\n",
      "user 0.00\n",
      "sys 0.00\n",
      "\n",
      "hackkk: -instsimplify\n",
      "perf\n",
      "hackkk: -instsimplify\n",
      "hackkk: -instsimplify\n",
      "hackkk: -instsimplify\n",
      "hackkk: -instsimplify\n",
      "[2/2] benchmark='benchmark://hpctoolkit-cpu-v0/simple_pow' commandline='opt -instsimplify -instsimplify -instsimplify -instsimplify -instsimplify input.bc -o output.bc' walltime=1.0111396312713623 reward=-0.39337770111597553\n"
     ]
    }
   ],
   "source": [
    "# Lets define a helper function to make it easy to evaluate the agent's \n",
    "# performance on a set of benchmarks.\n",
    "\n",
    "def run_agent_on_benchmarks(benchmarks):\n",
    "  \"\"\"Run agent on a list of benchmarks and return a list of cumulative rewards.\"\"\"\n",
    "  with make_env() as env:\n",
    "    rewards = []\n",
    "    for i, benchmark in enumerate(benchmarks, start=1):\n",
    "        observation, done = env.reset(benchmark=benchmark), False\n",
    "        while not done:\n",
    "            action = agent.compute_action(observation)\n",
    "            observation, _, done, _ = env.step(action)\n",
    "        rewards.append(env.episode_reward)\n",
    "        print(f\"[{i}/{len(benchmarks)}] {env.state}\")\n",
    "\n",
    "  return rewards\n",
    "\n",
    "# Evaluate agent performance on the validation set.\n",
    "val_rewards = run_agent_on_benchmarks(val_benchmarks)"
   ]
  },
  {
   "cell_type": "code",
   "execution_count": 25,
   "metadata": {
    "colab": {
     "base_uri": "https://localhost:8080/"
    },
    "id": "DEc872g10UmF",
    "outputId": "96170474-0742-4e7c-9d53-4d2fc094f9fb"
   },
   "outputs": [
    {
     "name": "stdout",
     "output_type": "stream",
     "text": [
      "What is the path /home/dx4/tools/compiler2/compiler2_service/service_py/example_service.py\n",
      "Is that file:  True\n"
     ]
    },
    {
     "name": "stderr",
     "output_type": "stream",
     "text": [
      "/home/dx4/.local/share/compiler_gym/llvm-v0/bin/clang: /lib64/libtinfo.so.5: no version information available (required by /home/dx4/.local/share/compiler_gym/llvm-v0/bin/clang)\n",
      "/home/dx4/.local/share/compiler_gym/llvm-v0/bin/clang: /lib64/libtinfo.so.5: no version information available (required by /home/dx4/.local/share/compiler_gym/llvm-v0/bin/clang)\n",
      "/home/dx4/.local/share/compiler_gym/llvm-v0/bin/clang: /lib64/libtinfo.so.5: no version information available (required by /home/dx4/.local/share/compiler_gym/llvm-v0/bin/clang)\n",
      "/home/dx4/.local/share/compiler_gym/llvm-v0/bin/clang: /lib64/libtinfo.so.5: no version information available (required by /home/dx4/.local/share/compiler_gym/llvm-v0/bin/clang)\n",
      "/home/dx4/.local/share/compiler_gym/llvm-v0/bin/clang: /lib64/libtinfo.so.5: no version information available (required by /home/dx4/.local/share/compiler_gym/llvm-v0/bin/clang)\n",
      "/home/dx4/.local/share/compiler_gym/llvm-v0/bin/clang: /lib64/libtinfo.so.5: no version information available (required by /home/dx4/.local/share/compiler_gym/llvm-v0/bin/clang)\n",
      "/home/dx4/.local/share/compiler_gym/llvm-v0/bin/clang: /lib64/libtinfo.so.5: no version information available (required by /home/dx4/.local/share/compiler_gym/llvm-v0/bin/clang)\n",
      "/home/dx4/.local/share/compiler_gym/llvm-v0/bin/clang: /lib64/libtinfo.so.5: no version information available (required by /home/dx4/.local/share/compiler_gym/llvm-v0/bin/clang)\n",
      "Using backend: pytorch\n",
      "./compiler_gym-llvm-service: /lib64/libtinfo.so.5: no version information available (required by ./compiler_gym-llvm-service)\n"
     ]
    },
    {
     "name": "stdout",
     "output_type": "stream",
     "text": [
      "\n",
      " /dev/shm/compiler_gym_dx4/s/0406T133749-107072-dc36 \n",
      "\n",
      "source_filename = \"/dev/shm/compiler_gym_dx4/s/0406T133749-107072-dc36/benchmark.c\"\n",
      "\n",
      "\n",
      " compile: \n",
      "/home/dx4/.local/share/compiler_gym/llvm-v0/bin/opt --debugify -o /dev/shm/compiler_gym_dx4/s/0406T133749-107072-dc36/benchmark.bc /dev/shm/compiler_gym_dx4/s/0406T133749-107072-dc36/benchmark.ll\n",
      "/home/dx4/.local/share/compiler_gym/llvm-v0/bin/clang /dev/shm/compiler_gym_dx4/s/0406T133749-107072-dc36/benchmark.bc -lm -o /dev/shm/compiler_gym_dx4/s/0406T133749-107072-dc36/benchmark.exe\n",
      "/home/dx4/.local/share/compiler_gym/llvm-v0/bin/llvm-dis -o /dev/shm/compiler_gym_dx4/s/0406T133749-107072-dc36/benchmark_new.ll /dev/shm/compiler_gym_dx4/s/0406T133749-107072-dc36/benchmark.bc\n",
      "\n",
      "\n",
      "\n",
      " pre_run_cmd: \n",
      "[]\n",
      "\n",
      "\n",
      "\n",
      " run_cmd: \n",
      "/dev/shm/compiler_gym_dx4/s/0406T133749-107072-dc36/benchmark.exe\n",
      "\n",
      "\n",
      "hackkk: -O0\n",
      "perf\n",
      "Reward Runtime: reset\n",
      "runtime_tensor\n",
      "real 1.12\n",
      "user 1.11\n",
      "sys 0.00\n",
      "\n",
      "real 1.09\n",
      "user 1.09\n",
      "sys 0.00\n",
      "\n",
      "real 1.10\n",
      "user 1.10\n",
      "sys 0.00\n",
      "\n",
      "real 1.09\n",
      "user 1.09\n",
      "sys 0.00\n",
      "\n",
      "real 1.10\n",
      "user 1.09\n",
      "sys 0.00\n",
      "\n",
      "hackkk: -instsimplify\n",
      "perf\n",
      "hackkk: -instsimplify\n",
      "hackkk: -instsimplify\n",
      "hackkk: -instsimplify\n",
      "hackkk: -instsimplify\n",
      "[1/4] benchmark='benchmark://hpctoolkit-cpu-v0/conv2d' commandline='opt -instsimplify -instsimplify -instsimplify -instsimplify -instsimplify input.bc -o output.bc' walltime=18.681665897369385 reward=-0.006958796790610122\n",
      "\n",
      " /dev/shm/compiler_gym_dx4/s/0406T133749-107072-dc36 \n",
      "\n",
      "source_filename = \"/dev/shm/compiler_gym_dx4/s/0406T133749-107072-dc36/benchmark.c\"\n",
      "\n",
      "\n",
      " compile: \n",
      "/home/dx4/.local/share/compiler_gym/llvm-v0/bin/opt --debugify -o /dev/shm/compiler_gym_dx4/s/0406T133749-107072-dc36/benchmark.bc /dev/shm/compiler_gym_dx4/s/0406T133749-107072-dc36/benchmark.ll\n",
      "/home/dx4/.local/share/compiler_gym/llvm-v0/bin/clang /dev/shm/compiler_gym_dx4/s/0406T133749-107072-dc36/benchmark.bc -lm -o /dev/shm/compiler_gym_dx4/s/0406T133749-107072-dc36/benchmark.exe\n",
      "/home/dx4/.local/share/compiler_gym/llvm-v0/bin/llvm-dis -o /dev/shm/compiler_gym_dx4/s/0406T133749-107072-dc36/benchmark_new.ll /dev/shm/compiler_gym_dx4/s/0406T133749-107072-dc36/benchmark.bc\n",
      "\n",
      "\n",
      "\n",
      " pre_run_cmd: \n",
      "[]\n",
      "\n",
      "\n",
      "\n",
      " run_cmd: \n",
      "/dev/shm/compiler_gym_dx4/s/0406T133749-107072-dc36/benchmark.exe\n",
      "\n",
      "\n",
      "hackkk: -O0\n",
      "perf\n",
      "Reward Runtime: reset\n",
      "runtime_tensor\n",
      "real 0.34\n",
      "user 0.34\n",
      "sys 0.00\n",
      "\n",
      "real 0.34\n",
      "user 0.34\n",
      "sys 0.00\n",
      "\n",
      "real 0.34\n",
      "user 0.33\n",
      "sys 0.00\n",
      "\n",
      "real 0.34\n",
      "user 0.33\n",
      "sys 0.00\n",
      "\n",
      "real 0.34\n",
      "user 0.34\n",
      "sys 0.00\n",
      "\n",
      "hackkk: -instsimplify\n",
      "perf\n",
      "hackkk: -instsimplify\n",
      "hackkk: -instsimplify\n",
      "hackkk: -instsimplify\n",
      "hackkk: -instsimplify\n",
      "[2/4] benchmark='benchmark://hpctoolkit-cpu-v0/offsets1' commandline='opt -instsimplify -instsimplify -instsimplify -instsimplify -instsimplify input.bc -o output.bc' walltime=6.612218379974365 reward=0.0040508632692022924\n",
      "\n",
      " /dev/shm/compiler_gym_dx4/s/0406T133749-107072-dc36 \n",
      "\n",
      "source_filename = \"/dev/shm/compiler_gym_dx4/s/0406T133749-107072-dc36/benchmark.c\"\n",
      "\n",
      "\n",
      " compile: \n",
      "/home/dx4/.local/share/compiler_gym/llvm-v0/bin/opt --debugify -o /dev/shm/compiler_gym_dx4/s/0406T133749-107072-dc36/benchmark.bc /dev/shm/compiler_gym_dx4/s/0406T133749-107072-dc36/benchmark.ll\n",
      "/home/dx4/.local/share/compiler_gym/llvm-v0/bin/clang /dev/shm/compiler_gym_dx4/s/0406T133749-107072-dc36/benchmark.bc -lm -o /dev/shm/compiler_gym_dx4/s/0406T133749-107072-dc36/benchmark.exe\n",
      "/home/dx4/.local/share/compiler_gym/llvm-v0/bin/llvm-dis -o /dev/shm/compiler_gym_dx4/s/0406T133749-107072-dc36/benchmark_new.ll /dev/shm/compiler_gym_dx4/s/0406T133749-107072-dc36/benchmark.bc\n",
      "\n",
      "\n",
      "\n",
      " pre_run_cmd: \n",
      "[]\n",
      "\n",
      "\n",
      "\n",
      " run_cmd: \n",
      "/dev/shm/compiler_gym_dx4/s/0406T133749-107072-dc36/benchmark.exe\n",
      "\n",
      "\n",
      "hackkk: -O0\n",
      "perf\n",
      "Reward Runtime: reset\n",
      "runtime_tensor\n",
      "real 0.05\n",
      "user 0.00\n",
      "sys 0.00\n",
      "\n",
      "real 0.05\n",
      "user 0.00\n",
      "sys 0.00\n",
      "\n",
      "real 0.05\n",
      "user 0.00\n",
      "sys 0.00\n",
      "\n",
      "real 0.05\n",
      "user 0.00\n",
      "sys 0.00\n",
      "\n",
      "real 0.05\n",
      "user 0.00\n",
      "sys 0.00\n",
      "\n",
      "hackkk: -instsimplify\n",
      "perf\n",
      "hackkk: -instsimplify\n",
      "hackkk: -instsimplify\n",
      "hackkk: -instsimplify\n",
      "hackkk: -instsimplify\n",
      "[3/4] benchmark='benchmark://hpctoolkit-cpu-v0/nanosleep' commandline='opt -instsimplify -instsimplify -instsimplify -instsimplify -instsimplify input.bc -o output.bc' walltime=2.0320258140563965 reward=0.12941448882862874\n",
      "\n",
      " /dev/shm/compiler_gym_dx4/s/0406T133749-107072-dc36 \n",
      "\n",
      "source_filename = \"/dev/shm/compiler_gym_dx4/s/0406T133749-107072-dc36/benchmark.c\"\n",
      "\n",
      "\n",
      " compile: \n",
      "/home/dx4/.local/share/compiler_gym/llvm-v0/bin/opt --debugify -o /dev/shm/compiler_gym_dx4/s/0406T133749-107072-dc36/benchmark.bc /dev/shm/compiler_gym_dx4/s/0406T133749-107072-dc36/benchmark.ll\n",
      "/home/dx4/.local/share/compiler_gym/llvm-v0/bin/clang /dev/shm/compiler_gym_dx4/s/0406T133749-107072-dc36/benchmark.bc -lm -o /dev/shm/compiler_gym_dx4/s/0406T133749-107072-dc36/benchmark.exe\n",
      "/home/dx4/.local/share/compiler_gym/llvm-v0/bin/llvm-dis -o /dev/shm/compiler_gym_dx4/s/0406T133749-107072-dc36/benchmark_new.ll /dev/shm/compiler_gym_dx4/s/0406T133749-107072-dc36/benchmark.bc\n",
      "\n",
      "\n",
      "\n",
      " pre_run_cmd: \n",
      "[]\n",
      "\n",
      "\n",
      "\n",
      " run_cmd: \n",
      "/dev/shm/compiler_gym_dx4/s/0406T133749-107072-dc36/benchmark.exe\n",
      "\n",
      "\n",
      "hackkk: -O0\n",
      "perf\n",
      "Reward Runtime: reset\n",
      "runtime_tensor\n",
      "real 0.00\n",
      "user 0.00\n",
      "sys 0.00\n",
      "\n",
      "real 0.00\n",
      "user 0.00\n",
      "sys 0.00\n",
      "\n",
      "real 0.00\n",
      "user 0.00\n",
      "sys 0.00\n",
      "\n",
      "real 0.00\n",
      "user 0.00\n",
      "sys 0.00\n",
      "\n",
      "real 0.00\n",
      "user 0.00\n",
      "sys 0.00\n",
      "\n",
      "hackkk: -instsimplify\n",
      "perf\n",
      "hackkk: -instsimplify\n",
      "hackkk: -instsimplify\n",
      "hackkk: -instsimplify\n",
      "hackkk: -instsimplify\n",
      "[4/4] benchmark='benchmark://hpctoolkit-cpu-v0/simple_pow' commandline='opt -instsimplify -instsimplify -instsimplify -instsimplify -instsimplify input.bc -o output.bc' walltime=1.0795567035675049 reward=0.5885772694150836\n"
     ]
    }
   ],
   "source": [
    "# Evaluate agent performance on the holdout test set.\n",
    "test_rewards = run_agent_on_benchmarks(test_benchmarks)"
   ]
  },
  {
   "cell_type": "code",
   "execution_count": 28,
   "metadata": {
    "colab": {
     "base_uri": "https://localhost:8080/",
     "height": 383
    },
    "id": "Oo3Dn360EE5A",
    "outputId": "55879094-dcc6-4d43-f385-d71db1300efe"
   },
   "outputs": [
    {
     "data": {
      "image/png": "[encoded data removed]",
      "text/plain": [
       "<Figure size 936x216 with 2 Axes>"
      ]
     },
     "metadata": {},
     "output_type": "display_data"
    },
    {
     "name": "stderr",
     "output_type": "stream",
     "text": [
      "2022-04-06 20:03:21,767\tWARNING worker.py:1245 -- A worker died or was killed while executing a task by an unexpected system error. To troubleshoot the problem, check the logs for the dead worker. RayTask ID: ffffffffffffffffd82d96febddd03c355ac521001000000 Worker ID: f3890386b150671cc1e7fcff40324681e95aca6793e43395a9721ac8 Node ID: 4aac504e6e221b36cd29906004180746c583dbb67d24a62c3ec6658c Worker IP address: 128.42.128.60 Worker port: 45933 Worker PID: 4033692\n"
     ]
    }
   ],
   "source": [
    "# Finally lets plot our results to see how we did!\n",
    "from matplotlib import pyplot as plt\n",
    "\n",
    "def plot_results(x, y, name, ax):\n",
    "  plt.sca(ax)\n",
    "  plt.bar(range(len(y)), y)\n",
    "  plt.ylabel(\"Reward (higher is better)\")\n",
    "  plt.xticks(range(len(x)), x, rotation = 90)\n",
    "  plt.title(f\"Performance on {name} set\")\n",
    "\n",
    "fig, (ax1, ax2) = plt.subplots(1, 2)\n",
    "fig.set_size_inches(13, 3)\n",
    "plot_results(val_benchmarks, val_rewards, \"val\", ax1)\n",
    "plot_results(test_benchmarks, test_rewards, \"test\", ax2)\n",
    "fig.patch.set_facecolor('white')\n",
    "plt.show()"
   ]
  },
  {
   "cell_type": "markdown",
   "metadata": {
    "id": "Z1lXpJbA04Ji"
   },
   "source": [
    "That's it for this demonstration! Check out the [documentation site](https://facebookresearch.github.io/CompilerGym/) for more details, API reference, and more. If you can encounter any problems, please [file an issue](https://github.com/facebookresearch/CompilerGym/issues)."
   ]
  }
 ],
 "metadata": {
  "colab": {
   "collapsed_sections": [],
   "name": "rllib-example.ipynb",
   "provenance": [],
   "toc_visible": true
  },
  "kernelspec": {
   "display_name": "Python 3",
   "language": "python",
   "name": "python3"
  },
  "language_info": {
   "codemirror_mode": {
    "name": "ipython",
    "version": 3
   },
   "file_extension": ".py",
   "mimetype": "text/x-python",
   "name": "python",
   "nbconvert_exporter": "python",
   "pygments_lexer": "ipython3",
   "version": "3.8.12"
  },
  "vscode": {
   "interpreter": {
    "hash": "5b3ded1ccb95c1d9bd405e7b823d9e85424cde40fbb5985eb47e999ef50e15b4"
   }
  }
 },
 "nbformat": 4,
 "nbformat_minor": 0
}
