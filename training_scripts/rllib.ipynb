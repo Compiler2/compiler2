{
 "cells": [
  {
   "cell_type": "markdown",
   "metadata": {
    "id": "_BoKmYo6oUci"
   },
   "source": [
    "License\n",
    "\n",
    "```\n",
    "Copyright (c) Facebook, Inc. and its affiliates.\n",
    "\n",
    "This source code is licensed under the MIT license found in the\n",
    "LICENSE file in the root directory of this source tree.\n",
    "```"
   ]
  },
  {
   "cell_type": "markdown",
   "metadata": {
    "id": "gsrdt9HooN9K"
   },
   "source": [
    "# Using CompilerGym environments with RLlib\n",
    "\n",
    "In this notebook we will use [RLlib](https://docs.ray.io/en/master/rllib.html) to train an agent for CompilerGym's [LLVM environment](https://facebookresearch.github.io/CompilerGym/llvm/index.html). RLlib is a popular library for scalable reinforcement learning, built on [Ray](https://docs.ray.io/en/master/index.html). It provides distributed implementations of several standard reinforcement learning algorithms.\n",
    "\n",
    "Our goal is not to produce the best agent, but to demonstrate how to integrate CompilerGym with RLlib. It will take about 20 minutes to work through. Let's get started!"
   ]
  },
  {
   "cell_type": "markdown",
   "metadata": {
    "id": "W8CSxbx5ovuF"
   },
   "source": [
    "## Installation\n",
    "\n",
    "We'll begin by installing the `compiler_gym` and `ray` packages:"
   ]
  },
  {
   "cell_type": "code",
   "execution_count": 27,
   "metadata": {
    "colab": {
     "base_uri": "https://localhost:8080/"
    },
    "id": "cT3QDtxbf3Cr",
    "outputId": "399fced8-ec0c-4745-cf29-74dac40429f4"
   },
   "outputs": [
    {
     "name": "stdout",
     "output_type": "stream",
     "text": [
      "compiler_gym version: 0.2.3\n",
      "ray version: 1.9.0\n"
     ]
    }
   ],
   "source": [
    "!pip install compiler_gym 'ray[default,rllib]' &>/dev/null || echo \"Install failed!\"\n",
    "\n",
    "# Print the versions of the libraries that we are using:\n",
    "import compiler_gym\n",
    "import ray\n",
    "\n",
    "print(\"compiler_gym version:\", compiler_gym.__version__)\n",
    "print(\"ray version:\", ray.__version__)"
   ]
  },
  {
   "cell_type": "markdown",
   "metadata": {
    "id": "5Y2bt7GttpQ3"
   },
   "source": [
    "## Defining an Environment\n",
    "\n",
    "Next we will define the environment to use for our experiments. For the purposes of a simple demo we will apply two simplifying constraints to CompilerGym's LLVM environment:\n",
    "\n",
    "1. We will use only a small subset of the command line flag action space.\n",
    "2. We will clip the length of episodes to a maximum number of steps.\n",
    "\n",
    "To make things simple we will define a `make_env()` helper function to create our environment, and use the [compiler_gym.wrappers](https://facebookresearch.github.io/CompilerGym/compiler_gym/wrappers.html) API to implement these constraints. There is quite a lot going on in this cell, be sure to read through the comments for an explanation of what is going on!"
   ]
  },
  {
   "cell_type": "code",
   "execution_count": 28,
   "metadata": {},
   "outputs": [
    {
     "data": {
      "text/plain": [
       "'/home/dx4/tools/compiler2'"
      ]
     },
     "execution_count": 28,
     "metadata": {},
     "output_type": "execute_result"
    }
   ],
   "source": [
    "import sys\n",
    "import os\n",
    "os.environ.setdefault(\"COMPILER2_ROOT\", \"/home/dx4/tools/compiler2\")\n",
    "\n"
   ]
  },
  {
   "cell_type": "code",
   "execution_count": 29,
   "metadata": {},
   "outputs": [],
   "source": [
    "from compiler_gym.spaces import Reward\n",
    "from compiler_gym.third_party import llvm\n",
    "from compiler_gym.util.logging import init_logging\n",
    "from compiler_gym.util.registration import register\n",
    "from compiler_gym.util.runfiles_path import runfiles_path, site_data_path\n",
    "from compiler_gym.service.connection import ServiceError\n",
    "import compiler2_service.paths"
   ]
  },
  {
   "cell_type": "code",
   "execution_count": 30,
   "metadata": {},
   "outputs": [],
   "source": [
    "from compiler_gym.envs.llvm.datasets import (\n",
    "    AnghaBenchDataset,\n",
    "    BlasDataset,\n",
    "    CBenchDataset,\n",
    "    CBenchLegacyDataset,\n",
    "    CBenchLegacyDataset2,\n",
    "    CHStoneDataset,\n",
    "    CsmithDataset,\n",
    "    NPBDataset,\n",
    ")\n",
    "\n",
    "from compiler2_service.agent_py.rewards import perf_reward, runtime_reward\n",
    "from compiler2_service.agent_py.datasets import poj104_dataset, hpctoolkit_dataset\n",
    "\n",
    "\n",
    "def register_env():\n",
    "    register(\n",
    "        id=\"perf-v0\",\n",
    "        entry_point=\"compiler_gym.envs:CompilerEnv\",\n",
    "        kwargs={\n",
    "            \"service\": compiler2_service.paths.COMPILER2_SERVICE_PY,\n",
    "            \"rewards\": [ perf_reward.Reward(),\n",
    "                         runtime_reward.Reward()\n",
    "            ],\n",
    "            \"datasets\": [\n",
    "                hpctoolkit_dataset.Dataset(),\n",
    "                CBenchDataset(site_data_path(\"llvm-v0\")),\n",
    "                CsmithDataset(site_data_path(\"llvm-v0\"), sort_order=0),\n",
    "                NPBDataset(site_data_path(\"llvm-v0\"), sort_order=0),\n",
    "                BlasDataset(site_data_path(\"llvm-v0\"), sort_order=0),\n",
    "                AnghaBenchDataset(site_data_path(\"llvm-v0\"), sort_order=0),\n",
    "                CHStoneDataset(site_data_path(\"llvm-v0\"), sort_order=0),\n",
    "            ],\n",
    "        },\n",
    "    )\n",
    "\n",
    "# register_env()"
   ]
  },
  {
   "cell_type": "code",
   "execution_count": 52,
   "metadata": {},
   "outputs": [],
   "source": [
    "from compiler_gym.wrappers import ConstrainedCommandline, TimeLimit\n",
    "from ray import tune\n",
    "def make_env() -> compiler_gym.envs.CompilerEnv:\n",
    "    \"\"\"Make the reinforcement learning environment for this experiment.\"\"\"\n",
    "    # We will use LLVM as our base environment. Here we specify the observation\n",
    "    # space from this paper: https://arxiv.org/pdf/2003.00671.pdf and the total\n",
    "    # IR instruction count as our reward space, normalized against the\n",
    "    # performance of LLVM's -Oz policy.\n",
    "    \n",
    "    # env = compiler_gym.make(\n",
    "    #     \"llvm-v0\",\n",
    "    #     observation_space=\"Autophase\",\n",
    "    #     reward_space=\"IrInstructionCountOz\",\n",
    "    # )\n",
    "\n",
    "    # env = compiler_gym.make(\n",
    "    #     \"perf-v0\",\n",
    "    #     observation_space=\"runtime\",\n",
    "    #     reward_space=\"runtime\"\n",
    "    # )\n",
    "    \n",
    "    env = compiler2_service.make(\n",
    "        \"perf-v0\",\n",
    "        observation_space=\"runtime\",\n",
    "        reward_space=\"runtime\"\n",
    "    )\n",
    "\n",
    "    # Here we constrain the action space of the environment to use only a\n",
    "    # handful of command line flags from the full set. We do this to speed up\n",
    "    # learning by pruning the action space by hand. This also limits the\n",
    "    # potential improvements that the agent can achieve compared to using the\n",
    "    # full action space.\n",
    "    env = ConstrainedCommandline(env, flags=[\n",
    "        \"-break-crit-edges\",\n",
    "        \"-early-cse-memssa\",\n",
    "        \"-gvn-hoist\",\n",
    "        \"-gvn\",\n",
    "        \"-instcombine\",\n",
    "        \"-instsimplify\",\n",
    "        \"-jump-threading\",\n",
    "        \"-loop-reduce\",\n",
    "        \"-loop-rotate\",\n",
    "        \"-loop-versioning\",\n",
    "        \"-mem2reg\",\n",
    "        \"-newgvn\",\n",
    "        \"-reg2mem\",\n",
    "        \"-simplifycfg\",\n",
    "        \"-sroa\",\n",
    "    ])\n",
    "    # Finally, we impose a time limit on the environment so that every episode\n",
    "    # for 5 steps or fewer. This is because the environment's task is continuous\n",
    "    # and no action is guaranteed to result in a terminal state. Adding a time\n",
    "    # limit means we don't have to worry about learning when an agent should\n",
    "    # stop, though again this limits the potential improvements that the agent\n",
    "    # can achieve compared to using an unbounded maximum episode length.\n",
    "    env = TimeLimit(env, max_episode_steps=5)\n",
    "    return env"
   ]
  },
  {
   "cell_type": "code",
   "execution_count": 47,
   "metadata": {
    "colab": {
     "base_uri": "https://localhost:8080/"
    },
    "id": "Eg84RXsDt5ey",
    "outputId": "8d1fa820-348e-400e-de6c-0a6d9a14d9bb"
   },
   "outputs": [
    {
     "name": "stdout",
     "output_type": "stream",
     "text": [
      "What is the path /home/dx4/tools/compiler2/compiler2_service/service_py/example_service.py\n",
      "Is that file:  True\n"
     ]
    },
    {
     "name": "stderr",
     "output_type": "stream",
     "text": [
      "/home/dx4/.local/share/compiler_gym/llvm-v0/bin/clang: /lib64/libtinfo.so.5: no version information available (required by /home/dx4/.local/share/compiler_gym/llvm-v0/bin/clang)\n",
      "/home/dx4/.local/share/compiler_gym/llvm-v0/bin/clang: /lib64/libtinfo.so.5: no version information available (required by /home/dx4/.local/share/compiler_gym/llvm-v0/bin/clang)\n",
      "/home/dx4/.local/share/compiler_gym/llvm-v0/bin/clang: /lib64/libtinfo.so.5: no version information available (required by /home/dx4/.local/share/compiler_gym/llvm-v0/bin/clang)\n",
      "/home/dx4/.local/share/compiler_gym/llvm-v0/bin/clang: /lib64/libtinfo.so.5: no version information available (required by /home/dx4/.local/share/compiler_gym/llvm-v0/bin/clang)\n",
      "/home/dx4/.local/share/compiler_gym/llvm-v0/bin/clang: /lib64/libtinfo.so.5: no version information available (required by /home/dx4/.local/share/compiler_gym/llvm-v0/bin/clang)\n",
      "/home/dx4/.local/share/compiler_gym/llvm-v0/bin/clang: /lib64/libtinfo.so.5: no version information available (required by /home/dx4/.local/share/compiler_gym/llvm-v0/bin/clang)\n",
      "/home/dx4/.local/share/compiler_gym/llvm-v0/bin/clang: /lib64/libtinfo.so.5: no version information available (required by /home/dx4/.local/share/compiler_gym/llvm-v0/bin/clang)\n",
      "/home/dx4/.local/share/compiler_gym/llvm-v0/bin/clang: /lib64/libtinfo.so.5: no version information available (required by /home/dx4/.local/share/compiler_gym/llvm-v0/bin/clang)\n",
      "Using backend: pytorch\n",
      "./compiler_gym-llvm-service: /lib64/libtinfo.so.5: no version information available (required by ./compiler_gym-llvm-service)\n"
     ]
    },
    {
     "name": "stdout",
     "output_type": "stream",
     "text": [
      "Action space: Commandline([-break-crit-edges -early-cse-memssa -gvn-hoist -gvn -instcombine -instsimplify -jump-threading -loop-reduce -loop-rotate -loop-versioning -mem2reg -newgvn -reg2mem -simplifycfg -sroa])\n",
      "Observation space: Box([0.5], [2.5], (1,), float64)\n",
      "Reward space: runtime\n"
     ]
    },
    {
     "name": "stderr",
     "output_type": "stream",
     "text": [
      "Abandoning orphan service at /dev/shm/compiler_gym_dx4/s/0330T155933-203060-4bea\n"
     ]
    }
   ],
   "source": [
    "# Let's create an environment and print a few attributes just to check that we \n",
    "# have everything set up the way that we would like.\n",
    "with make_env() as env:\n",
    "    print(\"Action space:\", env.action_space)\n",
    "    print(\"Observation space:\", env.observation_space)\n",
    "    print(\"Reward space:\", env.reward_space)"
   ]
  },
  {
   "cell_type": "markdown",
   "metadata": {
    "id": "39k80F8itTT_"
   },
   "source": [
    "## Datasets\n",
    "\n",
    "Now that we have an environment, we will need a set of programs to train on. In CompilerGym, these programs are called *benchmarks*. CompilerGym ships with [several sets of benchmarks](https://facebookresearch.github.io/CompilerGym/llvm/index.html#datasets). Here we will take a handful of benchmarks from the `npb-v0` dataset for training. We will then further divide this set into training and validation sets. We will use `chstone-v0` as a holdout test set."
   ]
  },
  {
   "cell_type": "code",
   "execution_count": 48,
   "metadata": {
    "colab": {
     "base_uri": "https://localhost:8080/"
    },
    "id": "IV6-adNIhoGS",
    "outputId": "23afc569-58d1-443a-a4a7-e72b703152cc"
   },
   "outputs": [
    {
     "name": "stdout",
     "output_type": "stream",
     "text": [
      "What is the path /home/dx4/tools/compiler2/compiler2_service/service_py/example_service.py\n",
      "Is that file:  True\n"
     ]
    },
    {
     "name": "stderr",
     "output_type": "stream",
     "text": [
      "/home/dx4/.local/share/compiler_gym/llvm-v0/bin/clang: /lib64/libtinfo.so.5: no version information available (required by /home/dx4/.local/share/compiler_gym/llvm-v0/bin/clang)\n",
      "/home/dx4/.local/share/compiler_gym/llvm-v0/bin/clang: /lib64/libtinfo.so.5: no version information available (required by /home/dx4/.local/share/compiler_gym/llvm-v0/bin/clang)\n",
      "/home/dx4/.local/share/compiler_gym/llvm-v0/bin/clang: /lib64/libtinfo.so.5: no version information available (required by /home/dx4/.local/share/compiler_gym/llvm-v0/bin/clang)\n",
      "/home/dx4/.local/share/compiler_gym/llvm-v0/bin/clang: /lib64/libtinfo.so.5: no version information available (required by /home/dx4/.local/share/compiler_gym/llvm-v0/bin/clang)\n",
      "/home/dx4/.local/share/compiler_gym/llvm-v0/bin/clang: /lib64/libtinfo.so.5: no version information available (required by /home/dx4/.local/share/compiler_gym/llvm-v0/bin/clang)\n",
      "/home/dx4/.local/share/compiler_gym/llvm-v0/bin/clang: /lib64/libtinfo.so.5: no version information available (required by /home/dx4/.local/share/compiler_gym/llvm-v0/bin/clang)\n",
      "/home/dx4/.local/share/compiler_gym/llvm-v0/bin/clang: /lib64/libtinfo.so.5: no version information available (required by /home/dx4/.local/share/compiler_gym/llvm-v0/bin/clang)\n",
      "/home/dx4/.local/share/compiler_gym/llvm-v0/bin/clang: /lib64/libtinfo.so.5: no version information available (required by /home/dx4/.local/share/compiler_gym/llvm-v0/bin/clang)\n",
      "Using backend: pytorch\n",
      "./compiler_gym-llvm-service: /lib64/libtinfo.so.5: no version information available (required by ./compiler_gym-llvm-service)\n",
      "Abandoning orphan service at /dev/shm/compiler_gym_dx4/s/0330T160015-008662-3c18\n"
     ]
    },
    {
     "name": "stdout",
     "output_type": "stream",
     "text": [
      "Number of benchmarks for training: 2\n",
      "Number of benchmarks for validation: 2\n",
      "Number of benchmarks for testing: 4\n"
     ]
    }
   ],
   "source": [
    "from itertools import islice\n",
    "\n",
    "with make_env() as env:\n",
    "  # The two datasets we will be using:\n",
    "  hpc_bench = env.datasets[\"benchmark://hpctoolkit-cpu-v0\"]\n",
    "  chstone = env.datasets[\"chstone-v0\"]\n",
    "\n",
    "  # Each dataset has a `benchmarks()` method that returns an iterator over the\n",
    "  # benchmarks within the dataset. Here we will use iterator sliceing to grab a \n",
    "  # handful of benchmarks for training and validation.\n",
    "  train_benchmarks = list(islice(hpc_bench.benchmarks(), 4))\n",
    "  train_benchmarks, val_benchmarks = train_benchmarks[:2], train_benchmarks[2:]\n",
    "  # We will use the entire chstone-v0 dataset for testing.\n",
    "  test_benchmarks = list(hpc_bench.benchmarks())\n",
    "\n",
    "print(\"Number of benchmarks for training:\", len(train_benchmarks))\n",
    "print(\"Number of benchmarks for validation:\", len(val_benchmarks))\n",
    "print(\"Number of benchmarks for testing:\", len(test_benchmarks))"
   ]
  },
  {
   "cell_type": "markdown",
   "metadata": {
    "id": "ZW0sfMhjv8Kg"
   },
   "source": [
    "## Registering the environment with RLlib\n",
    "\n",
    "Now that we have our environment and training benchmarks, we can register the environment for use with RLlib. To do this we will define a second `make_training_env()` helper that uses the [CycleOverBenchmarks](https://facebookresearch.github.io/CompilerGym/compiler_gym/wrappers.html#compiler_gym.wrappers.CycleOverBenchmarks) wrapper to ensure that the environment uses all of the training benchmarks. We then call `tune.register_env()`, assining the environment a name."
   ]
  },
  {
   "cell_type": "code",
   "execution_count": 49,
   "metadata": {
    "id": "-UgFKvTkv64L"
   },
   "outputs": [],
   "source": [
    "from compiler_gym.wrappers import CycleOverBenchmarks\n",
    "\n",
    "def make_training_env(*args) -> compiler_gym.envs.CompilerEnv:\n",
    "  \"\"\"Make a reinforcement learning environment that cycles over the\n",
    "  set of training benchmarks in use.\n",
    "  \"\"\"\n",
    "  del args  # Unused env_config argument passed by ray\n",
    "  return CycleOverBenchmarks(make_env(), train_benchmarks)\n",
    "\n",
    "tune.register_env(\"compiler_gym\", make_training_env)"
   ]
  },
  {
   "cell_type": "code",
   "execution_count": 50,
   "metadata": {
    "colab": {
     "base_uri": "https://localhost:8080/"
    },
    "id": "6CVCAIrpyKa4",
    "outputId": "76537a51-91e7-46c5-ab7c-e71122be04c6"
   },
   "outputs": [
    {
     "name": "stdout",
     "output_type": "stream",
     "text": [
      "What is the path /home/dx4/tools/compiler2/compiler2_service/service_py/example_service.py\n",
      "Is that file:  True\n"
     ]
    },
    {
     "name": "stderr",
     "output_type": "stream",
     "text": [
      "/home/dx4/.local/share/compiler_gym/llvm-v0/bin/clang: /lib64/libtinfo.so.5: no version information available (required by /home/dx4/.local/share/compiler_gym/llvm-v0/bin/clang)\n",
      "/home/dx4/.local/share/compiler_gym/llvm-v0/bin/clang: /lib64/libtinfo.so.5: no version information available (required by /home/dx4/.local/share/compiler_gym/llvm-v0/bin/clang)\n",
      "/home/dx4/.local/share/compiler_gym/llvm-v0/bin/clang: /lib64/libtinfo.so.5: no version information available (required by /home/dx4/.local/share/compiler_gym/llvm-v0/bin/clang)\n",
      "/home/dx4/.local/share/compiler_gym/llvm-v0/bin/clang: /lib64/libtinfo.so.5: no version information available (required by /home/dx4/.local/share/compiler_gym/llvm-v0/bin/clang)\n",
      "/home/dx4/.local/share/compiler_gym/llvm-v0/bin/clang: /lib64/libtinfo.so.5: no version information available (required by /home/dx4/.local/share/compiler_gym/llvm-v0/bin/clang)\n",
      "/home/dx4/.local/share/compiler_gym/llvm-v0/bin/clang: /lib64/libtinfo.so.5: no version information available (required by /home/dx4/.local/share/compiler_gym/llvm-v0/bin/clang)\n",
      "/home/dx4/.local/share/compiler_gym/llvm-v0/bin/clang: /lib64/libtinfo.so.5: no version information available (required by /home/dx4/.local/share/compiler_gym/llvm-v0/bin/clang)\n",
      "/home/dx4/.local/share/compiler_gym/llvm-v0/bin/clang: /lib64/libtinfo.so.5: no version information available (required by /home/dx4/.local/share/compiler_gym/llvm-v0/bin/clang)\n",
      "Using backend: pytorch\n",
      "./compiler_gym-llvm-service: /lib64/libtinfo.so.5: no version information available (required by ./compiler_gym-llvm-service)\n"
     ]
    },
    {
     "name": "stdout",
     "output_type": "stream",
     "text": [
      "\n",
      " /dev/shm/compiler_gym_dx4/s/0330T160140-438525-cab2 \n",
      "\n",
      "source_filename = \"/dev/shm/compiler_gym_dx4/s/0330T160140-438525-cab2/benchmark.c\"\n",
      "\n",
      "\n",
      " compile: \n",
      "/home/dx4/.local/share/compiler_gym/llvm-v0/bin/opt -o /dev/shm/compiler_gym_dx4/s/0330T160140-438525-cab2/benchmark.bc /dev/shm/compiler_gym_dx4/s/0330T160140-438525-cab2/benchmark.ll\n",
      "/home/dx4/.local/share/compiler_gym/llvm-v0/bin/clang /dev/shm/compiler_gym_dx4/s/0330T160140-438525-cab2/benchmark.bc -lm -o /dev/shm/compiler_gym_dx4/s/0330T160140-438525-cab2/benchmark.exe\n",
      "/home/dx4/.local/share/compiler_gym/llvm-v0/bin/llvm-dis -o /dev/shm/compiler_gym_dx4/s/0330T160140-438525-cab2/benchmark_new.ll /dev/shm/compiler_gym_dx4/s/0330T160140-438525-cab2/benchmark.bc\n",
      "\n",
      "\n",
      "\n",
      " pre_run_cmd: \n",
      "[]\n",
      "\n",
      "\n",
      "\n",
      " run_cmd: \n",
      "/dev/shm/compiler_gym_dx4/s/0330T160140-438525-cab2/benchmark.exe\n",
      "\n",
      "\n",
      "hackkk: -O0\n",
      "Reward Runtime: reset\n",
      "benchmark://hpctoolkit-cpu-v0/conv2d\n",
      "\n",
      " /dev/shm/compiler_gym_dx4/s/0330T160140-438525-cab2 \n",
      "\n",
      "source_filename = \"/dev/shm/compiler_gym_dx4/s/0330T160140-438525-cab2/benchmark.c\"\n",
      "\n",
      "\n",
      " compile: \n",
      "/home/dx4/.local/share/compiler_gym/llvm-v0/bin/opt -o /dev/shm/compiler_gym_dx4/s/0330T160140-438525-cab2/benchmark.bc /dev/shm/compiler_gym_dx4/s/0330T160140-438525-cab2/benchmark.ll\n",
      "/home/dx4/.local/share/compiler_gym/llvm-v0/bin/clang /dev/shm/compiler_gym_dx4/s/0330T160140-438525-cab2/benchmark.bc -lm -o /dev/shm/compiler_gym_dx4/s/0330T160140-438525-cab2/benchmark.exe\n",
      "/home/dx4/.local/share/compiler_gym/llvm-v0/bin/llvm-dis -o /dev/shm/compiler_gym_dx4/s/0330T160140-438525-cab2/benchmark_new.ll /dev/shm/compiler_gym_dx4/s/0330T160140-438525-cab2/benchmark.bc\n",
      "\n",
      "\n",
      "\n",
      " pre_run_cmd: \n",
      "[]\n",
      "\n",
      "\n",
      "\n",
      " run_cmd: \n",
      "/dev/shm/compiler_gym_dx4/s/0330T160140-438525-cab2/benchmark.exe\n",
      "\n",
      "\n",
      "hackkk: -O0\n",
      "Reward Runtime: reset\n",
      "benchmark://hpctoolkit-cpu-v0/offsets1\n",
      "\n",
      " /dev/shm/compiler_gym_dx4/s/0330T160140-438525-cab2 \n",
      "\n",
      "source_filename = \"/dev/shm/compiler_gym_dx4/s/0330T160140-438525-cab2/benchmark.c\"\n",
      "\n",
      "\n",
      " compile: \n",
      "/home/dx4/.local/share/compiler_gym/llvm-v0/bin/opt -o /dev/shm/compiler_gym_dx4/s/0330T160140-438525-cab2/benchmark.bc /dev/shm/compiler_gym_dx4/s/0330T160140-438525-cab2/benchmark.ll\n",
      "/home/dx4/.local/share/compiler_gym/llvm-v0/bin/clang /dev/shm/compiler_gym_dx4/s/0330T160140-438525-cab2/benchmark.bc -lm -o /dev/shm/compiler_gym_dx4/s/0330T160140-438525-cab2/benchmark.exe\n",
      "/home/dx4/.local/share/compiler_gym/llvm-v0/bin/llvm-dis -o /dev/shm/compiler_gym_dx4/s/0330T160140-438525-cab2/benchmark_new.ll /dev/shm/compiler_gym_dx4/s/0330T160140-438525-cab2/benchmark.bc\n",
      "\n",
      "\n",
      "\n",
      " pre_run_cmd: \n",
      "[]\n",
      "\n",
      "\n",
      "\n",
      " run_cmd: \n",
      "/dev/shm/compiler_gym_dx4/s/0330T160140-438525-cab2/benchmark.exe\n",
      "\n",
      "\n",
      "hackkk: -O0\n",
      "Reward Runtime: reset\n",
      "benchmark://hpctoolkit-cpu-v0/conv2d\n"
     ]
    }
   ],
   "source": [
    "# Lets cycle through a few calls to reset() to demonstrate that this environment\n",
    "# selects a new benchmark for each episode.\n",
    "with make_training_env() as env:\n",
    "  env.reset()\n",
    "  print(env.benchmark)\n",
    "  env.reset()\n",
    "  print(env.benchmark)\n",
    "  env.reset()\n",
    "  print(env.benchmark)"
   ]
  },
  {
   "cell_type": "markdown",
   "metadata": {
    "id": "IpR63LcOuRRz"
   },
   "source": [
    "## Run the training loop\n",
    "\n",
    "Now that we have the environment set up, let's run a training loop. Here will use RLlib's [Proximal Policy Optimization](https://docs.ray.io/en/master/rllib-algorithms.html#ppo) implementation, and run a very short training loop just for demonstative purposes."
   ]
  },
  {
   "cell_type": "code",
   "execution_count": 25,
   "metadata": {},
   "outputs": [
    {
     "name": "stdout",
     "output_type": "stream",
     "text": [
      "/home/dx4/tools/miniconda3/lib/python3.8/site-packages\n",
      "/home/dx4/.local/share/compiler_gym\n",
      "/home/dx4/.cache/compiler_gym\n",
      "/dev/shm/compiler_gym_dx4\n"
     ]
    }
   ],
   "source": [
    "import compiler_gym.util.runfiles_path as path\n",
    "\n",
    "print(path.runfiles_path(\".\"))\n",
    "print(path.site_data_path(\".\"))\n",
    "print(path.cache_path(\".\"))\n",
    "print(path.transient_cache_path(\".\"))"
   ]
  },
  {
   "cell_type": "code",
   "execution_count": 53,
   "metadata": {
    "colab": {
     "base_uri": "https://localhost:8080/",
     "height": 1000
    },
    "id": "KYGUxq6GhXZL",
    "outputId": "6ce9e698-6fd2-442d-976d-40c4c0a0902f"
   },
   "outputs": [
    {
     "data": {
      "text/html": [
       "== Status ==<br>Current time: 2022-03-30 16:03:05 (running for 00:00:00.11)<br>Memory usage on this node: 24.4/503.7 GiB<br>Using FIFO scheduling algorithm.<br>Resources requested: 0/96 CPUs, 0/1 GPUs, 0.0/334.17 GiB heap, 0.0/147.21 GiB objects<br>Result logdir: /home/dx4/ray_results/PPO_2022-03-30_16-03-05<br>Number of trials: 1/1 (1 PENDING)<br><table>\n",
       "<thead>\n",
       "<tr><th>Trial name                  </th><th>status  </th><th>loc  </th></tr>\n",
       "</thead>\n",
       "<tbody>\n",
       "<tr><td>PPO_compiler_gym_cb3e3_00000</td><td>PENDING </td><td>     </td></tr>\n",
       "</tbody>\n",
       "</table><br><br>"
      ],
      "text/plain": [
       "<IPython.core.display.HTML object>"
      ]
     },
     "metadata": {},
     "output_type": "display_data"
    },
    {
     "name": "stdout",
     "output_type": "stream",
     "text": [
      "\u001b[2m\u001b[36m(PPO pid=3209679)\u001b[0m What is the path /home/dx4/tools/compiler2/compiler2_service/service_py/example_service.py\n",
      "\u001b[2m\u001b[36m(PPO pid=3209679)\u001b[0m Is that file:  True\n"
     ]
    },
    {
     "name": "stderr",
     "output_type": "stream",
     "text": [
      "\u001b[2m\u001b[36m(PPO pid=3209679)\u001b[0m /home/dx4/.local/share/compiler_gym/llvm-v0/bin/clang: /lib64/libtinfo.so.5: no version information available (required by /home/dx4/.local/share/compiler_gym/llvm-v0/bin/clang)\n",
      "\u001b[2m\u001b[36m(PPO pid=3209679)\u001b[0m /home/dx4/.local/share/compiler_gym/llvm-v0/bin/clang: /lib64/libtinfo.so.5: no version information available (required by /home/dx4/.local/share/compiler_gym/llvm-v0/bin/clang)\n",
      "\u001b[2m\u001b[36m(PPO pid=3209679)\u001b[0m /home/dx4/.local/share/compiler_gym/llvm-v0/bin/clang: /lib64/libtinfo.so.5: no version information available (required by /home/dx4/.local/share/compiler_gym/llvm-v0/bin/clang)\n",
      "\u001b[2m\u001b[36m(PPO pid=3209679)\u001b[0m /home/dx4/.local/share/compiler_gym/llvm-v0/bin/clang: /lib64/libtinfo.so.5: no version information available (required by /home/dx4/.local/share/compiler_gym/llvm-v0/bin/clang)\n",
      "\u001b[2m\u001b[36m(PPO pid=3209679)\u001b[0m /home/dx4/.local/share/compiler_gym/llvm-v0/bin/clang: /lib64/libtinfo.so.5: no version information available (required by /home/dx4/.local/share/compiler_gym/llvm-v0/bin/clang)\n",
      "\u001b[2m\u001b[36m(PPO pid=3209679)\u001b[0m /home/dx4/.local/share/compiler_gym/llvm-v0/bin/clang: /lib64/libtinfo.so.5: no version information available (required by /home/dx4/.local/share/compiler_gym/llvm-v0/bin/clang)\n",
      "\u001b[2m\u001b[36m(PPO pid=3209679)\u001b[0m /home/dx4/.local/share/compiler_gym/llvm-v0/bin/clang: /lib64/libtinfo.so.5: no version information available (required by /home/dx4/.local/share/compiler_gym/llvm-v0/bin/clang)\n",
      "\u001b[2m\u001b[36m(PPO pid=3209679)\u001b[0m /home/dx4/.local/share/compiler_gym/llvm-v0/bin/clang: /lib64/libtinfo.so.5: no version information available (required by /home/dx4/.local/share/compiler_gym/llvm-v0/bin/clang)\n",
      "\u001b[2m\u001b[36m(PPO pid=3209679)\u001b[0m 2022-03-30 16:03:09,088\tINFO trainer.py:722 -- Your framework setting is 'tf', meaning you are using static-graph mode. Set framework='tf2' to enable eager execution with tf2.x. You may also want to then set `eager_tracing=True` in order to reach similar execution speed as with static-graph mode.\n",
      "\u001b[2m\u001b[36m(PPO pid=3209679)\u001b[0m 2022-03-30 16:03:09,089\tINFO ppo.py:166 -- In multi-agent mode, policies will be optimized sequentially by the multi-GPU optimizer. Consider setting simple_optimizer=True if this doesn't work for you.\n",
      "\u001b[2m\u001b[36m(PPO pid=3209679)\u001b[0m 2022-03-30 16:03:09,089\tINFO trainer.py:743 -- Current log_level is WARN. For more information, set 'log_level': 'INFO' / 'DEBUG' or use the -v and -vv flags.\n",
      "\u001b[2m\u001b[36m(RolloutWorker pid=3209681)\u001b[0m /home/dx4/.local/share/compiler_gym/llvm-v0/bin/clang: /lib64/libtinfo.so.5: no version information available (required by /home/dx4/.local/share/compiler_gym/llvm-v0/bin/clang)\n",
      "\u001b[2m\u001b[36m(RolloutWorker pid=3209681)\u001b[0m /home/dx4/.local/share/compiler_gym/llvm-v0/bin/clang: /lib64/libtinfo.so.5: no version information available (required by /home/dx4/.local/share/compiler_gym/llvm-v0/bin/clang)\n",
      "\u001b[2m\u001b[36m(RolloutWorker pid=3209681)\u001b[0m /home/dx4/.local/share/compiler_gym/llvm-v0/bin/clang: /lib64/libtinfo.so.5: no version information available (required by /home/dx4/.local/share/compiler_gym/llvm-v0/bin/clang)\n",
      "\u001b[2m\u001b[36m(RolloutWorker pid=3209681)\u001b[0m /home/dx4/.local/share/compiler_gym/llvm-v0/bin/clang: /lib64/libtinfo.so.5: no version information available (required by /home/dx4/.local/share/compiler_gym/llvm-v0/bin/clang)\n"
     ]
    },
    {
     "name": "stdout",
     "output_type": "stream",
     "text": [
      "\u001b[2m\u001b[36m(RolloutWorker pid=3209681)\u001b[0m What is the path /home/dx4/tools/compiler2/compiler2_service/service_py/example_service.py\n",
      "\u001b[2m\u001b[36m(RolloutWorker pid=3209681)\u001b[0m Is that file:  True\n"
     ]
    },
    {
     "name": "stderr",
     "output_type": "stream",
     "text": [
      "\u001b[2m\u001b[36m(RolloutWorker pid=3209681)\u001b[0m /home/dx4/.local/share/compiler_gym/llvm-v0/bin/clang: /lib64/libtinfo.so.5: no version information available (required by /home/dx4/.local/share/compiler_gym/llvm-v0/bin/clang)\n",
      "\u001b[2m\u001b[36m(RolloutWorker pid=3209681)\u001b[0m /home/dx4/.local/share/compiler_gym/llvm-v0/bin/clang: /lib64/libtinfo.so.5: no version information available (required by /home/dx4/.local/share/compiler_gym/llvm-v0/bin/clang)\n",
      "\u001b[2m\u001b[36m(RolloutWorker pid=3209681)\u001b[0m /home/dx4/.local/share/compiler_gym/llvm-v0/bin/clang: /lib64/libtinfo.so.5: no version information available (required by /home/dx4/.local/share/compiler_gym/llvm-v0/bin/clang)\n",
      "\u001b[2m\u001b[36m(RolloutWorker pid=3209681)\u001b[0m /home/dx4/.local/share/compiler_gym/llvm-v0/bin/clang: /lib64/libtinfo.so.5: no version information available (required by /home/dx4/.local/share/compiler_gym/llvm-v0/bin/clang)\n",
      "\u001b[2m\u001b[36m(RolloutWorker pid=3209681)\u001b[0m /home/dx4/.local/share/compiler_gym/llvm-v0/bin/clang: /lib64/libtinfo.so.5: no version information available (required by /home/dx4/.local/share/compiler_gym/llvm-v0/bin/clang)\n",
      "\u001b[2m\u001b[36m(RolloutWorker pid=3209681)\u001b[0m /home/dx4/.local/share/compiler_gym/llvm-v0/bin/clang: /lib64/libtinfo.so.5: no version information available (required by /home/dx4/.local/share/compiler_gym/llvm-v0/bin/clang)\n",
      "\u001b[2m\u001b[36m(RolloutWorker pid=3209681)\u001b[0m /home/dx4/.local/share/compiler_gym/llvm-v0/bin/clang: /lib64/libtinfo.so.5: no version information available (required by /home/dx4/.local/share/compiler_gym/llvm-v0/bin/clang)\n",
      "\u001b[2m\u001b[36m(RolloutWorker pid=3209681)\u001b[0m /home/dx4/.local/share/compiler_gym/llvm-v0/bin/clang: /lib64/libtinfo.so.5: no version information available (required by /home/dx4/.local/share/compiler_gym/llvm-v0/bin/clang)\n",
      "\u001b[2m\u001b[36m(RolloutWorker pid=3209681)\u001b[0m /home/dx4/.local/share/compiler_gym/llvm-v0/bin/clang: /lib64/libtinfo.so.5: no version information available (required by /home/dx4/.local/share/compiler_gym/llvm-v0/bin/clang)\n",
      "\u001b[2m\u001b[36m(RolloutWorker pid=3209681)\u001b[0m /home/dx4/.local/share/compiler_gym/llvm-v0/bin/clang: /lib64/libtinfo.so.5: no version information available (required by /home/dx4/.local/share/compiler_gym/llvm-v0/bin/clang)\n",
      "\u001b[2m\u001b[36m(RolloutWorker pid=3209681)\u001b[0m /home/dx4/.local/share/compiler_gym/llvm-v0/bin/clang: /lib64/libtinfo.so.5: no version information available (required by /home/dx4/.local/share/compiler_gym/llvm-v0/bin/clang)\n",
      "\u001b[2m\u001b[36m(RolloutWorker pid=3209681)\u001b[0m /home/dx4/.local/share/compiler_gym/llvm-v0/bin/clang: /lib64/libtinfo.so.5: no version information available (required by /home/dx4/.local/share/compiler_gym/llvm-v0/bin/clang)\n"
     ]
    },
    {
     "name": "stdout",
     "output_type": "stream",
     "text": [
      "\u001b[2m\u001b[36m(RolloutWorker pid=3209681)\u001b[0m What is the path /home/dx4/tools/compiler2/compiler2_service/service_py/example_service.py\n",
      "\u001b[2m\u001b[36m(RolloutWorker pid=3209681)\u001b[0m Is that file:  True\n"
     ]
    },
    {
     "name": "stderr",
     "output_type": "stream",
     "text": [
      "\u001b[2m\u001b[36m(RolloutWorker pid=3209681)\u001b[0m Using backend: pytorch\n",
      "\u001b[2m\u001b[36m(RolloutWorker pid=3209681)\u001b[0m ./compiler_gym-llvm-service: /lib64/libtinfo.so.5: no version information available (required by ./compiler_gym-llvm-service)\n"
     ]
    },
    {
     "name": "stdout",
     "output_type": "stream",
     "text": [
      "\u001b[2m\u001b[36m(RolloutWorker pid=3209681)\u001b[0m \n",
      "\u001b[2m\u001b[36m(RolloutWorker pid=3209681)\u001b[0m  /dev/shm/compiler_gym_dx4/s/0330T160312-431331-6f35 \n",
      "\u001b[2m\u001b[36m(RolloutWorker pid=3209681)\u001b[0m \n",
      "\u001b[2m\u001b[36m(RolloutWorker pid=3209681)\u001b[0m source_filename = \"/dev/shm/compiler_gym_dx4/s/0330T160312-431331-6f35/benchmark.c\"\n",
      "\u001b[2m\u001b[36m(RolloutWorker pid=3209681)\u001b[0m \n",
      "\u001b[2m\u001b[36m(RolloutWorker pid=3209681)\u001b[0m \n",
      "\u001b[2m\u001b[36m(RolloutWorker pid=3209681)\u001b[0m  compile: \n",
      "\u001b[2m\u001b[36m(RolloutWorker pid=3209681)\u001b[0m /home/dx4/.local/share/compiler_gym/llvm-v0/bin/opt -o /dev/shm/compiler_gym_dx4/s/0330T160312-431331-6f35/benchmark.bc /dev/shm/compiler_gym_dx4/s/0330T160312-431331-6f35/benchmark.ll\n",
      "\u001b[2m\u001b[36m(RolloutWorker pid=3209681)\u001b[0m /home/dx4/.local/share/compiler_gym/llvm-v0/bin/clang /dev/shm/compiler_gym_dx4/s/0330T160312-431331-6f35/benchmark.bc -lm -o /dev/shm/compiler_gym_dx4/s/0330T160312-431331-6f35/benchmark.exe\n",
      "\u001b[2m\u001b[36m(RolloutWorker pid=3209681)\u001b[0m /home/dx4/.local/share/compiler_gym/llvm-v0/bin/llvm-dis -o /dev/shm/compiler_gym_dx4/s/0330T160312-431331-6f35/benchmark_new.ll /dev/shm/compiler_gym_dx4/s/0330T160312-431331-6f35/benchmark.bc\n",
      "\u001b[2m\u001b[36m(RolloutWorker pid=3209681)\u001b[0m \n",
      "\u001b[2m\u001b[36m(RolloutWorker pid=3209681)\u001b[0m \n",
      "\u001b[2m\u001b[36m(RolloutWorker pid=3209681)\u001b[0m \n",
      "\u001b[2m\u001b[36m(RolloutWorker pid=3209681)\u001b[0m  pre_run_cmd: \n",
      "\u001b[2m\u001b[36m(RolloutWorker pid=3209681)\u001b[0m []\n",
      "\u001b[2m\u001b[36m(RolloutWorker pid=3209681)\u001b[0m \n",
      "\u001b[2m\u001b[36m(RolloutWorker pid=3209681)\u001b[0m \n",
      "\u001b[2m\u001b[36m(RolloutWorker pid=3209681)\u001b[0m \n",
      "\u001b[2m\u001b[36m(RolloutWorker pid=3209681)\u001b[0m  run_cmd: \n",
      "\u001b[2m\u001b[36m(RolloutWorker pid=3209681)\u001b[0m /dev/shm/compiler_gym_dx4/s/0330T160312-431331-6f35/benchmark.exe\n",
      "\u001b[2m\u001b[36m(RolloutWorker pid=3209681)\u001b[0m \n",
      "\u001b[2m\u001b[36m(RolloutWorker pid=3209681)\u001b[0m \n",
      "\u001b[2m\u001b[36m(RolloutWorker pid=3209681)\u001b[0m hackkk: -O0\n",
      "\u001b[2m\u001b[36m(RolloutWorker pid=3209681)\u001b[0m Reward Runtime: reset\n"
     ]
    },
    {
     "name": "stderr",
     "output_type": "stream",
     "text": [
      "\u001b[2m\u001b[36m(RolloutWorker pid=3209681)\u001b[0m 2022-03-30 16:03:16,529\tWARNING deprecation.py:45 -- DeprecationWarning: `SampleBatch['is_training']` has been deprecated. Use `SampleBatch.is_training` instead. This will raise an error in the future!\n",
      "\u001b[2m\u001b[36m(PPO pid=3209679)\u001b[0m 2022-03-30 16:03:17,343\tWARNING deprecation.py:45 -- DeprecationWarning: `SampleBatch['is_training']` has been deprecated. Use `SampleBatch.is_training` instead. This will raise an error in the future!\n"
     ]
    },
    {
     "data": {
      "text/html": [
       "== Status ==<br>Current time: 2022-03-30 16:03:17 (running for 00:00:12.39)<br>Memory usage on this node: 25.2/503.7 GiB<br>Using FIFO scheduling algorithm.<br>Resources requested: 2.0/96 CPUs, 0/1 GPUs, 0.0/334.17 GiB heap, 0.0/147.21 GiB objects<br>Result logdir: /home/dx4/ray_results/PPO_2022-03-30_16-03-05<br>Number of trials: 1/1 (1 RUNNING)<br><table>\n",
       "<thead>\n",
       "<tr><th>Trial name                  </th><th>status  </th><th>loc                  </th></tr>\n",
       "</thead>\n",
       "<tbody>\n",
       "<tr><td>PPO_compiler_gym_cb3e3_00000</td><td>RUNNING </td><td>128.42.128.60:3209679</td></tr>\n",
       "</tbody>\n",
       "</table><br><br>"
      ],
      "text/plain": [
       "<IPython.core.display.HTML object>"
      ]
     },
     "metadata": {},
     "output_type": "display_data"
    },
    {
     "name": "stderr",
     "output_type": "stream",
     "text": [
      "\u001b[2m\u001b[36m(PPO pid=3209679)\u001b[0m 2022-03-30 16:03:17,827\tWARNING util.py:57 -- Install gputil for GPU system monitoring.\n"
     ]
    },
    {
     "name": "stdout",
     "output_type": "stream",
     "text": [
      "\u001b[2m\u001b[36m(RolloutWorker pid=3209681)\u001b[0m \n",
      "\u001b[2m\u001b[36m(RolloutWorker pid=3209681)\u001b[0m  /dev/shm/compiler_gym_dx4/s/0330T160312-431331-6f35 \n",
      "\u001b[2m\u001b[36m(RolloutWorker pid=3209681)\u001b[0m \n",
      "\u001b[2m\u001b[36m(RolloutWorker pid=3209681)\u001b[0m source_filename = \"/dev/shm/compiler_gym_dx4/s/0330T160312-431331-6f35/benchmark.c\"\n",
      "\u001b[2m\u001b[36m(RolloutWorker pid=3209681)\u001b[0m \n",
      "\u001b[2m\u001b[36m(RolloutWorker pid=3209681)\u001b[0m \n",
      "\u001b[2m\u001b[36m(RolloutWorker pid=3209681)\u001b[0m  compile: \n",
      "\u001b[2m\u001b[36m(RolloutWorker pid=3209681)\u001b[0m /home/dx4/.local/share/compiler_gym/llvm-v0/bin/opt -o /dev/shm/compiler_gym_dx4/s/0330T160312-431331-6f35/benchmark.bc /dev/shm/compiler_gym_dx4/s/0330T160312-431331-6f35/benchmark.ll\n",
      "\u001b[2m\u001b[36m(RolloutWorker pid=3209681)\u001b[0m /home/dx4/.local/share/compiler_gym/llvm-v0/bin/clang /dev/shm/compiler_gym_dx4/s/0330T160312-431331-6f35/benchmark.bc -lm -o /dev/shm/compiler_gym_dx4/s/0330T160312-431331-6f35/benchmark.exe\n",
      "\u001b[2m\u001b[36m(RolloutWorker pid=3209681)\u001b[0m /home/dx4/.local/share/compiler_gym/llvm-v0/bin/llvm-dis -o /dev/shm/compiler_gym_dx4/s/0330T160312-431331-6f35/benchmark_new.ll /dev/shm/compiler_gym_dx4/s/0330T160312-431331-6f35/benchmark.bc\n",
      "\u001b[2m\u001b[36m(RolloutWorker pid=3209681)\u001b[0m \n",
      "\u001b[2m\u001b[36m(RolloutWorker pid=3209681)\u001b[0m \n",
      "\u001b[2m\u001b[36m(RolloutWorker pid=3209681)\u001b[0m \n",
      "\u001b[2m\u001b[36m(RolloutWorker pid=3209681)\u001b[0m  pre_run_cmd: \n",
      "\u001b[2m\u001b[36m(RolloutWorker pid=3209681)\u001b[0m []\n",
      "\u001b[2m\u001b[36m(RolloutWorker pid=3209681)\u001b[0m \n",
      "\u001b[2m\u001b[36m(RolloutWorker pid=3209681)\u001b[0m \n",
      "\u001b[2m\u001b[36m(RolloutWorker pid=3209681)\u001b[0m \n",
      "\u001b[2m\u001b[36m(RolloutWorker pid=3209681)\u001b[0m  run_cmd: \n",
      "\u001b[2m\u001b[36m(RolloutWorker pid=3209681)\u001b[0m /dev/shm/compiler_gym_dx4/s/0330T160312-431331-6f35/benchmark.exe\n",
      "\u001b[2m\u001b[36m(RolloutWorker pid=3209681)\u001b[0m \n",
      "\u001b[2m\u001b[36m(RolloutWorker pid=3209681)\u001b[0m \n",
      "\u001b[2m\u001b[36m(RolloutWorker pid=3209681)\u001b[0m hackkk: -O0\n",
      "\u001b[2m\u001b[36m(RolloutWorker pid=3209681)\u001b[0m Reward Runtime: reset\n",
      "\u001b[2m\u001b[36m(RolloutWorker pid=3209681)\u001b[0m hackkk: -loop-rotate\n"
     ]
    },
    {
     "data": {
      "text/html": [
       "== Status ==<br>Current time: 2022-03-30 16:03:18 (running for 00:00:13.44)<br>Memory usage on this node: 25.2/503.7 GiB<br>Using FIFO scheduling algorithm.<br>Resources requested: 2.0/96 CPUs, 0/1 GPUs, 0.0/334.17 GiB heap, 0.0/147.21 GiB objects<br>Result logdir: /home/dx4/ray_results/PPO_2022-03-30_16-03-05<br>Number of trials: 1/1 (1 RUNNING)<br><table>\n",
       "<thead>\n",
       "<tr><th>Trial name                  </th><th>status  </th><th>loc                  </th></tr>\n",
       "</thead>\n",
       "<tbody>\n",
       "<tr><td>PPO_compiler_gym_cb3e3_00000</td><td>RUNNING </td><td>128.42.128.60:3209679</td></tr>\n",
       "</tbody>\n",
       "</table><br><br>"
      ],
      "text/plain": [
       "<IPython.core.display.HTML object>"
      ]
     },
     "metadata": {},
     "output_type": "display_data"
    },
    {
     "name": "stdout",
     "output_type": "stream",
     "text": [
      "\u001b[2m\u001b[36m(RolloutWorker pid=3209681)\u001b[0m Reward Runtime: update\n",
      "\u001b[2m\u001b[36m(RolloutWorker pid=3209681)\u001b[0m hackkk: -newgvn\n",
      "\u001b[2m\u001b[36m(RolloutWorker pid=3209681)\u001b[0m Reward Runtime: update\n",
      "\u001b[2m\u001b[36m(RolloutWorker pid=3209681)\u001b[0m hackkk: -loop-rotate\n",
      "\u001b[2m\u001b[36m(RolloutWorker pid=3209681)\u001b[0m Reward Runtime: update\n",
      "\u001b[2m\u001b[36m(RolloutWorker pid=3209681)\u001b[0m hackkk: -break-crit-edges\n",
      "\u001b[2m\u001b[36m(RolloutWorker pid=3209681)\u001b[0m Reward Runtime: update\n",
      "\u001b[2m\u001b[36m(RolloutWorker pid=3209681)\u001b[0m hackkk: -jump-threading\n",
      "\u001b[2m\u001b[36m(RolloutWorker pid=3209681)\u001b[0m Reward Runtime: update\n",
      "\u001b[2m\u001b[36m(RolloutWorker pid=3209681)\u001b[0m \n",
      "\u001b[2m\u001b[36m(RolloutWorker pid=3209681)\u001b[0m  /dev/shm/compiler_gym_dx4/s/0330T160312-431331-6f35 \n",
      "\u001b[2m\u001b[36m(RolloutWorker pid=3209681)\u001b[0m \n",
      "\u001b[2m\u001b[36m(RolloutWorker pid=3209681)\u001b[0m source_filename = \"/dev/shm/compiler_gym_dx4/s/0330T160312-431331-6f35/benchmark.c\"\n",
      "\u001b[2m\u001b[36m(RolloutWorker pid=3209681)\u001b[0m \n",
      "\u001b[2m\u001b[36m(RolloutWorker pid=3209681)\u001b[0m \n",
      "\u001b[2m\u001b[36m(RolloutWorker pid=3209681)\u001b[0m  compile: \n",
      "\u001b[2m\u001b[36m(RolloutWorker pid=3209681)\u001b[0m /home/dx4/.local/share/compiler_gym/llvm-v0/bin/opt -o /dev/shm/compiler_gym_dx4/s/0330T160312-431331-6f35/benchmark.bc /dev/shm/compiler_gym_dx4/s/0330T160312-431331-6f35/benchmark.ll\n",
      "\u001b[2m\u001b[36m(RolloutWorker pid=3209681)\u001b[0m /home/dx4/.local/share/compiler_gym/llvm-v0/bin/clang /dev/shm/compiler_gym_dx4/s/0330T160312-431331-6f35/benchmark.bc -lm -o /dev/shm/compiler_gym_dx4/s/0330T160312-431331-6f35/benchmark.exe\n",
      "\u001b[2m\u001b[36m(RolloutWorker pid=3209681)\u001b[0m /home/dx4/.local/share/compiler_gym/llvm-v0/bin/llvm-dis -o /dev/shm/compiler_gym_dx4/s/0330T160312-431331-6f35/benchmark_new.ll /dev/shm/compiler_gym_dx4/s/0330T160312-431331-6f35/benchmark.bc\n",
      "\u001b[2m\u001b[36m(RolloutWorker pid=3209681)\u001b[0m \n",
      "\u001b[2m\u001b[36m(RolloutWorker pid=3209681)\u001b[0m \n",
      "\u001b[2m\u001b[36m(RolloutWorker pid=3209681)\u001b[0m \n",
      "\u001b[2m\u001b[36m(RolloutWorker pid=3209681)\u001b[0m  pre_run_cmd: \n",
      "\u001b[2m\u001b[36m(RolloutWorker pid=3209681)\u001b[0m []\n",
      "\u001b[2m\u001b[36m(RolloutWorker pid=3209681)\u001b[0m \n",
      "\u001b[2m\u001b[36m(RolloutWorker pid=3209681)\u001b[0m \n",
      "\u001b[2m\u001b[36m(RolloutWorker pid=3209681)\u001b[0m \n",
      "\u001b[2m\u001b[36m(RolloutWorker pid=3209681)\u001b[0m  run_cmd: \n",
      "\u001b[2m\u001b[36m(RolloutWorker pid=3209681)\u001b[0m /dev/shm/compiler_gym_dx4/s/0330T160312-431331-6f35/benchmark.exe\n",
      "\u001b[2m\u001b[36m(RolloutWorker pid=3209681)\u001b[0m \n",
      "\u001b[2m\u001b[36m(RolloutWorker pid=3209681)\u001b[0m \n",
      "\u001b[2m\u001b[36m(RolloutWorker pid=3209681)\u001b[0m hackkk: -O0\n",
      "\u001b[2m\u001b[36m(RolloutWorker pid=3209681)\u001b[0m Reward Runtime: reset\n",
      "Result for PPO_compiler_gym_cb3e3_00000:\n",
      "  agent_timesteps_total: 5\n",
      "  custom_metrics: {}\n",
      "  date: 2022-03-30_16-03-21\n",
      "  done: false\n",
      "  episode_len_mean: 5.0\n",
      "  episode_media: {}\n",
      "  episode_reward_max: 0.0\n",
      "  episode_reward_mean: 0.0\n",
      "  episode_reward_min: 0.0\n",
      "  episodes_this_iter: 1\n",
      "  episodes_total: 1\n",
      "  experiment_id: aa281878081e4d4a8ca8ac9b8debec87\n",
      "  hostname: ufront.cs.rice.edu\n",
      "  info:\n",
      "    learner:\n",
      "      default_policy:\n",
      "        custom_metrics: {}\n",
      "        learner_stats:\n",
      "          cur_kl_coeff: 0.20000000298023224\n",
      "          cur_lr: 4.999999873689376e-05\n",
      "          entropy: 2.70803165435791\n",
      "          entropy_coeff: 0.0\n",
      "          kl: 5.449719537864439e-07\n",
      "          model: {}\n",
      "          policy_loss: 0.0\n",
      "          total_loss: 3.880777967424365e-06\n",
      "          vf_explained_var: -1.0\n",
      "          vf_loss: 3.7717832128691953e-06\n",
      "    num_agent_steps_sampled: 5\n",
      "    num_agent_steps_trained: 5\n",
      "    num_steps_sampled: 5\n",
      "    num_steps_trained: 5\n",
      "  iterations_since_restore: 1\n",
      "  node_ip: 128.42.128.60\n",
      "  num_healthy_workers: 1\n",
      "  off_policy_estimator: {}\n",
      "  perf:\n",
      "    cpu_util_percent: 2.3333333333333335\n",
      "    ram_util_percent: 5.0\n",
      "  pid: 3209679\n",
      "  policy_reward_max: {}\n",
      "  policy_reward_mean: {}\n",
      "  policy_reward_min: {}\n",
      "  sampler_perf:\n",
      "    mean_action_processing_ms: 0.07772445678710938\n",
      "    mean_env_render_ms: 0.0\n",
      "    mean_env_wait_ms: 234.2597246170044\n",
      "    mean_inference_ms: 5.091706911722818\n",
      "    mean_raw_obs_processing_ms: 360.32895247141516\n",
      "  time_since_restore: 3.8057589530944824\n",
      "  time_this_iter_s: 3.8057589530944824\n",
      "  time_total_s: 3.8057589530944824\n",
      "  timers:\n",
      "    learn_throughput: 27.707\n",
      "    learn_time_ms: 180.458\n",
      "    load_throughput: 14573.676\n",
      "    load_time_ms: 0.343\n",
      "    sample_throughput: 1.381\n",
      "    sample_time_ms: 3620.589\n",
      "    update_time_ms: 1.645\n",
      "  timestamp: 1648674201\n",
      "  timesteps_since_restore: 0\n",
      "  timesteps_this_iter: 0\n",
      "  timesteps_total: 5\n",
      "  training_iteration: 1\n",
      "  trial_id: cb3e3_00000\n",
      "  \n",
      "\u001b[2m\u001b[36m(RolloutWorker pid=3209681)\u001b[0m hackkk: -loop-versioning\n",
      "\u001b[2m\u001b[36m(RolloutWorker pid=3209681)\u001b[0m Reward Runtime: update\n",
      "\u001b[2m\u001b[36m(RolloutWorker pid=3209681)\u001b[0m hackkk: -instsimplify\n",
      "\u001b[2m\u001b[36m(RolloutWorker pid=3209681)\u001b[0m Reward Runtime: update\n",
      "\u001b[2m\u001b[36m(RolloutWorker pid=3209681)\u001b[0m hackkk: -gvn-hoist\n",
      "\u001b[2m\u001b[36m(RolloutWorker pid=3209681)\u001b[0m Reward Runtime: update\n",
      "\u001b[2m\u001b[36m(RolloutWorker pid=3209681)\u001b[0m hackkk: -early-cse-memssa\n",
      "\u001b[2m\u001b[36m(RolloutWorker pid=3209681)\u001b[0m Reward Runtime: update\n",
      "\u001b[2m\u001b[36m(RolloutWorker pid=3209681)\u001b[0m hackkk: -loop-versioning\n",
      "\u001b[2m\u001b[36m(RolloutWorker pid=3209681)\u001b[0m Reward Runtime: update\n",
      "\u001b[2m\u001b[36m(RolloutWorker pid=3209681)\u001b[0m \n",
      "\u001b[2m\u001b[36m(RolloutWorker pid=3209681)\u001b[0m  /dev/shm/compiler_gym_dx4/s/0330T160312-431331-6f35 \n",
      "\u001b[2m\u001b[36m(RolloutWorker pid=3209681)\u001b[0m \n",
      "\u001b[2m\u001b[36m(RolloutWorker pid=3209681)\u001b[0m source_filename = \"/dev/shm/compiler_gym_dx4/s/0330T160312-431331-6f35/benchmark.c\"\n",
      "\u001b[2m\u001b[36m(RolloutWorker pid=3209681)\u001b[0m \n",
      "\u001b[2m\u001b[36m(RolloutWorker pid=3209681)\u001b[0m \n",
      "\u001b[2m\u001b[36m(RolloutWorker pid=3209681)\u001b[0m  compile: \n",
      "\u001b[2m\u001b[36m(RolloutWorker pid=3209681)\u001b[0m /home/dx4/.local/share/compiler_gym/llvm-v0/bin/opt -o /dev/shm/compiler_gym_dx4/s/0330T160312-431331-6f35/benchmark.bc /dev/shm/compiler_gym_dx4/s/0330T160312-431331-6f35/benchmark.ll\n",
      "\u001b[2m\u001b[36m(RolloutWorker pid=3209681)\u001b[0m /home/dx4/.local/share/compiler_gym/llvm-v0/bin/clang /dev/shm/compiler_gym_dx4/s/0330T160312-431331-6f35/benchmark.bc -lm -o /dev/shm/compiler_gym_dx4/s/0330T160312-431331-6f35/benchmark.exe\n",
      "\u001b[2m\u001b[36m(RolloutWorker pid=3209681)\u001b[0m /home/dx4/.local/share/compiler_gym/llvm-v0/bin/llvm-dis -o /dev/shm/compiler_gym_dx4/s/0330T160312-431331-6f35/benchmark_new.ll /dev/shm/compiler_gym_dx4/s/0330T160312-431331-6f35/benchmark.bc\n",
      "\u001b[2m\u001b[36m(RolloutWorker pid=3209681)\u001b[0m \n",
      "\u001b[2m\u001b[36m(RolloutWorker pid=3209681)\u001b[0m \n",
      "\u001b[2m\u001b[36m(RolloutWorker pid=3209681)\u001b[0m \n",
      "\u001b[2m\u001b[36m(RolloutWorker pid=3209681)\u001b[0m  pre_run_cmd: \n",
      "\u001b[2m\u001b[36m(RolloutWorker pid=3209681)\u001b[0m []\n",
      "\u001b[2m\u001b[36m(RolloutWorker pid=3209681)\u001b[0m \n",
      "\u001b[2m\u001b[36m(RolloutWorker pid=3209681)\u001b[0m \n",
      "\u001b[2m\u001b[36m(RolloutWorker pid=3209681)\u001b[0m \n",
      "\u001b[2m\u001b[36m(RolloutWorker pid=3209681)\u001b[0m  run_cmd: \n",
      "\u001b[2m\u001b[36m(RolloutWorker pid=3209681)\u001b[0m /dev/shm/compiler_gym_dx4/s/0330T160312-431331-6f35/benchmark.exe\n",
      "\u001b[2m\u001b[36m(RolloutWorker pid=3209681)\u001b[0m \n",
      "\u001b[2m\u001b[36m(RolloutWorker pid=3209681)\u001b[0m \n",
      "\u001b[2m\u001b[36m(RolloutWorker pid=3209681)\u001b[0m hackkk: -O0\n",
      "\u001b[2m\u001b[36m(RolloutWorker pid=3209681)\u001b[0m Reward Runtime: reset\n",
      "\u001b[2m\u001b[36m(RolloutWorker pid=3209681)\u001b[0m hackkk: -simplifycfg\n",
      "\u001b[2m\u001b[36m(RolloutWorker pid=3209681)\u001b[0m Reward Runtime: update\n",
      "\u001b[2m\u001b[36m(RolloutWorker pid=3209681)\u001b[0m hackkk: -loop-reduce\n",
      "\u001b[2m\u001b[36m(RolloutWorker pid=3209681)\u001b[0m Reward Runtime: update\n",
      "\u001b[2m\u001b[36m(RolloutWorker pid=3209681)\u001b[0m hackkk: -simplifycfg\n",
      "\u001b[2m\u001b[36m(RolloutWorker pid=3209681)\u001b[0m Reward Runtime: update\n",
      "\u001b[2m\u001b[36m(RolloutWorker pid=3209681)\u001b[0m hackkk: -loop-rotate\n",
      "\u001b[2m\u001b[36m(RolloutWorker pid=3209681)\u001b[0m Reward Runtime: update\n",
      "\u001b[2m\u001b[36m(RolloutWorker pid=3209681)\u001b[0m hackkk: -gvn\n",
      "\u001b[2m\u001b[36m(RolloutWorker pid=3209681)\u001b[0m Reward Runtime: update\n",
      "\u001b[2m\u001b[36m(RolloutWorker pid=3209681)\u001b[0m \n",
      "\u001b[2m\u001b[36m(RolloutWorker pid=3209681)\u001b[0m  /dev/shm/compiler_gym_dx4/s/0330T160312-431331-6f35 \n",
      "\u001b[2m\u001b[36m(RolloutWorker pid=3209681)\u001b[0m \n",
      "\u001b[2m\u001b[36m(RolloutWorker pid=3209681)\u001b[0m source_filename = \"/dev/shm/compiler_gym_dx4/s/0330T160312-431331-6f35/benchmark.c\"\n",
      "\u001b[2m\u001b[36m(RolloutWorker pid=3209681)\u001b[0m \n",
      "\u001b[2m\u001b[36m(RolloutWorker pid=3209681)\u001b[0m \n",
      "\u001b[2m\u001b[36m(RolloutWorker pid=3209681)\u001b[0m  compile: \n",
      "\u001b[2m\u001b[36m(RolloutWorker pid=3209681)\u001b[0m /home/dx4/.local/share/compiler_gym/llvm-v0/bin/opt -o /dev/shm/compiler_gym_dx4/s/0330T160312-431331-6f35/benchmark.bc /dev/shm/compiler_gym_dx4/s/0330T160312-431331-6f35/benchmark.ll\n",
      "\u001b[2m\u001b[36m(RolloutWorker pid=3209681)\u001b[0m /home/dx4/.local/share/compiler_gym/llvm-v0/bin/clang /dev/shm/compiler_gym_dx4/s/0330T160312-431331-6f35/benchmark.bc -lm -o /dev/shm/compiler_gym_dx4/s/0330T160312-431331-6f35/benchmark.exe\n",
      "\u001b[2m\u001b[36m(RolloutWorker pid=3209681)\u001b[0m /home/dx4/.local/share/compiler_gym/llvm-v0/bin/llvm-dis -o /dev/shm/compiler_gym_dx4/s/0330T160312-431331-6f35/benchmark_new.ll /dev/shm/compiler_gym_dx4/s/0330T160312-431331-6f35/benchmark.bc\n",
      "\u001b[2m\u001b[36m(RolloutWorker pid=3209681)\u001b[0m \n",
      "\u001b[2m\u001b[36m(RolloutWorker pid=3209681)\u001b[0m \n",
      "\u001b[2m\u001b[36m(RolloutWorker pid=3209681)\u001b[0m \n",
      "\u001b[2m\u001b[36m(RolloutWorker pid=3209681)\u001b[0m  pre_run_cmd: \n",
      "\u001b[2m\u001b[36m(RolloutWorker pid=3209681)\u001b[0m []\n",
      "\u001b[2m\u001b[36m(RolloutWorker pid=3209681)\u001b[0m \n",
      "\u001b[2m\u001b[36m(RolloutWorker pid=3209681)\u001b[0m \n",
      "\u001b[2m\u001b[36m(RolloutWorker pid=3209681)\u001b[0m \n",
      "\u001b[2m\u001b[36m(RolloutWorker pid=3209681)\u001b[0m  run_cmd: \n",
      "\u001b[2m\u001b[36m(RolloutWorker pid=3209681)\u001b[0m /dev/shm/compiler_gym_dx4/s/0330T160312-431331-6f35/benchmark.exe\n",
      "\u001b[2m\u001b[36m(RolloutWorker pid=3209681)\u001b[0m \n",
      "\u001b[2m\u001b[36m(RolloutWorker pid=3209681)\u001b[0m \n",
      "\u001b[2m\u001b[36m(RolloutWorker pid=3209681)\u001b[0m hackkk: -O0\n"
     ]
    },
    {
     "data": {
      "text/html": [
       "== Status ==<br>Current time: 2022-03-30 16:03:24 (running for 00:00:18.64)<br>Memory usage on this node: 25.2/503.7 GiB<br>Using FIFO scheduling algorithm.<br>Resources requested: 2.0/96 CPUs, 0/1 GPUs, 0.0/334.17 GiB heap, 0.0/147.21 GiB objects<br>Result logdir: /home/dx4/ray_results/PPO_2022-03-30_16-03-05<br>Number of trials: 1/1 (1 RUNNING)<br><table>\n",
       "<thead>\n",
       "<tr><th>Trial name                  </th><th>status  </th><th>loc                  </th><th style=\"text-align: right;\">  iter</th><th style=\"text-align: right;\">  total time (s)</th><th style=\"text-align: right;\">  ts</th><th style=\"text-align: right;\">  reward</th><th style=\"text-align: right;\">  episode_reward_max</th><th style=\"text-align: right;\">  episode_reward_min</th><th style=\"text-align: right;\">  episode_len_mean</th></tr>\n",
       "</thead>\n",
       "<tbody>\n",
       "<tr><td>PPO_compiler_gym_cb3e3_00000</td><td>RUNNING </td><td>128.42.128.60:3209679</td><td style=\"text-align: right;\">     2</td><td style=\"text-align: right;\">         5.17549</td><td style=\"text-align: right;\">  10</td><td style=\"text-align: right;\">       0</td><td style=\"text-align: right;\">                   0</td><td style=\"text-align: right;\">                   0</td><td style=\"text-align: right;\">                 5</td></tr>\n",
       "</tbody>\n",
       "</table><br><br>"
      ],
      "text/plain": [
       "<IPython.core.display.HTML object>"
      ]
     },
     "metadata": {},
     "output_type": "display_data"
    },
    {
     "name": "stdout",
     "output_type": "stream",
     "text": [
      "\u001b[2m\u001b[36m(RolloutWorker pid=3209681)\u001b[0m Reward Runtime: reset\n",
      "\u001b[2m\u001b[36m(RolloutWorker pid=3209681)\u001b[0m hackkk: -reg2mem\n",
      "\u001b[2m\u001b[36m(RolloutWorker pid=3209681)\u001b[0m Reward Runtime: update\n",
      "\u001b[2m\u001b[36m(RolloutWorker pid=3209681)\u001b[0m hackkk: -loop-rotate\n",
      "\u001b[2m\u001b[36m(RolloutWorker pid=3209681)\u001b[0m Reward Runtime: update\n",
      "\u001b[2m\u001b[36m(RolloutWorker pid=3209681)\u001b[0m hackkk: -gvn-hoist\n",
      "\u001b[2m\u001b[36m(RolloutWorker pid=3209681)\u001b[0m Reward Runtime: update\n",
      "\u001b[2m\u001b[36m(RolloutWorker pid=3209681)\u001b[0m hackkk: -jump-threading\n",
      "\u001b[2m\u001b[36m(RolloutWorker pid=3209681)\u001b[0m Reward Runtime: update\n",
      "\u001b[2m\u001b[36m(RolloutWorker pid=3209681)\u001b[0m hackkk: -sroa\n",
      "\u001b[2m\u001b[36m(RolloutWorker pid=3209681)\u001b[0m Reward Runtime: update\n",
      "\u001b[2m\u001b[36m(RolloutWorker pid=3209681)\u001b[0m \n",
      "\u001b[2m\u001b[36m(RolloutWorker pid=3209681)\u001b[0m  /dev/shm/compiler_gym_dx4/s/0330T160312-431331-6f35 \n",
      "\u001b[2m\u001b[36m(RolloutWorker pid=3209681)\u001b[0m \n",
      "\u001b[2m\u001b[36m(RolloutWorker pid=3209681)\u001b[0m source_filename = \"/dev/shm/compiler_gym_dx4/s/0330T160312-431331-6f35/benchmark.c\"\n",
      "\u001b[2m\u001b[36m(RolloutWorker pid=3209681)\u001b[0m \n",
      "\u001b[2m\u001b[36m(RolloutWorker pid=3209681)\u001b[0m \n",
      "\u001b[2m\u001b[36m(RolloutWorker pid=3209681)\u001b[0m  compile: \n",
      "\u001b[2m\u001b[36m(RolloutWorker pid=3209681)\u001b[0m /home/dx4/.local/share/compiler_gym/llvm-v0/bin/opt -o /dev/shm/compiler_gym_dx4/s/0330T160312-431331-6f35/benchmark.bc /dev/shm/compiler_gym_dx4/s/0330T160312-431331-6f35/benchmark.ll\n",
      "\u001b[2m\u001b[36m(RolloutWorker pid=3209681)\u001b[0m /home/dx4/.local/share/compiler_gym/llvm-v0/bin/clang /dev/shm/compiler_gym_dx4/s/0330T160312-431331-6f35/benchmark.bc -lm -o /dev/shm/compiler_gym_dx4/s/0330T160312-431331-6f35/benchmark.exe\n",
      "\u001b[2m\u001b[36m(RolloutWorker pid=3209681)\u001b[0m /home/dx4/.local/share/compiler_gym/llvm-v0/bin/llvm-dis -o /dev/shm/compiler_gym_dx4/s/0330T160312-431331-6f35/benchmark_new.ll /dev/shm/compiler_gym_dx4/s/0330T160312-431331-6f35/benchmark.bc\n",
      "\u001b[2m\u001b[36m(RolloutWorker pid=3209681)\u001b[0m \n",
      "\u001b[2m\u001b[36m(RolloutWorker pid=3209681)\u001b[0m \n",
      "\u001b[2m\u001b[36m(RolloutWorker pid=3209681)\u001b[0m \n",
      "\u001b[2m\u001b[36m(RolloutWorker pid=3209681)\u001b[0m  pre_run_cmd: \n",
      "\u001b[2m\u001b[36m(RolloutWorker pid=3209681)\u001b[0m []\n",
      "\u001b[2m\u001b[36m(RolloutWorker pid=3209681)\u001b[0m \n",
      "\u001b[2m\u001b[36m(RolloutWorker pid=3209681)\u001b[0m \n",
      "\u001b[2m\u001b[36m(RolloutWorker pid=3209681)\u001b[0m \n",
      "\u001b[2m\u001b[36m(RolloutWorker pid=3209681)\u001b[0m  run_cmd: \n",
      "\u001b[2m\u001b[36m(RolloutWorker pid=3209681)\u001b[0m /dev/shm/compiler_gym_dx4/s/0330T160312-431331-6f35/benchmark.exe\n",
      "\u001b[2m\u001b[36m(RolloutWorker pid=3209681)\u001b[0m \n",
      "\u001b[2m\u001b[36m(RolloutWorker pid=3209681)\u001b[0m \n",
      "\u001b[2m\u001b[36m(RolloutWorker pid=3209681)\u001b[0m hackkk: -O0\n",
      "Result for PPO_compiler_gym_cb3e3_00000:\n",
      "  agent_timesteps_total: 20\n",
      "  custom_metrics: {}\n",
      "  date: 2022-03-30_16-03-27\n",
      "  done: false\n",
      "  episode_len_mean: 5.0\n",
      "  episode_media: {}\n",
      "  episode_reward_max: 0.0\n",
      "  episode_reward_mean: 0.0\n",
      "  episode_reward_min: 0.0\n",
      "  episodes_this_iter: 1\n",
      "  episodes_total: 4\n",
      "  experiment_id: aa281878081e4d4a8ca8ac9b8debec87\n",
      "  hostname: ufront.cs.rice.edu\n",
      "  info:\n",
      "    learner:\n",
      "      default_policy:\n",
      "        custom_metrics: {}\n",
      "        learner_stats:\n",
      "          cur_kl_coeff: 0.02500000037252903\n",
      "          cur_lr: 4.999999873689376e-05\n",
      "          entropy: 2.708031177520752\n",
      "          entropy_coeff: 0.0\n",
      "          kl: 3.8490103548838306e-08\n",
      "          model: {}\n",
      "          policy_loss: 0.0\n",
      "          total_loss: 1.2621479417163073e-09\n",
      "          vf_explained_var: -1.0\n",
      "          vf_loss: 2.998953863020404e-10\n",
      "    num_agent_steps_sampled: 20\n",
      "    num_agent_steps_trained: 20\n",
      "    num_steps_sampled: 20\n",
      "    num_steps_trained: 20\n",
      "    num_steps_trained_this_iter: 0\n",
      "  iterations_since_restore: 4\n",
      "  node_ip: 128.42.128.60\n",
      "  num_healthy_workers: 1\n",
      "  off_policy_estimator: {}\n",
      "  perf:\n",
      "    cpu_util_percent: 2.0\n",
      "    ram_util_percent: 5.0\n",
      "  pid: 3209679\n",
      "  policy_reward_max: {}\n",
      "  policy_reward_mean: {}\n",
      "  policy_reward_min: {}\n",
      "  sampler_perf:\n",
      "    mean_action_processing_ms: 0.06574626157294104\n",
      "    mean_env_render_ms: 0.0\n",
      "    mean_env_wait_ms: 168.6317263033999\n",
      "    mean_inference_ms: 3.2625521867822256\n",
      "    mean_raw_obs_processing_ms: 314.0115484079241\n",
      "  time_since_restore: 9.265368938446045\n",
      "  time_this_iter_s: 1.4192447662353516\n",
      "  time_total_s: 9.265368938446045\n",
      "  timers:\n",
      "    learn_throughput: 67.579\n",
      "    learn_time_ms: 73.987\n",
      "    load_throughput: 17389.32\n",
      "    load_time_ms: 0.288\n",
      "    sample_throughput: 2.144\n",
      "    sample_time_ms: 2331.776\n",
      "    update_time_ms: 1.397\n",
      "  timestamp: 1648674207\n",
      "  timesteps_since_restore: 0\n",
      "  timesteps_this_iter: 0\n",
      "  timesteps_total: 20\n",
      "  training_iteration: 4\n",
      "  trial_id: cb3e3_00000\n",
      "  \n",
      "\u001b[2m\u001b[36m(RolloutWorker pid=3209681)\u001b[0m Reward Runtime: reset\n",
      "\u001b[2m\u001b[36m(RolloutWorker pid=3209681)\u001b[0m hackkk: -gvn\n",
      "\u001b[2m\u001b[36m(RolloutWorker pid=3209681)\u001b[0m Reward Runtime: update\n",
      "\u001b[2m\u001b[36m(RolloutWorker pid=3209681)\u001b[0m hackkk: -simplifycfg\n",
      "\u001b[2m\u001b[36m(RolloutWorker pid=3209681)\u001b[0m Reward Runtime: update\n",
      "\u001b[2m\u001b[36m(RolloutWorker pid=3209681)\u001b[0m hackkk: -mem2reg\n",
      "\u001b[2m\u001b[36m(RolloutWorker pid=3209681)\u001b[0m Reward Runtime: update\n",
      "\u001b[2m\u001b[36m(RolloutWorker pid=3209681)\u001b[0m hackkk: -sroa\n",
      "\u001b[2m\u001b[36m(RolloutWorker pid=3209681)\u001b[0m Reward Runtime: update\n",
      "\u001b[2m\u001b[36m(RolloutWorker pid=3209681)\u001b[0m hackkk: -jump-threading\n",
      "\u001b[2m\u001b[36m(RolloutWorker pid=3209681)\u001b[0m Reward Runtime: update\n",
      "\u001b[2m\u001b[36m(RolloutWorker pid=3209681)\u001b[0m \n",
      "\u001b[2m\u001b[36m(RolloutWorker pid=3209681)\u001b[0m  /dev/shm/compiler_gym_dx4/s/0330T160312-431331-6f35 \n",
      "\u001b[2m\u001b[36m(RolloutWorker pid=3209681)\u001b[0m \n",
      "\u001b[2m\u001b[36m(RolloutWorker pid=3209681)\u001b[0m source_filename = \"/dev/shm/compiler_gym_dx4/s/0330T160312-431331-6f35/benchmark.c\"\n",
      "\u001b[2m\u001b[36m(RolloutWorker pid=3209681)\u001b[0m \n",
      "\u001b[2m\u001b[36m(RolloutWorker pid=3209681)\u001b[0m \n",
      "\u001b[2m\u001b[36m(RolloutWorker pid=3209681)\u001b[0m  compile: \n",
      "\u001b[2m\u001b[36m(RolloutWorker pid=3209681)\u001b[0m /home/dx4/.local/share/compiler_gym/llvm-v0/bin/opt -o /dev/shm/compiler_gym_dx4/s/0330T160312-431331-6f35/benchmark.bc /dev/shm/compiler_gym_dx4/s/0330T160312-431331-6f35/benchmark.ll\n",
      "\u001b[2m\u001b[36m(RolloutWorker pid=3209681)\u001b[0m /home/dx4/.local/share/compiler_gym/llvm-v0/bin/clang /dev/shm/compiler_gym_dx4/s/0330T160312-431331-6f35/benchmark.bc -lm -o /dev/shm/compiler_gym_dx4/s/0330T160312-431331-6f35/benchmark.exe\n",
      "\u001b[2m\u001b[36m(RolloutWorker pid=3209681)\u001b[0m /home/dx4/.local/share/compiler_gym/llvm-v0/bin/llvm-dis -o /dev/shm/compiler_gym_dx4/s/0330T160312-431331-6f35/benchmark_new.ll /dev/shm/compiler_gym_dx4/s/0330T160312-431331-6f35/benchmark.bc\n",
      "\u001b[2m\u001b[36m(RolloutWorker pid=3209681)\u001b[0m \n",
      "\u001b[2m\u001b[36m(RolloutWorker pid=3209681)\u001b[0m \n",
      "\u001b[2m\u001b[36m(RolloutWorker pid=3209681)\u001b[0m \n",
      "\u001b[2m\u001b[36m(RolloutWorker pid=3209681)\u001b[0m  pre_run_cmd: \n",
      "\u001b[2m\u001b[36m(RolloutWorker pid=3209681)\u001b[0m []\n",
      "\u001b[2m\u001b[36m(RolloutWorker pid=3209681)\u001b[0m \n",
      "\u001b[2m\u001b[36m(RolloutWorker pid=3209681)\u001b[0m \n",
      "\u001b[2m\u001b[36m(RolloutWorker pid=3209681)\u001b[0m \n",
      "\u001b[2m\u001b[36m(RolloutWorker pid=3209681)\u001b[0m  run_cmd: \n",
      "\u001b[2m\u001b[36m(RolloutWorker pid=3209681)\u001b[0m /dev/shm/compiler_gym_dx4/s/0330T160312-431331-6f35/benchmark.exe\n",
      "\u001b[2m\u001b[36m(RolloutWorker pid=3209681)\u001b[0m \n",
      "\u001b[2m\u001b[36m(RolloutWorker pid=3209681)\u001b[0m \n",
      "\u001b[2m\u001b[36m(RolloutWorker pid=3209681)\u001b[0m hackkk: -O0\n"
     ]
    },
    {
     "data": {
      "text/html": [
       "== Status ==<br>Current time: 2022-03-30 16:03:29 (running for 00:00:23.81)<br>Memory usage on this node: 25.2/503.7 GiB<br>Using FIFO scheduling algorithm.<br>Resources requested: 2.0/96 CPUs, 0/1 GPUs, 0.0/334.17 GiB heap, 0.0/147.21 GiB objects<br>Result logdir: /home/dx4/ray_results/PPO_2022-03-30_16-03-05<br>Number of trials: 1/1 (1 RUNNING)<br><table>\n",
       "<thead>\n",
       "<tr><th>Trial name                  </th><th>status  </th><th>loc                  </th><th style=\"text-align: right;\">  iter</th><th style=\"text-align: right;\">  total time (s)</th><th style=\"text-align: right;\">  ts</th><th style=\"text-align: right;\">  reward</th><th style=\"text-align: right;\">  episode_reward_max</th><th style=\"text-align: right;\">  episode_reward_min</th><th style=\"text-align: right;\">  episode_len_mean</th></tr>\n",
       "</thead>\n",
       "<tbody>\n",
       "<tr><td>PPO_compiler_gym_cb3e3_00000</td><td>RUNNING </td><td>128.42.128.60:3209679</td><td style=\"text-align: right;\">     4</td><td style=\"text-align: right;\">         9.26537</td><td style=\"text-align: right;\">  20</td><td style=\"text-align: right;\">       0</td><td style=\"text-align: right;\">                   0</td><td style=\"text-align: right;\">                   0</td><td style=\"text-align: right;\">                 5</td></tr>\n",
       "</tbody>\n",
       "</table><br><br>"
      ],
      "text/plain": [
       "<IPython.core.display.HTML object>"
      ]
     },
     "metadata": {},
     "output_type": "display_data"
    },
    {
     "name": "stdout",
     "output_type": "stream",
     "text": [
      "\u001b[2m\u001b[36m(RolloutWorker pid=3209681)\u001b[0m Reward Runtime: reset\n",
      "Result for PPO_compiler_gym_cb3e3_00000:\n",
      "  agent_timesteps_total: 25\n",
      "  custom_metrics: {}\n",
      "  date: 2022-03-30_16-03-29\n",
      "  done: true\n",
      "  episode_len_mean: 5.0\n",
      "  episode_media: {}\n",
      "  episode_reward_max: 0.0\n",
      "  episode_reward_mean: 0.0\n",
      "  episode_reward_min: 0.0\n",
      "  episodes_this_iter: 1\n",
      "  episodes_total: 5\n",
      "  experiment_id: aa281878081e4d4a8ca8ac9b8debec87\n",
      "  hostname: ufront.cs.rice.edu\n",
      "  info:\n",
      "    learner:\n",
      "      default_policy:\n",
      "        custom_metrics: {}\n",
      "        learner_stats:\n",
      "          cur_kl_coeff: 0.012500000186264515\n",
      "          cur_lr: 4.999999873689376e-05\n",
      "          entropy: 2.708031177520752\n",
      "          entropy_coeff: 0.0\n",
      "          kl: 3.4421351102764675e-08\n",
      "          model: {}\n",
      "          policy_loss: 0.0\n",
      "          total_loss: 4.444388745916683e-10\n",
      "          vf_explained_var: 'null'\n",
      "          vf_loss: 1.4172028134362691e-11\n",
      "    num_agent_steps_sampled: 25\n",
      "    num_agent_steps_trained: 25\n",
      "    num_steps_sampled: 25\n",
      "    num_steps_trained: 25\n",
      "    num_steps_trained_this_iter: 0\n",
      "  iterations_since_restore: 5\n",
      "  node_ip: 128.42.128.60\n",
      "  num_healthy_workers: 1\n",
      "  off_policy_estimator: {}\n",
      "  perf:\n",
      "    cpu_util_percent: 2.525\n",
      "    ram_util_percent: 5.0\n",
      "  pid: 3209679\n",
      "  policy_reward_max: {}\n",
      "  policy_reward_mean: {}\n",
      "  policy_reward_min: {}\n",
      "  sampler_perf:\n",
      "    mean_action_processing_ms: 0.06438405701132008\n",
      "    mean_env_render_ms: 0.0\n",
      "    mean_env_wait_ms: 159.26561046154785\n",
      "    mean_inference_ms: 2.9990986887709203\n",
      "    mean_raw_obs_processing_ms: 314.93867897526883\n",
      "  time_since_restore: 11.895127773284912\n",
      "  time_this_iter_s: 2.629758834838867\n",
      "  time_total_s: 11.895127773284912\n",
      "  timers:\n",
      "    learn_throughput: 74.402\n",
      "    learn_time_ms: 67.202\n",
      "    load_throughput: 17838.993\n",
      "    load_time_ms: 0.28\n",
      "    sample_throughput: 2.088\n",
      "    sample_time_ms: 2394.668\n",
      "    update_time_ms: 1.415\n",
      "  timestamp: 1648674209\n",
      "  timesteps_since_restore: 0\n",
      "  timesteps_this_iter: 0\n",
      "  timesteps_total: 25\n",
      "  training_iteration: 5\n",
      "  trial_id: cb3e3_00000\n",
      "  \n"
     ]
    },
    {
     "name": "stderr",
     "output_type": "stream",
     "text": [
      "\u001b[2m\u001b[36m(PPO pid=3209679)\u001b[0m /home/dx4/tools/miniconda3/lib/python3.8/site-packages/ray/rllib/utils/metrics/learner_info.py:64: RuntimeWarning: Mean of empty slice\n",
      "\u001b[2m\u001b[36m(PPO pid=3209679)\u001b[0m   lambda *s: None if s[0] is None else np.nanmean(s, axis=0),\n"
     ]
    },
    {
     "data": {
      "text/html": [
       "== Status ==<br>Current time: 2022-03-30 16:03:29 (running for 00:00:24.54)<br>Memory usage on this node: 25.2/503.7 GiB<br>Using FIFO scheduling algorithm.<br>Resources requested: 0/96 CPUs, 0/1 GPUs, 0.0/334.17 GiB heap, 0.0/147.21 GiB objects<br>Result logdir: /home/dx4/ray_results/PPO_2022-03-30_16-03-05<br>Number of trials: 1/1 (1 TERMINATED)<br><table>\n",
       "<thead>\n",
       "<tr><th>Trial name                  </th><th>status    </th><th>loc                  </th><th style=\"text-align: right;\">  iter</th><th style=\"text-align: right;\">  total time (s)</th><th style=\"text-align: right;\">  ts</th><th style=\"text-align: right;\">  reward</th><th style=\"text-align: right;\">  episode_reward_max</th><th style=\"text-align: right;\">  episode_reward_min</th><th style=\"text-align: right;\">  episode_len_mean</th></tr>\n",
       "</thead>\n",
       "<tbody>\n",
       "<tr><td>PPO_compiler_gym_cb3e3_00000</td><td>TERMINATED</td><td>128.42.128.60:3209679</td><td style=\"text-align: right;\">     5</td><td style=\"text-align: right;\">         11.8951</td><td style=\"text-align: right;\">  25</td><td style=\"text-align: right;\">       0</td><td style=\"text-align: right;\">                   0</td><td style=\"text-align: right;\">                   0</td><td style=\"text-align: right;\">                 5</td></tr>\n",
       "</tbody>\n",
       "</table><br><br>"
      ],
      "text/plain": [
       "<IPython.core.display.HTML object>"
      ]
     },
     "metadata": {},
     "output_type": "display_data"
    },
    {
     "name": "stderr",
     "output_type": "stream",
     "text": [
      "2022-03-30 16:03:31,081\tINFO tune.py:626 -- Total run time: 25.64 seconds (24.44 seconds for the tuning loop).\n"
     ]
    }
   ],
   "source": [
    "import ray\n",
    "from ray.rllib.agents.ppo import PPOTrainer\n",
    "\n",
    "# (Re)Start the ray runtime.\n",
    "if ray.is_initialized():\n",
    "  ray.shutdown()\n",
    "ray.init(include_dashboard=False, ignore_reinit_error=True)\n",
    "\n",
    "tune.register_env(\"compiler_gym\", make_training_env)\n",
    "\n",
    "analysis = tune.run(\n",
    "    PPOTrainer,\n",
    "    checkpoint_at_end=True,\n",
    "    stop={\n",
    "        \"episodes_total\": 5,\n",
    "    },\n",
    "    config={\n",
    "        \"seed\": 0xCC,\n",
    "        \"num_workers\": 1,\n",
    "        # Specify the environment to use, where \"compiler_gym\" is the name we \n",
    "        # passed to tune.register_env().\n",
    "        \"env\": \"compiler_gym\",\n",
    "        # Reduce the size of the batch/trajectory lengths to match our short \n",
    "        # training run.\n",
    "        \"rollout_fragment_length\": 5,\n",
    "        \"train_batch_size\": 5,\n",
    "        \"sgd_minibatch_size\": 5,\n",
    "    }\n",
    ")"
   ]
  },
  {
   "cell_type": "markdown",
   "metadata": {
    "id": "CFDxXezNuXdy"
   },
   "source": [
    "## Evaluate the agent\n",
    "\n",
    "After running the training loop we can create a new agent that has exploration disabled, restore it from the training checkpoint, and then use it for running inference tests."
   ]
  },
  {
   "cell_type": "code",
   "execution_count": 54,
   "metadata": {
    "colab": {
     "base_uri": "https://localhost:8080/"
    },
    "id": "4mYoBhSEi26c",
    "outputId": "2dae3ec2-9d0e-4919-86b9-10362d9dd5ee"
   },
   "outputs": [
    {
     "name": "stderr",
     "output_type": "stream",
     "text": [
      "2022-03-30 16:03:37,863\tINFO trainer.py:722 -- Your framework setting is 'tf', meaning you are using static-graph mode. Set framework='tf2' to enable eager execution with tf2.x. You may also want to then set `eager_tracing=True` in order to reach similar execution speed as with static-graph mode.\n",
      "2022-03-30 16:03:37,863\tINFO ppo.py:166 -- In multi-agent mode, policies will be optimized sequentially by the multi-GPU optimizer. Consider setting simple_optimizer=True if this doesn't work for you.\n",
      "2022-03-30 16:03:37,864\tINFO trainer.py:743 -- Current log_level is WARN. For more information, set 'log_level': 'INFO' / 'DEBUG' or use the -v and -vv flags.\n",
      "\u001b[2m\u001b[36m(RolloutWorker pid=3209670)\u001b[0m /home/dx4/.local/share/compiler_gym/llvm-v0/bin/clang: /lib64/libtinfo.so.5: no version information available (required by /home/dx4/.local/share/compiler_gym/llvm-v0/bin/clang)\n",
      "\u001b[2m\u001b[36m(RolloutWorker pid=3209670)\u001b[0m /home/dx4/.local/share/compiler_gym/llvm-v0/bin/clang: /lib64/libtinfo.so.5: no version information available (required by /home/dx4/.local/share/compiler_gym/llvm-v0/bin/clang)\n",
      "\u001b[2m\u001b[36m(RolloutWorker pid=3209670)\u001b[0m /home/dx4/.local/share/compiler_gym/llvm-v0/bin/clang: /lib64/libtinfo.so.5: no version information available (required by /home/dx4/.local/share/compiler_gym/llvm-v0/bin/clang)\n",
      "\u001b[2m\u001b[36m(RolloutWorker pid=3209670)\u001b[0m /home/dx4/.local/share/compiler_gym/llvm-v0/bin/clang: /lib64/libtinfo.so.5: no version information available (required by /home/dx4/.local/share/compiler_gym/llvm-v0/bin/clang)\n",
      "\u001b[2m\u001b[36m(RolloutWorker pid=3209670)\u001b[0m /home/dx4/.local/share/compiler_gym/llvm-v0/bin/clang: /lib64/libtinfo.so.5: no version information available (required by /home/dx4/.local/share/compiler_gym/llvm-v0/bin/clang)\n"
     ]
    },
    {
     "name": "stdout",
     "output_type": "stream",
     "text": [
      "\u001b[2m\u001b[36m(RolloutWorker pid=3209670)\u001b[0m What is the path /home/dx4/tools/compiler2/compiler2_service/service_py/example_service.py\n",
      "\u001b[2m\u001b[36m(RolloutWorker pid=3209670)\u001b[0m Is that file:  True\n"
     ]
    },
    {
     "name": "stderr",
     "output_type": "stream",
     "text": [
      "\u001b[2m\u001b[36m(RolloutWorker pid=3209670)\u001b[0m /home/dx4/.local/share/compiler_gym/llvm-v0/bin/clang: /lib64/libtinfo.so.5: no version information available (required by /home/dx4/.local/share/compiler_gym/llvm-v0/bin/clang)\n",
      "\u001b[2m\u001b[36m(RolloutWorker pid=3209670)\u001b[0m /home/dx4/.local/share/compiler_gym/llvm-v0/bin/clang: /lib64/libtinfo.so.5: no version information available (required by /home/dx4/.local/share/compiler_gym/llvm-v0/bin/clang)\n",
      "\u001b[2m\u001b[36m(RolloutWorker pid=3209670)\u001b[0m /home/dx4/.local/share/compiler_gym/llvm-v0/bin/clang: /lib64/libtinfo.so.5: no version information available (required by /home/dx4/.local/share/compiler_gym/llvm-v0/bin/clang)\n",
      "\u001b[2m\u001b[36m(RolloutWorker pid=3209670)\u001b[0m /home/dx4/.local/share/compiler_gym/llvm-v0/bin/clang: /lib64/libtinfo.so.5: no version information available (required by /home/dx4/.local/share/compiler_gym/llvm-v0/bin/clang)\n",
      "\u001b[2m\u001b[36m(RolloutWorker pid=3209670)\u001b[0m /home/dx4/.local/share/compiler_gym/llvm-v0/bin/clang: /lib64/libtinfo.so.5: no version information available (required by /home/dx4/.local/share/compiler_gym/llvm-v0/bin/clang)\n",
      "\u001b[2m\u001b[36m(RolloutWorker pid=3209670)\u001b[0m /home/dx4/.local/share/compiler_gym/llvm-v0/bin/clang: /lib64/libtinfo.so.5: no version information available (required by /home/dx4/.local/share/compiler_gym/llvm-v0/bin/clang)\n",
      "\u001b[2m\u001b[36m(RolloutWorker pid=3209670)\u001b[0m /home/dx4/.local/share/compiler_gym/llvm-v0/bin/clang: /lib64/libtinfo.so.5: no version information available (required by /home/dx4/.local/share/compiler_gym/llvm-v0/bin/clang)\n",
      "\u001b[2m\u001b[36m(RolloutWorker pid=3209670)\u001b[0m /home/dx4/.local/share/compiler_gym/llvm-v0/bin/clang: /lib64/libtinfo.so.5: no version information available (required by /home/dx4/.local/share/compiler_gym/llvm-v0/bin/clang)\n",
      "\u001b[2m\u001b[36m(RolloutWorker pid=3209670)\u001b[0m /home/dx4/.local/share/compiler_gym/llvm-v0/bin/clang: /lib64/libtinfo.so.5: no version information available (required by /home/dx4/.local/share/compiler_gym/llvm-v0/bin/clang)\n",
      "\u001b[2m\u001b[36m(RolloutWorker pid=3209670)\u001b[0m /home/dx4/.local/share/compiler_gym/llvm-v0/bin/clang: /lib64/libtinfo.so.5: no version information available (required by /home/dx4/.local/share/compiler_gym/llvm-v0/bin/clang)\n",
      "\u001b[2m\u001b[36m(RolloutWorker pid=3209670)\u001b[0m /home/dx4/.local/share/compiler_gym/llvm-v0/bin/clang: /lib64/libtinfo.so.5: no version information available (required by /home/dx4/.local/share/compiler_gym/llvm-v0/bin/clang)\n"
     ]
    },
    {
     "name": "stdout",
     "output_type": "stream",
     "text": [
      "\u001b[2m\u001b[36m(RolloutWorker pid=3209670)\u001b[0m What is the path /home/dx4/tools/compiler2/compiler2_service/service_py/example_service.py\n",
      "\u001b[2m\u001b[36m(RolloutWorker pid=3209670)\u001b[0m Is that file:  True\n"
     ]
    },
    {
     "name": "stderr",
     "output_type": "stream",
     "text": [
      "\u001b[2m\u001b[36m(RolloutWorker pid=3209670)\u001b[0m Using backend: pytorch\n",
      "\u001b[2m\u001b[36m(RolloutWorker pid=3209670)\u001b[0m ./compiler_gym-llvm-service: /lib64/libtinfo.so.5: no version information available (required by ./compiler_gym-llvm-service)\n"
     ]
    },
    {
     "name": "stdout",
     "output_type": "stream",
     "text": [
      "\u001b[2m\u001b[36m(RolloutWorker pid=3209670)\u001b[0m \n",
      "\u001b[2m\u001b[36m(RolloutWorker pid=3209670)\u001b[0m  /dev/shm/compiler_gym_dx4/s/0330T160341-122721-6f35 \n",
      "\u001b[2m\u001b[36m(RolloutWorker pid=3209670)\u001b[0m \n",
      "\u001b[2m\u001b[36m(RolloutWorker pid=3209670)\u001b[0m source_filename = \"/dev/shm/compiler_gym_dx4/s/0330T160341-122721-6f35/benchmark.c\"\n",
      "\u001b[2m\u001b[36m(RolloutWorker pid=3209670)\u001b[0m \n",
      "\u001b[2m\u001b[36m(RolloutWorker pid=3209670)\u001b[0m \n",
      "\u001b[2m\u001b[36m(RolloutWorker pid=3209670)\u001b[0m  compile: \n",
      "\u001b[2m\u001b[36m(RolloutWorker pid=3209670)\u001b[0m /home/dx4/.local/share/compiler_gym/llvm-v0/bin/opt -o /dev/shm/compiler_gym_dx4/s/0330T160341-122721-6f35/benchmark.bc /dev/shm/compiler_gym_dx4/s/0330T160341-122721-6f35/benchmark.ll\n",
      "\u001b[2m\u001b[36m(RolloutWorker pid=3209670)\u001b[0m /home/dx4/.local/share/compiler_gym/llvm-v0/bin/clang /dev/shm/compiler_gym_dx4/s/0330T160341-122721-6f35/benchmark.bc -lm -o /dev/shm/compiler_gym_dx4/s/0330T160341-122721-6f35/benchmark.exe\n",
      "\u001b[2m\u001b[36m(RolloutWorker pid=3209670)\u001b[0m /home/dx4/.local/share/compiler_gym/llvm-v0/bin/llvm-dis -o /dev/shm/compiler_gym_dx4/s/0330T160341-122721-6f35/benchmark_new.ll /dev/shm/compiler_gym_dx4/s/0330T160341-122721-6f35/benchmark.bc\n",
      "\u001b[2m\u001b[36m(RolloutWorker pid=3209670)\u001b[0m \n",
      "\u001b[2m\u001b[36m(RolloutWorker pid=3209670)\u001b[0m \n",
      "\u001b[2m\u001b[36m(RolloutWorker pid=3209670)\u001b[0m \n",
      "\u001b[2m\u001b[36m(RolloutWorker pid=3209670)\u001b[0m  pre_run_cmd: \n",
      "\u001b[2m\u001b[36m(RolloutWorker pid=3209670)\u001b[0m []\n",
      "\u001b[2m\u001b[36m(RolloutWorker pid=3209670)\u001b[0m \n",
      "\u001b[2m\u001b[36m(RolloutWorker pid=3209670)\u001b[0m \n",
      "\u001b[2m\u001b[36m(RolloutWorker pid=3209670)\u001b[0m \n",
      "\u001b[2m\u001b[36m(RolloutWorker pid=3209670)\u001b[0m  run_cmd: \n",
      "\u001b[2m\u001b[36m(RolloutWorker pid=3209670)\u001b[0m /dev/shm/compiler_gym_dx4/s/0330T160341-122721-6f35/benchmark.exe\n",
      "\u001b[2m\u001b[36m(RolloutWorker pid=3209670)\u001b[0m \n",
      "\u001b[2m\u001b[36m(RolloutWorker pid=3209670)\u001b[0m \n",
      "\u001b[2m\u001b[36m(RolloutWorker pid=3209670)\u001b[0m hackkk: -O0\n",
      "\u001b[2m\u001b[36m(RolloutWorker pid=3209670)\u001b[0m Reward Runtime: reset\n"
     ]
    },
    {
     "name": "stderr",
     "output_type": "stream",
     "text": [
      "\u001b[2m\u001b[36m(RolloutWorker pid=3209670)\u001b[0m 2022-03-30 16:03:45,214\tWARNING deprecation.py:45 -- DeprecationWarning: `SampleBatch['is_training']` has been deprecated. Use `SampleBatch.is_training` instead. This will raise an error in the future!\n",
      "2022-03-30 16:03:46,344\tWARNING deprecation.py:45 -- DeprecationWarning: `SampleBatch['is_training']` has been deprecated. Use `SampleBatch.is_training` instead. This will raise an error in the future!\n",
      "2022-03-30 16:03:46,832\tWARNING util.py:57 -- Install gputil for GPU system monitoring.\n",
      "2022-03-30 16:03:46,888\tINFO trainable.py:467 -- Restored on 128.42.128.60 from checkpoint: /home/dx4/ray_results/PPO_2022-03-30_16-03-05/PPO_compiler_gym_cb3e3_00000_0_2022-03-30_16-03-05/checkpoint_000005/checkpoint-5\n",
      "2022-03-30 16:03:46,888\tINFO trainable.py:475 -- Current state after restoring: {'_iteration': 5, '_timesteps_total': 0, '_time_total': 11.895127773284912, '_episodes_total': 5}\n"
     ]
    }
   ],
   "source": [
    "agent = PPOTrainer(\n",
    "    env=\"compiler_gym\",\n",
    "    config={\n",
    "        \"num_workers\": 1,\n",
    "        \"seed\": 0xCC,\n",
    "        # For inference we disable the stocastic exploration that is used during \n",
    "        # training.\n",
    "        \"explore\": False,\n",
    "    },\n",
    ")\n",
    "\n",
    "# We only made a single checkpoint at the end of training, so restore that. In\n",
    "# practice we may have many checkpoints that we will select from using \n",
    "# performance on the validation set.\n",
    "checkpoint = analysis.get_best_checkpoint(\n",
    "    metric=\"episode_reward_mean\", \n",
    "    mode=\"max\", \n",
    "    trial=analysis.trials[0]\n",
    ")\n",
    "\n",
    "agent.restore(checkpoint)"
   ]
  },
  {
   "cell_type": "code",
   "execution_count": 55,
   "metadata": {
    "colab": {
     "base_uri": "https://localhost:8080/"
    },
    "id": "aWeLEVYZjVuM",
    "outputId": "ee293b46-650f-4fbb-8ff4-4414eb4140c5"
   },
   "outputs": [
    {
     "name": "stdout",
     "output_type": "stream",
     "text": [
      "What is the path /home/dx4/tools/compiler2/compiler2_service/service_py/example_service.py\n",
      "Is that file:  True\n"
     ]
    },
    {
     "name": "stderr",
     "output_type": "stream",
     "text": [
      "/home/dx4/.local/share/compiler_gym/llvm-v0/bin/clang: /lib64/libtinfo.so.5: no version information available (required by /home/dx4/.local/share/compiler_gym/llvm-v0/bin/clang)\n",
      "/home/dx4/.local/share/compiler_gym/llvm-v0/bin/clang: /lib64/libtinfo.so.5: no version information available (required by /home/dx4/.local/share/compiler_gym/llvm-v0/bin/clang)\n",
      "/home/dx4/.local/share/compiler_gym/llvm-v0/bin/clang: /lib64/libtinfo.so.5: no version information available (required by /home/dx4/.local/share/compiler_gym/llvm-v0/bin/clang)\n",
      "/home/dx4/.local/share/compiler_gym/llvm-v0/bin/clang: /lib64/libtinfo.so.5: no version information available (required by /home/dx4/.local/share/compiler_gym/llvm-v0/bin/clang)\n",
      "/home/dx4/.local/share/compiler_gym/llvm-v0/bin/clang: /lib64/libtinfo.so.5: no version information available (required by /home/dx4/.local/share/compiler_gym/llvm-v0/bin/clang)\n",
      "/home/dx4/.local/share/compiler_gym/llvm-v0/bin/clang: /lib64/libtinfo.so.5: no version information available (required by /home/dx4/.local/share/compiler_gym/llvm-v0/bin/clang)\n",
      "/home/dx4/.local/share/compiler_gym/llvm-v0/bin/clang: /lib64/libtinfo.so.5: no version information available (required by /home/dx4/.local/share/compiler_gym/llvm-v0/bin/clang)\n",
      "/home/dx4/.local/share/compiler_gym/llvm-v0/bin/clang: /lib64/libtinfo.so.5: no version information available (required by /home/dx4/.local/share/compiler_gym/llvm-v0/bin/clang)\n",
      "Using backend: pytorch\n",
      "./compiler_gym-llvm-service: /lib64/libtinfo.so.5: no version information available (required by ./compiler_gym-llvm-service)\n"
     ]
    },
    {
     "name": "stdout",
     "output_type": "stream",
     "text": [
      "\n",
      " /dev/shm/compiler_gym_dx4/s/0330T160407-118521-659b \n",
      "\n",
      "source_filename = \"/dev/shm/compiler_gym_dx4/s/0330T160407-118521-659b/benchmark.c\"\n",
      "\n",
      "\n",
      " compile: \n",
      "/home/dx4/.local/share/compiler_gym/llvm-v0/bin/opt -o /dev/shm/compiler_gym_dx4/s/0330T160407-118521-659b/benchmark.bc /dev/shm/compiler_gym_dx4/s/0330T160407-118521-659b/benchmark.ll\n",
      "/home/dx4/.local/share/compiler_gym/llvm-v0/bin/clang /dev/shm/compiler_gym_dx4/s/0330T160407-118521-659b/benchmark.bc -lm -o /dev/shm/compiler_gym_dx4/s/0330T160407-118521-659b/benchmark.exe\n",
      "/home/dx4/.local/share/compiler_gym/llvm-v0/bin/llvm-dis -o /dev/shm/compiler_gym_dx4/s/0330T160407-118521-659b/benchmark_new.ll /dev/shm/compiler_gym_dx4/s/0330T160407-118521-659b/benchmark.bc\n",
      "\n",
      "\n",
      "\n",
      " pre_run_cmd: \n",
      "[]\n",
      "\n",
      "\n",
      "\n",
      " run_cmd: \n",
      "/dev/shm/compiler_gym_dx4/s/0330T160407-118521-659b/benchmark.exe\n",
      "\n",
      "\n",
      "hackkk: -O0\n"
     ]
    },
    {
     "name": "stderr",
     "output_type": "stream",
     "text": [
      "2022-03-30 16:04:09,186\tWARNING deprecation.py:45 -- DeprecationWarning: `compute_action` has been deprecated. Use `compute_single_action` instead. This will raise an error in the future!\n"
     ]
    },
    {
     "name": "stdout",
     "output_type": "stream",
     "text": [
      "Reward Runtime: reset\n",
      "hackkk: -sroa\n",
      "Reward Runtime: update\n",
      "hackkk: -sroa\n",
      "Reward Runtime: update\n",
      "hackkk: -sroa\n",
      "Reward Runtime: update\n",
      "hackkk: -sroa\n",
      "Reward Runtime: update\n",
      "hackkk: -sroa\n",
      "Reward Runtime: update\n",
      "[1/2] benchmark='benchmark://hpctoolkit-cpu-v0/nanosleep' commandline='opt -sroa -sroa -sroa -sroa -sroa input.bc -o output.bc' walltime=0.6026413440704346 reward=0.0\n",
      "\n",
      " /dev/shm/compiler_gym_dx4/s/0330T160407-118521-659b \n",
      "\n",
      "source_filename = \"/dev/shm/compiler_gym_dx4/s/0330T160407-118521-659b/benchmark.c\"\n",
      "\n",
      "\n",
      " compile: \n",
      "/home/dx4/.local/share/compiler_gym/llvm-v0/bin/opt -o /dev/shm/compiler_gym_dx4/s/0330T160407-118521-659b/benchmark.bc /dev/shm/compiler_gym_dx4/s/0330T160407-118521-659b/benchmark.ll\n",
      "/home/dx4/.local/share/compiler_gym/llvm-v0/bin/clang /dev/shm/compiler_gym_dx4/s/0330T160407-118521-659b/benchmark.bc -lm -o /dev/shm/compiler_gym_dx4/s/0330T160407-118521-659b/benchmark.exe\n",
      "/home/dx4/.local/share/compiler_gym/llvm-v0/bin/llvm-dis -o /dev/shm/compiler_gym_dx4/s/0330T160407-118521-659b/benchmark_new.ll /dev/shm/compiler_gym_dx4/s/0330T160407-118521-659b/benchmark.bc\n",
      "\n",
      "\n",
      "\n",
      " pre_run_cmd: \n",
      "[]\n",
      "\n",
      "\n",
      "\n",
      " run_cmd: \n",
      "/dev/shm/compiler_gym_dx4/s/0330T160407-118521-659b/benchmark.exe\n",
      "\n",
      "\n",
      "hackkk: -O0\n",
      "Reward Runtime: reset\n",
      "hackkk: -sroa\n",
      "Reward Runtime: update\n",
      "hackkk: -sroa\n",
      "Reward Runtime: update\n",
      "hackkk: -sroa\n",
      "Reward Runtime: update\n",
      "hackkk: -sroa\n",
      "Reward Runtime: update\n",
      "hackkk: -sroa\n",
      "Reward Runtime: update\n",
      "[2/2] benchmark='benchmark://hpctoolkit-cpu-v0/simple_pow' commandline='opt -sroa -sroa -sroa -sroa -sroa input.bc -o output.bc' walltime=0.4736049175262451 reward=0.0\n"
     ]
    }
   ],
   "source": [
    "# Lets define a helper function to make it easy to evaluate the agent's \n",
    "# performance on a set of benchmarks.\n",
    "\n",
    "def run_agent_on_benchmarks(benchmarks):\n",
    "  \"\"\"Run agent on a list of benchmarks and return a list of cumulative rewards.\"\"\"\n",
    "  with make_env() as env:\n",
    "    rewards = []\n",
    "    for i, benchmark in enumerate(benchmarks, start=1):\n",
    "        observation, done = env.reset(benchmark=benchmark), False\n",
    "        while not done:\n",
    "            action = agent.compute_action(observation)\n",
    "            observation, _, done, _ = env.step(action)\n",
    "        rewards.append(env.episode_reward)\n",
    "        print(f\"[{i}/{len(benchmarks)}] {env.state}\")\n",
    "\n",
    "  return rewards\n",
    "\n",
    "# Evaluate agent performance on the validation set.\n",
    "val_rewards = run_agent_on_benchmarks(val_benchmarks)"
   ]
  },
  {
   "cell_type": "code",
   "execution_count": 56,
   "metadata": {
    "colab": {
     "base_uri": "https://localhost:8080/"
    },
    "id": "DEc872g10UmF",
    "outputId": "96170474-0742-4e7c-9d53-4d2fc094f9fb"
   },
   "outputs": [
    {
     "name": "stdout",
     "output_type": "stream",
     "text": [
      "What is the path /home/dx4/tools/compiler2/compiler2_service/service_py/example_service.py\n",
      "Is that file:  True\n"
     ]
    },
    {
     "name": "stderr",
     "output_type": "stream",
     "text": [
      "/home/dx4/.local/share/compiler_gym/llvm-v0/bin/clang: /lib64/libtinfo.so.5: no version information available (required by /home/dx4/.local/share/compiler_gym/llvm-v0/bin/clang)\n",
      "/home/dx4/.local/share/compiler_gym/llvm-v0/bin/clang: /lib64/libtinfo.so.5: no version information available (required by /home/dx4/.local/share/compiler_gym/llvm-v0/bin/clang)\n",
      "/home/dx4/.local/share/compiler_gym/llvm-v0/bin/clang: /lib64/libtinfo.so.5: no version information available (required by /home/dx4/.local/share/compiler_gym/llvm-v0/bin/clang)\n",
      "/home/dx4/.local/share/compiler_gym/llvm-v0/bin/clang: /lib64/libtinfo.so.5: no version information available (required by /home/dx4/.local/share/compiler_gym/llvm-v0/bin/clang)\n",
      "/home/dx4/.local/share/compiler_gym/llvm-v0/bin/clang: /lib64/libtinfo.so.5: no version information available (required by /home/dx4/.local/share/compiler_gym/llvm-v0/bin/clang)\n",
      "/home/dx4/.local/share/compiler_gym/llvm-v0/bin/clang: /lib64/libtinfo.so.5: no version information available (required by /home/dx4/.local/share/compiler_gym/llvm-v0/bin/clang)\n",
      "/home/dx4/.local/share/compiler_gym/llvm-v0/bin/clang: /lib64/libtinfo.so.5: no version information available (required by /home/dx4/.local/share/compiler_gym/llvm-v0/bin/clang)\n",
      "/home/dx4/.local/share/compiler_gym/llvm-v0/bin/clang: /lib64/libtinfo.so.5: no version information available (required by /home/dx4/.local/share/compiler_gym/llvm-v0/bin/clang)\n",
      "Using backend: pytorch\n",
      "./compiler_gym-llvm-service: /lib64/libtinfo.so.5: no version information available (required by ./compiler_gym-llvm-service)\n"
     ]
    },
    {
     "name": "stdout",
     "output_type": "stream",
     "text": [
      "\n",
      " /dev/shm/compiler_gym_dx4/s/0330T160417-201211-dc36 \n",
      "\n",
      "source_filename = \"/dev/shm/compiler_gym_dx4/s/0330T160417-201211-dc36/benchmark.c\"\n",
      "\n",
      "\n",
      " compile: \n",
      "/home/dx4/.local/share/compiler_gym/llvm-v0/bin/opt -o /dev/shm/compiler_gym_dx4/s/0330T160417-201211-dc36/benchmark.bc /dev/shm/compiler_gym_dx4/s/0330T160417-201211-dc36/benchmark.ll\n",
      "/home/dx4/.local/share/compiler_gym/llvm-v0/bin/clang /dev/shm/compiler_gym_dx4/s/0330T160417-201211-dc36/benchmark.bc -lm -o /dev/shm/compiler_gym_dx4/s/0330T160417-201211-dc36/benchmark.exe\n",
      "/home/dx4/.local/share/compiler_gym/llvm-v0/bin/llvm-dis -o /dev/shm/compiler_gym_dx4/s/0330T160417-201211-dc36/benchmark_new.ll /dev/shm/compiler_gym_dx4/s/0330T160417-201211-dc36/benchmark.bc\n",
      "\n",
      "\n",
      "\n",
      " pre_run_cmd: \n",
      "[]\n",
      "\n",
      "\n",
      "\n",
      " run_cmd: \n",
      "/dev/shm/compiler_gym_dx4/s/0330T160417-201211-dc36/benchmark.exe\n",
      "\n",
      "\n",
      "hackkk: -O0\n",
      "Reward Runtime: reset\n",
      "hackkk: -sroa\n",
      "Reward Runtime: update\n",
      "hackkk: -sroa\n",
      "Reward Runtime: update\n",
      "hackkk: -sroa\n",
      "Reward Runtime: update\n",
      "hackkk: -sroa\n",
      "Reward Runtime: update\n",
      "hackkk: -sroa\n",
      "Reward Runtime: update\n",
      "[1/4] benchmark='benchmark://hpctoolkit-cpu-v0/conv2d' commandline='opt -sroa -sroa -sroa -sroa -sroa input.bc -o output.bc' walltime=1.5025880336761475 reward=0.0\n",
      "\n",
      " /dev/shm/compiler_gym_dx4/s/0330T160417-201211-dc36 \n",
      "\n",
      "source_filename = \"/dev/shm/compiler_gym_dx4/s/0330T160417-201211-dc36/benchmark.c\"\n",
      "\n",
      "\n",
      " compile: \n",
      "/home/dx4/.local/share/compiler_gym/llvm-v0/bin/opt -o /dev/shm/compiler_gym_dx4/s/0330T160417-201211-dc36/benchmark.bc /dev/shm/compiler_gym_dx4/s/0330T160417-201211-dc36/benchmark.ll\n",
      "/home/dx4/.local/share/compiler_gym/llvm-v0/bin/clang /dev/shm/compiler_gym_dx4/s/0330T160417-201211-dc36/benchmark.bc -lm -o /dev/shm/compiler_gym_dx4/s/0330T160417-201211-dc36/benchmark.exe\n",
      "/home/dx4/.local/share/compiler_gym/llvm-v0/bin/llvm-dis -o /dev/shm/compiler_gym_dx4/s/0330T160417-201211-dc36/benchmark_new.ll /dev/shm/compiler_gym_dx4/s/0330T160417-201211-dc36/benchmark.bc\n",
      "\n",
      "\n",
      "\n",
      " pre_run_cmd: \n",
      "[]\n",
      "\n",
      "\n",
      "\n",
      " run_cmd: \n",
      "/dev/shm/compiler_gym_dx4/s/0330T160417-201211-dc36/benchmark.exe\n",
      "\n",
      "\n",
      "hackkk: -O0\n",
      "Reward Runtime: reset\n",
      "hackkk: -sroa\n",
      "Reward Runtime: update\n",
      "hackkk: -sroa\n",
      "Reward Runtime: update\n",
      "hackkk: -sroa\n",
      "Reward Runtime: update\n",
      "hackkk: -sroa\n",
      "Reward Runtime: update\n",
      "hackkk: -sroa\n",
      "Reward Runtime: update\n",
      "[2/4] benchmark='benchmark://hpctoolkit-cpu-v0/offsets1' commandline='opt -sroa -sroa -sroa -sroa -sroa input.bc -o output.bc' walltime=0.8104691505432129 reward=0.0\n",
      "\n",
      " /dev/shm/compiler_gym_dx4/s/0330T160417-201211-dc36 \n",
      "\n",
      "source_filename = \"/dev/shm/compiler_gym_dx4/s/0330T160417-201211-dc36/benchmark.c\"\n",
      "\n",
      "\n",
      " compile: \n",
      "/home/dx4/.local/share/compiler_gym/llvm-v0/bin/opt -o /dev/shm/compiler_gym_dx4/s/0330T160417-201211-dc36/benchmark.bc /dev/shm/compiler_gym_dx4/s/0330T160417-201211-dc36/benchmark.ll\n",
      "/home/dx4/.local/share/compiler_gym/llvm-v0/bin/clang /dev/shm/compiler_gym_dx4/s/0330T160417-201211-dc36/benchmark.bc -lm -o /dev/shm/compiler_gym_dx4/s/0330T160417-201211-dc36/benchmark.exe\n",
      "/home/dx4/.local/share/compiler_gym/llvm-v0/bin/llvm-dis -o /dev/shm/compiler_gym_dx4/s/0330T160417-201211-dc36/benchmark_new.ll /dev/shm/compiler_gym_dx4/s/0330T160417-201211-dc36/benchmark.bc\n",
      "\n",
      "\n",
      "\n",
      " pre_run_cmd: \n",
      "[]\n",
      "\n",
      "\n",
      "\n",
      " run_cmd: \n",
      "/dev/shm/compiler_gym_dx4/s/0330T160417-201211-dc36/benchmark.exe\n",
      "\n",
      "\n",
      "hackkk: -O0\n",
      "Reward Runtime: reset\n",
      "hackkk: -sroa\n",
      "Reward Runtime: update\n",
      "hackkk: -sroa\n",
      "Reward Runtime: update\n",
      "hackkk: -sroa\n",
      "Reward Runtime: update\n",
      "hackkk: -sroa\n",
      "Reward Runtime: update\n",
      "hackkk: -sroa\n",
      "Reward Runtime: update\n",
      "[3/4] benchmark='benchmark://hpctoolkit-cpu-v0/nanosleep' commandline='opt -sroa -sroa -sroa -sroa -sroa input.bc -o output.bc' walltime=0.4934813976287842 reward=0.0\n",
      "\n",
      " /dev/shm/compiler_gym_dx4/s/0330T160417-201211-dc36 \n",
      "\n",
      "source_filename = \"/dev/shm/compiler_gym_dx4/s/0330T160417-201211-dc36/benchmark.c\"\n",
      "\n",
      "\n",
      " compile: \n",
      "/home/dx4/.local/share/compiler_gym/llvm-v0/bin/opt -o /dev/shm/compiler_gym_dx4/s/0330T160417-201211-dc36/benchmark.bc /dev/shm/compiler_gym_dx4/s/0330T160417-201211-dc36/benchmark.ll\n",
      "/home/dx4/.local/share/compiler_gym/llvm-v0/bin/clang /dev/shm/compiler_gym_dx4/s/0330T160417-201211-dc36/benchmark.bc -lm -o /dev/shm/compiler_gym_dx4/s/0330T160417-201211-dc36/benchmark.exe\n",
      "/home/dx4/.local/share/compiler_gym/llvm-v0/bin/llvm-dis -o /dev/shm/compiler_gym_dx4/s/0330T160417-201211-dc36/benchmark_new.ll /dev/shm/compiler_gym_dx4/s/0330T160417-201211-dc36/benchmark.bc\n",
      "\n",
      "\n",
      "\n",
      " pre_run_cmd: \n",
      "[]\n",
      "\n",
      "\n",
      "\n",
      " run_cmd: \n",
      "/dev/shm/compiler_gym_dx4/s/0330T160417-201211-dc36/benchmark.exe\n",
      "\n",
      "\n",
      "hackkk: -O0\n",
      "Reward Runtime: reset\n",
      "hackkk: -sroa\n",
      "Reward Runtime: update\n",
      "hackkk: -sroa\n",
      "Reward Runtime: update\n",
      "hackkk: -sroa\n",
      "Reward Runtime: update\n",
      "hackkk: -sroa\n",
      "Reward Runtime: update\n",
      "hackkk: -sroa\n",
      "Reward Runtime: update\n",
      "[4/4] benchmark='benchmark://hpctoolkit-cpu-v0/simple_pow' commandline='opt -sroa -sroa -sroa -sroa -sroa input.bc -o output.bc' walltime=0.4533381462097168 reward=0.0\n"
     ]
    }
   ],
   "source": [
    "# Evaluate agent performance on the holdout test set.\n",
    "test_rewards = run_agent_on_benchmarks(test_benchmarks)"
   ]
  },
  {
   "cell_type": "code",
   "execution_count": 57,
   "metadata": {
    "colab": {
     "base_uri": "https://localhost:8080/",
     "height": 383
    },
    "id": "Oo3Dn360EE5A",
    "outputId": "55879094-dcc6-4d43-f385-d71db1300efe"
   },
   "outputs": [
    {
     "data": {
      "image/png": "[encoded data removed]",
      "text/plain": [
       "<Figure size 936x216 with 2 Axes>"
      ]
     },
     "metadata": {
      "needs_background": "light"
     },
     "output_type": "display_data"
    },
    {
     "name": "stderr",
     "output_type": "stream",
     "text": [
      "Exception ignored in: <function CompilerEnv.__del__ at 0x7fffbcdaa8b0>\n",
      "Traceback (most recent call last):\n",
      "  File \"/home/dx4/tools/miniconda3/lib/python3.8/site-packages/compiler_gym/envs/compiler_env.py\", line 703, in __del__\n",
      "    self.close()\n",
      "  File \"/home/dx4/tools/miniconda3/lib/python3.8/site-packages/compiler_gym/envs/compiler_env.py\", line 694, in close\n",
      "    self.service.close()\n",
      "  File \"/home/dx4/tools/miniconda3/lib/python3.8/site-packages/compiler_gym/service/connection.py\", line 744, in close\n",
      "    self.connection.close()\n",
      "  File \"/home/dx4/tools/miniconda3/lib/python3.8/site-packages/compiler_gym/service/connection.py\", line 512, in close\n",
      "    raise ServiceError(\n",
      "compiler_gym.service.connection.ServiceError: Service exited with returncode -15\n"
     ]
    }
   ],
   "source": [
    "# Finally lets plot our results to see how we did!\n",
    "from matplotlib import pyplot as plt\n",
    "\n",
    "def plot_results(x, y, name, ax):\n",
    "  plt.sca(ax)\n",
    "  plt.bar(range(len(y)), y)\n",
    "  plt.ylabel(\"Reward (higher is better)\")\n",
    "  plt.xticks(range(len(x)), x, rotation = 90)\n",
    "  plt.title(f\"Performance on {name} set\")\n",
    "\n",
    "fig, (ax1, ax2) = plt.subplots(1, 2)\n",
    "fig.set_size_inches(13, 3)\n",
    "plot_results(val_benchmarks, val_rewards, \"val\", ax1)\n",
    "plot_results(test_benchmarks, test_rewards, \"test\", ax2)\n",
    "plt.show()"
   ]
  },
  {
   "cell_type": "markdown",
   "metadata": {
    "id": "Z1lXpJbA04Ji"
   },
   "source": [
    "That's it for this demonstration! Check out the [documentation site](https://facebookresearch.github.io/CompilerGym/) for more details, API reference, and more. If you can encounter any problems, please [file an issue](https://github.com/facebookresearch/CompilerGym/issues)."
   ]
  }
 ],
 "metadata": {
  "colab": {
   "collapsed_sections": [],
   "name": "rllib-example.ipynb",
   "provenance": [],
   "toc_visible": true
  },
  "kernelspec": {
   "display_name": "Python 3",
   "name": "python3"
  },
  "language_info": {
   "codemirror_mode": {
    "name": "ipython",
    "version": 3
   },
   "file_extension": ".py",
   "mimetype": "text/x-python",
   "name": "python",
   "nbconvert_exporter": "python",
   "pygments_lexer": "ipython3",
   "version": "3.8.10"
  }
 },
 "nbformat": 4,
 "nbformat_minor": 0
}
